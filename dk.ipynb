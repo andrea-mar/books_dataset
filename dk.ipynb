{
 "cells": [
  {
   "cell_type": "code",
   "execution_count": 32,
   "metadata": {},
   "outputs": [],
   "source": [
    "# !pip --q install pandas seaborn matplotlib scikit-learn numpy scipy statsmodels openpyxl xlrd plotly"
   ]
  },
  {
   "cell_type": "code",
   "execution_count": 33,
   "metadata": {},
   "outputs": [],
   "source": [
    "import pandas as pd\n",
    "import seaborn as sns\n",
    "import matplotlib.pyplot as plt\n",
    "import numpy as np\n",
    "import scipy as sp\n",
    "import statsmodels as sm\n",
    "from datetime import datetime, timedelta"
   ]
  },
  {
   "cell_type": "code",
   "execution_count": 34,
   "metadata": {},
   "outputs": [
    {
     "name": "stdout",
     "output_type": "stream",
     "text": [
      "<class 'pandas.core.frame.DataFrame'>\n",
      "RangeIndex: 4698 entries, 0 to 4697\n",
      "Data columns (total 16 columns):\n",
      " #   Column                                        Non-Null Count  Dtype         \n",
      "---  ------                                        --------------  -----         \n",
      " 0   ISBN                                          4698 non-null   int64         \n",
      " 1   Product title                                 4698 non-null   object        \n",
      " 2   Brand                                         4698 non-null   object        \n",
      " 3   Pub Date                                      4698 non-null   datetime64[ns]\n",
      " 4   Retailer sales out last week                  4698 non-null   int64         \n",
      " 5   Retailer number of units in stock             4698 non-null   int64         \n",
      " 6   Retailer projected weeks of stock on Hand     2900 non-null   float64       \n",
      " 7   Number of units reatiler has ordered from DK  4698 non-null   int64         \n",
      " 8   Current number of units in DK warehouse       4698 non-null   int64         \n",
      " 9   Print status                                  4698 non-null   object        \n",
      " 10  Current Preorders total                       4698 non-null   object        \n",
      " 11  Reprint Quantity                              4698 non-null   object        \n",
      " 12  Reprint Date                                  463 non-null    datetime64[ns]\n",
      " 13  Forecast sales for this week                  4568 non-null   float64       \n",
      " 14  Forecast sales for next 4 weeks               4568 non-null   float64       \n",
      " 15  Forecast sales for next 12 weeks              4568 non-null   float64       \n",
      "dtypes: datetime64[ns](2), float64(4), int64(5), object(5)\n",
      "memory usage: 587.4+ KB\n"
     ]
    }
   ],
   "source": [
    "df = pd.read_excel('2025 Feb Data for recruitment task (1).xlsx')\n",
    "df.info()"
   ]
  },
  {
   "cell_type": "code",
   "execution_count": 35,
   "metadata": {},
   "outputs": [
    {
     "data": {
      "text/html": [
       "<div>\n",
       "<style scoped>\n",
       "    .dataframe tbody tr th:only-of-type {\n",
       "        vertical-align: middle;\n",
       "    }\n",
       "\n",
       "    .dataframe tbody tr th {\n",
       "        vertical-align: top;\n",
       "    }\n",
       "\n",
       "    .dataframe thead th {\n",
       "        text-align: right;\n",
       "    }\n",
       "</style>\n",
       "<table border=\"1\" class=\"dataframe\">\n",
       "  <thead>\n",
       "    <tr style=\"text-align: right;\">\n",
       "      <th></th>\n",
       "      <th>ISBN</th>\n",
       "      <th>Product title</th>\n",
       "      <th>Brand</th>\n",
       "      <th>Pub Date</th>\n",
       "      <th>Retailer sales out last week</th>\n",
       "      <th>Retailer number of units in stock</th>\n",
       "      <th>Retailer projected weeks of stock on Hand</th>\n",
       "      <th>Number of units reatiler has ordered from DK</th>\n",
       "      <th>Current number of units in DK warehouse</th>\n",
       "      <th>Print status</th>\n",
       "      <th>Current Preorders total</th>\n",
       "      <th>Reprint Quantity</th>\n",
       "      <th>Reprint Date</th>\n",
       "      <th>Forecast sales for this week</th>\n",
       "      <th>Forecast sales for next 4 weeks</th>\n",
       "      <th>Forecast sales for next 12 weeks</th>\n",
       "    </tr>\n",
       "  </thead>\n",
       "  <tbody>\n",
       "    <tr>\n",
       "      <th>0</th>\n",
       "      <td>9780241734612</td>\n",
       "      <td>The Magic Balloon: World Book Day 2025</td>\n",
       "      <td>DK Children 0-9</td>\n",
       "      <td>2025-02-06</td>\n",
       "      <td>1947</td>\n",
       "      <td>1066</td>\n",
       "      <td>0.868003</td>\n",
       "      <td>0</td>\n",
       "      <td>950</td>\n",
       "      <td>Reprint under Review</td>\n",
       "      <td></td>\n",
       "      <td></td>\n",
       "      <td>NaT</td>\n",
       "      <td>1197.0</td>\n",
       "      <td>3185.0</td>\n",
       "      <td>6747.0</td>\n",
       "    </tr>\n",
       "    <tr>\n",
       "      <th>1</th>\n",
       "      <td>9781464221361</td>\n",
       "      <td>Never Lie: From the Sunday Times Bestselling A...</td>\n",
       "      <td>DK Other</td>\n",
       "      <td>2023-12-05</td>\n",
       "      <td>1753</td>\n",
       "      <td>2518</td>\n",
       "      <td>1.611930</td>\n",
       "      <td>0</td>\n",
       "      <td>10365</td>\n",
       "      <td>Reprinting</td>\n",
       "      <td></td>\n",
       "      <td></td>\n",
       "      <td>NaT</td>\n",
       "      <td>1492.0</td>\n",
       "      <td>3517.0</td>\n",
       "      <td>7598.0</td>\n",
       "    </tr>\n",
       "    <tr>\n",
       "      <th>2</th>\n",
       "      <td>9781464228636</td>\n",
       "      <td>The Crash: The #1 Sunday Times Bestseller! A P...</td>\n",
       "      <td>DK Other</td>\n",
       "      <td>2025-01-28</td>\n",
       "      <td>1597</td>\n",
       "      <td>3850</td>\n",
       "      <td>2.610246</td>\n",
       "      <td>1</td>\n",
       "      <td>20468</td>\n",
       "      <td>In Print</td>\n",
       "      <td></td>\n",
       "      <td></td>\n",
       "      <td>NaT</td>\n",
       "      <td>1542.0</td>\n",
       "      <td>5667.0</td>\n",
       "      <td>12154.0</td>\n",
       "    </tr>\n",
       "    <tr>\n",
       "      <th>3</th>\n",
       "      <td>9781464228599</td>\n",
       "      <td>The Perfect Son: From the Sunday Times Bestsel...</td>\n",
       "      <td>DK Other</td>\n",
       "      <td>2024-08-06</td>\n",
       "      <td>1488</td>\n",
       "      <td>1706</td>\n",
       "      <td>1.714936</td>\n",
       "      <td>1</td>\n",
       "      <td>5098</td>\n",
       "      <td>In Print</td>\n",
       "      <td></td>\n",
       "      <td></td>\n",
       "      <td>NaT</td>\n",
       "      <td>1098.0</td>\n",
       "      <td>2757.0</td>\n",
       "      <td>5505.0</td>\n",
       "    </tr>\n",
       "    <tr>\n",
       "      <th>4</th>\n",
       "      <td>9780241740859</td>\n",
       "      <td>LEGO Our Amazing Universe: World Book Day 2025...</td>\n",
       "      <td>DK Licensing</td>\n",
       "      <td>2025-02-06</td>\n",
       "      <td>1365</td>\n",
       "      <td>1214</td>\n",
       "      <td>1.328540</td>\n",
       "      <td>2012</td>\n",
       "      <td>3991</td>\n",
       "      <td>In Print</td>\n",
       "      <td></td>\n",
       "      <td>3000</td>\n",
       "      <td>2025-01-10</td>\n",
       "      <td>904.0</td>\n",
       "      <td>2140.0</td>\n",
       "      <td>4424.0</td>\n",
       "    </tr>\n",
       "  </tbody>\n",
       "</table>\n",
       "</div>"
      ],
      "text/plain": [
       "            ISBN                                      Product title  \\\n",
       "0  9780241734612             The Magic Balloon: World Book Day 2025   \n",
       "1  9781464221361  Never Lie: From the Sunday Times Bestselling A...   \n",
       "2  9781464228636  The Crash: The #1 Sunday Times Bestseller! A P...   \n",
       "3  9781464228599  The Perfect Son: From the Sunday Times Bestsel...   \n",
       "4  9780241740859  LEGO Our Amazing Universe: World Book Day 2025...   \n",
       "\n",
       "             Brand   Pub Date  Retailer sales out last week  \\\n",
       "0  DK Children 0-9 2025-02-06                          1947   \n",
       "1         DK Other 2023-12-05                          1753   \n",
       "2         DK Other 2025-01-28                          1597   \n",
       "3         DK Other 2024-08-06                          1488   \n",
       "4     DK Licensing 2025-02-06                          1365   \n",
       "\n",
       "   Retailer number of units in stock  \\\n",
       "0                               1066   \n",
       "1                               2518   \n",
       "2                               3850   \n",
       "3                               1706   \n",
       "4                               1214   \n",
       "\n",
       "   Retailer projected weeks of stock on Hand  \\\n",
       "0                                   0.868003   \n",
       "1                                   1.611930   \n",
       "2                                   2.610246   \n",
       "3                                   1.714936   \n",
       "4                                   1.328540   \n",
       "\n",
       "   Number of units reatiler has ordered from DK  \\\n",
       "0                                             0   \n",
       "1                                             0   \n",
       "2                                             1   \n",
       "3                                             1   \n",
       "4                                          2012   \n",
       "\n",
       "   Current number of units in DK warehouse          Print status  \\\n",
       "0                                      950  Reprint under Review   \n",
       "1                                    10365            Reprinting   \n",
       "2                                    20468              In Print   \n",
       "3                                     5098              In Print   \n",
       "4                                     3991              In Print   \n",
       "\n",
       "  Current Preorders total Reprint Quantity Reprint Date   \\\n",
       "0                                                    NaT   \n",
       "1                                                    NaT   \n",
       "2                                                    NaT   \n",
       "3                                                    NaT   \n",
       "4                                     3000    2025-01-10   \n",
       "\n",
       "   Forecast sales for this week  Forecast sales for next 4 weeks  \\\n",
       "0                        1197.0                           3185.0   \n",
       "1                        1492.0                           3517.0   \n",
       "2                        1542.0                           5667.0   \n",
       "3                        1098.0                           2757.0   \n",
       "4                         904.0                           2140.0   \n",
       "\n",
       "   Forecast sales for next 12 weeks  \n",
       "0                            6747.0  \n",
       "1                            7598.0  \n",
       "2                           12154.0  \n",
       "3                            5505.0  \n",
       "4                            4424.0  "
      ]
     },
     "execution_count": 35,
     "metadata": {},
     "output_type": "execute_result"
    }
   ],
   "source": [
    "df.head()"
   ]
  },
  {
   "cell_type": "code",
   "execution_count": 36,
   "metadata": {},
   "outputs": [],
   "source": [
    "# df['Reprint Date ']\n",
    "df.columns = df.columns.str.strip()  # Remove leading/trailing spaces"
   ]
  },
  {
   "cell_type": "code",
   "execution_count": 37,
   "metadata": {},
   "outputs": [],
   "source": [
    "# Automated inventory report\n",
    "inventory_report = df.groupby(\"Brand\").agg({\n",
    "    \"Retailer sales out last week\": \"sum\",\n",
    "    \"Retailer number of units in stock\": \"sum\",\n",
    "    \"Current number of units in DK warehouse\": \"sum\",\n",
    "    \"Forecast sales for next 4 weeks\": \"sum\"\n",
    "}).reset_index()"
   ]
  },
  {
   "cell_type": "markdown",
   "metadata": {},
   "source": [
    "# Create stock risk column"
   ]
  },
  {
   "cell_type": "code",
   "execution_count": 38,
   "metadata": {},
   "outputs": [],
   "source": [
    "# AI risk model for stock prediction\n",
    "df[\"Stock Risk\"] = np.where(\n",
    "    (df[\"Retailer number of units in stock\"] + df[\"Current number of units in DK warehouse\"]) < df[\"Forecast sales for next 4 weeks\"],\n",
    "    \"High\", \"Low\"\n",
    ")"
   ]
  },
  {
   "cell_type": "code",
   "execution_count": 39,
   "metadata": {},
   "outputs": [],
   "source": [
    "# Save report to CSV\n",
    "inventory_report.to_csv(\"automated_inventory_report.csv\", index=False)"
   ]
  },
  {
   "cell_type": "code",
   "execution_count": 40,
   "metadata": {},
   "outputs": [
    {
     "name": "stderr",
     "output_type": "stream",
     "text": [
      "/var/folders/gg/9r5r1_cx0j332ldkpzq14jfw0000gn/T/ipykernel_63613/1779786587.py:3: UserWarning:\n",
      "\n",
      "Ignoring `palette` because no `hue` variable has been assigned.\n",
      "\n"
     ]
    },
    {
     "data": {
      "image/png": "[encoded data removed]",
      "text/plain": [
       "<Figure size 1200x600 with 1 Axes>"
      ]
     },
     "metadata": {},
     "output_type": "display_data"
    }
   ],
   "source": [
    "# Visualizations\n",
    "plt.figure(figsize=(12, 6))\n",
    "sns.histplot(df[\"Stock Risk\"], bins=2, kde=False, palette=\"coolwarm\")\n",
    "plt.title(\"Stock Risk Distribution\")\n",
    "plt.xlabel(\"Risk Level\")\n",
    "plt.ylabel(\"Count\")\n",
    "plt.show()\n"
   ]
  },
  {
   "cell_type": "code",
   "execution_count": 41,
   "metadata": {},
   "outputs": [
    {
     "data": {
      "image/png": "[encoded data removed]",
      "text/plain": [
       "<Figure size 1200x600 with 1 Axes>"
      ]
     },
     "metadata": {},
     "output_type": "display_data"
    }
   ],
   "source": [
    "plt.figure(figsize=(12, 6))\n",
    "sns.barplot(x=\"Brand\", y=\"Retailer number of units in stock\", data=df, errorbar=None, palette=\"Set2\", hue=\"Brand\", legend=False)\n",
    "plt.title(\"Stock Levels by Brand\")\n",
    "plt.xlabel(\"Brand\")\n",
    "plt.ylabel(\"Units in Stock\")\n",
    "plt.show()"
   ]
  },
  {
   "cell_type": "code",
   "execution_count": 42,
   "metadata": {},
   "outputs": [
    {
     "data": {
      "image/png": "[encoded data removed]",
      "text/plain": [
       "<Figure size 1200x600 with 1 Axes>"
      ]
     },
     "metadata": {},
     "output_type": "display_data"
    }
   ],
   "source": [
    "plt.figure(figsize=(12, 6))\n",
    "sns.scatterplot(x=df[\"Retailer number of units in stock\"] + df[\"Current number of units in DK warehouse\"],\n",
    "                y=df[\"Forecast sales for next 4 weeks\"], hue=df[\"Stock Risk\"], palette=\"coolwarm\")\n",
    "plt.axhline(y=df[\"Forecast sales for next 4 weeks\"].mean(), color='red', linestyle='--', label=\"Avg Forecast\")\n",
    "plt.axvline(x=df[\"Retailer number of units in stock\"].mean(), color='blue', linestyle='--', label=\"Avg Stock\")\n",
    "plt.title(\"Stock vs Forecast Sales\")\n",
    "plt.xlabel(\"Total Stock Available\")\n",
    "plt.ylabel(\"Forecast Sales (Next 4 Weeks)\")\n",
    "plt.legend()\n",
    "plt.show()\n"
   ]
  },
  {
   "cell_type": "code",
   "execution_count": 43,
   "metadata": {},
   "outputs": [
    {
     "data": {
      "application/vnd.plotly.v1+json": {
       "config": {
        "plotlyServerURL": "https://plot.ly"
       },
       "data": [
        {
         "customdata": [
          [
           9780241734612,
           "The Magic Balloon: World Book Day 2025"
          ],
          [
           9780241648810,
           "How to Design a Garden: Create and Maintain Your Dream Garden"
          ],
          [
           9780241308172,
           "Pop-Up Peekaboo! I Love You"
          ],
          [
           9780241669587,
           "Dinosaur Club: On the Trail of a T. rex.: World Book Day 2024"
          ],
          [
           9780241659298,
           "Marvel Spidey and His Amazing Friends Glow in the Dark Sticker Book: With More Than 100 Stickers"
          ],
          [
           9780241619247,
           "Marvel Spider-Man Pocket Guide: World Book Day 2023"
          ],
          [
           9781464244650,
           "Scarred (Collector's Edition): 2 (Never After)"
          ],
          [
           9780241718698,
           "Pop-Up Peekaboo! Sesame Street Elmo Loves You"
          ],
          [
           9781648766541,
           "What to Do When You Feel Like Hitting: A No Hitting Book for Toddlers (Big Feelings Books for Toddlers)"
          ],
          [
           9781464228629,
           "The Tenant"
          ],
          [
           9781402238178,
           "The Most Special Flower Girl: All the Best Things about Being in a Wedding"
          ],
          [
           9780241313633,
           "The Sewing Book New Edition: Over 300 Step-by-Step Techniques"
          ],
          [
           9780241612934,
           "DK Top 10 Naples and the Amalfi Coast (Pocket Travel Guide)"
          ],
          [
           9781409339816,
           "A Little Course in Crochet: Simply everything you need to succeed"
          ],
          [
           9780744097603,
           "Baking Across America: A Vintage Recipe Road Trip"
          ],
          [
           9781728278285,
           "Why We Need Granddaughters (Always in My Heart)"
          ],
          [
           9780744085549,
           "The Bodybuilder's Meal Prep Cookbook: 64 Make-Ahead Recipes and 8 Macro-Friendly Meal Plans (The Bodybuilder's Kitchen)"
          ],
          [
           9781405370165,
           "My First Things That Go Let's Get Moving (My First Tabbed Board Book)"
          ],
          [
           9781623158743,
           "The Easy Acid Reflux Cookbook: Comforting 30-Minute Recipes to Soothe GERD & LPR"
          ],
          [
           9780241612835,
           "DK Top 10 The Algarve (Pocket Travel Guide)"
          ],
          [
           9781641522335,
           "The Type 1 Diabetes Cookbook: Easy Recipes for Balanced Meals and Healthy Living"
          ],
          [
           9781728213743,
           "I Love You Like No Otter (Punderland)"
          ],
          [
           9781646114085,
           "The Ultimate Brain Health Puzzle Book for Adults: Crosswords, Sudoku, Cryptograms, Word Searches, and More! (Ultimate Brain Health Puzzle Books)"
          ],
          [
           9781647397760,
           "Therapy Games for Teens: 150 Activities to Improve Self-Esteem, Communication, and Coping Skills"
          ],
          [
           9781646110131,
           "Logic Puzzles for Clever Kids: Fun brain games for ages 4 & up"
          ],
          [
           9780241698686,
           "Naturally Vegan: Delicious Recipes from Around the World That Just Happen to Be Plant-based"
          ],
          [
           9781409355717,
           "Help Your Kids with Maths, Ages 10-16 (Key Stages 3-4): A Unique Step-by-Step Visual Guide, Revision and Reference (DK Help Your Kids With)"
          ],
          [
           9780241612156,
           "DK Lisbon: inspire, plan, discover, experience (Travel Guide)"
          ],
          [
           9781939754035,
           "The Natural Soap Making Book for Beginners: Do-It-Yourself Soaps Using All-Natural Herbs, Spices, and Essential Oils"
          ],
          [
           9781646116140,
           "A Practical Guide to Complex PTSD: Compassionate Strategies to Begin Healing from Childhood Trauma (Healing Complex Ptsd)"
          ],
          [
           9780241695890,
           "Cacti and Succulents: On-point Advice to Keep Your Plants Looking Sharp"
          ],
          [
           9781402266706,
           "The Complete Book of Baby Names: The Most Names, Most Lists, Most Help to Find the Best Name"
          ],
          [
           9781728229454,
           "Wild Is the Witch"
          ],
          [
           9781939754684,
           "We're Pregnant! The First Time Dad's Pregnancy Handbook: The First-time Dad's Pregnancy Handbook: Everything You Need to Know for Your Partner & Baby"
          ],
          [
           9780744095647,
           "Dessert Course: Lessons in the Whys and Hows of Baking"
          ],
          [
           9780241612477,
           "DK Top 10 Toronto (Pocket Travel Guide)"
          ],
          [
           9781623157531,
           "The No-Fuss Bread Machine Cookbook: Hands-Off Recipes for Perfect Homemade Bread"
          ],
          [
           9781728280127,
           "Tell Me What Really Happened"
          ],
          [
           9781464228322,
           "Sweet Obsession: A Divinely Dark Romance Retelling of Poseidon and Icarus (Dark Olympus)"
          ],
          [
           9781464245305,
           "My Return to the Walter Boys: The Sequel to the Hit Young Adult Romance Sensation (My Life with the Walter Boys Book 2)"
          ],
          [
           9781646114191,
           "The How-To Cookbook for Teens: 100 Easy Recipes to Learn the Basics"
          ],
          [
           9780241725122,
           "The Fearless Birth Journal: Growing Your Mind-Body Connection Throughout Pregnancy"
          ],
          [
           9780593961834,
           "Life-Changing Salads: 100 Plant-Based Salads and Dressings Beyond Your Wildest Greens (HealthyGirl Kitchen)"
          ],
          [
           9781647390105,
           "The Social Survival Guide for Teens on the Autism Spectrum: How to Make Friends and Navigate Your Emotions"
          ],
          [
           9781464226649,
           "Can You Take It? (Infatuated Fae)"
          ],
          [
           9780241710425,
           "Star Wars The Acolyte Visual Guide"
          ],
          [
           9780744060805,
           "Guga: Breaking the Barbecue Rules"
          ],
          [
           9781623159047,
           "The Complete Anti-Inflammatory Diet for Beginners: A No-Stress Meal Plan with Easy Recipes to Heal the Immune System"
          ],
          [
           9780241716540,
           "LEGO Marvel Spider-Man Explore the Spider-Verse: With Exclusive LEGO Spider-Man Minifigure"
          ],
          [
           9780241719770,
           "DK Top 10 Porto (Pocket Travel Guide)"
          ],
          [
           9781646116164,
           "All About Weather: A First Weather Book for Kids (The All About Picture Book Series)"
          ],
          [
           9781641523691,
           "Awesome Engineering Activities for Kids: 50+ Exciting STEAM Projects to Design and Build (Awesome STEAM Activities for Kids)"
          ],
          [
           9781464226229,
           "Tell Me What You Did: A Novel"
          ],
          [
           9781641520416,
           "Thriving with ADHD Workbook for Kids: 60 Fun Activities to Help Children Self-Regulate, Focus, and Succeed (Health and Wellness Workbooks for Kids)"
          ],
          [
           9781646119523,
           "Questions for Couples Journal: 400 Questions to Enjoy, Reflect, and Connect with Your Partner (Relationship Books for Couples)"
          ],
          [
           9781492671244,
           "8 Little Planets: 1"
          ],
          [
           9781464228582,
           "Do Not Disturb"
          ],
          [
           9781939754660,
           "Awesome Science Experiments for Kids: 100+ Fun STEM / STEAM Projects and Why They Work (Awesome STEAM Activities for Kids)"
          ],
          [
           9780241345696,
           "RHS Propagating Plants: How to Create New Plants For Free"
          ],
          [
           9780593844847,
           "Entertaining 101: 101 Recipes Every Host Should Know How to Make"
          ],
          [
           9780593842652,
           "By Heart: Recipes to Hold Near and Dear"
          ],
          [
           9780241007006,
           "DK Eyewitness Travel Guide Kenya: DK Eyewitness Travel Guide 2015"
          ],
          [
           9781648769450,
           "How to Clicker Train Your Cat: A Step-by-Step Guide to Teaching New Skills and Fun Tricks in 15 Minutes a Day"
          ],
          [
           9781646111626,
           "Essential Art Therapy Exercises: Effective Techniques to Manage Anxiety, Depression, and PTSD"
          ],
          [
           9781728232522,
           "The Science Spell Book: Magical Experiments for Kids"
          ],
          [
           9781728276533,
           "Girl Who Figured It Out, The: The Inspiring True Story of Wheelchair Athlete Minda Dentler Becoming an Ironman World Champion"
          ],
          [
           9781641520904,
           "The Complete Guide to Pressure Canning: Everything You Need to Know to Can Meats, Vegetables, Meals in a Jar, and More"
          ],
          [
           9781939754448,
           "The Easy 5-Ingredient Ketogenic Diet Cookbook: Low-Carb, High-Fat Recipes for Busy People on the Keto Diet"
          ],
          [
           9780241668870,
           "Ancient Greece: The Definitive Visual History (DK Classic History)"
          ],
          [
           9780241719756,
           "DK Top 10 Naples and the Amalfi Coast (Pocket Travel Guide)"
          ],
          [
           9780241719732,
           "DK Sardinia (Travel Guide)"
          ],
          [
           9780241566091,
           "DK Top 10 Las Vegas (Pocket Travel Guide)"
          ],
          [
           9781648760020,
           "Architecture for Kids: Skill-Building Activities for Future Architects (Portfolio Sketchbooks for Visual Careers (Wt))"
          ],
          [
           9781646111510,
           "The Essential Air Fryer Cookbook for Beginners: Easy, Foolproof Recipes for Your Air Fryer"
          ],
          [
           9781728292311,
           "110 Things to See With a Telescope: The World's Most Famous Stargazing List"
          ],
          [
           9781646115457,
           "Attachment Theory: A Guide to Strengthening the Relationships in Your Life"
          ],
          [
           9781641525893,
           "Cake Decorating for Beginners: A Step-by-Step Guide to Decorating Like a Pro"
          ],
          [
           9781623152161,
           "Juicing for Beginners: The Essential Guide to Juicing Recipes and Juicing for Weight Loss"
          ],
          [
           9781728284255,
           "Bitter Burn (Lyonesse)"
          ],
          [
           9780241360002,
           "Allotment Month By Month: Grow your Own Fruit and Vegetables, Know What to do When"
          ],
          [
           9780241718834,
           "Dinosaur Club: The Edmontosaurus Stampede"
          ],
          [
           9780241721681,
           "DK Corsica (Travel Guide)"
          ],
          [
           9780241365588,
           "DK Eyewitness Family Guide Florida (Travel Guide)"
          ],
          [
           9780241007976,
           "Top 10 Dominican Republic: DK Eyewitness Top 10 Travel Guide 2015 (Pocket Travel Guide)"
          ],
          [
           9780241719473,
           "DK Austria (Travel Guide)"
          ],
          [
           9781646115433,
           "The Complete Cookbook for Teens: 120+ Recipes to Level Up Your Kitchen Game"
          ],
          [
           9781728279114,
           "Bad Seed"
          ],
          [
           9781464234040,
           "Stolen Vows & Irresistible Devil (Black Rose Auction)"
          ],
          [
           9781464225901,
           "Fallen Academy Year One: An Exciting YA Fantasy and Dark Academia Romance (Fallen Academy Book 1)"
          ],
          [
           9781728239255,
           "The Vengeful Dead: 5 (Gravekeeper)"
          ],
          [
           9781464252266,
           "A Kingdom of Stars and Shadows"
          ],
          [
           9781623154035,
           "The Juicing Recipes Book: 150 Healthy Recipes to Unleash Nutritional Power"
          ],
          [
           9781464249150,
           "The Last Second Chance (Blue Moon)"
          ],
          [
           9781464247842,
           "Terror at the Gates (Blood of Lilith, 1)"
          ],
          [
           9781728270142,
           "No Place Left to Hide: The Chilling Young Adult Thriller for Fans of I Know What You Did Last Summer"
          ],
          [
           9781464227141,
           "The Temporary Wife: An Irresistible Marriage of Convenience Office Romance (The Windsors)"
          ],
          [
           9781728292854,
           "It Was Her House First"
          ],
          [
           9781464227158,
           "The Unwanted Marriage (The Windsors)"
          ],
          [
           9781939754202,
           "Renal Diet Cookbook for the Newly Diagnosed: The Complete Guide to Managing Kidney Disease and Avoiding Dialysis"
          ],
          [
           9781464242281,
           "Sparrow and Vine: A Contemporary Enemies to Lovers Romance from the Author of Brutal Birthright (Sparrow and Vine Book 1)"
          ],
          [
           9781641528153,
           "The Bible in 52 Weeks: A Yearlong Bible Study for Women"
          ],
          [
           9781728293912,
           "2025 She Believed She Could So She F*cking Did Planner: August 2024-December 2025 (Calendars & Gifts to Swear By)"
          ],
          [
           9781492678960,
           "We Waited for You: Now We're a Family"
          ],
          [
           9780241608418,
           "Raising Boys Who Do Better: A Hopeful Guide for a New Generation"
          ],
          [
           9780241014714,
           "101 Essential Tips Cat Care: Everything you Need to Know about Cat Breeds, Kitten Care, Cat Behaviour and More"
          ],
          [
           9780241716106,
           "Grow Your Groceries: 40 Hacks for Growing Plants from Your Weekly Shop"
          ],
          [
           9780241257241,
           "100 Women Who Made History: Remarkable Women Who Shaped Our World"
          ],
          [
           9780241681671,
           "Marvellous Messages"
          ],
          [
           9780241283851,
           "Children's Illustrated Animal Atlas (Children's Illustrated Atlases)"
          ],
          [
           9780593958643,
           "ArnieTex: Over 100 Recipes for Mexican-American Cooking and Texas-Style BBQ"
          ],
          [
           9780241738535,
           "DK Top 10 Vienna (Pocket Travel Guide)"
          ],
          [
           9780241405970,
           "DK Eyewitness Top 10 Mumbai (Pocket Travel Guide)"
          ],
          [
           9780241510636,
           "DK Eyewitness Rome (Travel Guide)"
          ],
          [
           9780241722008,
           "DK Top 10 Corfu and the Ionian Islands (Pocket Travel Guide)"
          ],
          [
           9780241726457,
           "DK Mallorca, Menorca and Ibiza (Travel Guide)"
          ],
          [
           9780241408018,
           "DK Eyewitness Top 10 Malta and Gozo (Pocket Travel Guide)"
          ],
          [
           9780241719749,
           "DK Argentina (Travel Guide)"
          ],
          [
           9780241733226,
           "DK Albania (Travel Guide)"
          ],
          [
           9780241733219,
           "DK Top 10 Montenegro (Pocket Travel Guide)"
          ],
          [
           9780241367797,
           "DK Eyewitness Top 10 San Francisco: 2020 (Pocket Travel Guide)"
          ],
          [
           9780241559369,
           "DK Spain (Travel Guide)"
          ],
          [
           9780241568552,
           "DK Norway (Travel Guide)"
          ],
          [
           9781728236063,
           "Mia's Life: Sister Disaster!"
          ],
          [
           9781728295558,
           "Fiske Guide to Colleges 2025"
          ],
          [
           9781464236518,
           "Door of Bruises (Thornchapel)"
          ],
          [
           9781464246326,
           "Older"
          ],
          [
           9781402238260,
           "Instant Happy Notes: 101 Sticky Note Surprises to Make Anyone Smile (Inspire Instant Happiness Calendars & Gifts)"
          ],
          [
           9781492656623,
           "Furyborn: The Empirium Trilogy Book 1 (The Empirium Trilogy, 1)"
          ],
          [
           9781464245084,
           "Blood on Her Tongue: A Gothic Horror from the Author of My Darling Dreadful Thing"
          ],
          [
           9781646119684,
           "Constellations for Kids: An Easy Guide to Discovering the Stars"
          ],
          [
           9781646119790,
           "The Challenging Riddle Book for Kids: Fun Brain-Busters for Ages 9-12"
          ],
          [
           9781728297149,
           "The Gravity of Us: 4 (Elements)"
          ],
          [
           9781464236501,
           "Harvest of Sighs (Thornchapel)"
          ],
          [
           9781728297156,
           "If You Stayed (Deluxe Edition)"
          ],
          [
           9781728277158,
           "Don't Push the Button: Tons of Love"
          ],
          [
           9781464252259,
           "A Kingdom of Blood and Betrayal (Stars and Shadows)"
          ],
          [
           9781728293707,
           "F*cking 2025 Wall Calendar: Get Your Sh*t Together This Year - Includes Stickers! (Calendars & Gifts to Swear By)"
          ],
          [
           9781646118786,
           "Sushi Cookbook for Beginners: 100 Step-By-Step Recipes to Make Sushi at Home"
          ],
          [
           9781464254475,
           "The Red Letter (The Orphanage by the Lake)"
          ],
          [
           9781641527255,
           "Portrait Drawing for Kids: A Step-by-Step Guide to Drawing Faces (Drawing Books for Kids Ages 9 to 12)"
          ],
          [
           9781464236495,
           "Feast of Sparks: A Spicy Enemies to Lovers Dark Academia Romance (Thornchapel)"
          ],
          [
           9781464233913,
           "Learn My Lesson (Wicked Villains)"
          ],
          [
           9781728284170,
           "Past the Broken Bridges"
          ],
          [
           9781641523554,
           "The Attachment Theory Workbook: Powerful Tools to Promote Understanding, Increase Stability, and Build Lasting Relationships (Attachment Theory in Practice)"
          ],
          [
           9781623158286,
           "Chakra Healing: A Beginner's Guide to Self-Healing Techniques that Balance the Chakras"
          ],
          [
           9781728293752,
           "2025 Choose Happy Planner: August 2024-December 2025 (Inspire Instant Happiness Calendars & Gifts)"
          ],
          [
           9781464233920,
           "A Worthy Opponent (Wicked Villains)"
          ],
          [
           9781648766596,
           "My First Book of Baby Signs: 40 Essential Signs to Learn and Practice"
          ],
          [
           9780241580578,
           "Science of Pilates: Understand the Anatomy and Physiology to Perfect Your Practice"
          ],
          [
           9780241662076,
           "RHS Pruning and Training: What, When, and How to Prune Over 800 Plants"
          ],
          [
           9781409382980,
           "Allotment Handbook"
          ],
          [
           9780241762851,
           "RHS Slugs: Friend or Foe?: Know Your Slugs and Learn to Live With Them"
          ],
          [
           9780241430033,
           "7-Minute Body Plan: Quick workouts & simple recipes for real results in 7 days"
          ],
          [
           9780241724170,
           "Draw with Art for Kids Hub Space"
          ],
          [
           9780241723067,
           "Pop-Up Peekaboo! Disney Pixar Toy Story"
          ],
          [
           9780241707876,
           "RSPB Pocket Garden Birdwatch"
          ],
          [
           9780241515693,
           "The Military History Book: Big Ideas Simply Explained (DK Big Ideas)"
          ],
          [
           9780241531693,
           "How to be Good at English Workbook 2, Ages 11-14 (Key Stage 3): The Simplest-Ever Visual Workbook (DK How to Be Good at)"
          ],
          [
           9780241691090,
           "Eyewitness Encyclopedia of Animals (DK Eyewitness)"
          ],
          [
           9780241317785,
           "The New Children's Encyclopedia: Packed with Thousands of Facts, Stats, and Illustrations"
          ],
          [
           9780241515211,
           "How to be Good at English Workbook 1, Ages 7-11 (Key Stage 2): The Simplest-Ever Visual Workbook (DK How to Be Good at)"
          ],
          [
           9780241585061,
           "Find My Favourite Things Farm: Search and Find! Follow the Characters From Page to Page! (DK Find My Favorite)"
          ],
          [
           9781409345961,
           "My First Trucks and Diggers Let's Get Driving (My First Tabbed Board Book)"
          ],
          [
           9781409334668,
           "Pop-Up Peekaboo! Christmas"
          ],
          [
           9780241300374,
           "Cooking Step By Step: More than 50 Delicious Recipes for Young Cooks"
          ],
          [
           9780241568989,
           "DK Eyewitness Caribbean (Travel Guide)"
          ],
          [
           9780241275399,
           "DK Eyewitness Travel Guide Brussels, Bruges, Ghent and Antwerp: Bruges, Ghent & Antwerp"
          ],
          [
           9780241719633,
           "DK Provence and the Côte d'Azur (Travel Guide)"
          ],
          [
           9780241310564,
           "DK Eyewitness Top 10 Madeira (Pocket Travel Guide)"
          ],
          [
           9780241568293,
           "DK USA (Travel Guide)"
          ],
          [
           9780241544310,
           "DK Eyewitness Vietnam (Travel Guide)"
          ],
          [
           9780241621271,
           "DK Top 10 Venice (Pocket Travel Guide)"
          ],
          [
           9780241358283,
           "DK Eyewitness Vietnam: Inspire / Plan / Discover / Experience (Travel Guide)"
          ],
          [
           9780241721773,
           "DK Pacific Northwest: Oregon, Washington and British Columbia (Travel Guide)"
          ],
          [
           9780241538753,
           "DK Vienna (Travel Guide)"
          ],
          [
           9780241364697,
           "DK Eyewitness Top 10 Budapest (Pocket Travel Guide)"
          ],
          [
           9780241472156,
           "DK Canada (Travel Guide)"
          ],
          [
           9780241360088,
           "DK Eyewitness Poland (Travel Guide)"
          ],
          [
           9780241273852,
           "DK Eyewitness Travel Guide Sardinia: Eyewitness Travel Guide 2017"
          ],
          [
           9780241208472,
           "DK Eyewitness Travel Guide Corsica: Eyewitness Travel Guide 2016"
          ],
          [
           9780241733196,
           "North Coast 500"
          ],
          [
           9780241263570,
           "DK Eyewitness Travel Guide Northern Spain: DK Eyewitness Travel Guide 2017"
          ],
          [
           9781405360753,
           "DK Eyewitness Travel Guide: Tunisia: Eyewitness Travel Guide 2011"
          ],
          [
           9780241256756,
           "DK Eyewitness Travel Guide Japan: DK Eyewitness Travel Guide 2017"
          ],
          [
           9780241364796,
           "DK Eyewitness Top 10 Florence and Tuscany: 2020 (Pocket Travel Guide)"
          ],
          [
           9780241462799,
           "DK Switzerland (Travel Guide)"
          ],
          [
           9780241278703,
           "DK Eyewitness Top 10 Marrakech: Eyewitness Travel Guide 2017 (Pocket Travel Guide)"
          ],
          [
           9781409371342,
           "DK Eyewitness Travel Guide Eastern and Central Europe"
          ],
          [
           9780241253526,
           "DK Eyewitness Travel Guide Chicago: Eyewitness Travel Guide 2017"
          ],
          [
           9781409370208,
           "DK Eyewitness Travel Guide Krakow: DK Eyewitness Travel Guide 2015"
          ],
          [
           9780241568996,
           "DK Top 10 Azores (Pocket Travel Guide)"
          ],
          [
           9780241568910,
           "DK Top 10 Mallorca (Pocket Travel Guide)"
          ],
          [
           9780241568958,
           "DK Top 10 Bangkok (Pocket Travel Guide)"
          ],
          [
           9780241198438,
           "DK Eyewitness Travel Guide Egypt: Eyewitness Travel Guide 2016"
          ],
          [
           9780241409374,
           "DK Eyewitness The Netherlands (Travel Guide)"
          ],
          [
           9780241559482,
           "DK Top 10 Washington DC (Pocket Travel Guide)"
          ],
          [
           9780241462997,
           "DK Top 10 Normandy (Pocket Travel Guide)"
          ],
          [
           9780241273869,
           "DK Eyewitness Travel Guide Sicily: DK Eyewitness Travel Guide 2017"
          ],
          [
           9780241361825,
           "DK Eyewitness Top 10 Provence and the Côte d'Azur (Pocket Travel Guide)"
          ],
          [
           9780241360101,
           "DK Eyewitness Morocco (Travel Guide)"
          ],
          [
           9780241408629,
           "DK Eyewitness Northern Spain (Travel Guide)"
          ],
          [
           9780241270684,
           "DK Eyewitness Travel Guide Milan and the Lakes: DK Eyewitness Travel Guide 2017"
          ],
          [
           9780241263563,
           "DK Eyewitness Travel Guide Italian Riviera: Eyewitness Travel Guide 2017"
          ],
          [
           9780241253601,
           "DK Eyewitness Travel Guide Vietnam and Angkor Wat: DK Eyewitness Travel Guide 2017"
          ],
          [
           9780241368848,
           "DK Eyewitness Delhi, Agra and Jaipur (Travel Guide)"
          ],
          [
           9780241619094,
           "DK Italy (Travel Guide)"
          ],
          [
           9780241618738,
           "DK Top 10 Lisbon (Pocket Travel Guide)"
          ],
          [
           9780241273586,
           "DK Eyewitness Travel Guide Brittany: Eyewitness Travel Guide (2017)"
          ],
          [
           9780241364932,
           "DK Eyewitness Top 10 Copenhagen: 2020 (Travel Guide) (Pocket Travel Guide)"
          ],
          [
           9780241365410,
           "DK New Zealand (Travel Guide)"
          ],
          [
           9780241365335,
           "DK Japan (Travel Guide)"
          ],
          [
           9780241719497,
           "DK Europe (Travel Guide)"
          ],
          [
           9780241509654,
           "DK Top 10 Paris (Pocket Travel Guide)"
          ],
          [
           9780241612910,
           "DK Sardinia (Travel Guide)"
          ],
          [
           9780241559352,
           "DK Eyewitness Barcelona and Catalonia: inspire, plan, discover, experience (Travel Guide)"
          ],
          [
           9780241544334,
           "DK Eyewitness Top 10 Orlando (Pocket Travel Guide)"
          ],
          [
           9780241306017,
           "DK Eyewitness Travel Guide Seville and Andalucía: Eyewitness Travel Guide 2018"
          ],
          [
           9780241618622,
           "DK Top 10 Barcelona (Pocket Travel Guide)"
          ],
          [
           9780241306147,
           "DK Eyewitness Loire Valley (Travel Guide)"
          ],
          [
           9780241360095,
           "DK Eyewitness Croatia (Travel Guide)"
          ],
          [
           9780241355985,
           "DK Eyewitness Top 10 Andalucía and the Costa del Sol (Pocket Travel Guide)"
          ],
          [
           9780241360293,
           "DK Back Roads France: Scenic Routes, Charming Hotels, Authentic Regional Cuisine (Travel Guide)"
          ],
          [
           9780241397756,
           "DK Eyewitness Paris Mini Map and Guide (Pocket Travel Guide)"
          ],
          [
           9780241418482,
           "DK Top 10 Sydney (Pocket Travel Guide)"
          ],
          [
           9780241719787,
           "DK Top 10 Stockholm (Pocket Travel Guide)"
          ],
          [
           9780241006993,
           "DK Eyewitness Travel Guide Delhi, Agra and Jaipur: DK Eyewitness Travel Guide 2015"
          ],
          [
           9780241306161,
           "DK Eyewitness Munich and the Bavarian Alps"
          ],
          [
           9780241462775,
           "DK Eyewitness Florence and Tuscany (Travel Guide)"
          ],
          [
           9780241612187,
           "DK Top 10 Scotland (Pocket Travel Guide)"
          ],
          [
           9780241509760,
           "DK Eyewitness Top 10 Rome (Pocket Travel Guide)"
          ],
          [
           9780241510643,
           "DK Eyewitness Top 10 Madrid (Pocket Travel Guide)"
          ],
          [
           9780241436684,
           "DK Eyewitness Road Trips Great Britain (Travel Guide)"
          ],
          [
           9780241385586,
           "Be More Japan: The Art of Japanese Living"
          ],
          [
           9780241393789,
           "DK Eyewitness Amsterdam Mini Map and Guide (Pocket Travel Guide)"
          ],
          [
           9780241436714,
           "DK Eyewitness Road Trips France: plan with ease, explore with confidence (Travel Guide)"
          ],
          [
           9780241408377,
           "DK Eyewitness Sweden (Travel Guide)"
          ],
          [
           9780241418406,
           "DK Australia: inspire, plan, discover, experience (Travel Guide)"
          ],
          [
           9781728293158,
           "How to Catch Graphic Novels: How to Catch the Easter Bunny"
          ],
          [
           9781728293844,
           "2025 Instant Happy Notes Boxed Calendar: 365 Reminders to Smile and Shine! (Inspire Instant Happiness Calendars & Gifts)"
          ],
          [
           9781464234088,
           "Free Fall (Wilde Boys)"
          ],
          [
           9781939754646,
           "The Low Cholesterol Cookbook and Action Plan: 4 Weeks to Cut Cholesterol and Improve Heart Health"
          ],
          [
           9781728279084,
           "Left Behind"
          ],
          [
           9781728291581,
           "I Can Say Moo! (My First Learn-to-Talk Books)"
          ],
          [
           9781464260193,
           "The Good Girl Effect (Salacious Legacy)"
          ],
          [
           9781464242649,
           "Murder Off the Books: A Small Town Cosy Crime Murder Mystery (By the Book Mysteries)"
          ],
          [
           9781464242625,
           "A Murder Like No Author: A Cosy Crime Murder Mystery Set in a Small Town (Main Street Book Club Mysteries)"
          ],
          [
           9781464225925,
           "Fallen Academy: Year Three"
          ],
          [
           9781728257532,
           "Mia's Life: Best Friends for Never: 2 (Mia's Life, 2)"
          ],
          [
           9781647398057,
           "The CBT Workbook for Mental Health: Evidence-Based Exercises to Transform Negative Thoughts and Manage Your Well-Being"
          ],
          [
           9781464254468,
           "The Orphanage by the Lake"
          ],
          [
           9781728279008,
           "A Long Time Gone: A Novel: 3 (Ben Packard)"
          ],
          [
           9781641529310,
           "How to Cook for Beginners: An Easy Cookbook for Learning the Basics"
          ],
          [
           9781728293868,
           "2025 Love Notes from Chippy Boxed Calendar: A Year of Heartfelt Messages from the Internet's Favorite Dog"
          ],
          [
           9781464234071,
           "Gravity: A Dark Forbidden Billionaire Romance (Wilde Boys)"
          ],
          [
           9781647397692,
           "Photography for Kids: A Beginner's Book"
          ],
          [
           9781464245770,
           "Born of Flames and Sacrifice (Adrian X Isolde)"
          ],
          [
           9781728221724,
           "The Carrow Haunt"
          ],
          [
           9781646111688,
           "Calisthenics for Beginners: Step-by-Step Workouts to Build Strength at Any Fitness Level"
          ],
          [
           9781492663966,
           "Cockpit Confidential: Everything You Need to Know About Air Travel: Questions, Answers, and Reflections"
          ],
          [
           9781464234170,
           "Arrows and Apologies: A Dark and Spicy Romance Inspired By the Apollo and Daphne Myth (Monsters & Muses)"
          ],
          [
           9781641521819,
           "How to Draw: Easy Techniques and Step-by-Step Drawings for Kids (Drawing Books for Kids Ages 9 to 12)"
          ],
          [
           9781464245268,
           "A First Time for Everything"
          ],
          [
           9781646118366,
           "My First Book of Planets: All About the Solar System for Kids"
          ],
          [
           9781728298337,
           "The Last Great Heir"
          ],
          [
           9781464225918,
           "Fallen Academy Year Two: An Exciting YA Fantasy and Dark Academia Romance (Fallen Academy Book 2)"
          ],
          [
           9798889641117,
           "Rebel Girls STEM Stars: 25 Tales of Women in Science"
          ],
          [
           9781647397197,
           "2019, The 5-Minute Gratitude Journal: Give Thanks, Practice Positivity, Find Joy"
          ],
          [
           9781492638179,
           "How to Catch the Easter Bunny: 0"
          ],
          [
           9781728270265,
           "How Bad Things Can Get"
          ],
          [
           9781402243059,
           "The Well-Spoken Thesaurus: The Most Powerful Ways to Say Everyday Words and Phrases"
          ],
          [
           9798886509328,
           "Bible Study Workbook for Kids: Lessons, Activities, Quizzes, and Questions to Deepen Your Faith"
          ],
          [
           9781646111459,
           "Tricky Logic Puzzles for Adults: 130+ Difficult Puzzles to Challenge Your Brain"
          ],
          [
           9781728296937,
           "This Book Is a Retreat: 122 Soul-nourishing Questions to Reconnect With Yourself"
          ],
          [
           9781492632641,
           "Welcome Little One (Welcome Little One Baby Gift Collection)"
          ],
          [
           9781728281315,
           "What Your Body Knows About Happiness: Unexpected Ways to Find Gratitude, Happiness, and Joy"
          ],
          [
           9781728283821,
           "Only After We Met"
          ],
          [
           9781647394141,
           "The Essential Diet for Diverticulitis: A 3-Stage Nutrition Guide to Manage and Prevent Flare-Ups"
          ],
          [
           9781464221453,
           "Artificial Intelligence for Babies (Baby University)"
          ],
          [
           9781728285382,
           "Dinosaur Day"
          ],
          [
           9781492693697,
           "How to Catch a Dragon"
          ],
          [
           9781492677697,
           "The Complete Baking Book for Young Chefs: 100+ Sweet and Savory Recipes that You'll Love to Bake, Share and Eat!"
          ],
          [
           9781623152567,
           "Fermentation for Beginners: The Step-by-Step Guide to Fermentation and Probiotic Foods"
          ],
          [
           9781647398798,
           "The Super Easy Teen Cookbook: 75 Simple Step-by-Step Recipes (Super Easy Teen Cookbooks)"
          ],
          [
           9798886504217,
           "The Bible in 52 Weeks for Men: Read the Bible in a Year With This Guided Men's Bible Study"
          ],
          [
           9781641528764,
           "The Complete Bariatric Cookbook and Meal Plan: Recipes and Guidance for Life Before and After Surgery"
          ],
          [
           9781728221786,
           "House of Shadows: A Novel: 1 (House of Shadows, 1)"
          ],
          [
           9781464242489,
           "Dear Reader (Devil's Backbone)"
          ],
          [
           9781728297347,
           "The Childfree Guide to Life and Money: Make Your Finances Simple So Your Life Without Kids Can Be Amazing"
          ],
          [
           9781728262796,
           "Midnight Ruin: A Divinely Dark Romance Retelling of Orpheus, Eurydice and Charon (Dark Olympus 6)"
          ],
          [
           9798886509922,
           "My First Book of Baby Signs"
          ],
          [
           9781728267913,
           "His Girl Hollywood"
          ],
          [
           9781464221248,
           "A Forty Year Kiss: A Novel"
          ],
          [
           9781492677734,
           "Stir Crack Whisk Bake: A Little Book about Little Cakes"
          ],
          [
           9781728298344,
           "The Last Great Heir"
          ],
          [
           9781641528801,
           "Reducing High Blood Pressure for Beginners: A Cookbook for Eating and Living Well"
          ],
          [
           9781647398767,
           "Investing for Kids: How to Save, Invest, and Grow Money"
          ],
          [
           9781464222801,
           "Sunset: 1 (Crossroads)"
          ],
          [
           9781464225130,
           "Cosmic Bullsh*t: A Guide to the Galaxy's Worst Life Hacks"
          ],
          [
           9781464221989,
           "A Murder in Hollywood: The Untold Story of Tinseltown's Most Shocking Crime"
          ],
          [
           9781647396725,
           "Architecture for Teens: A Beginner's Book for Aspiring Architects"
          ],
          [
           9781464225932,
           "Fallen Academy: Year Four"
          ],
          [
           9781728262826,
           "Dark Restraint: 7 (Dark Olympus)"
          ],
          [
           9781464230707,
           "My Big Sticker Dress-Up: Sparkle Sweeties (My Sticker Dress-Up)"
          ],
          [
           9781646112838,
           "The Mindfulness Journal for Teens: Prompts and Practices to Help You Stay Cool, Calm, and Present"
          ],
          [
           9781641524131,
           "The Essential Vegan Air Fryer Cookbook: 75 Whole Food Recipes to Fry, Bake, and Roast"
          ],
          [
           9781638788317,
           "My First Book of Planets: All About the Solar System for Kids"
          ],
          [
           9781492656685,
           "Lightbringer: 3 (The Empirium Trilogy, 3)"
          ],
          [
           9781623159443,
           "The Healthy Meal Prep Cookbook: Easy and Wholesome Meals to Cook, Prep, Grab, and Go"
          ],
          [
           9781728292168,
           "2025 Amy Knapp's Big Grid Family Organizer Wall Calendar: August 2024 - December 2025 (Amy Knapp's Plan Your Life Calendars)"
          ],
          [
           9781647397296,
           "Self-Love Workbook for Women: Release Self-Doubt, Build Self-Compassion, and Embrace Who You Are (Self-Love Workbook and Journal)"
          ],
          [
           9781641521666,
           "Celebrate Your Body (and Its Changes, Too!): The Ultimate Puberty Book for Girls: 1"
          ],
          [
           9781647396732,
           "The Complete Juicing Recipe Book: 360 Easy Recipes for a Healthier Life"
          ],
          [
           9781728296135,
           "A Girl Like Us: A Novel"
          ],
          [
           9781464231643,
           "The 30-day Money Cleanse: Take Control of Your Finances, Manage Your Spending, and De-stress Your Money for Good"
          ],
          [
           9781728256153,
           "Bring Me Your Midnight"
          ],
          [
           9781646114467,
           "The Healing Gout Cookbook: Anti-Inflammatory Recipes to Lower Uric Acid Levels and Reduce Flares"
          ],
          [
           9780241340585,
           "MasterChef The Classics with a Twist"
          ],
          [
           9781409386551,
           "The Herb Garden for Cooks"
          ],
          [
           9780241336656,
           "RHS How To Garden When You're New To Gardening: The Basics For Absolute Beginners"
          ],
          [
           9780241305898,
           "Get Strong For Women: Lift Heavy, Train Hard, See Results"
          ],
          [
           9780241412374,
           "The Little Book of Baby Massage: Use the Power of Touch to Calm Your Baby"
          ],
          [
           9780241229460,
           "Cushions, Curtains and Blinds Step by Step: 25 Soft-Furnishing Projects for the Home"
          ],
          [
           9781405336840,
           "The Essential First Year: What Babies Need Parents to Know"
          ],
          [
           9781405348843,
           "Orchids: RHS Simple Steps to Success"
          ],
          [
           9781405375818,
           "The Day-by-Day Baby Book: In-depth, Daily Advice on Your Baby's Growth, Care, and Development in the First Year"
          ],
          [
           9780241388044,
           "The Soup Book: 200 Recipes, Season by Season"
          ],
          [
           9780241412602,
           "The Sicily Cookbook: Authentic Recipes from a Mediterranean Island"
          ],
          [
           9780241667637,
           "The Science of Flavour: Unlock the Secrets Behind the Art of Flavourful Cooking"
          ],
          [
           9780241286135,
           "RHS Encyclopedia of Garden Design: Planning, Building and Planting Your Perfect Outdoor Space"
          ],
          [
           9781409367949,
           "Mary Berry Cooks The Perfect: Step by Step"
          ],
          [
           9780241315613,
           "RHS Gardening Through the Year: Month-by-month Planning Instructions and Inspiration"
          ],
          [
           9780241352489,
           "Weaning: What to Feed, When to Feed and How to Feed your Baby"
          ],
          [
           9781405353182,
           "The Cook's Book of Ingredients"
          ],
          [
           9780241274347,
           "Foods to Fight Cancer: What to Eat to Reduce your Risk"
          ],
          [
           9780241186381,
           "Handmade Interiors: Make Your Own Cushions, Blinds and Other Soft Furnishings"
          ],
          [
           9780241458587,
           "Mend it, Wear it, Love it!: Stitch Your Way to a Sustainable Wardrobe"
          ],
          [
           9780241413319,
           "Watercolour Techniques for Artists and Illustrators: Discover how to paint landscapes, people, still lifes, and more."
          ],
          [
           9780241732045,
           "Biodynamic Gardening: Organic Growing Guided by the Moon for Bountiful Harvests"
          ],
          [
           9781409337515,
           "Feeding Your Baby Day by Day: From First Tastes to Family Meals"
          ],
          [
           9780241216569,
           "What Every Parent Needs To Know: Love, nurture and play with your child"
          ],
          [
           9780241183915,
           "Neal's Yard Remedies Natural Beauty"
          ],
          [
           9780241720004,
           "How to Make Your Brain Your Best Friend: A Neuroscientist's Guide to a Healthier, Happier Life"
          ],
          [
           9780241357668,
           "Ultimate Star Wars New Edition: The Definitive Guide to the Star Wars Universe"
          ],
          [
           9780241357521,
           "LEGO Star Wars Visual Dictionary New Edition: With exclusive Finn minifigure"
          ],
          [
           9780241719459,
           "LEGO Minecraft Visual Dictionary: With an Exclusive LEGO Minecraft Minifigure"
          ],
          [
           9780241409701,
           "LEGO NINJAGO How To Be A Ninja (DK Readers Level 2)"
          ],
          [
           9780241681275,
           "YOU Decide YOUR Adventure: Join Bear Grylls on the Ultimate Expedition"
          ],
          [
           9780241363737,
           "LEGO Harry Potter Build Your Own Adventure: With LEGO Harry Potter Minifigure and Exclusive Model (LEGO Build Your Own Adventure)"
          ],
          [
           9780241357507,
           "Marvel Studios Ultimate Sticker Collection: With more than 1000 stickers"
          ],
          [
           9780241487464,
           "The Star Trek Book New Edition: Strange New Worlds Boldly Explained"
          ],
          [
           9780241621936,
           "Upcoming Title: (SAGE Study Skills Series)"
          ],
          [
           9780241716410,
           "LEGO Minifigure A Visual History Updated and Expanded: With Exclusive LEGO Minifigure!"
          ],
          [
           9780241582947,
           "Kerrang! Living Loud: Four Decades on the Frontline of Rock, Metal, Punk, and Alternative Music (DK)"
          ],
          [
           9780241743768,
           "A Kids Book About Executive Functioning"
          ],
          [
           9780241310045,
           "LEGO NINJAGO Ninja in Action! (DK Readers Level 1)"
          ],
          [
           9780241232408,
           "LEGO Absolutely Everything You Need to Know"
          ],
          [
           9781405350679,
           "The LEGO® Ideas Book: You Can Build Anything!"
          ],
          [
           9780241722701,
           "Star Wars Encyclopedia of Starfighters and Other Vehicles: Discover More Than 230 Vehicles From a Galaxy Far, Far Away!"
          ],
          [
           9780241361375,
           "DC Comics Ultimate Character Guide New Edition"
          ],
          [
           9780241186794,
           "Disney Pixar The Inside Out Essential Guide"
          ],
          [
           9780241232613,
           "DC Comics Encyclopedia All-New Edition: The Definitive Guide to the Characters of the DC Universe"
          ],
          [
           9780241317556,
           "Japanese-English Bilingual Visual Dictionary with Free Audio App (DK Bilingual Visual Dictionary)"
          ],
          [
           9781405391566,
           "German In 3 Months (with Audio CD): Your Essential Guide to Understanding and Speaking German (DK Hugo in 3 Months Language Learning Courses)"
          ],
          [
           9780241721551,
           "DK Super Where Words Come From Activities"
          ],
          [
           9780241226315,
           "English for Everyone Course Book Level 1 Beginner: A Complete Self-Study Programme"
          ],
          [
           9780241292440,
           "Italian-English Bilingual Visual Dictionary with Free Audio App (DK Bilingual Visual Dictionary)"
          ],
          [
           9780241614945,
           "English Ukrainian Bilingual Visual Dictionary (DK Bilingual Visual Dictionaries)"
          ],
          [
           9780241363416,
           "Scientists Who Changed History"
          ],
          [
           9780241385609,
           "Help Your Kids with Music, Ages 10-16 (Grades 1-5): A Unique Step-by-Step Visual Guide & Free Audio App (DK Help Your Kids With)"
          ],
          [
           9781409364450,
           "The Politics Book"
          ],
          [
           9781409364214,
           "The Dog Encyclopedia"
          ],
          [
           9781405391245,
           "The Psychology Book"
          ],
          [
           9780241605400,
           "History Year by Year: The Ultimate Visual Guide to the Events that Shaped the World"
          ],
          [
           9780241257104,
           "Art: The Definitive Visual Guide"
          ],
          [
           9780241412879,
           "Reference World Atlas: An Encyclopedia in an Atlas"
          ],
          [
           9780241607282,
           "Simply Artificial Intelligence (DK Simply)"
          ],
          [
           9780241317853,
           "Concise Guide to Medicines and Drugs: 6th Edition"
          ],
          [
           9780241719961,
           "The American Civil War: A Visual History (DK Definitive Visual Histories)"
          ],
          [
           9780241287255,
           "Help Your Kids with Growing Up: A No-Nonsense Guide to Puberty and Adolescence"
          ],
          [
           9781405361750,
           "The Car Book"
          ],
          [
           9780241006931,
           "How Business Works: A Graphic Guide to Business Success (DK How Stuff Works)"
          ],
          [
           9780241440575,
           "Civilization: A History of the World in 1000 Objects"
          ],
          [
           9780241364406,
           "History of Britain and Ireland: The Definitive Visual Guide"
          ],
          [
           9780241186121,
           "Help Your Kids with Music (CD Included): A Unique Step-by-Step Visual Guide, Revision and Reference (DK Help Your Kids With)"
          ],
          [
           9780241346792,
           "Spaceflight: The Complete Story from Sputnik to Curiosity"
          ],
          [
           9780241456026,
           "The Complete Bike Owner's Manual: Repair and Maintenance in Simple Steps"
          ],
          [
           9780241719916,
           "Animal Behaviour: Stories of Instinct, Intelligence and Adaptation (DK Definitive Visual Encyclopedias)"
          ],
          [
           9780241188699,
           "Atlas: A Pocket Guide to the World Today"
          ],
          [
           9780241691076,
           "The Ocean Book: The Stories, Science, and History of Oceans"
          ],
          [
           9780241719121,
           "The Motorbike Book: The Definitive Visual History (DK Definitive Transport Guides)"
          ],
          [
           9781409376415,
           "The Economics Book"
          ],
          [
           9780241225981,
           "Help Your Kids With Study Skills: A Unique Step-by-Step Visual Guide, Revision and Reference"
          ],
          [
           9780241013595,
           "Volcano & Earthquake (DK Eyewitness)"
          ],
          [
           9781409343776,
           "Crystal & Gem (DK Eyewitness)"
          ],
          [
           9780241683163,
           "Ancient Egypt (DK Ancient Histories)"
          ],
          [
           9780241187630,
           "Amazon (DK Eyewitness)"
          ],
          [
           9780241738023,
           "Ancient Rome: From Everyday Life to An Emperor's Life (DK Ancient Histories)"
          ],
          [
           9780241346754,
           "Robot: Meet the Machines of the Future"
          ],
          [
           9780241297179,
           "Insect: Explore the world of insects and creepy-crawlies – the most adaptable and numerous creatures on the planet (DK Eyewitness)"
          ],
          [
           9780241013618,
           "Human Body (DK Eyewitness)"
          ],
          [
           9781405364065,
           "Car Science: An Under-the-Hood, Behind-the-Dash Look at How Cars Work"
          ],
          [
           9780241508282,
           "Human Body: Over 100 Brain-Boosting Activities that Make Learning Easy and Fun (DK Active Learning)"
          ],
          [
           9780241692127,
           "Geography A Children's Encyclopedia (DK Children's Visual Encyclopedia)"
          ],
          [
           9781405391450,
           "100 People Who Made History: Meet the People Who Shaped the Modern World"
          ],
          [
           9780241243633,
           "All About Politics: How Governments Make the World Go Round (Big Questions)"
          ],
          [
           9781409372042,
           "Children's Book of Philosophy"
          ],
          [
           9780241323069,
           "Human Body A Children's Encyclopedia"
          ],
          [
           9780241317761,
           "Computer Coding Projects for Kids: A unique step-by-step visual guide, from binary code to building games"
          ],
          [
           9780241651414,
           "Timelines of Everyone: From Cleopatra and Confucius to Mozart and Malala (DK Children's Timelines)"
          ],
          [
           9780241228371,
           "What's Where on Earth? Atlas: The World as You've Never Seen It Before!"
          ],
          [
           9780241187753,
           "Ancient Rome (DK Eyewitness)"
          ],
          [
           9780241013625,
           "Shark (DK Eyewitness)"
          ],
          [
           9780241304327,
           "100 Scientists Who Made History"
          ],
          [
           9781405351782,
           "The Pop-up, Pull-out Space Book: Amazing Pop-Up Planets! Interactive Pull-Out Pages!"
          ],
          [
           9780241316580,
           "The Bacteria Book: Gross Germs, Vile Viruses, and Funky Fungi (The Science Book)"
          ],
          [
           9780241484340,
           "The Happy Pumpkin (First Seasonal Stories)"
          ],
          [
           9780241330562,
           "Help your Kids with SATs, Ages 9-11 (Key Stage 2): The Best Preparation for SATs Success"
          ],
          [
           9780241739891,
           "Animal Partnerships: Radical Relationships, Unlikely Alliances, and Other Animal Teams (Wonders of Wildlife)"
          ],
          [
           9780241488096,
           "The Station Cat: A Story of Kindness and Hope"
          ],
          [
           9780241688021,
           "My First Ocean: Let’s Dive In and Explore! (My First Tabbed Board Book)"
          ],
          [
           9780241342299,
           "Calm - Mindfulness For Kids"
          ],
          [
           9780241611883,
           "Every One Is Special: Cats"
          ],
          [
           9780241283806,
           "My Amazing Body Machine: A Colourful Visual Guide to How your Body Works"
          ],
          [
           9780241224939,
           "My Encyclopedia of Very Important Things: For Little Learners Who Want to Know Everything"
          ],
          [
           9780241207376,
           "Children Just Like Me Ultimate Sticker Book"
          ],
          [
           9780241439951,
           "The Christmas Story: Experience the magic of the first Christmas"
          ],
          [
           9780241377970,
           "Baby's First Chinese New Year (Baby's First Holidays)"
          ],
          [
           9780241305539,
           "How To Be A Fashion Designer: Ideas, Projects and Styling Tips to help you Become a Fabulous Fashion Designer (Careers for Kids)"
          ],
          [
           9780241725252,
           "An Anthology of Shells: A Collection of Over 100 of the World's Most Fascinating Shells (DK Little Anthologies)"
          ],
          [
           9780241734124,
           "An Anthology of Remarkable Bugs (DK Children's Anthologies)"
          ],
          [
           9781465483706,
           "A Yogic Path Oracle Deck and Guidebook (Keepsake Box Set)"
          ],
          [
           9781647393137,
           "The Crohn's Disease Cookbook: 100 Recipes and 2 Weeks of Meal Plans to Relieve Symptoms"
          ],
          [
           9781647397715,
           "One-Pan Cookbook for Men: 100 Easy Single-Skillet Recipes to Step Up Your Cooking Game"
          ],
          [
           9781464241215,
           "The Curse That Binds (The Bewitched Series)"
          ],
          [
           9780241712306,
           "LEGO Ninjago Dragons Rising Adventure Atlas: Journey Through the World of Ninjago"
          ],
          [
           9781464229893,
           "My Sticker Dress-Up: Swifties"
          ],
          [
           9781641520775,
           "Baby Sign Language Made Easy: 101 Signs to Start Communicating with Your Child Now (Baby Sign Language Guides)"
          ],
          [
           9781647396534,
           "Engineering for Teens: A Beginner's Book for Aspiring Engineers"
          ],
          [
           9781647397050,
           "ADHD & Us: A Couple's Guide to Loving and Living With Adult ADHD"
          ],
          [
           9780241568866,
           "DK Top 10 Marrakech (Pocket Travel Guide)"
          ]
         ],
         "hovertemplate": "Stock Risk=High<br>x=%{x}<br>y=%{y}<br>ISBN=%{customdata[0]}<br>Product title=%{customdata[1]}<extra></extra>",
         "legendgroup": "High",
         "marker": {
          "color": "#636efa",
          "symbol": "circle"
         },
         "mode": "markers",
         "name": "High",
         "showlegend": true,
         "type": "scattergl",
         "x": {
          "bdata": "4AdeCUMAZAB6AH4AAACJAB4AAABBAFEARAAGAAAAJwABABgAJwAcACQAAAAMAEoADQAAAAQAOwAJAAAAAAABAAAAAAAAAAMAAQAUAAAAAAAQAAAAAAAMAAAAAAAAAAAAAAAAAAEAFwAAAAAAAQABAAAAAQA1AAAAAAANAAAAAwAAAAwAEAAOAAAAAAAAAAAAAAAAAAAAAAAAAAAAAAADAAAAAAACAAAAAAAAAAAAAAAAAAAAAAAAAAAAAAAAAAAAAAAAAAAAAAAAAAAAAgAEAAsAAAAIAAAAAgAAAAAAAAAAAAAAAAAAAAAAAAAAAAAAAgAAAAAAAAAAAAAAAAAAAAAAAAAVAAAAAAAAAAAAAAAAAAAAAAAAAAAAAAAAAAAAAAAAAAAAAAAAAAAABwAAAAAAAAAAAAAAAAAAAAAACgAAAAAAAAAAAAwAAAACAAAAAAACAAAABAAAAAAABwAAAAAAAAAAAAIAAAAAAAAAAAAAAAIAAQAAAAAAAAAHAAAAAAACAAIAAAAAAAAAAAAAAAAAAAAAAAAAAAABAAQAAAABAAAAAAAAAAAAAAABAAEAAAAAAAAAAAAAAAAAAAADAAAAAAABAAEAAAAAAAEAAAABAAAAAAABAAEAAAABAAAAAAAAAAAAAAAAAAAAAAACAAEAAAAAAAEAAAAAAAAAAAAAAAAAAAAAAAEAAAAAAAAAAAAAAAAAAAAAAAEAAAABAAAAAAAAAAAAAAAAAAAAAAABAAAAAAAAAAAAAQAAAAAACQAAAAAAAAAAAAAAAAACAAAAAAAAAAAAAAAAAAAAAAAAAAAAAAABAAAAAQAAAAAAAAAAAAAAAAAAAAAADAABAAIAAAABAAMAAQAAAAAAAAABAAEAAgABAAAAAAAAAAIAAwAAAAEAAQABAAAAAAABAAAAAAAAAAEAAQADAAAAAAABAAAAAQABAAAAAAACAAAAAAABAAAAAAAAAAMABwABAAMAAAABAAAAAAAAAAAAAQAAAAAAAQAAAAIAAwAAAAIAAAACAAAAAAAAAAAAAQAAAAIABQAAAAIAAAABAAAAAQAAAAMAAAAHAAQAAQAAAAIAAAAEAAEAAAADAAAAAQAAAAQAAAACAAAAAQACAAEAAAAAAAAAAAADAAAAAAAAAAEAAAAAAAAAAQABAAAAAQAAAA==",
          "dtype": "i2"
         },
         "xaxis": "x",
         "y": {
          "bdata": "AAAAAADiqEAAAAAAAC7AQAAAAAAA8HZAAAAAAADAgEAAAAAAANCQQAAAAAAASIBAAAAAAABAc0AAAAAAAAB3QAAAAAAAoGdAAAAAAACgkUAAAAAAAMBjQAAAAAAA4G5AAAAAAADgYEAAAAAAAEiIQAAAAAAAgGhAAAAAAACAR0AAAAAAAIBeQAAAAAAAQFpAAAAAAADAVEAAAAAAAMBWQAAAAAAAgEJAAAAAAACASkAAAAAAAAA4QAAAAAAAwFRAAAAAAAAAP0AAAAAAAIBVQAAAAAAAgFNAAAAAAACAWUAAAAAAAAA4QAAAAAAAgEFAAAAAAACAWkAAAAAAAABOQAAAAAAAABBAAAAAAACAS0AAAAAAAIBLQAAAAAAAAEpAAAAAAAAAR0AAAAAAAIBCQAAAAAAAwFNAAAAAAAAAJEAAAAAAAAA2QAAAAAAAABRAAAAAAAAgakAAAAAAAABEQAAAAAAAAAhAAAAAAACASkAAAAAAAAA0QAAAAAAAgEtAAAAAAABwfkAAAAAAAABFQAAAAAAAAE5AAAAAAAAARkAAAAAAAKBjQAAAAAAAoGFAAAAAAAAAOEAAAAAAAIBjQAAAAAAAAD1AAAAAAAAAO0AAAAAAAABRQAAAAAAAADpAAAAAAAAAXEAAAAAAAAA5QAAAAAAAAD1AAAAAAAAAQEAAAAAAAGBiQAAAAAAAAD1AAAAAAAAAOEAAAAAAAAA4QAAAAAAAgE5AAAAAAAAAOkAAAAAAAAAuQAAAAAAAACBAAAAAAAAAOUAAAAAAAABHQAAAAAAAAD5AAAAAAAAAOEAAAAAAAABAQAAAAAAAAE5AAAAAAAAA8D8AAAAAAPSQQAAAAAAAABhAAAAAAAAAEEAAAAAAAAAwQAAAAAAAADRAAAAAAAAAIkAAAAAAAAAQQAAAAAAAADVAAAAAAAAAEEAAAAAAAAA0QAAAAAAAADpAAAAAAAAAM0AAAAAAAIBKQAAAAAAAADBAAAAAAAAAEEAAAAAAAOB0QAAAAAAAAFBAAAAAAAAA8D8AAAAAAIBBQAAAAAAAADxAAAAAAAAAJEAAAAAAAABJQAAAAAAAABBAAAAAAAAgZUAAAAAAAAAgQAAAAAAAAChAAAAAAAAgYkAAAAAAAAAxQAAAAAAAwFVAAAAAAAAAIEAAAAAAAAAoQAAAAAAAAABAAAAAAAAALkAAAAAAAAAQQAAAAAAAABhAAAAAAAAAAEAAAAAAAAAwQAAAAAAAABRAAAAAAAAAJEAAAAAAAAAiQAAAAAAAABBAAAAAAAAAFEAAAAAAAAAqQAAAAAAAABBAAAAAAAAAGEAAAAAAAADwPwAAAAAAAEBAAAAAAAAAEEAAAAAAAAAQQAAAAAAAADlAAAAAAAAAPEAAAAAAAAA2QAAAAAAAgEpAAAAAAAAA8D8AAAAAAADwPwAAAAAAgERAAAAAAAAA8D8AAAAAAAAYQAAAAAAAgEdAAAAAAAAAJkAAAAAAAAA5QAAAAAAAABRAAAAAAAAAFEAAAAAAAAAiQAAAAAAAgENAAAAAAAAARkAAAAAAAAAYQAAAAAAAAPA/AAAAAAAALEAAAAAAAIBsQAAAAAAAADRAAAAAAAAAKEAAAAAAAAAQQAAAAAAAADVAAAAAAAAA8D8AAAAAAIBJQAAAAAAAABhAAAAAAAAATUAAAAAAAAAoQAAAAAAAAPA/AAAAAAAAJkAAAAAAAAAwQAAAAAAAADBAAAAAAACATEAAAAAAAAAQQAAAAAAAQGlAAAAAAAAAGEAAAAAAAAA2QAAAAAAAABRAAAAAAAAAJkAAAAAAAAAQQAAAAAAAABBAAAAAAAAALEAAAAAAAAAcQAAAAAAAAABAAAAAAAAAIEAAAAAAAAAoQAAAAAAAACBAAAAAAAAAEEAAAAAAAAAQQAAAAAAAAChAAAAAAAAAEEAAAAAAAAAQQAAAAAAAABBAAAAAAAAAEEAAAAAAAAAQQAAAAAAAABhAAAAAAAAAEEAAAAAAAADwPwAAAAAAABBAAAAAAAAAMkAAAAAAAABAQAAAAAAAgEpAAAAAAAAAPkAAAAAAAAAQQAAAAAAAACJAAAAAAAAAEEAAAAAAAAAzQAAAAAAAAPA/AAAAAAAAEEAAAAAAAAAIQAAAAAAAACBAAAAAAAAAJEAAAAAAAAAcQAAAAAAAABBAAAAAAAAAEEAAAAAAAAAcQAAAAAAAABxAAAAAAAAAKEAAAAAAAAAQQAAAAAAAAABAAAAAAAAAEEAAAAAAAADwPwAAAAAAABRAAAAAAACASEAAAAAAAAAgQAAAAAAAAChAAAAAAAAAEEAAAAAAAAAwQAAAAAAAAChAAAAAAAAAFEAAAAAAAAAQQAAAAAAAABBAAAAAAACAQUAAAAAAAABIQAAAAAAAACJAAAAAAAAA8D8AAAAAAAAwQAAAAAAAABBAAAAAAAAAEEAAAAAAAAAiQAAAAAAAACBAAAAAAAAAJEAAAAAAAAAgQAAAAAAAADBAAAAAAAAAIEAAAAAAAAAQQAAAAAAAADhAAAAAAAAA8D8AAAAAAMBRQAAAAAAAAABAAAAAAAAAQUAAAAAAAADwPwAAAAAAABBAAAAAAAAAJEAAAAAAAAAIQAAAAAAAAPA/AAAAAAAAEEAAAAAAAAAQQAAAAAAAgE1AAAAAAAAAN0AAAAAAAAAQQAAAAAAAACZAAAAAAAAA8D8AAAAAAAA0QAAAAAAAABBAAAAAAAAALEAAAAAAAAAQQAAAAAAAADRAAAAAAAAAEEAAAAAAAAAxQAAAAAAAADdAAAAAAAAAEEAAAAAAAEBiQAAAAAAAAEJAAAAAAAAAFEAAAAAAAAAAQAAAAAAAACBAAAAAAAAAFEAAAAAAAAAAQAAAAAAAwFBAAAAAAAAAP0AAAAAAAAA4QAAAAAAAAAhAAAAAAAAAEEAAAAAAAADwPwAAAAAAABBAAAAAAAAAQUAAAAAAAIBEQAAAAAAAAPA/AAAAAAAA8D8AAAAAAIBKQAAAAAAAAChAAAAAAACASEAAAAAAAABLQAAAAAAAAEhAAAAAAAAAEEAAAAAAAAAQQAAAAAAAABBAAAAAAAAAJkAAAAAAAAAgQAAAAAAAAPA/AAAAAAAAKkAAAAAAAAAQQAAAAAAAAChAAAAAAAAARkAAAAAAAAA/QAAAAAAAAPA/AAAAAAAA8D8AAAAAAAAYQAAAAAAAADVAAAAAAAAAAEAAAAAAAADwPwAAAAAAAPA/AAAAAAAANEAAAAAAAAAUQAAAAAAAgEhAAAAAAAAAEEAAAAAAAAA3QAAAAAAAACBAAAAAAADAVEAAAAAAAABFQAAAAAAAAEVAAAAAAAAAAEAAAAAAAAAAQAAAAAAAABBAAAAAAAAARkAAAAAAAAAUQAAAAAAAABBAAAAAAAAAKkAAAAAAAAAwQAAAAAAAACBAAAAAAAAAPkAAAAAAAAAQQAAAAAAAABBAAAAAAAAAEEAAAAAAAABFQAAAAAAAADFAAAAAAAAAIkAAAAAAAAAkQAAAAAAAADJAAAAAAAAAUUAAAAAAAGBjQAAAAAAAACBAAAAAAAAAKEAAAAAAAAAQQAAAAAAAABxAAAAAAAAAUEAAAAAAAAAQQAAAAAAAACBAAAAAAAAAKEAAAAAAAAAoQAAAAAAAABhAAAAAAAAAIEAAAAAAAAAcQAAAAAAAABBAAAAAAAAAFEAAAAAAAAAQQAAAAAAAACBAAAAAAAAAFEAAAAAAAAAoQAAAAAAAACBAAAAAAACAREAAAAAAAAAwQAAAAAAAAPA/AAAAAAAAKEAAAAAAAAAQQAAAAAAAADdAAAAAAAAAEEAAAAAAAAAoQAAAAAAAABRAAAAAAAAAEEAAAAAAAAAUQAAAAAAAAPA/AAAAAAAA8D8AAAAAAABSQAAAAAAAABBAAAAAAAAAQEAAAAAAAAAAQAAAAAAAABBAAAAAAACAQEAAAAAAAAAQQAAAAAAAABxAAAAAAADAVEAAAAAAAAAuQAAAAAAAABBAAAAAAAAAAEAAAAAAAAAQQAAAAAAAABxAAAAAAAAAIkAAAAAAAADwPwAAAAAAABBAAAAAAAAAEEAAAAAAAAAqQAAAAAAAABBAAAAAAAAAEEAAAAAAAAAwQAAAAAAAABBAAAAAAAAACEAAAAAAAAAQQAAAAAAAABRAAAAAAAAAN0AAAAAAAAAwQAAAAAAAAAhAAAAAAAAAIkAAAAAAAAAYQAAAAAAAAAhAAAAAAAAA8D8AAAAAAAAQQAAAAAAAABBAAAAAAAAAHEAAAAAAAAAiQAAAAAAAABBAAAAAAAAA8D8AAAAAAAAoQAAAAAAAACxAAAAAAAAAIEAAAAAAAAAoQAAAAAAAABBAAAAAAAAAEEAAAAAAAAAUQAAAAAAAABxAAAAAAAAACEAAAAAAAAAgQAAAAAAAAChAAAAAAAAAIkAAAAAAAAAUQAAAAAAAAChAAAAAAAAA8D8AAAAAAAAQQAAAAAAAABRAAAAAAAAAEEAAAAAAAAAQQAAAAAAAABBAAAAAAAAAQEAAAAAAAAAQQAAAAAAAABRAAAAAAAAAFEAAAAAAAAAQQAAAAAAAACJAAAAAAAAAIEAAAAAAAAA8QAAAAAAAgE9AAAAAAAAAMUAAAAAAAAAkQAAAAAAAACJAAAAAAACAZ0AAAAAAAABGQAAAAAAAAD9AAAAAAAAASkAAAAAAAIBlQA==",
          "dtype": "f8"
         },
         "yaxis": "y"
        },
        {
         "customdata": [
          [
           9781464221361,
           "Never Lie: From the Sunday Times Bestselling Author of The Housemaid"
          ],
          [
           9781464228636,
           "The Crash: The #1 Sunday Times Bestseller! A Pulse-Pounding Psychological Thriller from the Author of the Housemaid is Watching"
          ],
          [
           9781464228599,
           "The Perfect Son: From the Sunday Times Bestselling Author of The Housemaid"
          ],
          [
           9780241740859,
           "LEGO Our Amazing Universe: World Book Day 2025: Fantastic Building Ideas and Facts About Our Universe"
          ],
          [
           9781464221385,
           "The Inmate: From the Sunday Times Bestselling Author of The Housemaid"
          ],
          [
           9781464223310,
           "The Housemaid Is Watching: An Instant Sunday Times Bestseller (The housemaid series, 3)"
          ],
          [
           9780241733066,
           "The Money-Saving Garden Year: A Month-by-month Guide to a Great Garden that Costs Less"
          ],
          [
           9781464221392,
           "One by One: From the Sunday Times Bestselling Author of The Housemaid"
          ],
          [
           9781464221408,
           "The Boyfriend: An Instant Sunday Times Bestseller from the Author of The Housemaid is Watching"
          ],
          [
           9781464221354,
           "The Locked Door: From the Sunday Times Bestselling Author of The Housemaid"
          ],
          [
           9781464221347,
           "The Coworker: From the Sunday Times Bestselling Author of The Housemaid"
          ],
          [
           9780241675502,
           "You and Your Body: A First Look Inside the Human Body"
          ],
          [
           9780241455159,
           "What Mummy Makes: Cook Just Once for You and Your Baby"
          ],
          [
           9781405308861,
           "Diggers & Dumpers Ultimate Sticker Book"
          ],
          [
           9780241568163,
           "Wonderfully Wired Brains: An Introduction to the World of Neurodiversity"
          ],
          [
           9780241283479,
           "Baby Touch and Feel I Love You"
          ],
          [
           9780241412718,
           "RSPB Pocket Garden Birdwatch"
          ],
          [
           9781728205489,
           "If He Had Been with Me: The Tiktok Sensation"
          ],
          [
           9780241720424,
           "Pop-Up Peekaboo! Disney Moana"
          ],
          [
           9780241412473,
           "The Mysteries of the Universe: Discover the best-kept secrets of space (DK Children's Anthologies)"
          ],
          [
           9780241334393,
           "An Anthology of Intriguing Animals (DK Children's Anthologies)"
          ],
          [
           9780241647011,
           "Pop-Up Peekaboo! Marvel Spidey and his Amazing Friends"
          ],
          [
           9780241198681,
           "Handwriting Made Easy: Confident Writing, Ages 7-11 (Key Stage 2): Supports the National Curriculum, Handwriting Practice Book (Made Easy Workbooks)"
          ],
          [
           9780241661314,
           "Warhammer 40,000 The Ultimate Guide"
          ],
          [
           9780241633434,
           "The Money-Saving Gardener: Create Your Dream Garden at a Fraction of the Cost: THE SUNDAY TIMES BESTSELLER"
          ],
          [
           9780241439968,
           "My Very First Bible Stories"
          ],
          [
           9781464221378,
           "The Teacher: From the Sunday Times Bestselling Author of The Housemaid"
          ],
          [
           9780241612866,
           "DK Top 10 Malta and Gozo (Pocket Travel Guide)"
          ],
          [
           9780241676851,
           "DK Top 10 Rome (Pocket Travel Guide)"
          ],
          [
           9780241333112,
           "Pop-Up Peekaboo! Under The Sea"
          ],
          [
           9780241515495,
           "RSPB Pocket Birds of Britain and Europe 5th Edition"
          ],
          [
           9780241466797,
           "10 Minutes A Day Spelling, Ages 7-11 (Key Stage 2): Supports the National Curriculum, Helps Develop Strong English Skills"
          ],
          [
           9780241673195,
           "DK Japan (Travel Guide)"
          ],
          [
           9781405332484,
           "My Little Picture Bible (Childrens Bible)"
          ],
          [
           9781405329132,
           "Baby Touch and Feel Animals"
          ],
          [
           9781409365426,
           "10 Minutes A Day Maths, Ages 7-9 (Key Stage 2): Supports the National Curriculum, Helps Develop Strong Maths Skills"
          ],
          [
           9780241661680,
           "Eat Your Way to a Six Pack: The Ultimate 75 Day Transformation Plan: THE SUNDAY TIMES BESTSELLER"
          ],
          [
           9781728276229,
           "If Only I Had Told Her: The Instant #1 Sunday Times Bestseller"
          ],
          [
           9780241676585,
           "DK Top 10 Paris (Pocket Travel Guide)"
          ],
          [
           9780751357769,
           "A Child's First Bible (First Bible Stories)"
          ],
          [
           9780241661697,
           "High-Protein Meals in Minutes: From Sunday Times Bestselling author of EAT YOUR WAY TO A SIX PACK"
          ],
          [
           9780241641439,
           "The Self-Sufficiency Garden: Feed Your Family and Save Money: THE #1 SUNDAY TIMES BESTSELLER"
          ],
          [
           9780241318164,
           "The Best Ever Baking Book: How to Bake Delicious Things to Eat (DK's Best Ever Cook Books)"
          ],
          [
           9780241651339,
           "LEGO Star Wars Visual Dictionary Updated Edition: With Exclusive Star Wars Minifigure"
          ],
          [
           9780241675663,
           "DK Top 10 Barcelona (Pocket Travel Guide)"
          ],
          [
           9780241647004,
           "Pop-Up Peekaboo! Disney Winnie the Pooh"
          ],
          [
           9780241622322,
           "DK Top 10 Madeira (Pocket Travel Guide)"
          ],
          [
           9780241182321,
           "10 Minutes a Day Fractions"
          ],
          [
           9780241533376,
           "My First Words: Let's Get Talking (My First Tabbed Board Book)"
          ],
          [
           9781409365433,
           "10 Minutes A Day Maths, Ages 9-11 (Key Stage 2): Supports the National Curriculum, Helps Develop Strong Maths Skills"
          ],
          [
           9780241707678,
           "Finger Foods for Babies and Toddlers: From the No. 1 Children's Cookery Author"
          ],
          [
           9780241676318,
           "DK Top 10 New York City (Pocket Travel Guide)"
          ],
          [
           9781728292908,
           "Bum or Face"
          ],
          [
           9780241715284,
           "Fit at 50: Your Guide to a Stronger, Fitter, and Happier (Mid) Life in Just 6 Weeks"
          ],
          [
           9781405314510,
           "Train Ultimate Sticker Book"
          ],
          [
           9780241247280,
           "Ocean Ultimate Sticker Book"
          ],
          [
           9780241664834,
           "DK Krakow (Travel Guide)"
          ],
          [
           9780241630204,
           "The Lonely Otter: A Heart-Warming Story About Love and Friendship (First Seasonal Stories)"
          ],
          [
           9780241247358,
           "Space Ultimate Sticker Book"
          ],
          [
           9780241612828,
           "DK Top 10 Porto (Pocket Travel Guide)"
          ],
          [
           9780241656693,
           "English for Everyone Course Book Level 1 Beginner: A Complete Self-Study Programme (DK English for Everyone)"
          ],
          [
           9780241286838,
           "StarFinder for Beginners"
          ],
          [
           9781409341406,
           "10 Minutes A Day Times Tables, Ages 9-11 (Key Stage 2): Supports the National Curriculum, Helps Develop Strong Maths Skills (DK 10 Minutes a Day)"
          ],
          [
           9780241467084,
           "Ultimate Sticker Book Tractor"
          ],
          [
           9780241585108,
           "The Bedtime Book of Dinosaurs and Other Prehistoric Life: Meet More Than 100 Creatures From Long Ago (The Bedtime Books)"
          ],
          [
           9780241668214,
           "DK Top 10 Athens (Pocket Travel Guide)"
          ],
          [
           9780241283066,
           "My Book of Rocks and Minerals: Things to Find, Collect, and Treasure"
          ],
          [
           9780241520918,
           "The Day-by-Day Pregnancy Book: Count Down Your Pregnancy Day by Day with Advice from a Team of Experts"
          ],
          [
           9780241588277,
           "The Minecraft Ideas Book: Create the Real World in Minecraft with 70+ Awesome Builds"
          ],
          [
           9780751344387,
           "The Ultimate Dinosaur Glow in the Dark Sticker Book (Ultimate Stickers) (Ultimate Sticker Book)"
          ],
          [
           9780241618653,
           "DK Top 10 Copenhagen (Pocket Travel Guide)"
          ],
          [
           9781728297408,
           "Hexed: INSTANT #1 SUNDAY TIMES BESTSELLER: A Dark Contemporary Romance (Never After)"
          ],
          [
           9780241721247,
           "Baby's First Valentine's Day (Baby's First Holidays)"
          ],
          [
           9780241676165,
           "DK Top 10 Lisbon (Pocket Travel Guide)"
          ],
          [
           9780241593288,
           "Table for Two: Recipes for the Ones You Love"
          ],
          [
           9780241667675,
           "Tweedy: The Clown Who Lost His Nose"
          ],
          [
           9781728270111,
           "That's Not My Name"
          ],
          [
           9780241607800,
           "Girls Just Wanna Have Funds: A Feminist Guide to Investing: THE SUNDAY TIMES BESTSELLER"
          ],
          [
           9781405392570,
           "Baby Touch and Feel Farm Animals"
          ],
          [
           9781464249136,
           "No More Secrets: A Small Town Opposites Attract Romcom (Blue Moon)"
          ],
          [
           9780241462867,
           "DK Top 10 Budapest (Pocket Travel Guide)"
          ],
          [
           9781728292618,
           "Bewitched (The Bewitched Series)"
          ],
          [
           9780241530481,
           "Mrs Wordsmith Storyteller's Word A Day, Ages 7-11 (Key Stage 2): Boost Vocabulary and Storytelling with 180 New Words + 3 Months of Word Tag Video Game"
          ],
          [
           9780241656716,
           "English for Everyone Practice Book Level 1 Beginner: A Complete Self-Study Programme (DK English for Everyone)"
          ],
          [
           9780241664537,
           "The Human Body Colouring Book: The Ultimate Anatomy Study Guide (DK Human Body Guides)"
          ],
          [
           9780241663028,
           "DK Seville and Andalucia (Travel Guide)"
          ],
          [
           9780241615935,
           "DK Top 10 Madrid (Pocket Travel Guide)"
          ],
          [
           9780241481844,
           "The Permaculture Garden: A Practical Approach to Year-round Harvests"
          ],
          [
           9780241675571,
           "DK Rome (Travel Guide)"
          ],
          [
           9780241661543,
           "Compost: Transform Waste into New Life"
          ],
          [
           9780241664926,
           "DK Venice and the Veneto (Travel Guide)"
          ],
          [
           9780241446614,
           "Digital Photography Complete Course: Everything You Need to Know in 20 Weeks"
          ],
          [
           9780241676714,
           "DK Top 10 Prague (Pocket Travel Guide)"
          ],
          [
           9780241617724,
           "DK Top 10 Istanbul (Pocket Travel Guide)"
          ],
          [
           9781409344858,
           "Maths Made Easy: Beginner, Ages 10-11 (Key Stage 2): Supports the National Curriculum, Maths Exercise Book (Made Easy Workbooks)"
          ],
          [
           9780241677070,
           "DK Top 10 Marrakech (Pocket Travel Guide)"
          ],
          [
           9780241342077,
           "Pop-Up Peekaboo! Baby Dinosaur"
          ],
          [
           9780241608425,
           "RHS Ultimate Sticker Book Garden Bugs: New Edition with More than 250 Stickers"
          ],
          [
           9780241615829,
           "DK Top 10 Amsterdam (Pocket Travel Guide) (Cover may vary)"
          ],
          [
           9780241618752,
           "DK Top 10 Vienna (Pocket Travel Guide)"
          ],
          [
           9780241673249,
           "DK New York City (Travel Guide)"
          ],
          [
           9781409341420,
           "10 Minutes A Day Spelling, Ages 5-7 (Key Stage 1): Supports the National Curriculum, Helps Develop Strong English Skills (DK 10 Minutes a Day)"
          ],
          [
           9780241664810,
           "Be More Japan: the art of Japanese living"
          ],
          [
           9780241651292,
           "The Creative Entrepreneur: A Guide to Building a Successful Creative Business from Industry Titans"
          ],
          [
           9781409365419,
           "10 Minutes A Day Maths, Ages 5-7 (Key Stage 1): Supports the National Curriculum, Helps Develop Strong Maths Skills (DK 10 Minutes a Day)"
          ],
          [
           9780241676240,
           "DK Top 10 Berlin (Pocket Travel Guide)"
          ],
          [
           9781728295350,
           "Brutal Prince: A Dark Mafia Romance (Brutal Birthright)"
          ],
          [
           9780241593387,
           "RHS Encyclopedia of Garden Design: Be Inspired to Plan, Build, and Plant Your Perfect Outdoor Space"
          ],
          [
           9780241657539,
           "LEGO Minecraft Ideas: With Exclusive Mini Model (LEGO Ideas)"
          ],
          [
           9780241440599,
           "Stargazing for Beginners: Explore the Wonders of the Night Sky"
          ],
          [
           9780241467039,
           "Ultimate Sticker Book Animals"
          ],
          [
           9780241678992,
           "DK Top 10 Singapore (Pocket Travel Guide)"
          ],
          [
           9780241676868,
           "DK Top 10 Venice (Pocket Travel Guide)"
          ],
          [
           9780241675090,
           "DK Paris (Travel Guide)"
          ],
          [
           9780241622025,
           "DK Vietnam (Travel Guide)"
          ],
          [
           9780241601006,
           "History of the World Map by Map (DK History Map by Map)"
          ],
          [
           9780241185469,
           "My First ABC"
          ],
          [
           9780241182734,
           "Spelling, Punctuation & Grammar Made Easy, Ages 10-11 (Key Stage 2): Supports the National Curriculum, English Exercise Book (Made Easy Workbooks)"
          ],
          [
           9780241411117,
           "Pop-Up Peekaboo! Baby Animals"
          ],
          [
           9780241491621,
           "Dinosaurs and Other Prehistoric Life (DK Children's Anthologies)"
          ],
          [
           9781728291437,
           "Our Fault (Culpable)"
          ],
          [
           9780241664971,
           "DK Top 10 Sicily (Pocket Travel Guide)"
          ],
          [
           9781728277691,
           "A Touch of Chaos: A Dark and Enthralling Reimagining of the Hades and Persephone Myth: 7 (Hades x Persephone Saga, 7)"
          ],
          [
           9780241697115,
           "The Fermentation Kitchen: Recipes and Techniques for Kimchi, Kombucha, Koji and More"
          ],
          [
           9780241530498,
           "Mrs Wordsmith Phonics Blah Blah Blah Card Game, Ages 4-7 (Early Years and Key Stage 1): Accelerate Every Child’s Reading"
          ],
          [
           9781405393508,
           "RSPB What's that Bird?: The Simplest ID Guide Ever (DK What's That?)"
          ],
          [
           9781465497673,
           "The Mediterranean Diet Cookbook for Beginners: Meal Plans, Expert Guidance, and 100 Recipes to Get You Started"
          ],
          [
           9780241664957,
           "DK Top 10 Dubrovnik and the Dalmatian Coast (Pocket Travel Guide)"
          ],
          [
           9780241627266,
           "Travel Journal: Memories from My Travels"
          ],
          [
           9780241664322,
           "DK Sicily (Travel Guide)"
          ],
          [
           9780241625002,
           "DK Delhi, Agra and Jaipur (Travel Guide)"
          ],
          [
           9780241612194,
           "DK Top 10 Tokyo: DK Eyewitness Travel Guide 2023 (Pocket Travel Guide)"
          ],
          [
           9780241615324,
           "DK Top 10 Cape Town and the Winelands (Pocket Travel Guide)"
          ],
          [
           9781464226618,
           "How Does It Feel? (Infatuated Fae)"
          ],
          [
           9781492667834,
           "Why a Daughter Needs a Dad (Always in My Heart)"
          ],
          [
           9780241361948,
           "The Knitting Book: Over 250 Step-by-Step Techniques"
          ],
          [
           9780241674475,
           "Dungeons & Dragons Pocket Expert"
          ],
          [
           9781464228575,
           "Ward D: A Taut Psychological Thriller from the Author of The Housemaid is Watching"
          ],
          [
           9780241531624,
           "Star Wars Character Encyclopedia Updated And Expanded Edition"
          ],
          [
           9780241655047,
           "Star Wars The Rise and Fall of the Galactic Empire"
          ],
          [
           9781409349389,
           "Spanish Made Easy, Ages 7-11 (Key Stage 2): Supports the National Curriculum, Confidence in Reading, Writing & Speaking (Made Easy Workbooks)"
          ],
          [
           9780241467053,
           "Ultimate Sticker Book Dinosaurs"
          ],
          [
           9781405362887,
           "Pop-Up Peekaboo! Farm"
          ],
          [
           9780241283769,
           "Flags Around the World Ultimate Sticker Book"
          ],
          [
           9780241461815,
           "The Big Book of Planes: Discover the Biggest, Fastest and Best Flying Machines (DK Big Books)"
          ],
          [
           9780241673164,
           "DK Italy (Travel Guide)"
          ],
          [
           9781464224010,
           "Bum or Face? Volume 2: Revenge of the Bums"
          ],
          [
           9780241506462,
           "The Science of Nutrition: Debunk the Diet Myths and Learn How to Eat Well for Health and Happiness"
          ],
          [
           9780241286852,
           "Knowledge Encyclopedia Human Body! (Knowledge Encyclopedias)"
          ],
          [
           9780241712412,
           "LEGO Star Wars Character Encyclopedia Updated Edition: The Ultimate Guide to the Best 200 Minifigures from the LEGO Star Wars Galaxy; Comes with Exclusive Emperor Palpatine Minifigure"
          ],
          [
           9780241666722,
           "The Beginner's Photography Guide: The Ultimate Step-by-Step Manual for Getting the Most from Your Camera and Phone"
          ],
          [
           9780241423950,
           "The Book of Mythical Beasts and Magical Creatures: Meet your favourite monsters, fairies, heroes, and tricksters from all around the world"
          ],
          [
           9780241458990,
           "Baby's First Ramadan (Baby's First Holidays)"
          ],
          [
           9780744063509,
           "Joshua Weissman: Texture Over Taste"
          ],
          [
           9781464230592,
           "Hooked (Collector's Edition): A Dark Contemporary Romance and Fractured Fairy Tale: 1 (Never After)"
          ],
          [
           9780241435847,
           "The Crochet Book: Over 130 techniques and stitches"
          ],
          [
           9780241663080,
           "DK Top 10 Andalucía and the Costa del Sol (Pocket Travel Guide)"
          ],
          [
           9780241641378,
           "Marvel Encyclopedia New Edition"
          ],
          [
           9780241187593,
           "Victorians (DK Eyewitness)"
          ],
          [
           9780241185131,
           "101 Great Science Experiments"
          ],
          [
           9781409344896,
           "Maths Made Easy: Times Tables, Ages 5-7 (Key Stage 1): Supports the National Curriculum, Multiplication Exercise Book (Made Easy Workbooks)"
          ],
          [
           9780241282946,
           "Horses and Ponies Ultimate Sticker Book"
          ],
          [
           9780241285145,
           "DKfindout! World War II"
          ],
          [
           9780241397459,
           "Greek Myths: Meet the heroes, gods, and monsters of ancient Greece (Ancient Myths)"
          ],
          [
           9780241656990,
           "The Science of Beauty: Debunk the Myths and Discover What Goes into Your Beauty Routine"
          ],
          [
           9780241661628,
           "The Star Wars Encyclopedia: The Comprehensive Guide to the Star Wars Galaxy"
          ],
          [
           9780241282779,
           "DKfindout! Ancient Egypt"
          ],
          [
           9780241366493,
           "My Very First Bible"
          ],
          [
           9780241533499,
           "The Bedtime Book of Animals: Take a Peek at more than 50 of your Favourite Animals (The Bedtime Books)"
          ],
          [
           9781492670025,
           "The Complete Cookbook for Young Chefs: 100+ Recipes that You'll Love to Cook and Eat"
          ],
          [
           9780997895810,
           "Good Night Stories for Rebel Girls: 100 Tales of Extraordinary Women"
          ],
          [
           9780241381854,
           "Complete Pottery Techniques: Design, Form, Throw, Decorate and More, with Workshops from Professional Makers"
          ],
          [
           9780241662274,
           "Pop-Up Peekaboo! Disney Princess"
          ],
          [
           9780241680384,
           "English for Everyone Practice Book Level 2 Beginner: A Complete Self-Study Programme (DK English for Everyone)"
          ],
          [
           9780241601310,
           "15 Minute French: Learn in Just 12 Weeks (DK 15-Minute Language Learning)"
          ],
          [
           9781409348504,
           "Our World in Pictures: Cars, Trains, Ships and Planes: A Visual Encyclopedia to Every Vehicle"
          ],
          [
           9780241411544,
           "A Street Through Time: A 12,000 Year Journey Along the Same Street"
          ],
          [
           9780744076776,
           "Knife Drop: Creative Recipes Anyone Can Cook"
          ],
          [
           9780241615331,
           "DK Top 10 Gran Canaria (Pocket Travel Guide)"
          ],
          [
           9780241676134,
           "DK Top 10 Iceland (Pocket Travel Guide)"
          ],
          [
           9780241663684,
           "DK Top 10 Valencia (Pocket Travel Guide)"
          ],
          [
           9781405363051,
           "RHS Gardening Month by Month: What to Do When in the Garden"
          ],
          [
           9780241471029,
           "New Guide to Medicine and Drugs: The Complete Home Reference to Over 3,000 Medicines"
          ],
          [
           9780241634905,
           "Chris Packham's Birdwatching Guide: From Beginner to Birder"
          ],
          [
           9781405368131,
           "First Facts Bugs"
          ],
          [
           9780241655467,
           "My Book of Horses and Ponies: A Fact-Filled Guide to Your Equine Friends"
          ],
          [
           9780241616024,
           "Europe by Train: 50 rail trips - unlimited adventures"
          ],
          [
           9781728291475,
           "Still Beating"
          ],
          [
           9780241691656,
           "Read Yourself Happy: How to Use Books to Ease Your Anxiety"
          ],
          [
           9780241683521,
           "Yoga Fix: Functional Movement for a Pain-Free Body"
          ],
          [
           9780241593257,
           "Embroidery Stitches Step-by-Step: The Ideal Guide to Stitching, Whatever Your Level of Expertise"
          ],
          [
           9780241716403,
           "The Complete Veggie Air Fryer Cookbook: 75 Vegetarian and Vegan-Friendly Recipes, Perfect for Your Air Fryer"
          ],
          [
           9781405307406,
           "Star Wars Classic Ultimate Sticker Book"
          ],
          [
           9780241620113,
           "Our World in Pictures Human Body Flash Cards (DK Our World in Pictures)"
          ],
          [
           9780241363379,
           "Knowledge Encyclopedia History!: The Past as You've Never Seen it Before (Knowledge Encyclopedias)"
          ],
          [
           9780241395769,
           "My First Yoga: Fun and Simple Yoga Poses for Babies and Toddlers"
          ],
          [
           9781409356370,
           "Pop-Up Peekaboo! Bedtime"
          ],
          [
           9780241615201,
           "DK Croatia (Travel Guide)"
          ],
          [
           9780241618721,
           "DK Top 10 Florence and Tuscany (Pocket Travel Guide)"
          ],
          [
           9780241394519,
           "Science of Running: Analyse your Technique, Prevent Injury, Revolutionize your Training"
          ],
          [
           9780241206997,
           "World War II Visual Encyclopedia"
          ],
          [
           9780241343371,
           "Our World in Pictures: Countries, Cultures, People & Places: A Visual Encyclopedia of the World"
          ],
          [
           9780241250235,
           "DKfindout! Ancient Rome"
          ],
          [
           9780241287934,
           "My First Words"
          ],
          [
           9780241671924,
           "DK Egypt (Travel Guide)"
          ],
          [
           9780241273647,
           "Edinburgh Pocket Map and Guide: DK Eyewitness Pocket Map and Guide 2017 (Pocket Travel Guide)"
          ],
          [
           9781728291420,
           "Your Fault (Culpable)"
          ],
          [
           9781464226632,
           "Where Did You Go?: The Thrilling Enemies to Lovers Romance Set in a Dark Fantasy World (Infatuated Fae)"
          ],
          [
           9780241668733,
           "The Fearless Birth Book (The Naked Doula): Find Your Power, Influence Your Birth"
          ],
          [
           9780241365601,
           "Baby's First Year Journal: A Keepsake of Milestone Moments"
          ],
          [
           9780241636299,
           "The Slow Cook Book: 200 Oven & Slow Cooker Recipes"
          ],
          [
           9780241621424,
           "LEGO Marvel Visual Dictionary: With Exclusive LEGO Iron Man Minifigure"
          ],
          [
           9780241289389,
           "Eyewitness Travel Phrase Book Italian: Essential Reference for Every Traveller (Eyewitness Travel Guides Phrase Books)"
          ],
          [
           9780241414538,
           "RSPB Birds of Britain and Europe: The Definitive Photographic Field Guide"
          ],
          [
           9780241466841,
           "10 Minutes A Day Maths, Ages 3-5 (Preschool): Supports the National Curriculum, Helps Develop Strong Maths Skills"
          ],
          [
           9780241481806,
           "Real Superheroes (Understanding the Pandemic for Kids)"
          ],
          [
           9780241488034,
           "Lost in the Clouds: A gentle story to help children understand death and grief (Difficult Conversations)"
          ],
          [
           9780241382646,
           "Bake It: More Than 150 Recipes for Kids from Simple Cookies to Creative Cakes!"
          ],
          [
           9780241668191,
           "DK Northern Spain (Travel Guide)"
          ],
          [
           9780241408575,
           "DK Eyewitness Top 10 Milan and the Lakes (Pocket Travel Guide)"
          ],
          [
           9780241669648,
           "DK Top 10 Crete (Pocket Travel Guide)"
          ],
          [
           9781492629887,
           "1-2-3 Magic: 3-Step Discipline for Calm, Effective, and Happy Parenting"
          ],
          [
           9780241667859,
           "LEGO Timelines: A Visual Journey Through Ten Decades of LEGO History"
          ],
          [
           9780241629031,
           "Art: The Definitive Visual Guide (DK Definitive Cultural Histories)"
          ],
          [
           9780241658925,
           "Countries of the World: Facts at Your Fingertips (Pocket Eyewitness)"
          ],
          [
           9780241241370,
           "Money Maths Made Easy: Beginner, Ages 7-8 (Key Stage 2): Supports the National Curriculum, Maths Exercise Book (Made Easy Workbooks)"
          ],
          [
           9780241546321,
           "An Anthology of Aquatic Life (DK Children's Anthologies)"
          ],
          [
           9781405329149,
           "Baby Touch and Feel: First Words"
          ],
          [
           9780241670798,
           "DK Budapest (Travel Guide)"
          ],
          [
           9780241397787,
           "DK Eyewitness Rome Mini Map and Guide (Pocket Travel Guide)"
          ],
          [
           9780241412404,
           "Sew Step by Step: How to use your sewing machine to make, mend, and customize"
          ],
          [
           9780241424308,
           "The Complete Gardener: A Practical, Imaginative Guide to Every Aspect of Gardening"
          ],
          [
           9780241317594,
           "RHS Practical House Plant Book: Choose The Best, Display Creatively, Nurture and Care, 175 Plant Profiles"
          ],
          [
           9780241647325,
           "Disney Pixar Inside Out 2 Ultimate Sticker Book"
          ],
          [
           9780241289402,
           "Eyewitness Travel Phrase Book Spanish: Essential Reference for Every Traveller (Eyewitness Travel Guides Phrase Books)"
          ],
          [
           9781409366553,
           "What's that Tree?: The Simplest ID Guide Ever"
          ],
          [
           9780241446355,
           "The Aircraft Book: The Definitive Visual History"
          ],
          [
           9780241412886,
           "Knowledge Encyclopedia Ocean!: Our Watery World As You've Never Seen It Before (Knowledge Encyclopedias)"
          ],
          [
           9780241502686,
           "This Is How We Keep Healthy: For Little Kids Going To Big School (First Skills for Preschool)"
          ],
          [
           9780241533369,
           "My Book of Fossils: A fact-filled guide to prehistoric life"
          ],
          [
           9780241622339,
           "DK Top 10 Dubai and Abu Dhabi (Pocket Travel Guide)"
          ],
          [
           9780241670828,
           "DK Top 10 Brussels, Bruges, Antwerp and Ghent: DK Eyewitness Travel Guide 2024 (Pocket Travel Guide)"
          ],
          [
           9780241615843,
           "DK Top 10 Dublin (Pocket Travel Guide)"
          ],
          [
           9781464218446,
           "My Life with the Walter Boys: Now a Netflix Series!"
          ],
          [
           9781641520928,
           "Anger Management Workbook for Kids: 50 Fun Activities to Help Children Stay Calm and Make Better Choices When They Feel Mad (Health and Wellness Workbooks for Kids)"
          ],
          [
           9780241631652,
           "ADHD Explained: Your Toolkit to Understanding and Thriving"
          ],
          [
           9780241534694,
           "Family Comforts: Simple, Heartwarming Food to Enjoy Together - From the Bestselling Author of What Mummy Makes"
          ],
          [
           9780241655481,
           "Weaning: New Edition - What to Feed, When to Feed, and How to Feed Your Baby"
          ],
          [
           9780241634950,
           "I Can Do That!: 1000 Ways to Become Independent"
          ],
          [
           9780241446867,
           "Ancient Egypt: The Definitive Visual History"
          ],
          [
           9780241595749,
           "Eyewitness Encyclopedia of Everything: The Ultimate Guide to the World Around You (DK eyewitness)"
          ],
          [
           9780241358436,
           "DKfindout! Castles"
          ],
          [
           9780241366929,
           "At the Airport Activity Book: Includes more than 300 Stickers (Travel Activity Books)"
          ],
          [
           9780241632314,
           "Weird and Wonderful Nature: Tales of More Than 100 Unique Animals, Plants, and Phenomena (DK Treasures)"
          ],
          [
           9780744095098,
           "Life on Svalbard: Finding Home on a Remote Island Near the North Pole"
          ],
          [
           9780241677056,
           "DK Morocco (Travel Guide)"
          ],
          [
           9780241669662,
           "DK Top 10 Las Vegas (Pocket Travel Guide)"
          ],
          [
           9780241675083,
           "DK New Zealand (Travel Guide)"
          ],
          [
           9780241672198,
           "DK Prague (Travel Guide)"
          ],
          [
           9780241670804,
           "DK Norway (Travel Guide)"
          ],
          [
           9780241664841,
           "DK Naples and the Amalfi Coast (Travel Guide)"
          ],
          [
           9781464227196,
           "Mine for a Moment: A Billionaire Romance with the Brother's Best Friend from the Author of the Windsors Series"
          ],
          [
           9781953424457,
           "Growing Up Powerful: A Guide to Keeping Confident When Your Body Is Changing, Your Mind Is Racing, and the World Is . . . Complicated"
          ],
          [
           9781492656227,
           "Quantum Physics for Babies: 1 (Baby University)"
          ],
          [
           9781728291413,
           "My Fault: Now an Amazon Prime Original Movie (Culpable)"
          ],
          [
           9780241459737,
           "The Dressmaking Book: Over 80 Techniques"
          ],
          [
           9780241629406,
           "LEGO Ninjago Secret World of the Ninja New Edition: With Exclusive Lloyd LEGO Minifigure"
          ],
          [
           9780241406663,
           "LEGO Star Wars Character Encyclopedia New Edition: with exclusive Darth Maul Minifigure"
          ],
          [
           9780241537411,
           "Italian in 3 Months with Free Audio App: Your Essential Guide to Understanding and Speaking Italian (Hugo in 3 Months)"
          ],
          [
           9780241412701,
           "RSPB Complete Birds of Britain and Europe"
          ],
          [
           9780241183854,
           "10 Minutes A Day Vocabulary, Ages 7-11 (Key Stage 2): Supports the National Curriculum, Helps Develop Strong English Skills"
          ],
          [
           9780241237595,
           "My First Body"
          ],
          [
           9780241680827,
           "Pocket Pop-Up Peekaboo! Bedtime"
          ],
          [
           9781409334538,
           "My First Encyclopedia: A Wealth of Knowledge at your Fingertips (My First Reference)"
          ],
          [
           9781409324638,
           "Pop-Up Peekaboo! Colours"
          ],
          [
           9780241485781,
           "My Book of Stars and Planets: A fact-filled guide to space"
          ],
          [
           9780241668566,
           "DK Top 10 Vancouver and Vancouver Island (Pocket Travel Guide)"
          ],
          [
           9780241679036,
           "DK Top 10 Bangkok (Pocket Travel Guide)"
          ],
          [
           9781728278346,
           "Hooked: The Fractured Fairy Tale and TikTok Sensation (Never After)"
          ],
          [
           9781953424372,
           "Good Night Stories for Rebel Girls: Baby's First Book of Extraordinary Women"
          ],
          [
           9781623159917,
           "Crystals for Beginners: The Guide to Get Started with the Healing Power of Crystals"
          ],
          [
           9781464227134,
           "The Wrong Bride: The Irresistible Arranged Marriage Romance (The Windsors)"
          ],
          [
           9780241680360,
           "English for Everyone Course Book Level 2 Beginner: A Complete Self-Study Programme (DK English for Everyone)"
          ],
          [
           9780241242360,
           "English for Everyone English Grammar Guide: A comprehensive visual reference (DK English for Everyone)"
          ],
          [
           9780241601358,
           "15 Minute Italian: Learn in Just 12 Weeks (DK 15-Minute Language Learning)"
          ],
          [
           9780241638668,
           "The Philosophy Book: Big Ideas Simply Explained (DK Big Ideas)"
          ],
          [
           9780241413029,
           "Periodic Table: Facts at Your Fingertips (Pocket Eyewitness)"
          ],
          [
           9781409344926,
           "Science Made Easy, Ages 8-9 (Key Stage 2): Supports the National Curriculum, Science Exercise Book (Made Easy Workbooks)"
          ],
          [
           9780241555316,
           "My First Animals: Let's Squeak and Squawk! (My First Tabbed Board Book)"
          ],
          [
           9781409349396,
           "French Made Easy, Ages 7-11 (Key Stage 2): Supports the National Curriculum, Confidence in Reading, Writing & Speaking (Made Easy Workbooks)"
          ],
          [
           9780241664285,
           "DK Greece, Athens and the Mainland: Inspire / Plan / Discover / Experience (Travel Guide)"
          ],
          [
           9780241664520,
           "DK Switzerland: Inspire / Plan / Discover / Experience (Travel Guide)"
          ],
          [
           9781492674313,
           "P Is for Pterodactyl: The Worst Alphabet Book Ever"
          ],
          [
           9781728278384,
           "Priest: A Steamy and Taboo BookTok Sensation"
          ],
          [
           9780241652398,
           "Science of Yoga: Understand the Anatomy and Physiology to Perfect Your Practice"
          ],
          [
           9780241479285,
           "Create Space: Declutter Your Home to Clear Your Mind"
          ],
          [
           9780241634165,
           "RHS House Plant: Practical Advice for All House Plants, Cacti and Succulents"
          ],
          [
           9780241310113,
           "Star Wars Encyclopedia of Starfighters and Other Vehicles"
          ],
          [
           9780241243527,
           "English for Everyone Practice Book Level 3 Intermediate: A Complete Self-Study Programme (DK English for Everyone)"
          ],
          [
           9780241289365,
           "Eyewitness Travel Phrase Book French: Essential Reference for Every Traveller (Eyewitness Travel Guides Phrase Books)"
          ],
          [
           9780241412749,
           "Universe: The Definitive Visual Guide"
          ],
          [
           9780241513279,
           "Easy Peasy Chinese: Mandarin Chinese for Beginners"
          ],
          [
           9780241343708,
           "Pocket Eyewitness Cars: Facts at Your Fingertips"
          ],
          [
           9780241182338,
           "10 Minutes A Day Decimals, Ages 7-11 (Key Stage 2): Supports the National Curriculum, Helps Develop Strong Maths Skills"
          ],
          [
           9781409349457,
           "Spelling Made Easy, Ages 7-8 (Key Stage 2): Supports the National Curriculum, English Exercise Book (Made Easy Workbooks)"
          ],
          [
           9780241323021,
           "DKfindout! Vikings"
          ],
          [
           9780241350973,
           "Pinocchio (Storytime Lap Books)"
          ],
          [
           9780751351217,
           "Children's Step-by-Step Cookbook: A Complete Cookery Course for Children"
          ],
          [
           9781409344742,
           "Maths Made Easy: Advanced, Ages 10-11 (Key Stage 2): Supports the National Curriculum, Maths Exercise Book (Made Easy Workbooks)"
          ],
          [
           9780241707654,
           "DK Lisbon (Travel Guide)"
          ],
          [
           9780241624906,
           "DK Top 10 Miami and the Keys (Pocket Travel Guide)"
          ],
          [
           9780241679005,
           "DK Caribbean (Travel Guide)"
          ],
          [
           9780241624470,
           "DK Thailand (Travel Guide)"
          ],
          [
           9780241612712,
           "DK Berlin (Travel Guide)"
          ],
          [
           9780241439449,
           "How to Attract Birds to Your Garden: Foods they like, plants they love, shelter they need"
          ],
          [
           9780241635575,
           "The Month-by-Month Baby Book: In-depth, Monthly Advice on Your Baby’s Growth, Care, and Development in the First Year"
          ],
          [
           9780241668757,
           "Hello Tiny World: An Enchanting Journey into the World of Creating Terrariums"
          ],
          [
           9780241653081,
           "Woodworking: The Complete Step-by-Step Manual"
          ],
          [
           9780241675014,
           "Dungeons & Dragons How Not To Get Eaten by Owlbears"
          ],
          [
           9780241624111,
           "Barbie Dress Up Ultimate Sticker Collection"
          ],
          [
           9780241537695,
           "Thomas & Friends Meet the Engines: An Encyclopedia of the Thomas & Friends Characters"
          ],
          [
           9780241226063,
           "English for Everyone Course Book Level 3 Intermediate: A Complete Self-Study Programme (DK English for Everyone)"
          ],
          [
           9780241476024,
           "The Complete Fishing Manual: Tackle * Baits & Lures * Species * Techniques * Where to Fish"
          ],
          [
           9780241569566,
           "Ancient Rome: The Definitive Visual History (DK Classic History)"
          ],
          [
           9780241317792,
           "Computer Coding Python Games for Kids"
          ],
          [
           9780241343609,
           "Pocket Eyewitness Dogs: Facts at Your Fingertips"
          ],
          [
           9781409344780,
           "Maths Made Easy: Beginner, Ages 6-7 (Key Stage 1): Supports the National Curriculum, Maths Exercise Book (Made Easy Workbooks)"
          ],
          [
           9781405363389,
           "How To...Football: A Step-by-Step Guide to Mastering Your Skills"
          ],
          [
           9781409341413,
           "10 Minutes A Day Phonics, Ages 3-5 (Preschool): Supports the National Curriculum, Helps Develop Strong English Skills (DK 10 Minutes a Day)"
          ],
          [
           9780241672228,
           "DK Vienna (Travel Guide)"
          ],
          [
           9780241625040,
           "DK Top 10 Goa (Pocket Travel Guide)"
          ],
          [
           9780241271070,
           "DK Eyewitness Travel Guide Canary Islands: Eyewitness Travel Guide 2017"
          ],
          [
           9780241621264,
           "DK Top 10 San Francisco (Pocket Travel Guide)"
          ],
          [
           9780241621288,
           "DK Top 10 Washington DC (Pocket Travel Guide)"
          ],
          [
           9781728268361,
           "I Love You, My Little Dinosaur"
          ],
          [
           9781464230080,
           "My Life with the Walter Boys (Netflix Series Tie-In Edition)"
          ],
          [
           9781464225888,
           "Monarch: A Dark Gothic Friends to Lovers Romance (Grimstone)"
          ],
          [
           9780241343814,
           "Graphic Design For Everyone: Understand the Building Blocks so You can Do It Yourself"
          ],
          [
           9780241229781,
           "The Science of Cooking: Every Question Answered to Perfect your Cooking"
          ],
          [
           9780241656495,
           "RHS Grow Food Anywhere: How to Plant the Right Crops in the Right Place and Help Your Garden Thrive"
          ],
          [
           9780241558232,
           "Mrs Wordsmith Storyteller’s Illustrated Dictionary Ages 7–11 (Key Stage 2): + 3 Months of Word Tag Video Game"
          ],
          [
           9780241672310,
           "You Vs the World: The Bear Grylls Guide to Never Giving Up"
          ],
          [
           9780241645543,
           "Machines A Visual History: 100 Machines and the Remarkable Stories Behind Each Invention"
          ],
          [
           9780241537428,
           "Spanish in 3 Months with Free Audio App: Your Essential Guide to Understanding and Speaking Spanish (Hugo in 3 Months)"
          ],
          [
           9780751369885,
           "Portuguese Phrase Book (Eyewitness Travel Guides Phrase Books)"
          ],
          [
           9780241664308,
           "Cosmos: Explore the Wonders of the Universe (DK Secret World Encyclopedias)"
          ],
          [
           9780241226247,
           "Snake: The Essential Visual Guide"
          ],
          [
           9780241515501,
           "The Science of Plants: Inside their Secret World (DK Secret World Encyclopedias)"
          ],
          [
           9780241600894,
           "The Dog Encyclopedia: The Definitive Visual Guide (DK Pet Encyclopedias)"
          ],
          [
           9780241569764,
           "The Way Things Work: From Levers to Lasers, Windmills to Wi-Fi, A Visual Guide to the World of Machines (DK David Macauley How Things Work)"
          ],
          [
           9780241648735,
           "What's Where on Earth? Atlas: The World as You've Never Seen It Before! (DK Where on Earth? Atlases)"
          ],
          [
           9780241185988,
           "How to be Good at Maths: The Simplest-Ever Visual Guide"
          ],
          [
           9780241446553,
           "Knowledge Encyclopedia Earth!: Our Exciting World As You've Never Seen It Before (DK Knowledge Encyclopedias)"
          ],
          [
           9780241225172,
           "10 Minutes A Day French, Ages 7-11 (Key Stage 2): Supports the National Curriculum, Confidence in Reading, Writing & Speaking"
          ],
          [
           9780241183878,
           "10 Minutes A Day Problem Solving, Ages 9-11 (Key Stage 2): Supports the National Curriculum, Helps Develop Strong Maths Skills"
          ],
          [
           9780241317068,
           "Pop-Up Peekaboo! First Words"
          ],
          [
           9781405305884,
           "Children's Cookbook: Delicious Step-by-Step Recipes"
          ],
          [
           9780241709382,
           "DK Amsterdam (Travel Guide)"
          ],
          [
           9780241256954,
           "Berlin Pocket Map and Guide: Eyewitness Travel Guide 2017 (Pocket Travel Guide)"
          ],
          [
           9780241672976,
           "DK France (Travel Guide)"
          ],
          [
           9780241678589,
           "DK Top 10 Hong Kong (Pocket Travel Guide)"
          ],
          [
           9780241628287,
           "Where to Go When Great Britain and Ireland"
          ],
          [
           9780982993804,
           "Your Fantastic Elastic Brain: Stretch It, Shape It"
          ],
          [
           9781728282497,
           "My Recordable Storytime: I Love You So"
          ],
          [
           9781728210292,
           "The Summer of Broken Rules: The Tiktok Sensation"
          ],
          [
           9781464225871,
           "Grimstone: A Dark and Spicy Gothic Murder Mystery (Grimstone 1)"
          ],
          [
           9781728286815,
           "Madame (Salacious Players' Club)"
          ],
          [
           9781728290829,
           "Crossed: The Fractured Fairy Tale and TikTok Sensation (Never After)"
          ],
          [
           9781464233852,
           "Kingmakers Year One: A Spicy Friends to Lovers Dark College Romance (Kingmakers Book 1)"
          ],
          [
           9780241662021,
           "For the Love of Plants: Over 150 Plants to Bring Joy to Your Garden and Your Life"
          ],
          [
           9780241596265,
           "The LGBTQ + History Book: Big Ideas Simply Explained (DK Big Ideas)"
          ],
          [
           9781409347989,
           "Total Tractor!"
          ],
          [
           9780241666661,
           "History of Britain and Ireland: The Definitive Visual Guide (DK Definitive Visual Histories)"
          ],
          [
           9780241631690,
           "World War I: DK Eyewitness"
          ],
          [
           9780241196885,
           "Complete Children's Cookbook: Delicious step-by-step recipes for young chefs"
          ],
          [
           9780241598313,
           "My Book of Cats and Kittens: A Fact-Filled Guide to Your Feline Friends"
          ],
          [
           9781409344933,
           "Science Made Easy, Ages 9-10 (Key Stage 2): Supports the National Curriculum, Science Exercise Book (Made Easy Workbooks)"
          ],
          [
           9781405352550,
           "Boys' Potty Time"
          ],
          [
           9781409344902,
           "Maths Made Easy: Times Tables, Ages 7-11 (Key Stage 2): Supports the National Curriculum, Maths Exercise Book (Made Easy Workbooks)"
          ],
          [
           9780241382639,
           "RHS Let's Get Gardening"
          ],
          [
           9780241585375,
           "An Anthology of Our Extraordinary Earth (DK Children's Anthologies)"
          ],
          [
           9780241405475,
           "Total Tractor Sticker Encyclopedia (Sticker Encyclopedias)"
          ],
          [
           9781409344766,
           "Maths Made Easy: Beginner, Ages 5-6 (Key Stage 1): Supports the National Curriculum, Maths Exercise Book (Made Easy Workbooks)"
          ],
          [
           9780593847848,
           "Milkshake Monday: 80+ Frosty Treats to Make Any Day Special: A Cookbook"
          ],
          [
           9780241615317,
           "DK Slovenia (Travel Guide)"
          ],
          [
           9780241707661,
           "DK Top 10 Azores (Pocket Travel Guide)"
          ],
          [
           9781641522960,
           "Social Skills Activities for Kids: 50 Fun Exercises for Making Friends, Talking and Listening, and Understanding Social Rules"
          ],
          [
           9781464227660,
           "Call It What You Want: A College Romance with a Nostalgic and Bittersweet Edge"
          ],
          [
           9781492671169,
           "Organic Chemistry for Babies: 0 (Baby University)"
          ],
          [
           9781464249143,
           "Fall into Temptation: A Small Town Friends to Lovers Romcom (Blue Moon)"
          ],
          [
           9781953424341,
           "Good Night Stories for Rebel Girls: 100 Inspiring Young Changemakers"
          ],
          [
           9781728261706,
           "A Touch of Darkness: A Dark and Enthralling Reimagining of the Hades and Persephone Myth: 1 (Hades x Persephone Saga, 1)"
          ],
          [
           9781492671138,
           "Astrophysics for Babies: 0 (Baby University)"
          ],
          [
           9780241458518,
           "My House Plant Changed My Life: Green Wellbeing for the Great Indoors"
          ],
          [
           9780241572351,
           "Not Another Jungle: Comprehensive Care for Extraordinary Houseplants"
          ],
          [
           9780241401279,
           "LEGO NINJAGO Choose Your Ninja Mission: With NINJAGO Jay minifigure"
          ],
          [
           9780241566121,
           "15 Minute Spanish: Learn in Just 12 Weeks (DK 15-Minute Language Learning)"
          ],
          [
           9780751320473,
           "Polish Phrase Book (DK Eyewitness Phrase Books)"
          ],
          [
           9780241536353,
           "Our World in Pictures The Periodic Table Flash Cards (DK Our World in Pictures)"
          ],
          [
           9780241585078,
           "The Frozen Worlds: The Astonishing Nature of the Arctic and Antarctic (The Magic and Mystery of the Natural World)"
          ],
          [
           9781405335393,
           "Baby Touch and Feel Colours and Shapes"
          ],
          [
           9780241598320,
           "My Book of Dogs and Puppies: A Fact-Filled Guide to Your Canine Friends"
          ],
          [
           9780241674963,
           "An Anthology of Exquisite Birds (DK Children's Anthologies)"
          ],
          [
           9780241709504,
           "DK Top 10 Munich (Pocket Travel Guide)"
          ],
          [
           9780241710319,
           "DK Top 10 Toronto (Pocket Travel Guide)"
          ],
          [
           9780241675601,
           "DK Scotland (Travel Guide)"
          ],
          [
           9780241662892,
           "DK Barcelona and Catalonia: Inspire Plan Discover Experience (Travel Guide)"
          ],
          [
           9781464226625,
           "What Did You Do? (Infatuated Fae)"
          ],
          [
           9781728292625,
           "Bespelled (The Bewitched Series)"
          ],
          [
           9780241472927,
           "RHS How to Create a Wildlife Pond: Plan, Dig, and Enjoy a Natural Pond in Your Own Back Garden"
          ],
          [
           9780241302149,
           "The Science of Spice: Understand Flavour Connections and Revolutionize your Cooking"
          ],
          [
           9780241662106,
           "RHS Propagating Plants: How to Grow Plants for Free"
          ],
          [
           9781409334811,
           "Step-by-Step Cake Decorating: 100s of Ideas, Techniques, and Projects for Creative Cake Designers"
          ],
          [
           9780241014721,
           "101 Essential Tips Crochet: Breaks Down the Subject into 101 Easy-to-Grasp Tips"
          ],
          [
           9780241440612,
           "Star Wars Complete Vehicles New Edition"
          ],
          [
           9780241401200,
           "LEGO Cute Ideas: With Exclusive Owlicorn Mini Model"
          ],
          [
           9780241316573,
           "LEGO Animal Atlas: with four exclusive animal models"
          ],
          [
           9780241515624,
           "Help Your Kids with Geography, Ages 10-16 (Key Stages 3 & 4): A Unique Step-By-Step Visual Guide"
          ],
          [
           9780241412732,
           "The Complete Dog Breed Book: Choose the Perfect Dog for You"
          ],
          [
           9781405362771,
           "Complete Horse Care Manual (DK Practical Pet Guides)"
          ],
          [
           9780241437537,
           "Musicals: The Definitive Illustrated Story"
          ],
          [
           9780241641521,
           "Dinosaurs and Prehistoric Life: The Definitive Visual Guide to Prehistoric Animals (DK Definitive Visual Encyclopedias)"
          ],
          [
           9780241601433,
           "Spanish for Everyone Junior First Words Flash Cards"
          ],
          [
           9780241383988,
           "Ancient Egypt (DK Eyewitness)"
          ],
          [
           9780241598283,
           "Children's Illustrated Atlas: Revised and Updated Edition (Children's Illustrated Atlases)"
          ],
          [
           9781409344957,
           "Science Made Easy, Ages 7-8 (Key Stage 2): Supports the National Curriculum, Science Exercise Book (Made Easy Workbooks)"
          ],
          [
           9780241538739,
           "Egyptian Myths: Meet the Gods, Goddesses, and Pharaohs of Ancient Egypt (Ancient Myths)"
          ],
          [
           9780241598122,
           "Children's Quick & Easy Cookbook: Over 60 Simple Recipes"
          ],
          [
           9780241366943,
           "First History Encyclopedia: A First Reference Book for Children (DK First Reference)"
          ],
          [
           9780241412220,
           "My Book of Gymnastics (My Book of Sports)"
          ],
          [
           9780241282700,
           "DKfindout! Stone Age"
          ],
          [
           9780241675786,
           "DK Top 10 Boston (Pocket Travel Guide)"
          ],
          [
           9780241672990,
           "DK Ireland (Travel Guide)"
          ],
          [
           9780241624890,
           "DK Top 10 Rio de Janeiro (Pocket Travel Guide)"
          ],
          [
           9781402212215,
           "I Wasn't Ready to Say Goodbye: Surviving, Coping and Healing After the Sudden Death of a Loved One"
          ],
          [
           9781728295411,
           "There Are No Saints (Sinners Duet)"
          ],
          [
           9780241636213,
           "How Not to Kill Your Houseplant: Survival Tips for the Horticulturally Challenged"
          ],
          [
           9780241655535,
           "RHS What's That Weed?: Know Your Weeds and Learn to Live with Them"
          ],
          [
           9780241543832,
           "Star Wars Timelines: From the Time Before the High Republic to the Fall of the First Order"
          ],
          [
           9780241363508,
           "LEGO Amazing Vehicles: Includes Four Exclusive LEGO Mini Models"
          ],
          [
           9780241525685,
           "World War II The Definitive Visual Guide"
          ],
          [
           9780241332818,
           "Great Paintings: The World's Masterpieces Explored and Explained"
          ],
          [
           9780241632666,
           "The Horse Encyclopedia (DK Pet Encyclopedias)"
          ],
          [
           9780241539286,
           "Chris Packham's Nature Handbook: Explore the Wonders of the Natural World"
          ],
          [
           9780241343661,
           "Pocket Eyewitness Horses: Facts at Your Fingertips"
          ],
          [
           9781405314770,
           "The Ballet Book"
          ],
          [
           9780241552995,
           "Ancient Rome: DK Eyewitness"
          ],
          [
           9781409323495,
           "The Our World in Pictures The Animal Book: A Visual Encyclopedia of Life on Earth (DK Our World in Pictures)"
          ],
          [
           9780241555293,
           "My First Farm: Let's Get Working! (My First Tabbed Board Book)"
          ],
          [
           9780241247105,
           "My First Zoo Let's Meet the Animals! (My First Tabbed Board Book)"
          ],
          [
           9780241225370,
           "Handwriting Made Easy, Joined-up Writing, Ages 5-7 (Key Stage 1): Supports the National Curriculum, Handwriting Practice Book (Made Easy Workbooks)"
          ],
          [
           9780241343784,
           "Explorers: Amazing Tales of the World's Greatest Adventurers (DK Explorers)"
          ],
          [
           9780241283011,
           "Jungle Ultimate Sticker Book"
          ],
          [
           9780241224977,
           "Problem Solving Made Easy, Ages 9-11 (Key Stage 2): Supports the National Curriculum, Maths Exercise Book (Made Easy Workbooks)"
          ],
          [
           9780744078077,
           "HealthyGirl Kitchen: 100+ Plant-Based Recipes to Live Your Healthiest Life"
          ],
          [
           9780241472163,
           "DK Peru (Travel Guide)"
          ],
          [
           9780241664827,
           "DK Canada (Travel Guide)"
          ],
          [
           9780241682142,
           "DK Iceland (Travel Guide)"
          ],
          [
           9780241675533,
           "DK Portugal (Travel Guide)"
          ],
          [
           9780241612972,
           "DK Top 10 Stockholm (Pocket Travel Guide)"
          ],
          [
           9780241418475,
           "DK Malaysia and Singapore (Travel Guide)"
          ],
          [
           9780241624913,
           "DK Top 10 Cancún and the Yucatán (Pocket Travel Guide)"
          ],
          [
           9780241664803,
           "DK Top 10 Los Angeles (Pocket Travel Guide)"
          ],
          [
           9780241668221,
           "DK Top 10 Seattle (Pocket Travel Guide)"
          ],
          [
           9780241625019,
           "DK India (Travel Guide)"
          ],
          [
           9780241696507,
           "The Travel Bucket List"
          ],
          [
           9781402211867,
           "The Accounting Game: Basic Accounting Fresh from the Lemonade Stand"
          ],
          [
           9781728261690,
           "A Touch of Ruin: A Dark and Enthralling Reimagining of the Hades and Persephone Myth (Hades x Persephone Saga, 3)"
          ],
          [
           9781464237140,
           "The Wrong Heart: A Contemporary Second Chance Romance from the Author of Still Beating"
          ],
          [
           9781492656265,
           "General Relativity for Babies: 0 (Baby University)"
          ],
          [
           9780241333396,
           "Your Pregnancy Week by Week: What to Expect from Conception to Birth"
          ],
          [
           9780241729335,
           "Elly's Plate: Plant-based Comfort Food Made Easy"
          ],
          [
           9780241657980,
           "LEGO Fun Family Challenges: 50 Boredom-Busting Ideas to Build and Play"
          ],
          [
           9780751320510,
           "Greek Phrase Book: Eyewitness Travel Guide 2014 (DK Eyewitness Phrase Books)"
          ],
          [
           9781405341363,
           "Carol Vorderman's Times Tables Book, Ages 7-11 (Key Stage 2): Hints, Tips and Tricks for Learning Your Tables"
          ],
          [
           9780241358733,
           "Beginner's Step-by-Step Coding Course: Learn Computer Programming the Easy Way"
          ],
          [
           9780241225998,
           "How Money Works: The Facts Visually Explained (How Things Work)"
          ],
          [
           9780241600498,
           "The Complete Human Body: The Definitive Visual Guide (DK Human Body Guides)"
          ],
          [
           9780241412725,
           "The Physics Book: Big Ideas Simply Explained (DK Big Ideas)"
          ],
          [
           9780241301913,
           "The Mythology Book: Big Ideas Simply Explained"
          ],
          [
           9780241631348,
           "The Science of the Ocean: The Secrets of the Seas Revealed (DK Secret World Encyclopedias)"
          ],
          [
           9780241601426,
           "Italian for Everyone Junior First Words Flash Cards"
          ],
          [
           9780241659014,
           "Children's Illustrated World Atlas (DK Children's Illustrated Reference)"
          ],
          [
           9780241670521,
           "Baby's First Lunar New Year (Baby's First Holidays)"
          ],
          [
           9780241502679,
           "This Is How We Stay Safe: For Little Kids Going To Big School (First Skills for Preschool)"
          ],
          [
           9780241575000,
           "Stuck in the Middle: A Story About Separation (Difficult Conversations)"
          ],
          [
           9780241247273,
           "Things That Go Ultimate Sticker Book"
          ],
          [
           9780744093902,
           "Old Time Hawkey's Recipes from the Cedar Swamp: A Cookbook"
          ],
          [
           9780241461976,
           "DK Milan and the Lakes (Travel Guide)"
          ],
          [
           9780241568941,
           "DK Chile and Easter Island (Travel Guide)"
          ],
          [
           9780241612927,
           "DK Austria (Travel Guide)"
          ],
          [
           9780241677124,
           "DK Australia (Travel Guide)"
          ],
          [
           9780241397718,
           "DK Eyewitness Berlin Mini Map and Guide (Pocket Travel Guide)"
          ],
          [
           9780241472248,
           "DK Top 10 Corsica: Lists for Your Perfect Trip (Pocket Travel Guide)"
          ],
          [
           9781938093685,
           "Hello, Baby Animals: A Durable High-Contrast Black-and-White Board Book for Newborns and Babies (High-Contrast Books)"
          ],
          [
           9781939754172,
           "Ayurveda Beginner's Guide: Essential Ayurvedic Principles and Practices to Balance and Heal Naturally"
          ],
          [
           9781492656258,
           "Rocket Science for Babies: 1 (Baby University)"
          ],
          [
           9781464231025,
           "If He Had Been with Me: Collector's Edition"
          ],
          [
           9780241726181,
           "The Soup Book: 200 Ingredient-led Seasonal Soups"
          ],
          [
           9780241373477,
           "Neal's Yard Remedies Complete Massage: All the Techniques, Disciplines, and Skills you need to Massage for Wellness"
          ],
          [
           9781409357193,
           "Kids' Birthday Cakes: Step by Step"
          ],
          [
           9781405391726,
           "RHS Pruning Plant by Plant: How to Prune more than 200 Popular Plants"
          ],
          [
           9780241668764,
           "The Science of Plant-based Nutrition: How to Enhance the Power of Plants for Optimal Health: The Sunday Times Bestseller"
          ],
          [
           9781409382973,
           "RHS What Plant Where Encyclopedia"
          ],
          [
           9780241655504,
           "Mary Berry's Complete Cookbook: Over 650 Recipes"
          ],
          [
           9780241641255,
           "The Tailoring Book: Measuring. Cutting. Fitting. Altering. Finishing"
          ],
          [
           9780241624883,
           "Budget Family Food: Delicious Money-Saving Meals for All the Family"
          ],
          [
           9780241593448,
           "LEGO Harry Potter Character Encyclopedia New Edition: With Exclusive LEGO Harry Potter Minifigure"
          ],
          [
           9780241662793,
           "Draw with Art for Kids Hub Animals"
          ],
          [
           9780241623008,
           "Rebel Folklore: Empowering Tales of Spirits, Witches and Other Misfits from Anansi to Baba Yaga (DK)"
          ],
          [
           9780241662243,
           "LEGO Marvel Character Encyclopedia: With Exclusive Captain America Minifigure"
          ],
          [
           9780241379752,
           "English for Everyone English Grammar Guide Practice Book: English language grammar exercises"
          ],
          [
           9780241537404,
           "Portuguese in 3 Months with Free Audio App: Your Essential Guide to Understanding and Speaking Portuguese (Hugo in 3 Months)"
          ],
          [
           9780241299876,
           "English for Everyone English Vocabulary Builder"
          ],
          [
           9780241437452,
           "How to Start Your Own Business: And Make it Work (How Things Work)"
          ],
          [
           9780241607305,
           "Simply Nutrition: For Complete Beginners (DK Simply)"
          ],
          [
           9780241393345,
           "The Natural History Book: The Ultimate Visual Guide to Everything on Earth"
          ],
          [
           9780241346785,
           "The Science of Animals: Inside their Secret World"
          ],
          [
           9780241537817,
           "The Careers Handbook: The Ultimate Guide to Planning Your Future"
          ],
          [
           9780241383940,
           "Titanic (DK Eyewitness)"
          ],
          [
           9780241413012,
           "Cats: Facts at Your Fingertips (Pocket Eyewitness)"
          ],
          [
           9780241185520,
           "Ocean A Children's Encyclopedia (DK Children's Visual Encyclopedia)"
          ],
          [
           9780241224984,
           "Problem Solving Made Easy, Ages 7-9 (Key Stage 2): Supports the National Curriculum, Maths Exercise Book (Made Easy Workbooks)"
          ],
          [
           9780241615133,
           "DK Dordogne, Bordeaux and the Southwest Coast (Travel Guide)"
          ],
          [
           9780241462829,
           "DK Eyewitness Top 10 Cyprus (Pocket Travel Guide)"
          ],
          [
           9780241473948,
           "DK Bali and Lombok (Travel Guide)"
          ],
          [
           9780241670491,
           "DK Top 10 Normandy (Pocket Travel Guide)"
          ],
          [
           9780241717189,
           "DK Florence and Tuscany (Travel Guide)"
          ],
          [
           9780241385593,
           "Where To Go When"
          ],
          [
           9780241612804,
           "DK Germany (Travel Guide)"
          ],
          [
           9780241538647,
           "DK Road Trips France (Travel Guide)"
          ],
          [
           9781402255441,
           "The Girl Who Never Made Mistakes"
          ],
          [
           9781728277707,
           "A Game of Gods: A Dark and Enthralling Reimagining of the Hades and Persephone Myth (Hades x Persephone Saga, 6)"
          ],
          [
           9781492675372,
           "Dad Jokes: Good, Clean Fun for All Ages!"
          ],
          [
           9781646117659,
           "The Couple's Quiz Book: 350 Fun Questions to Energize Your Relationship (Relationship Books for Couples)"
          ],
          [
           9781646111947,
           "Simple & Safe Baby-Led Weaning: How to Integrate Foods, Master Portion Sizes, and Identify Allergies"
          ],
          [
           9781464234064,
           "Keep Me: A Dark Enemies to Lovers Billionaire Romance from the Author of The Salacious Players' Club"
          ],
          [
           9781464233876,
           "Kingmakers Year Three: A Spicy Dark College Bully Romance (Kingmakers Book 3)"
          ],
          [
           9781641524216,
           "The Ultimate Travel Journal for Kids: Awesome Activities for Your Adventures"
          ],
          [
           9781464228254,
           "Neon Gods: A Divinely Dark Romance Retelling of Hades and Persephone (Dark Olympus 1)"
          ],
          [
           9781464233869,
           "Kingmakers Year Two: A Spicy Forbidden Dark College Romance (Kingmakers Book 2)"
          ],
          [
           9781464225949,
           "Wolf Girl: A Werewolf Shifter Romance for Romantasy Lovers (Wolf Girl 1)"
          ],
          [
           9780241684023,
           "Low Waste Kitchen: Radical Recipes for Sustainable Living"
          ],
          [
           9780241491317,
           "The Meat Cookbook: Know the Cuts, Master the Skills, over 250 Recipes"
          ],
          [
           9780241467640,
           "LEGO Ninjago Character Encyclopedia New Edition: With Exclusive Future Nya LEGO Minifigure"
          ],
          [
           9780241543825,
           "Marvel Studios The Marvel Cinematic Universe An Official Timeline"
          ],
          [
           9780241561966,
           "Tools A Visual History: The Hardware that Built, Measured and Repaired the World"
          ],
          [
           9780241650776,
           "Marvel Studios Character Encyclopedia Updated Edition"
          ],
          [
           9780241543788,
           "English for Everyone Illustrated English Dictionary with Free Online Audio: An Illustrated Reference Guide to Over 10,000 English Words and Phrases"
          ],
          [
           9780241289372,
           "Eyewitness Travel Phrase Book German: Essential Reference for Every Traveller (Eyewitness Travel Guides Phrase Books)"
          ],
          [
           9781409353058,
           "The Planets: The Definitive Visual Guide to Our Solar System"
          ],
          [
           9780241639641,
           "Kings & Queens of England and Scotland"
          ],
          [
           9780241512982,
           "The Black History Book: Big Ideas Simply Explained"
          ],
          [
           9780241302255,
           "The Brain Book: An Illustrated Guide to its Structure, Functions, and Disorders"
          ],
          [
           9780241484838,
           "The Film Book: A Complete Guide to the World of Cinema"
          ],
          [
           9780241507209,
           "How to be Good at Maths Workbook 2, Ages 9-11 (Key Stage 2): The Simplest-Ever Visual Workbook"
          ],
          [
           9780241624739,
           "Children's Book of Art: An Introduction to the World's Most Amazing Paintings and Sculptures (DK Children's Book of)"
          ],
          [
           9780241297650,
           "Art A Children's Encyclopedia (DK Children's Visual Encyclopedia)"
          ],
          [
           9781405391498,
           "How To...Horse Riding: A Step-by-Step Guide to Mastering Your Skills"
          ],
          [
           9780241343524,
           "What's the Point of Maths?"
          ],
          [
           9780241343593,
           "Animals (Pocket Eyewitness)"
          ],
          [
           9780241343616,
           "Pocket Eyewitness Sharks: Facts at Your Fingertips"
          ],
          [
           9780241625910,
           "Anansi and the Golden Pot"
          ],
          [
           9780241370995,
           "Jack and the Beanstalk (Storytime Lap Books)"
          ],
          [
           9781405352567,
           "Girls' Potty Time"
          ],
          [
           9780241420676,
           "Pop-Up Peekaboo! Monsters"
          ],
          [
           9780241585092,
           "The Sleepy Bunny: A Springtime Story About Being Yourself (First Seasonal Stories)"
          ],
          [
           9780241568170,
           "Playful Wonders: Easy, Fun-Filled Sensory Play Activities"
          ],
          [
           9780241461365,
           "Norse Myths (Ancient Myths)"
          ],
          [
           9780241709481,
           "DK Tokyo (Travel Guide)"
          ],
          [
           9780241710227,
           "DK Paris Mini Map and Guide (Pocket Travel Guide)"
          ],
          [
           9780241673232,
           "DK London (Travel Guide)"
          ],
          [
           9780241617595,
           "DK Greek Islands (Travel Guide)"
          ],
          [
           9780241615355,
           "DK Top 10 Costa Blanca (Pocket Travel Guide)"
          ],
          [
           9780241668184,
           "DK Madrid: Inspire / Plan / Discover / Experience (Travel Guide)"
          ],
          [
           9780241663622,
           "DK Top 10 Cornwall and Devon (Pocket Travel Guide)"
          ],
          [
           9780241473993,
           "DK Poland (Travel Guide)"
          ],
          [
           9780241568965,
           "DK Top 10 Beijing (Pocket Travel Guide)"
          ],
          [
           9780241698105,
           "DK Top 10 Mexico City (Pocket Travel Guide)"
          ],
          [
           9780241670514,
           "DK Road Trips Great Britain (Travel Guide)"
          ],
          [
           9780241678602,
           "DK Top 10 Seoul (Pocket Travel Guide)"
          ],
          [
           9781623159573,
           "The Low-FODMAP Diet for Beginners: A 7-Day Plan to Beat Bloat and Soothe Your Gut with Recipes for Fast IBS Relief"
          ],
          [
           9781464228308,
           "Midnight Ruin: A Divinely Dark Romance Retelling of Orpheus, Eurydice and Charon (Dark Olympus 6)"
          ],
          [
           9781641523493,
           "CBT Workbook for Kids: 40+ Fun Exercises and Activities to Help Children Overcome Anxiety & Face Their Fears at Home, at School, and Out in the World (Health and Wellness Workbooks for Kids)"
          ],
          [
           9781492671183,
           "Quantum Computing for Babies: 0 (Baby University)"
          ],
          [
           9781438089942,
           "It's Called Dyslexia (Live and Learn)"
          ],
          [
           9781728291468,
           "Lotus"
          ],
          [
           9781728295428,
           "There Is No Devil (Sinners Duet)"
          ],
          [
           9781464233883,
           "Kingmakers Year Four: A Spicy Dark College Mafia Romance (Kingmakers Book 4)"
          ],
          [
           9781728278407,
           "Saint: A Steamy and Taboo BookTok Sensation"
          ],
          [
           9780241607817,
           "Girls Just Wanna Have Impact Funds: A Feminist Guide to Changing the World with Your Money"
          ],
          [
           9780241574775,
           "Flower Porn: Recipes for Modern Bouquets, Tablescapes and Displays"
          ],
          [
           9780241535776,
           "Ayla: A Feast of Nepali Dishes from Terai, Hills and the Himalayas"
          ],
          [
           9780241674512,
           "Astrophysics for Supervillains (Supervillain Academy)"
          ],
          [
           9780241531617,
           "Jurassic World Pocket Expert: All the Facts You Need to Know"
          ],
          [
           9780241665152,
           "Spanish English Bilingual Visual Dictionary (DK Bilingual Visual Dictionaries)"
          ],
          [
           9780241638682,
           "The Psychology Book: Big Ideas Simply Explained (DK Big Ideas)"
          ],
          [
           9780241198735,
           "First Aid Fast for Babies and Children: Emergency Procedures for all Parents and Carers"
          ],
          [
           9780241537831,
           "Medical Symptoms Visual Guide: The Easy Way to Identify Medical Problems"
          ],
          [
           9780241225929,
           "The History Book: Big Ideas Simply Explained"
          ],
          [
           9780241415030,
           "The Architecture Book: Big Ideas Simply Explained (DK Big Ideas)"
          ],
          [
           9780241664360,
           "The Illustrated Bible Story by Story (DK Bibles and Bible Guides)"
          ],
          [
           9780241514900,
           "Architecture: A Visual History"
          ],
          [
           9780241410196,
           "The Law Book: Big Ideas Simply Explained"
          ],
          [
           9780241188767,
           "First Dinosaur Encyclopedia: A First Reference Book for Children (DK First Reference)"
          ],
          [
           9780241343623,
           "Pocket Eyewitness Space: Facts at Your Fingertips"
          ],
          [
           9780241471418,
           "How to be Good at Maths Workbook 1, Ages 7-9 (Key Stage 2): The Simplest-Ever Visual Workbook"
          ],
          [
           9780241423639,
           "Forensic Science: Discover the Fascinating Methods Scientists Use to Solve Crimes (DK Eyewitness)"
          ],
          [
           9780241623275,
           "Knowledge Encyclopedia Plants and Fungi!: Our Growing World as You've Never Seen It Before (DK Knowledge Encyclopedias)"
          ],
          [
           9780241569962,
           "Timelines of Everything: From Woolly Mammoths to World Wars (DK Children's Timelines)"
          ],
          [
           9781409344636,
           "English Made Easy, Ages 10-11 (Key Stage 2): Supports the National Curriculum, English Exercise Book (Made Easy Workbooks)"
          ],
          [
           9780241445426,
           "The Secret Explorers and the Rainforest Rangers"
          ],
          [
           9781409344940,
           "Science Made Easy, Ages 6-7 (Key Stage 1): Supports the National Curriculum, Science Exercise Book (Made Easy Workbooks)"
          ],
          [
           9781409344797,
           "Maths Made Easy: Advanced, Ages 7-8 (Key Stage 2): Supports the National Curriculum, Maths Exercise Book (Made Easy Workbooks)"
          ],
          [
           9780241316672,
           "How to Be an Engineer (Careers for Kids)"
          ],
          [
           9780241273142,
           "Baby Touch and Feel Kittens"
          ],
          [
           9781409334965,
           "Chug Chug Tractor (Super Noisy Books)"
          ],
          [
           9780241465721,
           "The Nature Adventure Book: 40 activities to do outdoors (Activity)"
          ],
          [
           9781409344773,
           "Maths Made Easy: Advanced, Ages 6-7 (Key Stage 1): Supports the National Curriculum, Maths Exercise Book (Made Easy Workbooks)"
          ],
          [
           9780241467046,
           "Ultimate Sticker Book Farm"
          ],
          [
           9780241664513,
           "DK Spain: Inspire / Plan / Discover / Experience (Travel Guide)"
          ],
          [
           9780241538661,
           "DK Road Trips Italy (Travel Guide)"
          ],
          [
           9780241462898,
           "DK Top 10 Italian Lakes (Pocket Travel Guide)"
          ],
          [
           9781409355830,
           "Top 10 Tallinn: DK Eyewitness Top 10 Travel Guide 2015 (Pocket Travel Guide)"
          ],
          [
           9780241462812,
           "DK Top 10 Chicago (Pocket Travel Guide)"
          ],
          [
           9780241275443,
           "DK Eyewitness Travel Guide Estonia, Latvia and Lithuania: DK Eyewitness Travel Guide 2017"
          ],
          [
           9780241662670,
           "DK Top 10 New Orleans (Pocket Travel Guide)"
          ],
          [
           9780241671849,
           "DK Top 10 San Diego (Pocket Travel Guide)"
          ],
          [
           9780241680186,
           "Copenhagen Like a Local: By the People Who Call It Home (Local Travel Guide)"
          ],
          [
           9780241568972,
           "DK Top 10 Phuket (Pocket Travel Guide)"
          ],
          [
           9780241473962,
           "DK Brittany (Travel Guide)"
          ],
          [
           9780241676301,
           "DK Top 10 London (Pocket Travel Guide)"
          ],
          [
           9780241612484,
           "DK Top 10 Munich (Pocket Travel Guide)"
          ],
          [
           9781492671206,
           "Neural Networks for Babies (Baby University)"
          ],
          [
           9781728297477,
           "Calculus for Babies (Baby University)"
          ],
          [
           9781728263137,
           "What Happens After Midnight"
          ],
          [
           9781641521314,
           "Grief Day By Day: Simple Practices and Daily Guidance for Living with Loss"
          ],
          [
           9781728278353,
           "Scarred: The Fractured Fairy Tale and TikTok Sensation (Never After)"
          ],
          [
           9781950500253,
           "Hello, My World: 1 (High-Contrast Books)"
          ],
          [
           9781464228315,
           "Dark Restraint: A Divinely Dark Romance Retelling of Ariadne and the Minotaur (Dark Olympus 7)"
          ],
          [
           9781728278391,
           "Sinner: A Steamy and Taboo BookTok Sensation"
          ],
          [
           9781464218781,
           "This Song Is (Not) For You: The Coming of Age Friends to Lovers Sensation from the Author of If He Had Been With Me"
          ],
          [
           9781728261713,
           "A Game of Fate: A Dark and Enthralling Reimagining of the Hades and Persephone Myth (Hades x Persephone Saga, 2)"
          ],
          [
           9780241313626,
           "Eat Better, Live Longer: Understand What Your Body Needs to Stay Healthy"
          ],
          [
           9780241647615,
           "Science of Swimming: Transform Your Stroke, Improve Strength, Revolutionize Your Training"
          ],
          [
           9780241632512,
           "Bahari: Recipes From an Omani Kitchen and Beyond"
          ],
          [
           9780241575833,
           "RHS Resilient Garden: Sustainable Gardening for a Changing Climate"
          ],
          [
           9780241655436,
           "RHS Gardening Through the Year: New Edition - Month-by-month Planning Instructions and Inspiration"
          ],
          [
           9780241686539,
           "Pokémon Timelines: A Journey Through the Animated Series"
          ],
          [
           9780241409695,
           "LEGO® Minifigure A Visual History New Edition: With exclusive LEGO spaceman minifigure!"
          ],
          [
           9780241467350,
           "Peanuts Be More Snoopy"
          ],
          [
           9780241552810,
           "The Black Curriculum Legacies: Black British Pioneers"
          ],
          [
           9780241491713,
           "The Botanist's Sticker Anthology: With More Than 1,000 Vintage Stickers"
          ],
          [
           9780241601341,
           "15 Minute German: Learn in Just 12 Weeks (DK 15-Minute Language Learning)"
          ],
          [
           9780241515150,
           "Dutch in 3 Months with Free Audio App: Your Essential Guide to Understanding and Speaking Dutch (Hugo in 3 Months)"
          ],
          [
           9780241536278,
           "French in 3 Months with Free Audio App: Your Essential Guide to Understanding and Speaking French (Hugo in 3 Months)"
          ],
          [
           9780241439395,
           "English for Everyone English Phrasal Verbs: Learn and Practise More Than 1,000 English Phrasal Verbs"
          ],
          [
           9780241600481,
           "Rocks & Minerals: The Definitive Visual Guide"
          ],
          [
           9780241301920,
           "The Advanced Photography Guide: The Ultimate Step-by-Step Manual for Getting the Most from Your Digital Camera"
          ],
          [
           9780241655771,
           "Fashion: The Definitive Visual History (DK Definitive Cultural Histories)"
          ],
          [
           9780241638781,
           "The Tank Book: The Definitive Visual History of Armoured Vehicles (DK Definitive Transport Guides)"
          ],
          [
           9781409345718,
           "Great Maps: The World's Masterpieces Explored and Explained"
          ],
          [
           9780241347119,
           "The World War II Book: Big Ideas Simply Explained (DK Big Ideas)"
          ],
          [
           9780241356289,
           "How Technology Works: The facts visually explained (How Things Work)"
          ],
          [
           9780241446577,
           "The Car Book: The Definitive Visual History (DK Definitive Transport Guides)"
          ],
          [
           9780241387047,
           "Signs & Symbols: An illustrated guide to their origins and meanings"
          ],
          [
           9780241634899,
           "The Bird Book: The Stories, Science, and History of Birds"
          ],
          [
           9780241343630,
           "Pocket Eyewitness Human Body: Facts at Your Fingertips"
          ],
          [
           9780241187586,
           "Tudor (DK Eyewitness)"
          ],
          [
           9780241343678,
           "Pocket Eyewitness Rocks and Minerals: Facts at Your Fingertips"
          ],
          [
           9780241549377,
           "Optical Illusions: Incredible Pop-Up Visual Magic!"
          ],
          [
           9780241410998,
           "Life Cycles: Everything from Start to Finish (DK Life Cycles)"
          ],
          [
           9780241182727,
           "Spelling, Punctuation & Grammar Made Easy, Ages 8-9 (Key Stage 2): Supports the National Curriculum, English Exercise Book (Made Easy Workbooks)"
          ],
          [
           9780241225325,
           "10 Minutes A Day Spanish, Ages 7-11 (Key Stage 2): Supports the National Curriculum, Confidence in Reading, Writing & Speaking"
          ],
          [
           9781409344964,
           "Science Made Easy, Ages 10-11 (Key Stage 2): Supports the National Curriculum, Science Exercise Book (Made Easy Workbooks)"
          ],
          [
           9780241585030,
           "Pop-Up Peekaboo! Diggers: Pop-Up Surprise Under Every Flap!"
          ],
          [
           9780241373323,
           "Pop-Up Peekaboo! Unicorn"
          ],
          [
           9780241612071,
           "The Book of Mysteries, Magic, and the Unexplained (Mysteries, Magic and Myth)"
          ],
          [
           9781409344919,
           "Science Made Easy, Ages 5-6 (Key Stage 1): Supports the National Curriculum, Science Exercise Book (Made Easy Workbooks)"
          ],
          [
           9780241555323,
           "My First Nature: Let's Go Exploring! (My First Board Books)"
          ],
          [
           9780241536919,
           "Pop-Up Peekaboo! Ocean: Pop-Up Surprise Under Every Flap!"
          ],
          [
           9780241584958,
           "My Very Important Human Body Encyclopedia: For Little Learners Who Want to Know About Their Bodies (My Very Important Encyclopedias)"
          ],
          [
           9781409344735,
           "Maths Made Easy: Adding & Taking Away, Ages 3-5 (Preschool): Supports the National Curriculum, Preschool Exercise Book (Made Easy Workbooks)"
          ],
          [
           9780241656587,
           "Chefs Wanted: More Than 40 Delicious Recipes for Curious Cooks"
          ],
          [
           9780241420683,
           "Pop-Up Peekaboo! Penguin"
          ],
          [
           9780241502655,
           "This Is How We Make Friends: For little kids going to big school (First Skills for Preschool)"
          ],
          [
           9780744080049,
           "Baking Yesteryear: The Best Recipes from the 1900s to the 1980s"
          ],
          [
           9780241709498,
           "DK Top 10 Lake District (Pocket Travel Guide)"
          ],
          [
           9780241208724,
           "DK Eyewitness Travel Guide Istanbul: Eyewitness Travel Guide 2016"
          ],
          [
           9780241209288,
           "DK Eyewitness Travel Guide Cyprus: DK Eyewitness Guides 2016"
          ],
          [
           9780241679050,
           "DK Top 10 Sydney (Pocket Travel Guide)"
          ],
          [
           9780241462690,
           "DK Top 10 Corfu and the Ionian Islands (Pocket Travel Guide)"
          ],
          [
           9780241619650,
           "DK Costa Rica (Travel Guide)"
          ],
          [
           9780241271063,
           "DK Eyewitness Travel Guide Belgium and Luxembourg: DK Eyewitness Travel Guide (2017)"
          ],
          [
           9780241208304,
           "DK Eyewitness Travel Guide Hamburg: Eyewitness Travel Guide 2016"
          ],
          [
           9780241461945,
           "DK Brussels, Bruges, Antwerp and Ghent: DK Eyewitness Travel Guide 2025"
          ],
          [
           9780241622346,
           "DK Top 10 Honolulu and O'ahu (Pocket Travel Guide)"
          ],
          [
           9780241669464,
           "DK Mexico (Travel Guide)"
          ],
          [
           9780241306253,
           "DK Eyewitness Travel Guide Stockholm"
          ],
          [
           9780241677216,
           "DK Cambodia and Laos (Travel Guide)"
          ],
          [
           9780241612774,
           "DK Florence and Tuscany (Travel Guide)"
          ],
          [
           9780241663783,
           "DK California: Inspire / Plan / Discover / Experience (Travel Guide)"
          ],
          [
           9781647391263,
           "Play Therapy Activities: 101 Play-Based Exercises to Improve Behavior and Strengthen the Parent-Child Connection"
          ],
          [
           9781728250083,
           "Don’t Push the Button!"
          ],
          [
           9781728248134,
           "My First Learn-to-Talk Book: Things That Go (My First Learn-to-Talk Books)"
          ],
          [
           9781492656203,
           "Newtonian Physics for Babies: 0 (Baby University)"
          ],
          [
           9781492671152,
           "Evolution for Babies: 0 (Baby University)"
          ],
          [
           9781728293714,
           "F*cking 2025 Boxed Calendar: A daily dose of zero f*cks (Calendars & Gifts to Swear By)"
          ],
          [
           9781728284231,
           "Salt Kiss (Lyonesse)"
          ],
          [
           9781464230325,
           "Court of the Vampire Queen: A Paranormal Reverse Harem Romance"
          ],
          [
           9781641522304,
           "Crochet Cute Critters: 26 Easy Amigurumi Patterns"
          ],
          [
           9781464221330,
           "The Daughters of Olympus"
          ],
          [
           9780241389454,
           "Science of Strength Training: Understand the Anatomy and Physiology to Transform Your Body"
          ],
          [
           9781405362979,
           "RHS What Plant When: More than 1,000 Top Plants for Every Season"
          ],
          [
           9780241435816,
           "Wild Your Garden: Create a sanctuary for nature"
          ],
          [
           9780241426289,
           "Neal's Yard Remedies Healing Herbs: Treat Yourself Naturally with Homemade Herbal Remedies"
          ],
          [
           9780241655511,
           "Heart: An Owner's Guide: The Irish Times Number 1 Bestseller"
          ],
          [
           9780241255520,
           "Astrology: Using the Wisdom of the Stars in Your Everyday Life"
          ],
          [
           9780241612965,
           "Fungi: Discover the Science and Secrets Behind the World of Mushrooms"
          ],
          [
           9780241302125,
           "Practical Ayurveda: Find Out Who You Are and What You Need to Bring Balance to Your Life"
          ],
          [
           9780241558249,
           "Mrs Wordsmith Vocabularious Card Game. Ages 7–11 (Key Stage 2) (UK): + 3 Months of Word Tag Video Game"
          ],
          [
           9780241532065,
           "Mrs Wordsmith Year 3 English Sensational Workbook, Ages 7–8 (Key Stage 2): + 3 Months of Word Tag Video Game"
          ],
          [
           9780241657188,
           "Fantastic Four The Ultimate Guide: The Ultimate Guide to Marvel’s Original Super Hero Family"
          ],
          [
           9780241558256,
           "Be More Taylor Swift: Fearless Advice on Following Your Dreams and Finding Your Voice (DK)"
          ],
          [
           9780241552797,
           "Magic The Gathering The Visual Guide"
          ],
          [
           9780241569078,
           "Beasts of the Ancient World: A Kids’ Guide to Mythical Creatures, from the Sphinx to the Minotaur, Dragons to Baku"
          ],
          [
           9780241657621,
           "LEGO Harry Potter Visual Dictionary: With Exclusive Minifigure"
          ],
          [
           9780241409411,
           "Dungeons & Dragons The Legend of Drizzt Visual Dictionary (DK Bilingual Visual Dictionary)"
          ],
          [
           9780241400753,
           "The World of Avatar: A Visual Exploration"
          ],
          [
           9780241661598,
           "Gilmore Girls Life Lessons: The Official Guide to Love, Friendship, and Coffee"
          ],
          [
           9780241582701,
           "Destination Dancefloor: A Global Atlas of Dance Music and Club Culture From London to Tokyo, Chicago to Berlin and Beyond"
          ],
          [
           9780241562499,
           "The Very Young Person's Guide to the Orchestra: With 10 Musical Sounds!"
          ],
          [
           9780751321593,
           "Dutch Phrase Book (DK Eyewitness Phrase Books)"
          ],
          [
           9780241242322,
           "English for Everyone Course Book Level 4 Advanced: A Complete Self-Study Programme (DK English for Everyone)"
          ],
          [
           9780241491393,
           "French for Everyone Junior 5 Words a Day: Learn and Practise 1,000 French Words"
          ],
          [
           9780241657034,
           "French English Bilingual Visual Dictionary (DK Bilingual Visual Dictionaries)"
          ],
          [
           9780241566213,
           "Architecture: The Definitive Visual History (DK Definitive Cultural Histories)"
          ],
          [
           9780241515730,
           "How Management Works: The Concepts Visually Explained (How Things Work)"
          ],
          [
           9780241471227,
           "Simply Quantum Physics (DK Simply)"
          ],
          [
           9780241656846,
           "The Politics Book: Big Ideas Simply Explained (DK Big Ideas)"
          ],
          [
           9781409324416,
           "What's that Flower?: The Simplest ID Guide Ever"
          ],
          [
           9780241422984,
           "The Complete Classical Music Guide"
          ],
          [
           9780241188729,
           "First Animal Encyclopedia: A First Reference Book for Children (DK First Reference)"
          ],
          [
           9780241393352,
           "The Complete Golf Manual"
          ],
          [
           9780241509166,
           "Africa: The Definitive Visual History of a Continent (DK Classic History)"
          ],
          [
           9780241656839,
           "The Economics Book: Big Ideas Simply Explained (DK Big Ideas)"
          ],
          [
           9780241386118,
           "A History of Magic, Witchcraft and the Occult"
          ],
          [
           9780241679388,
           "Art, Annotated: Your Expert Guide to 500 of the World's Greatest Works of Art"
          ],
          [
           9780241553022,
           "Natural Disasters: DK Eyewitness"
          ],
          [
           9780241383971,
           "World War II (DK Eyewitness)"
          ],
          [
           9780241569801,
           "Knowledge Encyclopedia Transport! (DK Knowledge Encyclopedias)"
          ],
          [
           9780241658918,
           "Computer Coding Games in Scratch for Kids (DK Help Your Kids With)"
          ],
          [
           9780241228135,
           "The Our World in Pictures: The Rock and Gem Book: ...And Other Treasures of the Natural World"
          ],
          [
           9780241608159,
           "My First Let's Shop! What Shall We Buy?: What Shall We Buy? (My First Board Books)"
          ],
          [
           9780241287910,
           "My First Colours & Shapes"
          ],
          [
           9780241359396,
           "Pop-Up Peekaboo! Space"
          ],
          [
           9780241584996,
           "Pop-Up Peekaboo! Mermaid: Pop-Up Surprise Under Every Flap!"
          ],
          [
           9780241363256,
           "Sticker Encyclopedia Dinosaurs: Includes more than 600 Stickers (Sticker Encyclopedias)"
          ],
          [
           9780241567401,
           "My First Garden: For Little Gardeners Who Want to Grow"
          ],
          [
           9780241439258,
           "My First Animals: 16 colourful early learning cards"
          ],
          [
           9780241538555,
           "What's the Difference? Animals: Spot the difference in the animal kingdom!"
          ],
          [
           9781405336789,
           "Baby Touch and Feel Bathtime"
          ],
          [
           9780241182710,
           "Spelling, Punctuation & Grammar Made Easy, Ages 5-7 (Key Stage 1): Supports the National Curriculum, English Exercise Book (Made Easy Workbooks)"
          ],
          [
           9780241635261,
           "The Animal Body Book: An Insider's Guide to the World of Animal Anatomy"
          ],
          [
           9780241675021,
           "Cooking Step-By-Step: More than 50 Delicious Recipes for Young Cooks"
          ],
          [
           9780241350966,
           "The The Three Little Pigs (Storytime Lap Books)"
          ],
          [
           9780241358412,
           "DKfindout! Big Cats"
          ],
          [
           9780241465684,
           "Find My Favourite Things: Search and find! Follow the characters from page to page! (DK Find My Favourite)"
          ],
          [
           9780241407028,
           "The Vegetarian Cookbook: More than 50 Recipes for Young Cooks"
          ],
          [
           9780241198674,
           "Handwriting Made Easy: Printed Writing, Ages 5-7 (Key Stage 1): Supports the National Curriculum, Handwriting Practice Book (Made Easy Workbooks)"
          ],
          [
           9780241676103,
           "Henry VIII: King of England 1509 - 1547 (History's Great Leaders)"
          ],
          [
           9780241585122,
           "Amazing Oceans: The Surprising World of Our Incredible Seas (DK Amazing Earth)"
          ],
          [
           9781409344667,
           "English Made Easy, Ages 7-8 (Key Stage 2): Supports the National Curriculum, English Exercise Book (Made Easy Workbooks)"
          ],
          [
           9780241553916,
           "The History of Information"
          ],
          [
           9780241646991,
           "Words of Love: A Friend for Little Ones When They Need it the Most"
          ],
          [
           9780241386200,
           "Baby's First Diwali (Baby's First Holidays)"
          ],
          [
           9780744064902,
           "Bake It Better: 70 Show-Stopping Recipes to Level Up Your Baking Skills"
          ],
          [
           9780241617601,
           "DK South Africa (Travel Guide)"
          ],
          [
           9780241208212,
           "DK Eyewitness Travel Guide Turkey: Eyewitness Travel Guide 2016"
          ],
          [
           9780241278680,
           "DK Eyewitness Travel Guide Sydney"
          ],
          [
           9780241470862,
           "DK Loire Valley: Inspire / Plan / Discover / Experience (Travel Guide)"
          ],
          [
           9780241461532,
           "DK Eyewitness Road Trips Spain: plan with ease, explore with confidence (Travel Guide)"
          ],
          [
           9780241569047,
           "Paris Like a Local: By the People Who Call It Home (Local Travel Guide)"
          ],
          [
           9780241310311,
           "DK Eyewitness Madrid Pocket Map and Guide (Pocket Travel Guide)"
          ],
          [
           9781409373544,
           "Top 10 Turkey's Southwest Coast (Pocket Travel Guide)"
          ],
          [
           9780241397749,
           "DK Eyewitness New York City Mini Map and Guide (Pocket Travel Guide)"
          ],
          [
           9781728289533,
           "When She Was Me: A Novel"
          ],
          [
           9781728265711,
           "Queen of Myth and Monsters: A Dark & Steamy Vampire Romance for Romantasy Lovers: 2 (Adrian X Isolde, 2)"
          ],
          [
           9781492632917,
           "How to Catch a Leprechaun: 0"
          ],
          [
           9781492671121,
           "ABCs of Space: 0 (Baby University)"
          ],
          [
           9781646111497,
           "The Fascinating Animal Book for Kids: 500 Wild Facts! (Fascinating Facts)"
          ],
          [
           9781641527217,
           "The Beginner's Guide to Stoicism: Tools for Emotional Resilience and Positivity"
          ],
          [
           9781646114238,
           "Gods and Goddesses of Ancient Egypt: Egyptian Mythology for Kids"
          ],
          [
           9781728274744,
           "Unlikeable Female Characters: The Women Pop Culture Wants You to Hate"
          ],
          [
           9781623159122,
           "PCOS Diet for the Newly Diagnosed: Your All-In-One Guide to Eliminating PCOS Symptoms with the Insulin Resistance Diet"
          ],
          [
           9781728220147,
           "The Haunting of Blackwood House"
          ],
          [
           9781728291499,
           "Athena's Child"
          ],
          [
           9781728278360,
           "Wretched: The Fractured Fairy Tale and TikTok Sensation (Never After)"
          ],
          [
           9781728251455,
           "What Little Boys Are Made Of: A Modern Nursery Rhyme"
          ],
          [
           9781953424365,
           "Rebel Girls Dream Big Box Set"
          ],
          [
           9781647399917,
           "Gems for Kids: A Junior Scientist's Guide to Mineral Crystals and Other Natural Treasures"
          ],
          [
           9781646110643,
           "The Spell Book for New Witches: Essential Spells to Change Your Life"
          ],
          [
           9781953424068,
           "Rebel Girls Lead: 25 Tales of Powerful Women"
          ],
          [
           9781728295367,
           "Stolen Heir: A Dark Mafia Romance (Brutal Birthright)"
          ],
          [
           9781492641223,
           "501 Excuses for a Bad Golf Shot"
          ],
          [
           9798886509939,
           "My First Book of Emotions for Toddlers"
          ],
          [
           9781728286785,
           "Give Me More (Salacious Players' Club)"
          ],
          [
           9781492671527,
           "The Book Woman of Troublesome Creek: A Novel"
          ],
          [
           9780997895827,
           "Good Night Stories for Rebel Girls 2"
          ],
          [
           9781728286761,
           "Praise (Salacious Players' Club)"
          ],
          [
           9781464228988,
           "Good Boy: An Enemies to Lovers Hockey Romance (WAGs 1)"
          ],
          [
           9780241536407,
           "Science of HIIT: Understand the Anatomy and Physiology to Transform Your Body"
          ],
          [
           9780241636268,
           "Artist's Painting Techniques: Explore Watercolours, Acrylics, and Oils. Discover Your Own Style. Grow as an Artist"
          ],
          [
           9780241345214,
           "Whisky A Tasting Course: A New Way to Think – and Drink – Whisky"
          ],
          [
           9780241349229,
           "Happy Orchid: Help it Flower, Watch it Flourish"
          ],
          [
           9780241180013,
           "Grow All You Can Eat In Three Square Feet: Inventive Ideas for Growing Food in a Small Space"
          ],
          [
           9780241567395,
           "Mrs Wordsmith The Book of Big Feelings Ages 4–7 (Early Years & Key Stage 1): Hundreds of Words to Help You Express How You Feel"
          ],
          [
           9780241552803,
           "The Black Curriculum Migration: Journeys Through Black British History"
          ],
          [
           9780241527146,
           "Mrs Wordsmith How To Write A Story, Ages 7-11 (Key Stage 2): Write Captivating Stories All By Yourself"
          ],
          [
           9780241531563,
           "Marvel Spider-Man Across the Spider-Verse Ultimate Sticker Book"
          ],
          [
           9780241401125,
           "The Art of Avatar The Way of Water"
          ],
          [
           9780241357651,
           "The Marvel Book: Expand Your Knowledge Of A Vast Comics Universe"
          ],
          [
           9780241566138,
           "English for Everyone Everyday English: Learn and Practise Over 2,500 Words and Phrases (DK English for Everyone)"
          ],
          [
           9780241631621,
           "15 Minute Arabic: Learn in Just 12 Weeks (DK 15-Minute Language Learning)"
          ],
          [
           9780241335888,
           "English for Everyone English Idioms: Learn and practise common idioms and expressions"
          ],
          [
           9780241665138,
           "Italian English Bilingual Visual Dictionary (DK Bilingual Visual Dictionaries)"
          ],
          [
           9780241634318,
           "A History of Ghosts, Spirits and the Supernatural (DK A History of)"
          ],
          [
           9780241393260,
           "The Diabetes Handbook: Understand and Manage Type 1 and Type 2 Diabetes"
          ],
          [
           9780241302316,
           "Ballet: The Definitive Illustrated Story"
          ],
          [
           9781409314943,
           "Help Your Kids with English, Ages 10-16 (Key Stages 3-4): A Unique Step-by-Step Visual Guide, Revision and Reference (DK Help Your Kids With)"
          ],
          [
           9780241239018,
           "The Art Book: Big Ideas Simply Explained"
          ],
          [
           9780241264348,
           "The Illustrated Mahabharata: The Definitive Guide to India’s Greatest Epic"
          ],
          [
           9780241601563,
           "The Train Book: The Definitive Visual History (DK Definitive Transport Guides)"
          ],
          [
           9780241446379,
           "The Complete Sailing Manual"
          ],
          [
           9780241301975,
           "The Classical Music Book: Big Ideas Simply Explained"
          ],
          [
           9780241301906,
           "The Bible Book: Big Ideas Simply Explained"
          ],
          [
           9780241634783,
           "How Economics Works: The Concepts Visually Explained (DK How Stuff Works)"
          ],
          [
           9780241471258,
           "The Medicine Book: Big Ideas Simply Explained"
          ],
          [
           9781409383444,
           "The Military History Book"
          ],
          [
           9780241536438,
           "The Science of the Earth: The Secrets of Our Planet Revealed (DK Secret World Encyclopedias)"
          ],
          [
           9780241601594,
           "Timelines of Art (DK Timelines)"
          ],
          [
           9780241719978,
           "The Vietnam War: The Definitive Illustrated History (DK Definitive Visual Histories)"
          ],
          [
           9780241388327,
           "Imperial China: The Definitive Visual History"
          ],
          [
           9780241605417,
           "World War I: The Definitive Visual History (DK Definitive Visual Histories)"
          ],
          [
           9780241636923,
           "Evolution: The Human Story"
          ],
          [
           9780241569573,
           "Animal: The Definitive Visual Guide (DK Definitive Visual Encyclopedias)"
          ],
          [
           9780241339923,
           "Our World in Pictures: Trees, Leaves, Flowers & Seeds: A visual encyclopedia of the plant kingdom"
          ],
          [
           9780241415047,
           "English for Everyone Junior Beginner's Course: Look, Listen and Learn"
          ],
          [
           9780241569979,
           "Knowledge Encyclopedia: The World as You've Never Seen it Before (DK Knowledge Encyclopedias)"
          ],
          [
           9780241241363,
           "Sharks and Other Deadly Ocean Creatures: Visual Encyclopedia"
          ],
          [
           9780241317730,
           "Computer Coding for Kids: A unique step-by-step visual guide, from binary code to building games"
          ],
          [
           9780241477908,
           "Ocean: Facts at Your Fingertips (Pocket Eyewitness)"
          ],
          [
           9780241403471,
           "Stephen Biesty's Incredible Cross-Sections of Everything (Stephen Biesty Cross Sections)"
          ],
          [
           9780241379769,
           "History Year by Year: A journey through time, from mammoths and mummies to flying and facebook"
          ],
          [
           9781409383024,
           "Pop-Up Peekaboo! Things That Go"
          ],
          [
           9780241673799,
           "Pocket Pop-Up Peekaboo! Farm"
          ],
          [
           9780241317013,
           "Help Your Kids with Times Tables, Ages 5-11 (Key Stage 1-2): A Unique Step-by-Step Visual Guide and Practice Questions"
          ],
          [
           9781409375753,
           "First Facts Dinosaurs"
          ],
          [
           9780241669853,
           "My First Numbers: Let's Get Counting!: Let's Get Counting! (My First Tabbed Board Book)"
          ],
          [
           9780241538470,
           "DKFindout! Arctic and Antarctic"
          ],
          [
           9780241563380,
           "Pop-Up Peekaboo! Rainforest: Pop-Up Surprise Under Every Flap!"
          ],
          [
           9780241561522,
           "Big Sister: Ruby and the New Baby"
          ],
          [
           9780241597514,
           "The Children's Book of Birdwatching: Nature-Friendly Tips for Spotting Birds"
          ],
          [
           9780241282816,
           "DKfindout! Pirates"
          ],
          [
           9780241608357,
           "RHS Ultimate Sticker Book Garden Flowers: New Edition with More than 250 Stickers"
          ],
          [
           9781409345084,
           "Maths Made Easy: Decimals, Ages 9-11 (Key Stage 2): Supports the National Curriculum, Maths Exercise Book (Made Easy Workbooks)"
          ],
          [
           9781409344803,
           "Maths Made Easy: Beginner, Ages 7-8 (Key Stage 2): Supports the National Curriculum, Maths Exercise Book (Made Easy Workbooks)"
          ],
          [
           9780241247372,
           "Bugs Ultimate Sticker Book"
          ],
          [
           9780241411018,
           "The DNA Book: Discover what makes you you (The Science Book)"
          ],
          [
           9780241630631,
           "Everything You Need to Know About Snakes: And Other Scaly Reptiles"
          ],
          [
           9780241407011,
           "My Encyclopedia of Very Important Sport: For little athletes and fans who want to know everything (My Very Important Encyclopedias)"
          ],
          [
           9780241386217,
           "The Wonders of Nature (DK Children's Anthologies)"
          ],
          [
           9780744093001,
           "Unlock Your Aesthetic: A Visual Guide to Find Your Vibe"
          ],
          [
           9780241664902,
           "DK The Netherlands (Travel Guide)"
          ],
          [
           9780241670811,
           "DK USA (Travel Guide)"
          ],
          [
           9780241664964,
           "DK Top 10 New England (Pocket Travel Guide)"
          ],
          [
           9780241569009,
           "Dublin Like a Local: By the People Who Call It Home (Local Travel Guide)"
          ],
          [
           9780241473955,
           "DK Boston (Travel Guide)"
          ],
          [
           9780241462928,
           "DK Denmark (Travel Guide)"
          ],
          [
           9780241623183,
           "DK Florida (Travel Guide)"
          ],
          [
           9780241618608,
           "DK New England (Travel Guide)"
          ],
          [
           9780241612507,
           "DK Top 10 Lake District (Pocket Travel Guide)"
          ],
          [
           9780241662908,
           "DK Great Britain (Travel Guide)"
          ],
          [
           9780241718865,
           "DK Top 10 Mallorca (Pocket Travel Guide)"
          ],
          [
           9780241718902,
           "DK Top 10 Malta and Gozo (Pocket Travel Guide)"
          ],
          [
           9780241565971,
           "DK Sicily (Travel Guide)"
          ],
          [
           9781939754707,
           "The Gastric Sleeve Bariatric Cookbook: Easy Meal Plans and Recipes to Eat Well & Keep the Weight Off"
          ],
          [
           9781728248103,
           "My First Learn-to-Talk Book: Teach Speech, from Sounds to Words! (My First Learn-to-Talk Books)"
          ],
          [
           9781648768842,
           "The Fascinating Ocean Book for Kids: 500 Incredible Facts! (Fascinating Facts)"
          ],
          [
           9781646110742,
           "A Beginner's Guide to Numerology: Decode Relationships, Maximize Opportunities, and Discover Your Destiny"
          ],
          [
           9781492680796,
           "Bayesian Probability for Babies: 1 (Baby University)"
          ],
          [
           9781728264691,
           "Court of the Vampire Queen: A Paranormal Reverse Harem Romance"
          ],
          [
           9781728220284,
           "Good Night to Your Fantastic Elastic Brain: A Growth Mindset Book for Kids About the Amazing Things Your Fantastic Elastic Brain Does After You Say Good Night"
          ],
          [
           9781641528863,
           "The 28-Day Plan for IBS Relief: 100 Simple Low-FODMAP Recipes to Soothe Symptoms of Irritable Bowel Syndrome"
          ],
          [
           9781728295381,
           "Bloody Heart: A Dark Mafia Romance (Brutal Birthright)"
          ],
          [
           9781464242120,
           "Everything I Promised You: An Emotional Young Adult Romance for Fans of Laura Nowlin"
          ],
          [
           9781492671213,
           "ABCs of Engineering: 0 (Baby University)"
          ],
          [
           9781647393588,
           "Empathy Is Your Superpower: A Book About Understanding the Feelings of Others"
          ],
          [
           9781648766565,
           "5-Minute Core Exercises for Seniors: Daily Routines to Build Balance and Boost Confidence"
          ],
          [
           9781728286808,
           "Highest Bidder (Salacious Players' Club)"
          ],
          [
           9781464227677,
           "My Darling Dreadful Thing: A Novel"
          ],
          [
           9781464234033,
           "Wicked Pursuit & Divine Intervention: Books 1 & 2 in the Dark Romance Fairy Tale Retelling Series (Black Rose Auction)"
          ],
          [
           9781646113194,
           "The English Grammar Workbook for Adults: A Self-Study Guide to Improve Functional Writing"
          ],
          [
           9781728286846,
           "Long Shot (Hoops)"
          ],
          [
           9781728295398,
           "Broken Vow: A Dark Mafia Romance (Brutal Birthright)"
          ],
          [
           9781648763762,
           "World War II History for Kids: 500 Facts (History Facts for Kids)"
          ],
          [
           9781728291611,
           "The I Can Say Mama! (My First Learn-to-Talk Books)"
          ],
          [
           9781647398675,
           "The Dyslexia Workbook for Adults: Practical Tools to Improve Executive Functioning, Boost Literacy Skills, and Develop Your Unique Strengths"
          ],
          [
           9781728215167,
           "The Obsession"
          ],
          [
           9781728270258,
           "Dead of Winter"
          ],
          [
           9780241562659,
           "Your Baby and Child: From Birth to Age Five"
          ],
          [
           9780241593318,
           "Deliciously Healthy Fertility: Nutrition and Recipes to Help You Conceive"
          ],
          [
           9780241507544,
           "What Mummy Makes Family Meal Planner: Includes 28 brand new recipes"
          ],
          [
           9781409349853,
           "RHS Grow Fruit and Veg Guide: More than 1,000 Expertly Chosen Varieties"
          ],
          [
           9780241186572,
           "World Cheese Book"
          ],
          [
           9780241530566,
           "Deliciously Healthy Pregnancy: Nutrition and Recipes for Optimal Health from Conception to Parenthood"
          ],
          [
           9780241530627,
           "Grow Herbs: Essential Know-how and Expert Advice for Gardening Success"
          ],
          [
           9780241341452,
           "Great Whiskies: 500 of the Best from Around the World"
          ],
          [
           9780241393529,
           "Mary Berry Cooks Up A Feast: Favourite Recipes for Occasions and Celebrations"
          ],
          [
           9780241341148,
           "RHS Practical Cactus and Succulent Book: How to Choose, Nurture, and Display more than 200 Cacti and Succulents"
          ],
          [
           9780241286128,
           "Mary Berry's Complete Cookbook: Over 650 recipes"
          ],
          [
           9780241361986,
           "Vegan Cakes and Other Bakes: 80 easy vegan recipes - cookies, cakes, pizzas, breads, and more"
          ],
          [
           9780241593394,
           "The Complete Book of Self-Sufficiency: The Classic Guide for Realists and Dreamers"
          ],
          [
           9780241677742,
           "Tomatoes and Basil on the 5th Floor (The Frenchie Gardener): All You Need for a Bountiful Balcony Harvest"
          ],
          [
           9780241664575,
           "Rum A Tasting Course: A Flavour-Focused Approach to the World of Rum"
          ],
          [
           9780241532058,
           "Mrs Wordsmith Year 2 English Wondrous Workbook, Ages 6–7 (Key Stage 2)"
          ],
          [
           9780241552827,
           "The Black Curriculum Places: Important Sites in Black British History"
          ],
          [
           9780241481868,
           "Disney Princess Craft Book"
          ],
          [
           9780241351062,
           "Star Wars Be More Yoda: Mindful Thinking from a Galaxy Far Far Away"
          ],
          [
           9780241401194,
           "LEGO DUPLO I Love You Every Day!"
          ],
          [
           9780241500910,
           "DC How Fast Is The Flash? Reader Level 2 (DK Readers Level 2)"
          ],
          [
           9780241658055,
           "Star Wars Complete Locations New Edition"
          ],
          [
           9780241500859,
           "Marvel Spider-Man Miles Morales to the Rescue!: Meet the Amazing Web-slinger! (DK Readers Level 1)"
          ],
          [
           9780241331330,
           "Star Wars How Not to Get Eaten by Ewoks and Other Galactic Survival Skills"
          ],
          [
           9780241668986,
           "Avatar Colouring Book"
          ],
          [
           9780241492833,
           "Star Wars The Clone Wars Character Encyclopedia: Join the battle!"
          ],
          [
           9780241357552,
           "Marvel Encyclopedia"
          ],
          [
           9780241506332,
           "How to Build LEGO Cars: Go on a Journey to Become a Better Builder"
          ],
          [
           9780241717660,
           "DK Super Phonics Card Game"
          ],
          [
           9780241667774,
           "Portuguese English Bilingual Visual Dictionary (DK Bilingual Visual Dictionaries)"
          ],
          [
           9780241317549,
           "Russian-English Bilingual Visual Dictionary with Free Audio App (DK Bilingual Visual Dictionary)"
          ],
          [
           9780241275153,
           "English for Everyone Business English Practice Book Level 2: A Complete Self-Study Programme (DK English for Everyone)"
          ],
          [
           9781409346388,
           "Complete Cat Care: How to Keep Your Cat Healthy and Happy (DK Practical Pet Guides)"
          ],
          [
           9780241457856,
           "World History: From the Ancient World to the Information Age"
          ],
          [
           9780241515747,
           "Flight: The Complete History of Aviation (DK Definitive Visual Histories)"
          ],
          [
           9780241363614,
           "The Human Body Book"
          ],
          [
           9780241631782,
           "Design: The Definitive Visual History (DK Definitive Cultural Histories)"
          ],
          [
           9780241182291,
           "The Sociology Book: Big Ideas Simply Explained"
          ],
          [
           9780241225936,
           "The Astronomy Book: Big Ideas Simply Explained (DK Big Ideas)"
          ],
          [
           9781409350156,
           "The Science Book: Big Ideas Simply Explained (DK Big Ideas)"
          ],
          [
           9780241340714,
           "Manmade Wonders of the World"
          ],
          [
           9780241487556,
           "The Tree Book: The Stories, Science, and History of Trees"
          ],
          [
           9780241579336,
           "How to be Good at Science, Technology & Engineering Workbook 2, Ages 11-14 (Key Stage 3): The Simplest-Ever Visual Workbook (DK How to Be Good at)"
          ],
          [
           9780241601419,
           "German for Everyone Junior First Words Flash Cards"
          ],
          [
           9780241439425,
           "English for Everyone Junior 5 Words a Day: Learn and Practise 1,000 English Words"
          ],
          [
           9780241656976,
           "Animals: A Children's Encyclopedia (DK Children's Visual Encyclopedia)"
          ],
          [
           9780241317815,
           "Knowledge Encyclopedia Science!"
          ],
          [
           9780241343517,
           "Inventor Lab: Awesome Builds for Smart Makers"
          ],
          [
           9780241509227,
           "English for Everyone Junior English Grammar: A Simple Visual Guide to English: Makes Learning Fun and Easy (DK English for Everyone Junior)"
          ],
          [
           9780241503614,
           "Timelines from Black History: Leaders, Legends, Legacies"
          ],
          [
           9780241536230,
           "English for Everyone Junior High-Frequency Words Flash Cards (DK English for Everyone Junior)"
          ],
          [
           9780241227862,
           "How to Be Good at Science, Technology, and Engineering"
          ],
          [
           9780241390450,
           "Super Simple Chemistry: The Ultimate Bitesize Study Guide"
          ],
          [
           9781409344841,
           "Maths Made Easy: Beginner, Ages 9-10 (Key Stage 2): Supports the National Curriculum, Maths Exercise Book (Made Easy Workbooks)"
          ],
          [
           9780241370988,
           "The Ugly Duckling (Storytime Lap Books)"
          ],
          [
           9781409344674,
           "English Made Easy, Ages 8-9 (Key Stage 2): Supports the National Curriculum, English Exercise Book (Made Easy Workbooks)"
          ],
          [
           9780241704844,
           "Pop-Up Peekaboo! Bunny"
          ],
          [
           9780241459461,
           "Water Cycles (DK Life Cycles)"
          ],
          [
           9780241467510,
           "Dragon World (Mythical Worlds)"
          ],
          [
           9780241358634,
           "Computer Coding with Scratch 3.0 Made Easy, Ages 7-11 (Key Stage 2): Beginner Level Computer Coding Exercises (Made Easy Workbooks)"
          ],
          [
           9780241412305,
           "Baby Touch and Feel Mermaid"
          ],
          [
           9780241529058,
           "The Extraordinary World of Birds (The Magic and Mystery of Nature)"
          ],
          [
           9780241585115,
           "Sticker Encyclopedia Things That Go: More Than 600 Stickers (Sticker Encyclopedias)"
          ],
          [
           9781409349426,
           "Spelling Made Easy, Ages 5-6 (Key Stage 1): Supports the National Curriculum, English Exercise Book (Made Easy Workbooks)"
          ],
          [
           9780241625521,
           "Pop-Up Peekaboo! Forest: Pop-Up Surprise Under Every Flap!"
          ],
          [
           9780241485774,
           "My Encyclopedia of Very Important Oceans (My Very Important Encyclopedias)"
          ],
          [
           9780241411605,
           "Music and How it Works: The Complete Guide for Kids"
          ],
          [
           9780241533598,
           "Find My Favourite Animals: Search and Find! Follow the Characters From Page to Page! (DK Find My Favorite)"
          ],
          [
           9780241402061,
           "Baby's First St Patrick's Day (Baby's First Holidays)"
          ],
          [
           9780241305188,
           "The Bee Book (Conservation for Kids)"
          ],
          [
           9781405304450,
           "Animals Ultimate Sticker Book"
          ],
          [
           9781409344759,
           "Maths Made Easy: Advanced, Ages 5-6 (Key Stage 1): Supports the National Curriculum, Maths Exercise Book (Made Easy Workbooks)"
          ],
          [
           9781405350167,
           "Baby Touch and Feel Things That Go"
          ],
          [
           9780241445327,
           "Nature's Treasures: Tales Of More Than 100 Extraordinary Objects From Nature (DK Treasures)"
          ],
          [
           9781405308434,
           "Children's First Cookbook: Have Fun in the Kitchen!"
          ],
          [
           9781409386117,
           "My First Dictionary (DK)"
          ],
          [
           9780241598474,
           "My Encyclopedia of Very Important Things: For Little Learners Who Want to Know Everything (My Very Important Encyclopedias)"
          ],
          [
           9781405336802,
           "Baby Touch and Feel Bedtime"
          ],
          [
           9780241636404,
           "My First Trucks and Diggers: Let's Get Driving! (My First Board Books)"
          ],
          [
           9781409344681,
           "English Made Easy, Ages 9-10 (Key Stage 2): Supports the National Curriculum, English Exercise Book (Made Easy Workbooks)"
          ],
          [
           9780241285077,
           "DKfindout! Human Body"
          ],
          [
           9780241227848,
           "A Child Through Time"
          ],
          [
           9780744097948,
           "Feeding Tiny Bellies: Over 100 Baby-Led Weaning, Toddler, and Family Recipes: A Cookbook"
          ],
          [
           9780744054491,
           "Lebanese Cuisine: The Authentic Cookbook"
          ],
          [
           9780593849606,
           "The Rebel Diet: Feed Your Appetite and Lose Weight with 100 Defiantly Delicious Recipes"
          ],
          [
           9780744058710,
           "Steve the Bartender's Cocktail Guide: Tools - Techniques - Recipes"
          ],
          [
           9780241709399,
           "DK Hawaii (Travel Guide)"
          ],
          [
           9780241664797,
           "DK Top 10 Greek Islands (Pocket Travel Guide)"
          ],
          [
           9780241209691,
           "DK Eyewitness Travel Guide Thailand's Beaches and Islands: DK Eyewitness Travel Guides 2016"
          ],
          [
           9780241662991,
           "DK San Francisco and the Bay Area (Travel Guide)"
          ],
          [
           9780241256718,
           "DK Eyewitness Travel Guide Argentina: Eyewitness Travel Guide 2017"
          ],
          [
           9780241461501,
           "DK Road Trips Germany: Plan with Ease - Explore with Confidence (Travel Guide)"
          ],
          [
           9780241470848,
           "DK Italian Riviera (Travel Guide)"
          ],
          [
           9780241619322,
           "DK Washington DC (Travel Guide)"
          ],
          [
           9780241633045,
           "Seoul Like a Local: By the People Who Call It Home (Local Travel Guide)"
          ],
          [
           9780241671825,
           "DK Top 10 Montreal and Quebec City (Pocket Travel Guide)"
          ],
          [
           9780241462966,
           "DK Eyewitness Top 10 Dubrovnik and the Dalmatian Coast: Top 10 Lists for Your Perfect Trip (Pocket Travel Guide)"
          ],
          [
           9780241606056,
           "Unforgettable Journeys Europe: Discover the Joys of Slow Travel"
          ],
          [
           9780241677094,
           "DK Top 10 Orlando (Pocket Travel Guide)"
          ],
          [
           9780241472194,
           "DK Top 10 Provence and the Côte d'Azur (Pocket Travel Guide)"
          ],
          [
           9780241559277,
           "Hike: Adventures on Foot"
          ],
          [
           9780241559246,
           "Gardens of the World"
          ],
          [
           9781464225963,
           "Alpha Girl: A Werewolf Shifter Romance for Romantasy Lovers (Wolf Girl)"
          ],
          [
           9781647390983,
           "Understanding Body Language: How to Decode Nonverbal Communication in Life, Love, and Work"
          ],
          [
           9781641526173,
           "Thriving with ADHD Workbook for Teens: Improve Focus, Get Organized, and Succeed"
          ],
          [
           9781647391225,
           "30-Minute Drawing for Beginners: Easy Step-by-Step Lessons and Techniques for Landscapes, Still Lifes, Figures, and More"
          ],
          [
           9781646113941,
           "Vegetarian Mediterranean Cookbook: 125+ Simple, Healthy Recipes for Living Well"
          ],
          [
           9781728220130,
           "The Haunting of Ashburn House"
          ],
          [
           9781646111398,
           "French Macarons for Beginners: Foolproof Recipes with 30 Shells and 30 Fillings"
          ],
          [
           9781492656289,
           "ABCs of Mathematics: 0 (Baby University)"
          ],
          [
           9781492642046,
           "Shark Lady: The True Story of How Eugenie Clark Became the Ocean’s Most Fearless Scientist"
          ],
          [
           9781464225956,
           "Lost Girl: A Werewolf Shifter Romance for Romantasy Lovers (Wolf Girl)"
          ],
          [
           9781641526531,
           "The Vegan Ketogenic Diet Cookbook: 75 Satisfying High Fat, Low Carb, Dairy Free Recipes"
          ],
          [
           9781728293813,
           "2025 Great Quotes From Great Women Boxed Calendar: Words from the Women Who Shaped the World"
          ],
          [
           9781641522410,
           "A Year of Positive Thinking: Daily Inspiration, Wisdom, and Courage (A Year of Daily Reflections)"
          ],
          [
           9781464227165,
           "The Broken Vows (The Windsors)"
          ],
          [
           9781728295404,
           "Heavy Crown (Brutal Birthright)"
          ],
          [
           9781464225970,
           "Mated Girl: A Werewolf Shifter Romance for Romantasy Lovers (Wolf Girl)"
          ],
          [
           9781641525190,
           "Stretching for Beginners: Improve Flexibility and Relieve Aches and Pains with 100 Exercises and 25 Simple Routines"
          ],
          [
           9781728286792,
           "Mercy (Salacious Players' Club)"
          ],
          [
           9781953424082,
           "Rebel Girls Champions: 25 Tales of Unstoppable Athletes"
          ],
          [
           9781728266046,
           "And There He Kept Her: A Novel"
          ],
          [
           9781641524391,
           "How to Read Tarot: A Modern Guide"
          ],
          [
           9781641524377,
           "Mindfulness for Teens in 10 Minutes a Day: Exercises to Feel Calm, Stay Focused & Be Your Best Self"
          ],
          [
           9781728206141,
           "Boyfriend Material: 2 (London Calling)"
          ],
          [
           9781728250168,
           "There Was a Black Hole that Swallowed the Universe"
          ],
          [
           9781953424716,
           "Growing Up Powerful Journal: A Confidence Boosting, Totally Inspiring, Joyful Journal"
          ],
          [
           9781464231667,
           "Night of the Witch (Witch and Hunter)"
          ],
          [
           9781728284248,
           "Honey Cut (Lyonesse)"
          ],
          [
           9781953424426,
           "Rebel Girls Animal Allies: 25 Tales of Women Working with Wildlife"
          ],
          [
           9781464245077,
           "My Fault (Deluxe Edition): The Beloved YA Enemies to Lovers Forbidden Romance - Now an Amazon Prime Original Movie! (Culpable)"
          ],
          [
           9781623159634,
           "Ayurveda Cooking for Beginners: An Ayurvedic Cookbook to Balance and Heal"
          ],
          [
           9781728234076,
           "Germ Theory for Babies: 1 (Baby University)"
          ],
          [
           9781464233906,
           "Desperate Measures: A Dark Enemies to Lovers Romance Based on a Classic Tale (Wicked Villains)"
          ],
          [
           9780241621486,
           "What Every Parent Needs to Know: A Psychologist's Guide to Raising Happy, Nurtured Children"
          ],
          [
           9780241510155,
           "Australian Women's Weekly Mediterranean: Fresh, Healthy Everyday Recipes"
          ],
          [
           9780241431825,
           "Parkers' Astrology: The Definitive Guide to Using Astrology in Every Aspect of Your Life"
          ],
          [
           9780241302071,
           "Yin Yoga: Stretch the mindful way"
          ],
          [
           9780241388419,
           "Eat Feel Fresh: A Contemporary Plant-based Ayurvedic Cookbook"
          ],
          [
           9780241572993,
           "Kama Sutra Workout New Edition: Work Hard, Play Harder with 300 Sensual Sexercises"
          ],
          [
           9780241593301,
           "How to Attract Wildlife to Your Garden: Foods They Like, Plants They Love, Shelter They Need"
          ],
          [
           9780241679562,
           "The Calligraphy Book: Pointed Pen Techniques, Inspiration, and Projects"
          ],
          [
           9780241318256,
           "Canapés: Over 200 recipes and step-by-step guides"
          ],
          [
           9780241558362,
           "Rekha's Kitchen Garden: Seasonal Produce and Home-Grown Wisdom from One Gardener's Allotment Year"
          ],
          [
           9780241634158,
           "Crochet Stitches Step-by-Step: More than 150 Essential Stitches for Your Next Project"
          ],
          [
           9780241680353,
           "It's Not That Radical: Climate Action to Transform Our World"
          ],
          [
           9780241674888,
           "Manga Drawing School: Take Your Art to the Next Level, Step-by-Step"
          ],
          [
           9780241636251,
           "Artist's Drawing Techniques: Discover How to Draw Landscapes, People, Still Lifes and More, in Pencil, Charcoal, Pen and Pastel"
          ],
          [
           9780241217429,
           "The Bee Book: The Wonder of Bees – How to Protect them – Beekeeping Know-how"
          ],
          [
           9780241593370,
           "Encyclopedia of Herbal Medicine New Edition: 560 Herbs and Remedies for Common Ailments"
          ],
          [
           9780241557105,
           "Malt Whisky Companion"
          ],
          [
           9780241239124,
           "RHS A-Z Encyclopedia of Garden Plants 4th edition: (New Edition)"
          ],
          [
           9780241667118,
           "The Seed Hunter: Discover the World's Most Unusual Heirloom Plants"
          ],
          [
           9780241634530,
           "A Kids Book About Racism"
          ],
          [
           9780241554685,
           "Mrs Wordsmith Year 4 English Humungous Workbook, Ages 8–9 (Key Stage 2): with 3 months free access to Word Tag, Mrs Wordsmith's fun-packed, vocabulary-boosting app!"
          ],
          [
           9780241559222,
           "The Ultimate Avatar Sticker Book: Includes Avatar The Way of Water"
          ],
          [
           9780241554692,
           "Mrs Wordsmith Year 5 English Stupendous Workbook, Ages 9–10 (Key Stage 2): with 3 months free access to Word Tag, Mrs Wordsmith's fun-packed, vocabulary-boosting app!"
          ],
          [
           9780241593424,
           "DK Super Readers Level 1 Star Wars Grogu's Galaxy: Meet Mando's New Friend!"
          ],
          [
           9780241506271,
           "How to Build LEGO Houses: Go on a Journey to Become a Better Builder"
          ],
          [
           9780241199312,
           "LEGO DC Super Heroes Character Encyclopedia: Includes Exclusive Pirate Batman Minifigure (DK Lego)"
          ],
          [
           9780241469347,
           "LEGO Super Nature: Includes Four Exclusive LEGO Mini Models"
          ],
          [
           9780241409190,
           "LEGO Epic History: Includes Four Exclusive LEGO Mini Models"
          ],
          [
           9780241620120,
           "How to Build LEGO Animals: Go on a Journey to Become a Better Builder"
          ],
          [
           9780241439531,
           "The DC Comics Encyclopedia New Edition"
          ],
          [
           9780241313824,
           "LEGO Star Wars Choose Your Path: Includes U-3PO Droid Minifigure"
          ],
          [
           9780241531525,
           "Star Wars The Mandalorian Ultimate Sticker Collection"
          ],
          [
           9780241662809,
           "Draw with Art for Kids Hub Cute and Funny Foods"
          ],
          [
           9780241275146,
           "English for Everyone Business English Course Book Level 2: A Complete Self-Study Programme"
          ],
          [
           9780241491416,
           "German for Everyone Junior 5 Words a Day: Learn and Practise 1,000 German Words"
          ],
          [
           9780241566183,
           "Spanish English Illustrated Dictionary: A Bilingual Visual Guide to Over 10,000 Spanish Words and Phrases"
          ],
          [
           9780241601488,
           "German English Illustrated Dictionary: A Bilingual Visual Guide to Over 10,000 German Words and Phrases"
          ],
          [
           9780241601471,
           "French English Illustrated Dictionary: A Bilingual Visual Guide to Over 10,000 French Words and Phrases"
          ],
          [
           9780241242346,
           "English for Everyone Business English Course Book Level 1: A Complete Self-Study Programme"
          ],
          [
           9780241712634,
           "DK Super Phonics A Parent's Guide to Phonics: Understanding How to Help Your Child with Reading and Spelling"
          ],
          [
           9780241426456,
           "Anatomy for the Artist"
          ],
          [
           9780241515792,
           "Essential Managers Management Handbook (DK Essential Managers)"
          ],
          [
           9780241446324,
           "How Space Works: The Facts Visually Explained (How Things Work)"
          ],
          [
           9780241409688,
           "The Islam Book: Big Ideas Simply Explained"
          ],
          [
           9780241566275,
           "Complete Horse Riding Manual (DK Complete Manuals)"
          ],
          [
           9780241569498,
           "Habitats: Discover Earth's Precious Wild Places"
          ],
          [
           9780241694176,
           "Simply AI: Facts Made Fast (DK Simply)"
          ],
          [
           9780241437414,
           "Art: A Visual History"
          ],
          [
           9781409324911,
           "The Religions Book: Big Ideas Simply Explained (DK Big Ideas)"
          ],
          [
           9780241515754,
           "Timelines of World History (DK Timelines)"
          ],
          [
           9780241302293,
           "Help Your Kids with Computer Science (Key Stages 1-5): A Unique Step-by-Step Visual Guide to Computers, Coding, and Communication (DK Help Your Kids With)"
          ],
          [
           9780241471432,
           "Fossils (DK Handbooks)"
          ],
          [
           9780241364246,
           "Encyclopedia of Aquarium and Pond Fish"
          ],
          [
           9780241298824,
           "Engineers: From the Great Pyramids to Spacecraft"
          ],
          [
           9780241566237,
           "The Poetry Book: Big Ideas Simply Explained (DK Big Ideas)"
          ],
          [
           9780241515549,
           "The Chemistry Book: Big Ideas Simply Explained (DK Big Ideas)"
          ],
          [
           9780241387054,
           "Myths & Legends: An illustrated guide to their origins and meanings"
          ],
          [
           9780241487372,
           "The Big Quiz Book: 10,000 amazing general knowledge questions"
          ],
          [
           9780241446331,
           "Science: The Definitive Visual Guide"
          ],
          [
           9781409341260,
           "The Business Book: Big Ideas Simply Explained (DK Big Ideas)"
          ],
          [
           9780241617199,
           "Planets: DK Eyewitness"
          ],
          [
           9780241539811,
           "Volcano & Earthquake: DK Eyewitness"
          ],
          [
           9780241240434,
           "The Periodic Table Book: A Visual Encyclopedia of the Elements"
          ],
          [
           9780241569849,
           "Amazon: DK Eyewitness"
          ],
          [
           9780241636022,
           "What's Where on Earth? History Atlas: History as You've Never Seen it Before (DK Where on Earth? Atlases)"
          ],
          [
           9780241257265,
           "How to Play Chess"
          ],
          [
           9780241364970,
           "How to be Good at English, Ages 7-14 (Key Stages 2-3): The Simplest-ever Visual Guide (DK How to Be Good at)"
          ],
          [
           9780241426364,
           "Space: a children's encyclopedia"
          ],
          [
           9780241206553,
           "All About Physics"
          ],
          [
           9780241286869,
           "Computer Coding Python Projects for Kids: A Step-by-Step Visual Guide (DK Help Your Kids With)"
          ],
          [
           9780241681473,
           "Children's Book of Philosophy (DK Children's Book of)"
          ],
          [
           9780241343692,
           "Pocket Eyewitness Science: Facts at Your Fingertips"
          ],
          [
           9780241656938,
           "Supernatural Creatures: Mythical and Sacred Creatures from Around the World"
          ],
          [
           9780241515341,
           "Extraordinary Dinosaurs and Other Prehistoric Life Visual Encyclopedia (DK Children's Visual Encyclopedia)"
          ],
          [
           9780241515358,
           "Timelines of Science: From Fossils to Quantum Physics (DK Children's Timelines)"
          ],
          [
           9780241343685,
           "Pocket Eyewitness Insects: Facts at Your Fingertips"
          ],
          [
           9780241607558,
           "1,000 Amazing Weird Facts (DK 1,000 Amazing Facts)"
          ],
          [
           9780241364369,
           "Knowledge Encyclopedia Dinosaur!: Over 60 Prehistoric Creatures as You've Never Seen Them Before (Knowledge Encyclopedias)"
          ],
          [
           9781409344704,
           "English Made Easy Early Writing Ages 3-5 Preschool (Made Easy Workbooks)"
          ],
          [
           9780241184950,
           "Easy Peasy Chinese Workbook: Mandarin Chinese Practice for Beginners"
          ],
          [
           9780241491591,
           "My First Dinosaur Flash Cards"
          ],
          [
           9780241318683,
           "DKfindout! Maya, Incas, and Aztecs"
          ],
          [
           9780241250242,
           "DKfindout! Volcanoes"
          ],
          [
           9781409344643,
           "English Made Easy, Ages 5-6 (Key Stage 1): Supports the National Curriculum, English Exercise Book (Made Easy Workbooks)"
          ],
          [
           9780241273135,
           "Baby Touch and Feel: Puppies"
          ],
          [
           9780241467060,
           "Ultimate Sticker Book Sharks"
          ],
          [
           9780241467077,
           "Ultimate Sticker Book Bugs"
          ],
          [
           9780241420256,
           "I Am, I Can: 365 affirmations for kids (Mindfulness for Kids)"
          ],
          [
           9781409346661,
           "Baby Touch and Feel Farm Friends"
          ],
          [
           9780241474112,
           "How To Be An Artist (Careers for Kids)"
          ],
          [
           9780241379325,
           "Rugby: Be on the Ball with the Greatest Game on Earth (My Book of Sports)"
          ],
          [
           9780241633335,
           "From Plant to Plate: Turn Home-Grown Ingredients Into Healthy Meals!"
          ],
          [
           9781409349471,
           "Spelling Made Easy, Ages 8-9 (Key Stage 2): Supports the National Curriculum, English Exercise Book (Made Easy Workbooks)"
          ],
          [
           9780241538500,
           "Dinosaur Club: Saving the Stegosaurus"
          ],
          [
           9780241645239,
           "King Charles III: Celebrating His Majesty's Coronation and Reign (History's Great Leaders)"
          ],
          [
           9780241689523,
           "An Anthology of Rocks and Minerals: A Collection of 100 Rocks, Minerals, and Gems from Around the World (DK's Little Anthologies)"
          ],
          [
           9780241323762,
           "My Mixed Emotions: Learn to Love Your Feelings"
          ],
          [
           9780241316344,
           "Baby Touch and Feel Baby Dinosaur"
          ],
          [
           9780241585214,
           "My First Things That Go: Let's get moving! (My First Tabbed Board Book)"
          ],
          [
           9780241395806,
           "The Book of Brilliant Bugs (The Magic and Mystery of Nature)"
          ],
          [
           9781409344810,
           "Maths Made Easy: Advanced, Ages 8-9 (Key Stage 2): Supports the National Curriculum, Maths Exercise Book (Made Easy Workbooks)"
          ],
          [
           9780241502648,
           "This Is How We Get Ready: For Little Kids Going To Big School (First Skills for Preschool)"
          ],
          [
           9780241412459,
           "RHS Under Your Feet: Soil, Sand and other stuff (Underground and All Around)"
          ],
          [
           9781405362573,
           "Baby Touch and Feel Tractor"
          ],
          [
           9780241197226,
           "My Sewing Machine Book: A Step-by-Step Beginner's Guide"
          ],
          [
           9780241563526,
           "The Secret World of Plants: Tales of More Than 100 Remarkable Flowers, Trees, and Seeds (DK Treasures)"
          ],
          [
           9780744066197,
           "Simple Pleasures: Easy Recipes for Everyday Indulgence"
          ],
          [
           9781465497666,
           "Intermittent Fasting Diet Guide and Cookbook: A Complete Guide to Fasting Strategies with 50+ Satisfying Recipes and 4 Flexible Meal Plans: 16:8, OMAD, 5:2, Alternate-day, and More"
          ],
          [
           9780593844052,
           "Andres Valencia: Painting Without Rules"
          ],
          [
           9780241426166,
           "Unforgettable Journeys: Slow down and see the world"
          ],
          [
           9780241710432,
           "DK London Mini Map and Guide (Pocket Travel Guide)"
          ],
          [
           9780241662632,
           "DK New Orleans (Travel Guide)"
          ],
          [
           9780241624494,
           "DK Brazil (Travel Guide)"
          ],
          [
           9780241680162,
           "Amsterdam Like a Local: By the People Who Call It Home (Local Travel Guide)"
          ],
          [
           9780241625026,
           "DK Top 10 Delhi (Pocket Travel Guide)"
          ],
          [
           9780241621035,
           "DK Scotland (Travel Guide)"
          ],
          [
           9780241615263,
           "Run: Races and Trails Around the World"
          ],
          [
           9780241718841,
           "DK Top 10 The Algarve (Pocket Travel Guide)"
          ],
          [
           9780241679029,
           "DK Cuba (Travel Guide)"
          ],
          [
           9780241462522,
           "DK Eyewitness Jerusalem, Israel and the Palestinian Territories (Travel Guide)"
          ],
          [
           9780744095104,
           "USA National Parks: Lands of Wonder"
          ],
          [
           9780241670729,
           "DK Umbria (Travel Guide)"
          ],
          [
           9780241629253,
           "The Screen Traveller's Guide: Real-life Locations Behind Your Favourite Movies and TV Shows"
          ],
          [
           9781728209517,
           "Dinosaur Lady: The Daring Discoveries of Mary Anning, the First Paleontologist"
          ],
          [
           9798886507652,
           "10-Minute Strength Training Exercises for Seniors: Exercises and Routines to Build Muscle, Balance, and Stamina"
          ],
          [
           9781641523325,
           "Feeling Better: CBT Workbook for Teens: Essential Skills and Activities to Help You Manage Moods, Boost Self-Esteem, and Conquer Anxiety (Health and Wellness Workbooks for Teens)"
          ],
          [
           9781646119288,
           "Solar System for Kids: A Junior Scientist's Guide to Planets, Dwarf Planets, and Everything Circling Our Sun"
          ],
          [
           9781641527651,
           "The Self-Love Journal: Banish Self-Doubt and Learn to Love Yourself"
          ],
          [
           9781728278254,
           "Why We Need Grandsons (Always in My Heart)"
          ],
          [
           9781646111848,
           "Restorative Yoga for Beginners: Gentle Poses for Relaxation and Healing"
          ],
          [
           9781647391072,
           "Paper Crafts for Kids: 25 Cut-Out Activities for Kids Ages 4-8"
          ],
          [
           9781646112593,
           "Once Upon a Word: A Word-Origin Dictionary for Kids―Building Vocabulary Through Etymology, Definitions & Stories"
          ],
          [
           9781728276410,
           "My Sticker Dress-Up: Fashionista"
          ],
          [
           9781623156756,
           "Crystals for Healing: The Complete Reference Guide With Over 200 Remedies for Mind, Heart & Soul"
          ],
          [
           9781647391546,
           "Geology for Kids: A Junior Scientist's Guide to Rocks, Minerals, and the Earth Beneath Our Feet"
          ],
          [
           9781641527385,
           "Weight Training for Women: Exercises and Workout Programs for Building Strength with Free Weights"
          ],
          [
           9781728264448,
           "A Game of Retribution: A Dark and Enthralling Reimagining of the Hades and Persephone Myth: 4 (Hades x Persephone Saga, 4)"
          ],
          [
           9781728220222,
           "The Haunting of Leigh Harker"
          ],
          [
           9781641523998,
           "The Door to Witchcraft: A New Witch's Guide to History, Traditions, and Modern-Day Spells"
          ],
          [
           9781728293929,
           "2025 She Believed She Could So She F*cking Did Wall (Calendars & Gifts to Swear By)"
          ],
          [
           9780241740842,
           "Rebel Girls Build the Future: Terrific Tales From The Metaverse"
          ],
          [
           9781641522724,
           "Thriving with Adult ADHD: Skills to Strengthen Executive Functioning"
          ],
          [
           9781464231674,
           "The Fate of Magic: The Sequel to the New York Times Bestselling Night of the Witch (Witch and Hunter)"
          ],
          [
           9781728220239,
           "From Below"
          ],
          [
           9781646117680,
           "Growth Mindset Activities for Kids: 55 Exercises to Embrace Learning and Overcome Challenges"
          ],
          [
           9781464235962,
           "This Girl's a Killer: The Gripping and Compelling Serial Killer Thriller"
          ],
          [
           9781464221484,
           "ABCs of Artificial Intelligence (Baby University)"
          ],
          [
           9798886509946,
           "Let's Go to the Potty!"
          ],
          [
           9781728251325,
           "Pansies: An MM Small Town Romance Story with Believable Characters: 4 (Spires)"
          ],
          [
           9781646111541,
           "The Psoriasis Diet Cookbook: Easy, Healthy Recipes to Soothe Your Symptoms"
          ],
          [
           9781728292649,
           "War: Laura Thalassa (The Four Horsemen)"
          ],
          [
           9781492656234,
           "Quantum Entanglement for Babies: 0 (Baby University)"
          ],
          [
           9781646112197,
           "Low-Carb Vegetarian Cookbook: 100 Easy Recipes and a Kick-Start Meal Plan"
          ],
          [
           9781464225116,
           "Catch the Sun"
          ],
          [
           9781728286860,
           "Hook Shot (Hoops)"
          ],
          [
           9781623156466,
           "Yoga for Beginners: Simple Yoga Poses to Calm Your Mind and Strengthen Your Body"
          ],
          [
           9781464235955,
           "The Heartbreakers: The Young Adult Rockstar Romance Sensation (The Heartbreak Chronicles)"
          ],
          [
           9781728293769,
           "2025 Dad Jokes Boxed Calendar: 365 Days of Punbelievable Jokes"
          ],
          [
           9781728293820,
           "2025 I Am Enough Affirmations Boxed Calendar: Daily Motivation to Inspire Positivity and Self-Love"
          ],
          [
           9781728232584,
           "ABCs of Geography (Baby University)"
          ],
          [
           9781464228247,
           "The Complete Shadow Work Workbook & Journal: Prioritise Your Mental Health & Embrace Inner Healing"
          ],
          [
           9781728245102,
           "10 Things That Never Happened (Material World)"
          ],
          [
           9781728235875,
           "Why a Son Needs a Dad (Always in My Heart)"
          ],
          [
           9781464223273,
           "House of War and Bone (Gilded City)"
          ],
          [
           9781728261430,
           "The Story of a Butterfly: Learn about the life cycle and habitat of the Painted Lady"
          ],
          [
           9781728286778,
           "Eyes on Me (Salacious Players' Club)"
          ],
          [
           9781728258225,
           "Pythagorean Theorem for Babies (Baby University)"
          ],
          [
           9781464223280,
           "House of Light and Ether (Gilded City)"
          ],
          [
           9781641523844,
           "The Bodybuilding Meal Prep Cookbook: Macro-Friendly Meals to Prepare, Grab, and Go"
          ],
          [
           9781492656319,
           "ABCs of Science: Amoeba, Bond, Conductor: 0 (Baby University)"
          ],
          [
           9781641523196,
           "Super Simple Baking for Kids: Learn to Bake with over 55 Easy Recipes for Cookies, Muffins, Cupcakes and More! (Super Simple Kids Cookbooks)"
          ],
          [
           9781464220302,
           "Hate (Madison Kate)"
          ],
          [
           9781641524964,
           "Me and My Feelings: A Kids' Guide to Understanding and Expressing Themselves"
          ],
          [
           9781464223266,
           "House of Ash and Shadow (Gilded City)"
          ],
          [
           9781464234149,
           "Promises and Pomegranates: A Dark and Spicy Romance Inspired by Hades and Persephone (Monsters & Muses)"
          ],
          [
           9781728291550,
           "The I Can Say Goodnight! (My First Learn-to-Talk Books)"
          ],
          [
           9781464225826,
           "The Fox and the Falcon: A Dark Urban Fantasy Romance from the Author of The Night and Its Moon (No Other Gods)"
          ],
          [
           9781728265285,
           "Glitterland: 1 (Spires)"
          ],
          [
           9781641520478,
           "No-Nonsense Buddhism for Beginners: Clear Answers to Burning Questions about Core Buddhist Teachings"
          ],
          [
           9781728250922,
           "Husband Material: 2 (London Calling)"
          ],
          [
           9781464249112,
           "The Blast from the Past: A Paranormal Murder Mystery & Contemporary Romance (Riley Thorn Book 3)"
          ],
          [
           9780241459553,
           "Crochet Step by Step: Techniques, Stitches, and Patterns Made Easy"
          ],
          [
           9780241408599,
           "101 Essential Tips Bonsai: Breaks Down the Subject into 101 Easy-to-Grasp Tips"
          ],
          [
           9780241648728,
           "The Raised Bed Book: Get the Most from Your Raised Bed, Every Step of the Way"
          ],
          [
           9780241510148,
           "Australian Women's Weekly Vegetarian: Flavoursome, Nutritious Everyday Recipes"
          ],
          [
           9780241593400,
           "Science of Stretch: Reach Your Flexible Potential, Stay Active, Maximize Mobility"
          ],
          [
           9781409365235,
           "A Little Course in Yoga: Simply Everything You Need to Succeed"
          ],
          [
           9780241480069,
           "Neal's Yard Remedies Mental Wellness: A Holistic Approach To Mental Health And Healing. Natural Remedies, Foods, Lifestyle Strategies, Therapies"
          ],
          [
           9780241400845,
           "Practical Self-sufficiency: The complete guide to sustainable living today"
          ],
          [
           9780241636039,
           "Doma: Traditional Flavours and Modern Recipes from the Balkan Diaspora"
          ],
          [
           9780241727287,
           "The Science of Fermentation"
          ],
          [
           9780241433232,
           "Tarot: Connect With Yourself, Develop Your Intuition, Live Mindfully"
          ],
          [
           9780241474464,
           "RHS The Creative Gardener: Inspiration and Advice to Create the Space You Want"
          ],
          [
           9780241343791,
           "Wood Craft: Master the Art of Green Woodworking"
          ],
          [
           9780241665169,
           "Creating Effective Spaces: Declutter, Organise and Maintain Your Space"
          ],
          [
           9780241575857,
           "RHS The Winter Garden: Celebrating the Forgotten Season"
          ],
          [
           9780241620281,
           "Have You Eaten?: Deliciously Simple Asian Cooking for Every Mood"
          ],
          [
           9780241412381,
           "Happy Bonsai: Choose It, Shape It, Love It"
          ],
          [
           9780241531457,
           "Australian Women's Weekly Quick & Easy: Simple, Everyday Recipes in 30 Minutes or Less"
          ],
          [
           9780241616031,
           "How to Wild Swim: What to Know Before Taking the Plunge"
          ],
          [
           9780241559253,
           "The Science of Gardening: Discover How Your Garden Really Grows"
          ],
          [
           9780241458594,
           "Grow Easy Veg: Essential Know-how and Expert Advice for Gardening Success"
          ],
          [
           9781409324645,
           "Neal's Yard Remedies Healing Foods: Eat Your Way to a Healthier Life"
          ],
          [
           9780241674543,
           "The Science of Menopause: Understand Your Body, Make the Right Choices"
          ],
          [
           9780241598245,
           "The Big Book of LEGO Facts (DK Bilingual Visual Dictionary)"
          ],
          [
           9780241539118,
           "Maths ― No Problem! Addition and Subtraction, Ages 5-7 (Key Stage 1) (Master Maths At Home)"
          ],
          [
           9780241539538,
           "Maths ― No Problem! Fractions, Decimals, Percentage and Ratio, Ages 10-11 (Key Stage 2) (Master Maths At Home)"
          ],
          [
           9780241539163,
           "Maths ― No Problem! Multiplication and Division, Ages 5-7 (Key Stage 1) (Master Maths At Home)"
          ],
          [
           9780241320037,
           "LEGO DC Comics Super Heroes Visual Dictionary: With Exclusive Yellow Lantern Batman Minifigure"
          ],
          [
           9780241567791,
           "The Gods of the Ancient World: A Kids’ Guide to Ancient Mythologies"
          ],
          [
           9780241538036,
           "LEGO DC Character Encyclopedia New Edition: With Exclusive LEGO DC Minifigure"
          ],
          [
           9780241401118,
           "Avatar The Way of Water The Visual Dictionary"
          ],
          [
           9780241694442,
           "A Kids Book About Periods"
          ],
          [
           9780241659243,
           "Marvel Avengers Glow in the Dark Sticker Book: With More Than 100 Stickers"
          ],
          [
           9780241674529,
           "Astrophysics for Supervillains 2 The Great Alien Hunt (Supervillain Academy)"
          ],
          [
           9780241516263,
           "Marvel Studios Be More Loki: Alternative Thinking From the God of Mischief"
          ],
          [
           9780241650035,
           "DC Cinematic Universe: A Celebration of DC at the Movies"
          ],
          [
           9780241653456,
           "LEGO Amazing Space: Fantastic Building Ideas and Facts About Our Amazing Universe"
          ],
          [
           9780241618370,
           "Sesame Street Elmo Asks Why?: A First Encyclopedia for Growing Minds"
          ],
          [
           9780241467770,
           "LEGO Life Hacks"
          ],
          [
           9780241598788,
           "DK Super Readers Level 2 Stars and Galaxies"
          ],
          [
           9780241421376,
           "Korean-English Bilingual Visual Dictionary with Free Audio App (DK Bilingual Visual Dictionary)"
          ],
          [
           9780241014820,
           "The Tractor Book: The Definitive Visual History"
          ],
          [
           9780241358719,
           "World War II Map by Map"
          ],
          [
           9780241363652,
           "The Science of Pregnancy: The Complete Illustrated Guide from Conception to Birth"
          ],
          [
           9780241515686,
           "Simply Maths (DK Simply)"
          ],
          [
           9780241487389,
           "World Religions: The Great Faiths Explored and Explained"
          ],
          [
           9780241600962,
           "How Biology Works: The Facts Visually Explained (DK How Stuff Works)"
          ],
          [
           9780241515617,
           "Earth: The Definitive Visual Guide (DK Definitive Visual Encyclopedias)"
          ],
          [
           9780241490327,
           "Concise Guide to Medicine & Drugs 7th Edition: Your Essential Quick Reference to Over 3,000 Prescription and Over-the-Counter Drugs"
          ],
          [
           9780241350386,
           "The Ecology Book: Big Ideas Simply Explained"
          ],
          [
           9780241600948,
           "History: The Definitive Visual Guide (DK Definitive Visual Encyclopedias)"
          ],
          [
           9780241634813,
           "Plants and Fungi: The Definitive Visual Guide (DK Definitive Visual Encyclopedias)"
          ],
          [
           9780241350362,
           "The Maths Book: Big Ideas Simply Explained (DK Big Ideas)"
          ],
          [
           9780241559024,
           "Music: The Definitive Visual History (DK Definitive Visual Encyclopedias)"
          ],
          [
           9780241515679,
           "Simply Psychology (DK Simply)"
          ],
          [
           9780241537824,
           "Ocean: The Definitive Visual Guide (DK Definitive Visual Encyclopedias)"
          ],
          [
           9780241688175,
           "Natural Wonders of the World (DK Wonders of the World)"
          ],
          [
           9780241437483,
           "The Survival Handbook"
          ],
          [
           9780241487402,
           "Managing People (Essential Managers)"
          ],
          [
           9780241450819,
           "How Art Works: The Concepts Visually Explained (DK How Stuff Works)"
          ],
          [
           9780241437469,
           "The Biology Book: Big Ideas Simply Explained (DK Big Ideas)"
          ],
          [
           9780241634769,
           "Timelines of World War II (DK Timelines)"
          ],
          [
           9780241471128,
           "The Night Sky Month by Month"
          ],
          [
           9780241515822,
           "Opera: The Definitive Illustrated Story"
          ],
          [
           9780241641484,
           "Battles that Changed History (DK History Changers)"
          ],
          [
           9780241015469,
           "The Literature Book: Big Ideas Simply Explained"
          ],
          [
           9780241182611,
           "The Shakespeare Book: Big Ideas Simply Explained (DK Big Ideas)"
          ],
          [
           9780241562949,
           "The Movie Book: Big Ideas Simply Explained (DK Big Ideas)"
          ],
          [
           9780241395523,
           "The Concise Human Body Book: An illustrated guide to its structure, function and disorders"
          ],
          [
           9780241634806,
           "The Truck Book: The Definitive Visual History (DK Definitive Transport Guides)"
          ],
          [
           9780241473740,
           "Spanish for Everyone Junior 5 Words a Day: Learn and Practise 1,000 Spanish Words"
          ],
          [
           9780241228401,
           "DK Braille It Can't Be True!"
          ],
          [
           9780241681664,
           "Viking: DK Eyewitness"
          ],
          [
           9780241617335,
           "Ancient Greece: DK Eyewitness"
          ],
          [
           9780241477915,
           "Sports: Facts at Your Fingertips (Pocket Eyewitness)"
          ],
          [
           9780241515488,
           "Super Simple Maths Revision Cards Key Stages 3 and 4: 125 Comprehensive, Easy-to-Use Revision Cards for GCSE Exam Preparation"
          ],
          [
           9780241605387,
           "The Ancient Worlds Atlas: A Pictorial Guide to Past Civilizations (DK Pictorial Atlases)"
          ],
          [
           9780241571156,
           "Our World in Pictures Animals of the World Flash Cards (DK Our World in Pictures)"
          ],
          [
           9780241525678,
           "English for Everyone Junior First Words Flash Cards (DK English for Everyone Junior)"
          ],
          [
           9780241471135,
           "English for Everyone Junior Beginner's Practice Book: Look, Listen, Learn, and Practise (DK English for Everyone Junior)"
          ],
          [
           9780241343654,
           "Pocket Eyewitness Dinosaurs: Facts at Your Fingertips"
          ],
          [
           9780241603284,
           "English for Everyone Junior First Words Animals Flash Cards (DK English for Everyone Junior)"
          ],
          [
           9780241509234,
           "How Everything Works: From Brain Cells to Black Holes"
          ],
          [
           9780241553046,
           "Train: DK Eyewitness"
          ],
          [
           9780241680421,
           "Quiz Yourself Clever! The Periodic Table (DK Quiz Yourself Clever)"
          ],
          [
           9780241601655,
           "The Dinosaur Book: Our World in Pictures (DK Our World in Pictures)"
          ],
          [
           9780241383957,
           "Rock and Mineral (DK Eyewitness)"
          ],
          [
           9780241536384,
           "What's the Point of Philosophy? (DK What's the Point of?)"
          ],
          [
           9780241553039,
           "Shark: DK Eyewitness"
          ],
          [
           9780241426371,
           "Picturepedia: an encyclopedia on every page"
          ],
          [
           9780241395776,
           "The Rainforest Book (Conservation for Kids)"
          ],
          [
           9780241412466,
           "Inventors: Incredible stories of the world's most ingenious inventions (DK Explorers)"
          ],
          [
           9780241562291,
           "Pop-Up Peekaboo! Shark: Pop-Up Surprise Under Every Flap!"
          ],
          [
           9780241295793,
           "DKfindout! Solar System Poster"
          ],
          [
           9780241225387,
           "Handwriting Made Easy: Advanced Writing, Ages 7-11 (Key Stage 2): Supports the National Curriculum, Handwriting Practice Book (Made Easy Workbooks)"
          ],
          [
           9780241533406,
           "Dinosaur Club: The T-Rex Attack"
          ],
          [
           9780241412442,
           "Jonny Lambert's Diggers (Jonny Lambert Illustrated)"
          ],
          [
           9780241388402,
           "Jonny Lambert's Wake Up, Farm! (Pop-Up Peekaboo) (Jonny Lambert Illustrated)"
          ],
          [
           9780241760147,
           "The Slime Book: All You Need to Know to Make the Perfect Slime"
          ],
          [
           9780241231074,
           "Look I'm a Scientist (Look! I'm Learning)"
          ],
          [
           9780241412688,
           "When I Grow Up - Sports Heroes: Kids Like You that Became Superstars"
          ],
          [
           9781409349433,
           "Spelling Made Easy, Ages 6-7 (Key Stage 1): Supports the National Curriculum, English Exercise Book (Made Easy Workbooks)"
          ],
          [
           9780241678886,
           "How To Be A Fashion Designer: Ideas, Projects, and Styling Tips to Help You Become a Fabulous Fashion Designer"
          ],
          [
           9780241609774,
           "Goddesses and Heroines: Meet More Than 80 Legendary Women From Around the World (Ancient Myths)"
          ],
          [
           9780241538616,
           "The Fact-Packed Activity Book: Rocks and Minerals: With More Than 50 Activities, Puzzles, and More!"
          ],
          [
           9780241361221,
           "Baby Touch and Feel Bible Animals"
          ],
          [
           9780241313886,
           "Look I'm an Engineer (Look! I'm Learning)"
          ],
          [
           9780241538692,
           "Sticker Encyclopedia Trucks (Sticker Encyclopedias)"
          ],
          [
           9780241376713,
           "Celebrations Around the World: The Fabulous Celebrations you Won't Want to Miss"
          ],
          [
           9780241366912,
           "What A Waste: Rubbish, Recycling, and Protecting our Planet (Protect the Planet)"
          ],
          [
           9780241631294,
           "The Solar System: Discover the Mysteries of Our Sun and Neighbouring Planets (Space Explorers)"
          ],
          [
           9780241669679,
           "The Bedtime Book of Magical Creatures: An Introduction to More than 100 Creatures from Legend and Folklore (The Bedtime Books)"
          ],
          [
           9780241446294,
           "First Emotions: How Am I Feeling?: A little guide to my emotions"
          ],
          [
           9780241413852,
           "DKfindout! Climate Change"
          ],
          [
           9780241619087,
           "The Bacteria Book (New Edition): Gross Germs, Vile Viruses and Funky Fungi (The Science Book)"
          ],
          [
           9780241559178,
           "Dinosaur Club: Catching the Velociraptor"
          ],
          [
           9780241538517,
           "Pop-Up Peekaboo! Pets"
          ],
          [
           9780241185452,
           "My First 123 (My First Board Books)"
          ],
          [
           9780241559192,
           "Dinosaur Club: Escaping the Liopleurodon"
          ],
          [
           9780241559215,
           "Underwater World: Aquatic Myths, Mysteries and the Unexplained (Mythical Worlds)"
          ],
          [
           9780241698020,
           "The Green Kingdom"
          ],
          [
           9780241675793,
           "RHS Ultimate Sticker Book Trees and Leaves: New Edition with More Than 250 Stickers"
          ],
          [
           9780241555309,
           "My First Seasons: Let's Learn About the Year! (My First Tabbed Board Book)"
          ],
          [
           9780241446287,
           "Where Does My Poo Go?"
          ],
          [
           9781615649921,
           "Pilates for Everyone: 50 exercises for every type of body"
          ],
          [
           9780744079074,
           "Safe & Sound: A Renter-Friendly Guide to Home Repair"
          ],
          [
           9781465492630,
           "Restorative Yoga: Relax. Restore. Re-energize."
          ],
          [
           9780241569030,
           "New York City Like a Local: By the People Who Call It Home (Local Travel Guide)"
          ],
          [
           9780241306154,
           "DK Eyewitness Mallorca, Menorca and Ibiza"
          ],
          [
           9780241275450,
           "DK Eyewitness Travel Guide Las Vegas: DK Eyewitness Travel Guide 2017"
          ],
          [
           9780241306246,
           "DK Eyewitness Travel Guide Hungary"
          ],
          [
           9780241473887,
           "DK Provence and the Cote d'Azur (Travel Guide)"
          ],
          [
           9780241461525,
           "DK Road Trips Northern & Central Italy: plan with ease, explore with confidence (Travel Guide)"
          ],
          [
           9780241565957,
           "DK Arizona and the Grand Canyon: Eyewitness Travel Guide 2017"
          ],
          [
           9780241710630,
           "DK Berlin (Travel Guide)"
          ],
          [
           9780241679043,
           "DK Top 10 Cuba (Pocket Travel Guide)"
          ],
          [
           9780241686829,
           "Nashville Like a Local: By the People Who Call It Home (Local Travel Guide)"
          ],
          [
           9780241568491,
           "Chicago Like a Local: By the People Who Call It Home (Local Travel Guide)"
          ],
          [
           9780241306543,
           "Family Guide New York City (Travel Guide)"
          ],
          [
           9780241612460,
           "DK Tokyo (Travel Guide)"
          ],
          [
           9780241717226,
           "DK Munich and the Bavarian Alps (Travel Guide)"
          ],
          [
           9780241418345,
           "DK Eyewitness Hawaii (Travel Guide)"
          ],
          [
           9780241718629,
           "DK Stockholm (Travel Guide)"
          ],
          [
           9780241397732,
           "DK Eyewitness London Mini Map and Guide (Pocket Travel Guide)"
          ],
          [
           9780241196762,
           "DK Eyewitness Travel Guide Beijing and Shanghai"
          ],
          [
           9780241633069,
           "Vancouver Like a Local: By the People Who Call It Home (Local Travel Guide)"
          ],
          [
           9780241682104,
           "DK National Parks of the USA (Travel Guide)"
          ],
          [
           9798889641407,
           "Rebel Girls Cook"
          ],
          [
           9781464237799,
           "Truth or Beard: A Small Town Enemies to Lovers Romance (Winston Brothers)"
          ],
          [
           9781492652786,
           "The Bone Witch: 1"
          ],
          [
           9781728276373,
           "My Sticker Dress-Up: Dancers"
          ],
          [
           9781728264530,
           "Kisses: A Lift-the-Flap & Sliding Parts Book"
          ],
          [
           9781646117055,
           "Paganism for Beginners: The Complete Guide to Nature-Based Spirituality for Every New Seeker"
          ],
          [
           9781464220289,
           "Fake (Madison Kate)"
          ],
          [
           9781641526104,
           "The Ultimate Self-Esteem Workbook for Teens: Overcome Insecurity, Defeat Your Inner Critic, and Live Confidently (Health and Wellness Workbooks for Teens)"
          ],
          [
           9781492656241,
           "ABCs of Physics: 0 (Baby University)"
          ],
          [
           9781492694045,
           "Baby Biochemist: DNA (Baby University)"
          ],
          [
           9781641522632,
           "Human Body Activity Book for Kids: Hands-On Fun for Grades K-3"
          ],
          [
           9781492671114,
           "This Is Where It Ends"
          ],
          [
           9781641526425,
           "Bead Jewelry Making for Beginners: Step-by-Step Instructions for Beautiful Designs"
          ],
          [
           9781647398507,
           "Houseplants for Beginners: A Practical Guide to Choosing, Growing, and Helping Your Plants Thrive"
          ],
          [
           9781647391409,
           "How to Be a Big Brother: A Guide to Being the Best Older Sibling Ever"
          ],
          [
           9781728221793,
           "The Haunting of Gillespie House"
          ],
          [
           9781646112432,
           "Palm Reading for Beginners: A Guide to Discovering Your Strengths and Decoding Your Life Path"
          ],
          [
           9781641527040,
           "Black Heroes: A Black History Book for Kids: 51 Inspiring People from Ancient Africa to Modern-Day U.S.A. (People and Events in History)"
          ],
          [
           9781728294421,
           "A F*cking Rage Journal"
          ],
          [
           9781641520256,
           "Practical Meditation for Beginners: 10 Days to a Happier, Calmer You"
          ],
          [
           9781728293806,
           "2025 Great Quotes From Great Leaders Boxed Calendar"
          ],
          [
           9781492671176,
           "Nuclear Physics for Babies: 0 (Baby University)"
          ],
          [
           9798889641094,
           "Rebel Girls Celebrate Neurodiversity: 25 Tales of Creative Thinkers"
          ],
          [
           9781492657217,
           "Five Total Strangers"
          ],
          [
           9781492671145,
           "ABCs of Biology: 0 (Baby University)"
          ],
          [
           9781464223907,
           "Timber: An Enemies to Lovers Mafia Romance as Seen on TikTok (Hades)"
          ],
          [
           9781728251400,
           "The Nature of Witches"
          ],
          [
           9781647396862,
           "The 30-Minute Fibromyalgia Cookbook: 75 Quick and Easy Anti-Inflammatory Recipes"
          ],
          [
           9781728261683,
           "King of Battle and Blood: A Dark & Steamy Vampire Romance for Romantasy Lovers: 1 (Adrian X Isolde, 1)"
          ],
          [
           9798886508536,
           "The 369 Method Manifestation Journal: Unlock the Divine Code of the Universe and Attract the Life You Want"
          ],
          [
           9781464228292,
           "Cruel Seduction: A Divinely Dark Romance Retelling of Aphrodite, Hephaestus, Pandora and Adonis (Dark Olympus 5)"
          ],
          [
           9781464233296,
           "The Specimen: A Chilling Gothic Historical Thriller Based On the Burke and Hare Murders"
          ],
          [
           9781728220406,
           "ABCs of Economics: 1 (Baby University)"
          ],
          [
           9781728295374,
           "Savage Lover: A Dark Mafia Romance (Brutal Birthright)"
          ],
          [
           9781728278377,
           "Twisted: The Fractured Fairy Tale and TikTok Sensation (Never After)"
          ],
          [
           9781464249181,
           "The Fine Art of Faking It (Blue Moon)"
          ],
          [
           9781646111374,
           "Beginner's Baking Bible: 130+ Recipes and Techniques for New Bakers"
          ],
          [
           9781728286839,
           "The Rebel King (All The King's Men)"
          ],
          [
           9781464239571,
           "Buried in a Good Book: A Cosy Crime Murder Mystery Set in a Remote Cabin (By the Book Mysteries)"
          ],
          [
           9781728286822,
           "The Kingmaker (All The King's Men)"
          ],
          [
           9781728214191,
           "My Very First Cookbook: Joyful Recipes to Make Together! (Little Chef)"
          ],
          [
           9781728251356,
           "Waiting for the Flood: 2 (Spires)"
          ],
          [
           9781728215198,
           "The New Girl"
          ],
          [
           9781647396251,
           "Mental Health Journal for Men: Creative Prompts, Practices, and Exercises to Bolster Wellness"
          ],
          [
           9781464219948,
           "Minx"
          ],
          [
           9781728294780,
           "A Song of Ash and Moonlight: The Spicy Enemies to Lovers Romantasy Sensation (The Middlemist Trilogy)"
          ],
          [
           9798889641308,
           "Rebel Girls All Things Friendship: A Guide to Celebrating Old Friends, Making New Ones, and Navigating Sticky Social Situations"
          ],
          [
           9781492656296,
           "Electromagnetism for Babies: 0 (Baby University)"
          ],
          [
           9781464228261,
           "Electric Idol: A Divinely Dark Romance Retelling of Psyche and Eros (Dark Olympus 2)"
          ],
          [
           9781464223884,
           "Anarchy: An Enemies to Lovers Mafia Romance as Seen on TikTok (Hades)"
          ],
          [
           9781728279343,
           "Maybe Meant to Be"
          ],
          [
           9781464231582,
           "Apples Dipped in Gold: A Dark Fae Romance Adult Fantasy from the Author of Hades x Persephone (Fairy Tale Retelling)"
          ],
          [
           9781641527491,
           "A Year of Mindfulness: A 52-Week Guided Journal to Cultivate Peace and Presence (A Year of Reflections Journal)"
          ],
          [
           9781648760013,
           "The Daily Gratitude Journal for Men: 90 Days of Mindfulness and Reflection"
          ],
          [
           9781728278940,
           "Where He Can't Find You"
          ],
          [
           9781641522755,
           "Ninja Foodi: The Pressure Cooker that Crisps: One-Pot Cookbook: 100 Fast and Flavorful Meals to Maximize Your Foodi"
          ],
          [
           9781646113118,
           "Origami Made Simple: 40 Easy Models with Step-by-Step Instructions"
          ],
          [
           9781464210723,
           "Nobody's Sweetheart Now: The First Lady Adelaide Mystery: 1 (Lady Adelaide Mysteries, 1)"
          ],
          [
           9781641527712,
           "Figure Drawing for Kids: A Step-By-Step Guide to Drawing People (Drawing Books for Kids Ages 9 to 12)"
          ],
          [
           9781648766862,
           "Chair Yoga: Accessible Sequences to Build Strength, Flexibility, and Inner Calm"
          ],
          [
           9780241483855,
           "The Artist's Manual: The Definitive Art Sourcebook: Media, Materials, Tools, and Techniques"
          ],
          [
           9780241491119,
           "Bumps and Burpees: Your Guide to Staying Strong, Fit and Happy Throughout Pregnancy"
          ],
          [
           9780241480076,
           "B.K.S. Iyengar Yoga The Path to Holistic Health: The Definitive Step-by-step Guide"
          ],
          [
           9780241259900,
           "Superfood Breakfasts: Quick and Simple, High-Nutrient Recipes to Kickstart Your Day"
          ],
          [
           9780241386729,
           "RHS Your Wellbeing Garden: How to Make Your Garden Good for You - Science, Design, Practice"
          ],
          [
           9780241377710,
           "Natural Baking: Healthier Recipes for a Guilt-Free Treat"
          ],
          [
           9780241678879,
           "Come Closer: Everything You Ever Wanted to Ask a Sex and Relationship Therapist"
          ],
          [
           9780241412398,
           "Knit Step by Step: Techniques, stitches, and patterns made easy"
          ],
          [
           9780241392577,
           "Home Brew Beer: Master the Art of Brewing Your Own Beer"
          ],
          [
           9780241459560,
           "Woodwork Step by Step: Carpentry Techniques Made Easy"
          ],
          [
           9780241435823,
           "Grow Containers: Essential Know-how and Expert Advice for Gardening Success"
          ],
          [
           9780241435809,
           "Is It Really Green?: Everyday Eco Dilemmas Answered"
          ],
          [
           9780241302132,
           "Neal's Yard Remedies Complete Wellness: Enjoy Long-lasting Health and Wellbeing with over 800 Natural Remedies"
          ],
          [
           9780241660119,
           "The Pregnancy Encyclopedia: All Your Questions Answered"
          ],
          [
           9780241387375,
           "The Science of Living: 219 reasons to rethink your daily routine"
          ],
          [
           9780241676707,
           "The Greenhouse Book: Make the Most of Your Greenhouse Throughout the Year"
          ],
          [
           9780241661611,
           "RHS What Plant Where Encyclopedia: An Expert Guide to More Than 3,000 Plants"
          ],
          [
           9780241458570,
           "The Science of Sleep: Stop Chasing a Good Night’s Sleep and Let It Find You"
          ],
          [
           9780241296660,
           "15-Minute Gentle Yoga: Four 15-Minute Workouts for Energy, Balance, and Calm (15 Minute Fitness)"
          ],
          [
           9780241534700,
           "Fast Family Food: Easy Meals for You and Your Baby Prepped in 10 Minutes (What Mummy Makes)"
          ],
          [
           9780241649022,
           "The Complete Air Fryer Cookbook: Over 100 Easy, Energy-efficient Recipes for Every Meal"
          ],
          [
           9780241530504,
           "Grow Bulbs: Essential Know-how and Expert Advice for Gardening Success"
          ],
          [
           9781409337355,
           "Simple Flower Arranging"
          ],
          [
           9780241612767,
           "The View From Down Here: Life as a Young Disabled Woman"
          ],
          [
           9780241341094,
           "Happy Cactus: Choose It, Love It, Let It Thrive"
          ],
          [
           9780241541814,
           "No Dig: Nurture Your Soil to Grow Better Veg with Less Effort"
          ],
          [
           9780241727430,
           "The Complete Baking Air Fryer Cookbook: 75 Baking Recipes Perfect for Your Air Fryer"
          ],
          [
           9780241652695,
           "Meditation for the Real World: Finding Peace in Everyday Life"
          ],
          [
           9780241481127,
           "The Coffee Book: Barista Tips * Recipes * Beans from Around the World"
          ],
          [
           9780241531365,
           "Mindful New Mum: A Mind-Body Approach to the Highs and Lows of Motherhood"
          ],
          [
           9780241543894,
           "RHS Roses: An Inspirational Guide to Choosing and Growing the Best Roses"
          ],
          [
           9780241548653,
           "The Book of Spells: 150 Magickal Ways to Achieve Your Heart's Desire"
          ],
          [
           9780241412411,
           "RHS Step-by-Step Veg Patch: A Foolproof Guide to Every Stage of Growing Fruit and Veg"
          ],
          [
           9780241435861,
           "Fakeaway: Healthy Home-cooked Takeaway Meals"
          ],
          [
           9780241681626,
           "You Can Cook Everything: A Contemporary Guide to Perfect Home Cooking Every Time"
          ],
          [
           9780241659779,
           "Minecraft Idea a Day: Packed with Hundreds of Ideas to Inspire You!"
          ],
          [
           9780241742938,
           "A Kids Book About Nervous System Regulation"
          ],
          [
           9780241525722,
           "Maths ― No Problem! Collection of 6 Workbooks, Ages 7-8 (Key Stage 2)"
          ],
          [
           9780241557624,
           "List Happy: 75 Lists for Happiness, Gratitude, and Wellbeing"
          ],
          [
           9780241539231,
           "Maths ― No Problem! Geometry and Shape, Ages 7-8 (Key Stage 2) (Master Maths At Home)"
          ],
          [
           9780241554708,
           "Mrs Wordsmith Year 6 English Monumental Workbook, Ages 10–11 (Key Stage 2): + 3 Months of Word Tag Video Game"
          ],
          [
           9780241539392,
           "Maths ― No Problem! Geometry and Shape, Ages 8-9 (Key Stage 2) (Master Maths At Home)"
          ],
          [
           9780241539255,
           "Maths ― No Problem! Multiplication and Division, Ages 7-8 (Key Stage 2) (Master Maths At Home)"
          ],
          [
           9780241539545,
           "Maths ― No Problem! Algebra and Extra Challenges, Ages 10-11 (Key Stage 2) (Master Maths At Home)"
          ],
          [
           9780241539132,
           "Maths ― No Problem! Geometry and Shape, Ages 5-7 (Key Stage 1) (Master Maths At Home)"
          ],
          [
           9780241481356,
           "The Met Faith Ringgold"
          ],
          [
           9780241699607,
           "DC Ultimate Character Guide New Edition"
          ],
          [
           9780241389171,
           "Disney Princess The Essential Guide New Edition"
          ],
          [
           9780241662267,
           "Pop-Up Peekaboo! Star Wars Young Jedi Adventures"
          ],
          [
           9780241574782,
           "Marvel Guardians of the Galaxy The Ultimate Guide New Edition"
          ],
          [
           9780241538906,
           "Maths ― No Problem! Numbers to 10, Ages 4-6 (Key Stage 1) (Master Maths At Home)"
          ],
          [
           9780241357675,
           "Disney Frozen 2 The Magical Guide: Includes Poster"
          ],
          [
           9780241575826,
           "1000 Hours Outside: Activities to Match Screen Time with Green Time"
          ],
          [
           9780241409381,
           "LEGO Jurassic World Build Your Own Adventure: with minifigure and exclusive model"
          ],
          [
           9780241460511,
           "Mysteries Uncovered: True Stories of the Paranormal and Unexplained (True Crime Uncovered)"
          ],
          [
           9780241410059,
           "Marvel Greatest Comics: 100 Comics that Built a Universe"
          ],
          [
           9780241605875,
           "Star Wars The High Republic Character Encyclopedia"
          ],
          [
           9780241479001,
           "The Met Vincent van Gogh: He Saw the World in Vibrant Colours (What The Artist Saw)"
          ],
          [
           9780241458235,
           "LEGO Minifigure Handbook"
          ],
          [
           9780241521786,
           "Mighty LEGO Mechs"
          ],
          [
           9780241593417,
           "Star Wars Bounty Hunters Ultimate Sticker Collection"
          ],
          [
           9780241670040,
           "Kahoot! Quiz Time Dinosaurs: 250 Trivia Questions (with QR Codes Inside for 150 Interactive Bonus Questions) – Educational Kids Quiz Book"
          ],
          [
           9780241574027,
           "Marvel Spider-Man Character Encyclopedia New Edition: More than 200 Heroes and Villains from Spider-Man's World"
          ],
          [
           9780241542491,
           "LEGO Meet the Minifigures: With Exclusive LEGO Rockstar Minifigure"
          ],
          [
           9780241633939,
           "Avatar The Official Cookbook of Pandora"
          ],
          [
           9780241605998,
           "Kahoot! Quiz Time Animals: 250 Trivia Questions (with QR Codes Inside for 150 Interactive Bonus Questions) – Educational Kids Quiz Book"
          ],
          [
           9780241467619,
           "The Masters Of The Universe Book"
          ],
          [
           9780241467794,
           "LEGO Magical Ideas: With Exclusive LEGO Neon Dragon Model"
          ],
          [
           9780241681404,
           "LEGO Ninjago Dragons Rising Character Guide: With LEGO Sora Minifigure"
          ],
          [
           9780241611999,
           "The Very Young Person's Guide to Ballet Music"
          ],
          [
           9780241513514,
           "The Most Important Comic Book on Earth: Stories to Save the World"
          ],
          [
           9780241665121,
           "German English Bilingual Visual Dictionary (DK Bilingual Visual Dictionaries)"
          ],
          [
           9780241491409,
           "Italian for Everyone Junior 5 Words a Day: Learn and Practise 1,000 Italian Words"
          ],
          [
           9780241601501,
           "Italian English Illustrated Dictionary: A Bilingual Visual Guide to Over 10,000 Italian Words and Phrases"
          ],
          [
           9780241335123,
           "English for Everyone Teacher's Guide (DK English for Everyone)"
          ],
          [
           9780241537398,
           "German in 3 Months with Free Audio App: Your Essential Guide to Understanding and Speaking German (Hugo in 3 Months)"
          ],
          [
           9780241603185,
           "DK Super Readers Level 3 Giant Squid"
          ],
          [
           9780241603734,
           "DK Super Readers Level 2 Great White Sharks"
          ],
          [
           9780751321531,
           "Turkish Phrase Book (Eyewitness Travel Guides Phrase Books)"
          ],
          [
           9780241631638,
           "15 Minute Japanese: Learn in Just 12 Weeks (DK 15-Minute Language Learning)"
          ],
          [
           9780241413036,
           "5 Language Visual Dictionary: Over 6,500 illustrated terms, labelled in English, French, German, Spanish and Italian"
          ],
          [
           9780241617144,
           "Language Around the World: Ways we Communicate our Thoughts and Feelings (DK Around the World, 1)"
          ],
          [
           9780241531341,
           "Shakti"
          ],
          [
           9780241515525,
           "Big History: The Greatest Events of All Time From the Big Bang to Binary Code"
          ],
          [
           9780241490310,
           "Bird: The Definitive Visual Guide (DK Definitive Visual Encyclopedias)"
          ],
          [
           9780241656822,
           "Philosophers Who Changed History: DK History Changers"
          ],
          [
           9780241607992,
           "Sikhs: A Story of a People, Their Faith and Culture"
          ],
          [
           9780241471289,
           "A Short History of The Vietnam War"
          ],
          [
           9780241515655,
           "How Business Works: The Facts Visually Explained (DK How Stuff Works)"
          ],
          [
           9781405375870,
           "Nature Guide Stars and Planets (DK Nature Guide)"
          ],
          [
           9780241392164,
           "War: The Definitive Visual History"
          ],
          [
           9781405341240,
           "World History (DK Eyewitness Companions)"
          ],
          [
           9780241426432,
           "The Little Book of Politics (Big Ideas)"
          ],
          [
           9780241298961,
           "The Crime Book: Big Ideas Simply Explained"
          ],
          [
           9780241426418,
           "Digital Photographer's Handbook: 7th Edition of the Best-Selling Photography Manual"
          ],
          [
           9780241225967,
           "Medicine: The Definitive Illustrated History"
          ],
          [
           9780241470992,
           "Dinosaurs and Other Prehistoric Life (DK Handbooks)"
          ],
          [
           9780241569504,
           "The Herb Book: The Stories, Science, and History of Herbs"
          ],
          [
           9780241695906,
           "Planisphere and Starfinder: Includes Easy-to-Use Planisphere"
          ],
          [
           9780241436189,
           "Gemstones (DK Handbooks)"
          ],
          [
           9780241446317,
           "The Complete Cat Breed Book: Choose the Perfect Cat for You"
          ],
          [
           9780241471272,
           "The Story of the Car: The Definitive History of Automobiles (DK Definitive Visual Histories)"
          ],
          [
           9780241188019,
           "How the Body Works: The Facts Simply Explained (DK How Stuff Works)"
          ],
          [
           9780241226346,
           "Concise World Atlas: Everything You Need to Know About Our Planet Today"
          ],
          [
           9781405305570,
           "New Pocket Dog Training"
          ],
          [
           9780241515877,
           "Photography: The Definitive Visual History (DK Definitive Cultural Histories)"
          ],
          [
           9780241363638,
           "Journey: An Illustrated History of the World's Greatest Travels (DK Definitive Visual Histories)"
          ],
          [
           9780241340691,
           "The Visual Encyclopedia"
          ],
          [
           9780241651421,
           "The Motorbike Book: The Definitive Visual History (DK Definitive Transport Guides)"
          ],
          [
           9780241657911,
           "A History of Christianity: 2,000 Years of Faith"
          ],
          [
           9780241529751,
           "Masters of War: A Visual History of Military Personnel from Commanders to Frontline Fighters"
          ],
          [
           9780241638576,
           "The Cat Encyclopedia: The Definitive Visual Guide (DK Pet Encyclopedias)"
          ],
          [
           9780241471319,
           "Simply Economics (DK Simply)"
          ],
          [
           9780241523568,
           "Complete Flags of the World: The Ultimate Pocket Guide"
          ],
          [
           9780241536391,
           "Banned Books: Notorious - Provocative - Revolutionary (DK Secret Histories)"
          ],
          [
           9780241624722,
           "Children's Book of Music (DK Children's Book of)"
          ],
          [
           9781409337027,
           "Children's Illustrated Dictionary (DK Children's Illustrated Reference)"
          ],
          [
           9780241515242,
           "How to be a Maths Genius: Your Brilliant Brain and How to Train It"
          ],
          [
           9780241631676,
           "Reptile: DK Eyewitness"
          ],
          [
           9780241681695,
           "Horse: DK Eyewitness"
          ],
          [
           9780241601402,
           "French for Everyone Junior First Words Flash Cards"
          ],
          [
           9780241381847,
           "What's the Point of Science?"
          ],
          [
           9780241412985,
           "Explanatorium of History: From the First Tools to the Climate Crisis"
          ],
          [
           9780241507193,
           "Dinosaur (DK Eyewitness)"
          ],
          [
           9780241603949,
           "English for Everyone Junior First Words Colours, Shapes, and Numbers Flash Cards (DK English for Everyone Junior)"
          ],
          [
           9780241569832,
           "Fish: DK Eyewitness"
          ],
          [
           9780241381489,
           "Hurricane and Tornado (DK Eyewitness)"
          ],
          [
           9780241607541,
           "1,000 Amazing Gross Facts (DK 1,000 Amazing Facts)"
          ],
          [
           9781409383390,
           "Story of the Titanic (DK History)"
          ],
          [
           9780241617328,
           "Crystal and Gem: DK Eyewitness"
          ],
          [
           9780241601600,
           "Cardboard Activity Lab: 25 Exciting Recycling Projects for Crafty Kids (DK Activity Lab)"
          ],
          [
           9780241515099,
           "Ocean (DK Eyewitness)"
          ],
          [
           9780241412909,
           "What's Where on Earth? Animal Atlas: The World's Wildlife as You've Never Seen it Before"
          ],
          [
           9780241569931,
           "1,000 Amazing Dinosaur Facts (DK 1,000 Amazing Facts)"
          ],
          [
           9780241286975,
           "Children's Illustrated Thesaurus (DK Children's Illustrated Reference)"
          ],
          [
           9780241356296,
           "China Through Time: A 2,500 Year Journey along the World's Greatest Canal"
          ],
          [
           9780241317075,
           "Pop-Up Peekaboo! Numbers"
          ],
          [
           9781409344872,
           "Maths Made Easy: Numbers, Ages 3-5 (Preschool): Supports the National Curriculum, Maths Exercise Book (Made Easy Workbooks)"
          ],
          [
           9780241395783,
           "RHS How Does a Frog Grow? (Life Cycle Board Books)"
          ],
          [
           9780241655863,
           "Ancient Myths Collection: Greek Myths, Norse Myths and Egyptian Myths: Featuring 75 Legends and More than 200 Characters"
          ],
          [
           9780241419885,
           "Follow the Trail Minibeasts: Take a Peek! Fun Finger Trails!"
          ],
          [
           9780241395813,
           "Recycle and Remake: Creative Projects for Eco Kids"
          ],
          [
           9780241654668,
           "My Very Important Lift-the-Flap Book Farm: With More Than 80 Flaps to Lift"
          ],
          [
           9780241363287,
           "I Love You Little One"
          ],
          [
           9780241315897,
           "DKfindout! Robots"
          ],
          [
           9781409334910,
           "Baby Touch and Feel Counting"
          ],
          [
           9780241323014,
           "DKfindout! Energy"
          ],
          [
           9780241632321,
           "My Very Important Lift-the-Flap Book: Animals: With More Than 80 Flaps to Lift"
          ],
          [
           9780241188781,
           "First Earth Encyclopedia: A first reference book for children (DK First Reference)"
          ],
          [
           9780241439586,
           "First Emotions: I Feel Sad"
          ],
          [
           9780241460122,
           "The Brain Book (The Science Book)"
          ],
          [
           9780241318676,
           "DKfindout! World War I"
          ],
          [
           9780241680834,
           "Pocket Pop-Up Peekaboo! Unicorn"
          ],
          [
           9780241427149,
           "Baby Touch and Feel Flamingo"
          ],
          [
           9780241563502,
           "My Family and Other Families: Finding the Power in Our Differences"
          ],
          [
           9781409366584,
           "Baby Touch and Feel Mealtime"
          ],
          [
           9781409349617,
           "Pop-Up Peekaboo! Tractor"
          ],
          [
           9781409344834,
           "Maths Made Easy: Advanced, Ages 9-10 (Key Stage 2): Supports the National Curriculum, Maths Exercise Book (Made Easy Workbooks)"
          ],
          [
           9780241598306,
           "Everything You Need to Know About Frogs: And Other Slippery Creatures"
          ],
          [
           9780241538715,
           "My Very Important Lift-the-Flap Book: Vehicles and Things That Go: With More Than 80 Flaps to Lift"
          ],
          [
           9780241533437,
           "Baby's First Holi (Baby's First Holidays)"
          ],
          [
           9780241459522,
           "Baby Touch and Feel Panda"
          ],
          [
           9780241685211,
           "Pop-up Peekaboo! Winter: Pop-Up Surprise Under Every Flap!"
          ],
          [
           9780241689516,
           "An Anthology of Fungi: A Collection of 100 Mushrooms, Toadstools and Other Fungi (DK's Little Anthologies)"
          ],
          [
           9780241669693,
           "Pop-Up Peekaboo! Monkey: Pop-Up Surprise Under Every Flap!"
          ],
          [
           9780241655474,
           "Why? Encyclopedia: Brilliant Answers to Baffling Questions (Why? Series)"
          ],
          [
           9780241675731,
           "RHS Ultimate Sticker Book Garden Pond: New Edition with More Than 250 Stickers"
          ],
          [
           9781409376033,
           "Pop-Up Peekaboo! Kitten"
          ],
          [
           9780241669808,
           "Mountain: Go On a Grand Tour of the Highest Places on Earth (Earth's Incredible Habitats)"
          ],
          [
           9780241614877,
           "Pop-Up Peekaboo! Garden: Pop-Up Surprise Under Every Flap!"
          ],
          [
           9780241276358,
           "My Encyclopedia of Very Important Animals: For Little Animal Lovers Who Want to Know Everything (My Very Important Encyclopedias)"
          ],
          [
           9780241358399,
           "DKfindout! Space Travel"
          ],
          [
           9780241595596,
           "Adventures with The Secret Explorers: Collection One: 4-Book Box Set of Educational Fiction Chapter Books Books"
          ],
          [
           9780241316535,
           "My First Numbers and Counting"
          ],
          [
           9780241603888,
           "Why Is the Sky Blue?: With 200 Amazing Questions About Science"
          ],
          [
           9780241664766,
           "Myths of China: Meet the Gods, Creatures, and Heroes of Ancient China (Ancient Myths)"
          ],
          [
           9780241674550,
           "My First Busy Town: Let's Get Going! (My First Tabbed Board Book)"
          ],
          [
           9780241423684,
           "Little Travellers Landmarks of the World: Packed with puzzles, doodles, stickers, quizzes, and lots more"
          ],
          [
           9780241559185,
           "Dinosaur Club: The Compsognathus Chase"
          ],
          [
           9780241319901,
           "Children's Illustrated History Atlas (Children's Illustrated Atlases)"
          ],
          [
           9780241358375,
           "Why Does the Earth Need the Moon?: With 200 Amazing Questions About Our Planet (Why? Series)"
          ],
          [
           9780241584965,
           "My Encyclopedia of Very Important Myths and Legends: For Little Learners Who Love Fantastic Stories (My Very Important Encyclopedias)"
          ],
          [
           9780241503508,
           "Gross and Ghastly: Animals: The Big Book of Disgusting Animal Facts (Gross and Ghastly, 1)"
          ],
          [
           9780241484333,
           "Scientists: Inspiring tales of the world's brightest scientific minds (DK Explorers)"
          ],
          [
           9780241534168,
           "Artists: Inspiring Stories of the World's Most Creative Minds (DK Explorers)"
          ],
          [
           9780241481547,
           "Once Upon A Time...there was a Greedy King"
          ],
          [
           9780241554203,
           "Time to Use the Potty: A Potty Training Book for Boys and Girls"
          ],
          [
           9780241642672,
           "Pop-Up Peekaboo! Frog: Pop-Up Surprise Under Every Flap!"
          ],
          [
           9781409334651,
           "Pop-Up Peekaboo! Puppies"
          ],
          [
           9780241358474,
           "DKfindout! Birds"
          ],
          [
           9780241322871,
           "DKfindout! Universe"
          ],
          [
           9780241295830,
           "DKfindout! Human Body Poster"
          ],
          [
           9780241412145,
           "Sticker Encyclopedia Animals (Sticker Encyclopedias)"
          ],
          [
           9780241459003,
           "Baby's First Easter (Baby's First Holidays)"
          ],
          [
           9780241183847,
           "10 Minutes A Day Spelling Fun, Ages 5-7 (Key Stage 1): Supports the National Curriculum, Helps Develop Strong English Skills"
          ],
          [
           9780241611876,
           "Every One Is Special: Babies"
          ],
          [
           9781409344698,
           "English Made Easy: Early Reading, Ages 3-5 (Preschool): Supports the National Curriculum, Reading Exercise Book (Made Easy Workbooks)"
          ],
          [
           9780241285107,
           "DKfindout! Earth"
          ],
          [
           9780241654651,
           "Dinosaur Club: Flight of the Quetzalcoatlus"
          ],
          [
           9780744099454,
           "Live Free, Eat Well: Elevated Cuisine for Outdoorsy Travelers and Modern Nomads: A Cookbook"
          ],
          [
           9780593958049,
           "Cupcakes for Any Occasion: 50 Clever Creations Anyone Can Make"
          ],
          [
           9780744092547,
           "Everyday Knitting: The Complete Beginner's Guide"
          ],
          [
           9780744088397,
           "Italian/American: It's a QCP cookbook, betch!"
          ],
          [
           9780744059205,
           "Chonky Amigurumi: How to Crochet Amazing Critters & Creatures with Chunky Yarn"
          ],
          [
           9780744078336,
           "Danny Loves Pasta: 75+ fun and colorful pasta shapes, patterns, sauces, and more"
          ],
          [
           9780744094848,
           "Smooth Life: Fun and Delicious Recipes from the Blender and Beyond!: A Cookbook"
          ],
          [
           9780744088410,
           "Beyond Measure: Pakistani Cooking by Feel with GoldenGully: A Cookbook"
          ],
          [
           9780744084030,
           "Cooking with Marshmello: Recipes with a Remix"
          ],
          [
           9780744087352,
           "Gay Science: The Totally Scientific Examination of LGBTQ+ Culture, Myths, and Stereotypes"
          ],
          [
           9780744091267,
           "Albert Can Cook: How To Cook Viral Recipes"
          ],
          [
           9780241709450,
           "DK Southwest USA and National Parks (Travel Guide)"
          ],
          [
           9780241365595,
           "DK Eyewitness Family Guide Rome (Travel Guide)"
          ],
          [
           9780241670538,
           "DK Road Trips Ireland (Travel Guide)"
          ],
          [
           9781409370222,
           "DK Eyewitness Travel Guide Cruise Guide to Europe and the Mediterranean: DK Eyewitness Travel Guide 2015"
          ],
          [
           9780241305942,
           "DK Eyewitness Travel Guide Czech and Slovak Republics: DK Eyewitness Travel Guide 2018"
          ],
          [
           9780241309193,
           "DK Eyewitness Family Guide France (Travel Guide)"
          ],
          [
           9780241568828,
           "DK Road Trips Australia: Plan With Ease - Explore With Confidence (Travel Guide)"
          ],
          [
           9780241735916,
           "DK Denmark (Travel Guide)"
          ],
          [
           9780241734551,
           "DK New England (Travel Guide)"
          ],
          [
           9780241737798,
           "DK Top 10 Copenhagen (Pocket Travel Guide)"
          ],
          [
           9780241617397,
           "Hello, South Korea: Meet the Country Behind Hallyu"
          ],
          [
           9780241633076,
           "Boston Like a Local: By the People Who Call It Home (Local Travel Guide)"
          ],
          [
           9780241410400,
           "DK Eyewitness Seville Mini Map and Guide (Dk Eyewitness Pocket Travel Guide)"
          ],
          [
           9780241669440,
           "DK Alaska (Travel Guide)"
          ],
          [
           9780241738047,
           "Road Trips in Europe: 50 Adventures on the Open Road"
          ],
          [
           9780241368756,
           "DK New York City: 2020 (Travel Guide)"
          ],
          [
           9780241569061,
           "Tokyo Like a Local: By the People Who Call It Home (Local Travel Guide)"
          ],
          [
           9780241633052,
           "Rome Like a Local: By the People Who Call It Home (Local Travel Guide)"
          ],
          [
           9780241663073,
           "DK Sweden: Inspire Plan Discover Experience (Travel Guide)"
          ],
          [
           9780241566008,
           "DK Naples and the Amalfi Coast (Travel Guide)"
          ],
          [
           9781405302869,
           "DK Eyewitness Travel Guide: France Best Places to Eat & Stay: Eyewitness Travel Guide 2004"
          ],
          [
           9780241568279,
           "Lisbon Like a Local: By the People Who Call It Home (Local Travel Guide)"
          ],
          [
           9780241569023,
           "London Like a Local: By the People Who Call It Home (Local Travel Guide)"
          ],
          [
           9780241708620,
           "DK Top 10 Scotland (Pocket Travel Guide)"
          ],
          [
           9780241568514,
           "Los Angeles Like a Local: By the People Who Call It Home (Local Travel Guide)"
          ],
          [
           9780241436707,
           "DK Eyewitness Road Trips California (Travel Guide)"
          ],
          [
           9780241695852,
           "Road Trips in the USA: 50 Adventures on the Open Road"
          ],
          [
           9780241612446,
           "DK Southwest USA and National Parks: inspire, plan, discover, experience (Travel Guide)"
          ],
          [
           9780241472279,
           "Ride: Cycle the World"
          ],
          [
           9780241566015,
           "DK Pacific Northwest: Oregon, Washington, and British Columbia (Travel Guide)"
          ],
          [
           9780241678770,
           "You Deserve Good Gelato: New York Times Bestseller"
          ],
          [
           9781464238444,
           "Paper Hearts: The Sequel to The Heartbreakers: The Young Adult Romance Sensation (The Heartbreak Chronicles)"
          ],
          [
           9781728214139,
           "Hacking Darwin: Genetic Engineering and the Future of Humanity"
          ],
          [
           9781464243332,
           "A Girl Like Us: A Locked Room Murder Mystery for Fans of Saltburn and Succession"
          ],
          [
           9781464237126,
           "Roomhate: The Charming Second Chance Enemies to Lovers Romance"
          ],
          [
           9781648760228,
           "Fashion Design for Kids: Skill-Building Activities for Future Fashion Designers"
          ],
          [
           9781641521253,
           "Smart Meal Prep for Beginners: Recipes and Weekly Plans for Healthy, Ready-to-Go Meals"
          ],
          [
           9781728220246,
           "Gallows Hill"
          ],
          [
           9781464228285,
           "Radiant Sin: A Divinely Dark Romance Retelling of Apollo and Cassandra (Dark Olympus 4)"
          ],
          [
           9781647390426,
           "Snakes for Kids: A Junior Scientist's Guide to Venom, Scales, and Life in the Wild"
          ],
          [
           9781464218583,
           "You Grow, Girl! (Punderland)"
          ],
          [
           9781728293547,
           "The Power of Saying No: The New Science of How to Say No That Puts You in Charge of Your Life"
          ],
          [
           9781464249686,
           "The Mystery of Locked Rooms (The Delta Games)"
          ],
          [
           9781953424440,
           "Rebel Girls Rock: 25 Tales of Women in Music"
          ],
          [
           9781623152369,
           "Thyroid Diet Plan: How to Lose Weight, Increase Energy, and Manage Thyroid Symptoms"
          ],
          [
           9781646321100,
           "Raising Boys With ADHD: Secrets for Parenting Successful, Happy Sons"
          ],
          [
           9781641525138,
           "The Beginner's Guide to Essential Oils: Everything You Need to Know to Get Started"
          ],
          [
           9781492680789,
           "Blockchain for Babies: 0 (Baby University)"
          ],
          [
           9798886509298,
           "Self-Esteem Workbook for Kids: 40 Fun Activities to Feel Great about Yourself (Health and Wellness Workbooks for Kids)"
          ],
          [
           9781728271767,
           "The Witch's Way to Wealth: The Every Witch's Guide to Making More Money - Faster & Easier Than Ever!"
          ],
          [
           9781492656210,
           "Optical Physics for Babies: 0 (Baby University)"
          ],
          [
           9781641522519,
           "The Anti-Inflammatory Diet Slow Cooker Cookbook: Prep-and-Go Recipes for Long-Term Healing"
          ],
          [
           9781464223303,
           "Mountains Made of Glass (Fairy Tale Retelling)"
          ],
          [
           9781728277769,
           "The Sun and Its Shade (The Night and Its Moon)"
          ],
          [
           9781646117130,
           "Why Do I Feel So Sad?: A Grief Book for Children"
          ],
          [
           9781646118823,
           "Mindfulness for Little Ones: Playful Activities to Foster Empathy, Self-Awareness, and Joy in Kids"
          ],
          [
           9781728271002,
           "After I'm Gone Organizer: A Simple Journal About My Affairs and Last Wishes"
          ],
          [
           9781464234156,
           "Vipers and Virtuosos: A Dark and Spicy Rockstar Romance Based on Orpheus and Eurydice (Monsters & Muses)"
          ],
          [
           9781728236278,
           "Dinosaurs in Space"
          ],
          [
           9781646115938,
           "Mindful Games for Kids: 50 Fun Activities to Stay Present, Improve Concentration, and Understand Emotions"
          ],
          [
           9781728291512,
           "Queens of Themiscyra"
          ],
          [
           9781646116331,
           "True You: A Self-Discovery Journal of Prompts and Exercises to Inspire Reflection and Growth"
          ],
          [
           9781728295459,
           "Follow Me to Africa: A Novel"
          ],
          [
           9781464249174,
           "Holding on to Chaos (Blue Moon)"
          ],
          [
           9781492673026,
           "It Came from the Sky"
          ],
          [
           9781953424303,
           "The Rebel Girls Handbook"
          ],
          [
           9781728215785,
           "Seven Dirty Secrets"
          ],
          [
           9781464247880,
           "Summer of Broken Rules (Collector's Edition)"
          ],
          [
           9781641527422,
           "Adventure Girls!: Crafts and Activities for Curious, Creative, Courageous Girls (Adventure Crafts for Kids)"
          ],
          [
           9781464249129,
           "The Body in the Backyard: A Paranormal Murder Mystery & Contemporary Romance (Riley Thorn Book 4)"
          ],
          [
           9781728242590,
           "The Book Woman's Daughter: A Novel (The Book Woman of Troublesome Creek, 2)"
          ],
          [
           9781464220593,
           "Neferura: A Novel"
          ],
          [
           9781492647492,
           "Mask of Shadows (Mask of Shadows, 1)"
          ],
          [
           9781464234408,
           "A Perfect Story"
          ],
          [
           9781728284354,
           "Sweet Dreams, My Honey (Punderland)"
          ],
          [
           9781492660606,
           "The Shadowglass: Bone Witch #3 (The Bone Witch, 3)"
          ],
          [
           9781728277820,
           "The Gloom Between Stars (The Night and Its Moon)"
          ],
          [
           9781641529501,
           "American Barbecue Sauces: Marinades, Rubs, and More from the South and Beyond"
          ],
          [
           9781464249167,
           "Not Part of the Plan (Blue Moon)"
          ],
          [
           9781641523615,
           "Bodybuilding For Beginners: A 12-Week Program to Build Muscle and Burn Fat"
          ],
          [
           9781953424723,
           "Rebel Girls Little Library"
          ],
          [
           9781492662471,
           "How to Catch a Mermaid"
          ],
          [
           9781464228278,
           "Wicked Beauty: A Divinely Dark Romance Retelling of Achilles, Patroclus and Helen of Troy (Dark Olympus 3)"
          ],
          [
           9781728275789,
           "The Witches at the End of the World"
          ],
          [
           9781492671190,
           "Robotics for Babies: 1 (Baby University)"
          ],
          [
           9781728270616,
           "The Most Famous Girl in the World: A Novel"
          ],
          [
           9781464249105,
           "The Corpse in the Closet: A Paranormal Murder Mystery & Contemporary Romance (Riley Thorn Book 2)"
          ],
          [
           9781464242274,
           "Love and Madness (Sparrow and Vine)"
          ],
          [
           9781953424488,
           "Notes to Share: Inspiring Tear-Out Messages for Every Bag, Backpack, and Lunchbox"
          ],
          [
           9781728232645,
           "My First 100 Dinosaur Words (My First STEAM Words)"
          ],
          [
           9781953424280,
           "Rebel Girls Celebrate Pride: 25 Tales of Self-Love and Community"
          ],
          [
           9781584690047,
           "Do Animals Have Feelings, Too? (Rise and Shine)"
          ],
          [
           9781728293783,
           "2025 Everyday Calm Boxed Calendar: 365 days of inspiration and mindfulness to reset, refresh, and live better"
          ],
          [
           9781646111015,
           "Spies, Code Breakers, and Secret Agents: A World War II Book for Kids (Spies in History for Kids)"
          ],
          [
           9781728255972,
           "Dead Girls Can't Tell Secrets"
          ],
          [
           9781464236488,
           "A Lesson in Thorns: A Spicy Enemies to Lovers Dark Academia Romance (Thornchapel)"
          ],
          [
           9781647398705,
           "The Fascinating Science Book for Kids: 500 Amazing Facts! (Fascinating Facts)"
          ],
          [
           9781647390501,
           "Roaring Mad Riley: An Anger Management Story for Kids"
          ],
          [
           9781464220296,
           "Liar (Madison Kate)"
          ],
          [
           9781728297118,
           "The Air He Breathes: 1 (Elements)"
          ],
          [
           9781464247200,
           "How to Survive a Horror Story: A Novel"
          ],
          [
           9781728259673,
           "Queen of Myth and Monsters: A Dark & Steamy Vampire Romance for Romantasy Lovers: 2 (Adrian X Isolde, 2)"
          ],
          [
           9781728275871,
           "I Promise You All Ways"
          ],
          [
           9798886507256,
           "Eyes, Nose, Belly, Toes: My First Human Body Book"
          ],
          [
           9781623159733,
           "The Anxiety Workbook: A 7-Week Plan to Overcome Anxiety, Stop Worrying, and End Panic"
          ],
          [
           9781464249099,
           "The Dead Guy Next Door: A Paranormal Murder Mystery & Contemporary Romance (Riley Thorn Book 1)"
          ],
          [
           9781464223891,
           "Club 22: An Enemies to Lovers Mafia Romance as Seen on TikTok (Hades)"
          ],
          [
           9781728256214,
           "The Lonely Hearts Book Club"
          ],
          [
           9781623151010,
           "The Smoothie Recipe Book: 150 Smoothie Recipes Including Smoothies for Weight Loss and Smoothies for Good Health: 150 Smoothie Recipes Including ... Weight Loss and Smoothies for Optimum Health"
          ],
          [
           9781728278964,
           "Ghost Camera"
          ],
          [
           9781728297132,
           "The Fire Between High & Lo: 2 (Elements)"
          ],
          [
           9781728220031,
           "The Secret of White Stone Gate"
          ],
          [
           9781647390181,
           "The Vegan Cookbook for Athletes: 101 Recipes and 3 Meal Plans to Build Endurance and Strength"
          ],
          [
           9781728281797,
           "Underneath the Sycamore Tree"
          ],
          [
           9781492664444,
           "The Deadly Hours"
          ],
          [
           9798889641124,
           "Nina and the Mysterious Mailbox"
          ],
          [
           9781492656654,
           "Kingsbane: The Empirium Trilogy Book 2 (The Empirium Trilogy, 2)"
          ],
          [
           9781728261065,
           "Laws of Annihilation: 3 (Martyr Maker)"
          ],
          [
           9781728256764,
           "Don't Let In the Cold"
          ],
          [
           9781728265919,
           "Hello, Fears: Crush Your Comfort Zone and Become Who You're Meant to Be"
          ],
          [
           9781728289410,
           "I Think I Have the Wiggle Fidgets: A Story about ADHD and Overcoming Challenges (The Adventures of Everyday Geniuses)"
          ],
          [
           9781728236445,
           "This Delicious Death"
          ],
          [
           9781728233260,
           "Except Antarctica"
          ],
          [
           9798886509731,
           "The Story of Taylor Swift: An Inspiring Biography for Young Readers (The Story of Biographies)"
          ],
          [
           9781647393625,
           "All About Horses: A Kid's Guide to Breeds, Care, Riding, and More!"
          ],
          [
           9781464219955,
           "The Deer and the Dragon (No Other Gods)"
          ],
          [
           9781728276427,
           "My Sticker Dress-Up: Salon"
          ],
          [
           9781492635857,
           "The Heart Forger: Bone Witch #2 (The Bone Witch, 2)"
          ],
          [
           9781728233161,
           "Bullets and Silver: 2 (Caleb Marlowe Series, 2)"
          ],
          [
           9781728221731,
           "The Haunting of Rookward House"
          ],
          [
           9781728297378,
           "Making Space, Clutter Free: The Last Book on Decluttering You'll Ever Need"
          ],
          [
           9781728231761,
           "Electric Idol: A Divinely Dark Romance Retelling of Psyche and Eros (Dark Olympus 2)"
          ],
          [
           9781464228995,
           "Stay: A Hockey Romance From the Authors of Good Boy (WAGs 2)"
          ],
          [
           9781646117017,
           "Complete Dehydrator Cookbook: How to Dehydrate Fruit, Vegetables, Meat & More"
          ],
          [
           9781728234762,
           "Compassionate Leadership: 16 Simple Ways to Engage and Inspire Your Team at Work (Ignite Reads)"
          ],
          [
           9781646114306,
           "Learn to Read: Sight Words Storybook: 25 Simple Stories & Activities for Beginner Readers"
          ],
          [
           9781641522823,
           "Walk in Faith: 5-Minute Devotions for Teen Guys"
          ],
          [
           9781728293745,
           "2025 Chill the F*ck Out Wall Calendar: Find calm and get a fresh f*cking start this year (Calendars & Gifts to Swear By)"
          ],
          [
           9781728254104,
           "This is How We End Things: A Novel"
          ],
          [
           9781584691723,
           "Granny's Clan: A Tale of Wild Orcas"
          ],
          [
           9798889641384,
           "Social Situation Survival Guide: How to Meet People, Manage Anxiety, and Feel Confident in Any Setting"
          ],
          [
           9781728256245,
           "The Library of Borrowed Hearts (Lonely Hearts)"
          ],
          [
           9781492614074,
           "Rescue Road: One Man, Thirty Thousand Dogs, and a Million Miles on the Last Hope Highway"
          ],
          [
           9781953424211,
           "Rebel Girls Climate Warriors: 25 Tales of Women Who Protect the Earth"
          ],
          [
           9781728272146,
           "2025 Set Boundaries, Find Peace Boxed Calendar: 365 Ways to Set Healthy Limits and Reclaim Yourself"
          ],
          [
           9781728210353,
           "How to Catch a Witch"
          ],
          [
           9781728211282,
           "My First 100 Mathematics Words (My First STEAM Words)"
          ],
          [
           9781464220142,
           "Beautiful Villain"
          ],
          [
           9781728261034,
           "Laws of Wrath: 2 (Martyr Maker)"
          ],
          [
           9781728293738,
           "2025 Carpe F*cking Diem Planner: August 2024-December 2025 (Calendars & Gifts to Swear By)"
          ],
          [
           9781733329217,
           "Dr. Wangari Maathai Plants a Forest"
          ],
          [
           9781641526647,
           "Sewing For Kids: 30 Fun Projects to Hand and Machine Sew"
          ],
          [
           9781464252006,
           "The Girls of Good Fortune (Standard Edition): A Novel"
          ],
          [
           9781464220319,
           "Kate (Madison Kate)"
          ],
          [
           9781728270944,
           "Snow Drowned"
          ],
          [
           9781728281995,
           "American Queen: A Steamy and Taboo BookTok Sensation: 1 (New Camelot, 1)"
          ],
          [
           9781728291444,
           "The Only Purple House in Town"
          ],
          [
           9781728251295,
           "For Real: 3 (Spires)"
          ],
          [
           9780984080618,
           "What Does It Mean to Be Green?"
          ],
          [
           9781728297125,
           "The Silent Waters: 3 (Elements)"
          ],
          [
           9781728211244,
           "My First 100 Science Words (My First STEAM Words)"
          ],
          [
           9781648761102,
           "Question a Day Journal for Kids: 365 Days to Capture Memories and Express Yourself"
          ],
          [
           9781728248691,
           "After We Were Stolen: A Novel"
          ],
          [
           9781728239088,
           "Survive the Dome"
          ],
          [
           9781728298504,
           "Stop Asking \"How Was Your Day?\": 444 Better Questions to Help You Connect with Your Child"
          ],
          [
           9781953424310,
           "Quizzes for Rebel Girls"
          ],
          [
           9781728240497,
           "The Christmas Blessing: A One-of-a-Kind Nativity Story about the Love That Brings Us Together"
          ],
          [
           9781728268941,
           "A Vision Board Planner: A 52-week Vision Board Planner to Manifest Your Big F*cking Dreams"
          ],
          [
           9781464222665,
           "A Rosie Life in Italy: Move to Italy. Buy a Rundown Villa. What Could Go Wrong?"
          ],
          [
           9781734877076,
           "Rebel Girls Powerful Pairs: 25 Tales of Mothers and Daughters"
          ],
          [
           9781728215815,
           "Four Found Dead"
          ],
          [
           9781464223358,
           "Unapologetically Smutty Wall Calendar: A 2025 Calendar for Readers of Spicy Romance"
          ],
          [
           9781641523929,
           "Exploring Nature Activity Book for Kids: 50 Creative Projects to Spark Curiosity in the Outdoors (Exploring for Kids Activity Books and Journals)"
          ],
          [
           9781464234200,
           "Endless Anger (Monsters Within)"
          ],
          [
           9781492685920,
           "All Creatures Great and Small"
          ],
          [
           9781641524506,
           "The First-Time Mom's Pregnancy Journal: Monthly Checklists, Activities, & Journal Prompts"
          ],
          [
           9781464234163,
           "Oaths and Omissions: A Dark and Spicy Romance Inspired By Helen of Troy (Monsters & Muses)"
          ],
          [
           9781492675433,
           "212 The Extra Degree: Extraordinary Results Begin with One Small Change: 0 (Ignite Reads)"
          ],
          [
           9781728281803,
           "The Secret Lives of Country Gentlemen (The Doomsday Books)"
          ],
          [
           9781464223877,
           "7th Circle: An Enemies to Lovers Mafia Romance as Seen on TikTok (Hades)"
          ],
          [
           9781728293776,
           "2025 Dad Jokes Wall Calendar: 365 Days of Punbelievable Jokes (World's Best Dad Jokes Collection)"
          ],
          [
           9781728291505,
           "A Spartan's Sorrow"
          ],
          [
           9781464221323,
           "The Poisons We Drink"
          ],
          [
           9781733329293,
           "Good Night Stories for Rebel Girls: 100 Immigrant Women Who Changed the World: 3"
          ],
          [
           9781734264180,
           "Good Night Stories for Rebel Girls: The Chapter Book Collection"
          ],
          [
           9780241611579,
           "England's Gardens: A Modern History"
          ],
          [
           9780241323632,
           "Yoga Your Home Practice Companion: A Complete Practice and Lifestyle Guide: Yoga Programmes, Meditation Exercises, and Nourishing Recipes"
          ],
          [
           9780241011645,
           "Baby Play for Every Day: 365 Activities for the First Year"
          ],
          [
           9780241398951,
           "Yoga for Everyone: 50 Poses for Every Type of Body"
          ],
          [
           9780241537183,
           "Deliciously Healthy Menopause: Food and Recipes for Optimal Health Throughout Perimenopause and Menopause"
          ],
          [
           9780241410387,
           "Self Reiki: Tune in to Your Life Force to Achieve Harmony and Balance (A Little Book of Self Care)"
          ],
          [
           9780241648742,
           "Grow Roses: Essential Know-how and Expert Advice for Gardening Success"
          ],
          [
           9780241501030,
           "Twice As Hard: Navigating Black Stereotypes And Creating Space For Success"
          ],
          [
           9780241593325,
           "Grow Bonsai: Essential Know-how and Expert Advice for Gardening Success"
          ],
          [
           9781409351191,
           "Baby's First Skills: Help Your Baby Learn Through Creative Play"
          ],
          [
           9780241275313,
           "Foam Roller Exercises: Relieve Pain, Prevent Injury, Improve Mobility"
          ],
          [
           9780241536803,
           "15-Minute Stretch: Four 15-Minute Workouts for Flexibility, Posture, and Strength"
          ],
          [
           9780241593332,
           "Grow Trees: Essential Know-how and Expert Advice for Gardening Success"
          ],
          [
           9780241347140,
           "Down to Earth: Gardening Wisdom"
          ],
          [
           9780241555644,
           "Turnips' Edible Almanac: The Week-by-week Guide to Cooking with Seasonal Ingredients"
          ],
          [
           9780241336977,
           "Yoga For Men: Build Strength, Improve Performance, Increase Flexibility"
          ],
          [
           9780241655665,
           "Gut: An Owner's Guide"
          ],
          [
           9780241510179,
           "Australian Women's Weekly One Pot: Wholesome, Time-saving Everyday Recipes"
          ],
          [
           9780241531495,
           "15-Minute Better Back: Four 15-Minute Workouts to Strengthen, Stabilize, and Soothe"
          ],
          [
           9780241378953,
           "Let's Get Tropical: Over 60 Cocktail Recipes from Caribbean Classics to Modern Tiki Drinks"
          ],
          [
           9780241295564,
           "Vegan on the Go: Fast, Easy, Affordable―Anytime, Anywhere"
          ],
          [
           9780241543566,
           "West Winds: Recipes, History and Tales from Jamaica"
          ],
          [
           9780241410516,
           "Mindful Pregnancy: Meditation, Yoga, Hypnobirthing, Natural Remedies, and Nutrition – Trimester by Trimester"
          ],
          [
           9780241648773,
           "Grow Shade Garden: Essential Know-how and Expert Advice for Gardening Success"
          ],
          [
           9780241426036,
           "Complete Baking: Classic Recipes and Inspiring Variations to Hone Your Technique"
          ],
          [
           9780241531488,
           "Quilt Step by Step: Patchwork and Appliqué, Techniques, Designs, and Projects"
          ],
          [
           9780241531464,
           "Australian Women's Weekly Healthy Eating: Balanced, Nourishing Everyday Recipes"
          ],
          [
           9780241340189,
           "Low Carb On The Go: More Than 80 Fast, Healthy Recipes - Anytime, Anywhere"
          ],
          [
           9780241536445,
           "Grow, Cook, Dye, Wear: From Seed to Style the Sustainable Way"
          ],
          [
           9781409349860,
           "RHS Good Plant Guide: More than 1,500 Tried-and-Tested Plants"
          ],
          [
           9780241614808,
           "Veg in One Bed New Edition: How to Grow an Abundance of Food in One Raised Bed, Month by Month"
          ],
          [
           9780241459768,
           "RHS How to Garden New Edition: A Practical Introduction to Gardening"
          ],
          [
           9780241655528,
           "Brain: An Owner's Guide"
          ],
          [
           9780241593295,
           "The Science of Sex: Every Question About Your Sex Life Answered"
          ],
          [
           9780241544365,
           "RHS A Plant for Every Day of the Year"
          ],
          [
           9780241500927,
           "Design A Healthy Home: 100 Ways to Transform Your Space for Physical and Mental Wellbeing"
          ],
          [
           9780241609101,
           "365 Ways to Save the Planet: A Day-by-day Guide to Sustainable Living"
          ],
          [
           9780241768280,
           "Be More Moo Deng: The Unofficial Colouring Book"
          ],
          [
           9781405355247,
           "30 Minute Suppers (Everyday Easy)"
          ],
          [
           9780241685921,
           "RES Insects: Discover the Science and Secrets Behind the World of Insects"
          ],
          [
           9780241491522,
           "Wine A Tasting Course: From Grape to Glass"
          ],
          [
           9780241435830,
           "What's My Dog Thinking?: Understand Your Dog to Give Them a Happy Life"
          ],
          [
           9780241419762,
           "Modern Flexitarian: Veg-based Recipes you can Flex to add Fish, Meat, or Dairy"
          ],
          [
           9780241481325,
           "The Vegetable Grower's Handbook: Unearth Your Garden's Full Potential"
          ],
          [
           9780241255667,
           "Thane Prince's Jams & Chutneys: Over 150 Recipes for Preserving the Harvest"
          ],
          [
           9780241615041,
           "Small Space Revolution: Planting Seeds of Change in Your Community"
          ],
          [
           9780241634141,
           "Knitting Stitches Step-by-Step: More than 150 Essential Stitches to Knit, Purl, and Perfect"
          ],
          [
           9780241515105,
           "The Finch Bakery: Sweet Homemade Treats and Showstopper Celebration Cakes. A SUNDAY TIMES BESTSELLER"
          ],
          [
           9780241545782,
           "RHS Encyclopedia of Gardening New Edition"
          ],
          [
           9780241763957,
           "Wise Words Oasis"
          ],
          [
           9780241718117,
           "DK Super Readers Pre-Level Marvel Spidey and His Amazing Friends Go Team Spidey!"
          ],
          [
           9780241656204,
           "A Kids Book About Love"
          ],
          [
           9780241742914,
           "A Kids Book About Anger"
          ],
          [
           9780241538944,
           "Maths ― No Problem! Numbers to 100, Ages 4-6 (Key Stage 1) (Master Maths At Home)"
          ],
          [
           9780241525753,
           "Maths ― No Problem! Collection of 6 Workbooks, Ages 10-11 (Key Stage 2) (Master Maths At Home)"
          ],
          [
           9780241539446,
           "Maths ― No Problem! Fractions, Decimals and Percentage, Ages 9-10 (Key Stage 2) (Master Maths At Home)"
          ],
          [
           9780241539125,
           "Maths ― No Problem! Fractions, Ages 5-7 (Key Stage 1) (Master Maths At Home)"
          ],
          [
           9780241539071,
           "Maths ― No Problem! Geometry and Shape, Ages 4-6 (Key Stage 1) (Master Maths At Home)"
          ],
          [
           9780241467763,
           "Star Wars Skywalker – A Family At War"
          ],
          [
           9780241437803,
           "Marvel Myths and Legends: The epic origins of Thor, the Eternals, Black Panther, and the Marvel Universe"
          ],
          [
           9780241610121,
           "LEGO Amazing Earth: Fantastic Building Ideas and Facts About Our Planet"
          ],
          [
           9780241539347,
           "Maths ― No Problem! Multiplication and Division, Ages 8-9 (Key Stage 2) (Master Maths At Home)"
          ],
          [
           9780241634585,
           "A Kids Book About Failure"
          ],
          [
           9780241539170,
           "Maths ― No Problem! Measuring, Ages 5-7 (Key Stage 1) (Master Maths At Home)"
          ],
          [
           9780241539361,
           "Maths ― No Problem! Graphs and Measuring, Ages 8-9 (Key Stage 2) (Master Maths At Home)"
          ],
          [
           9780241539354,
           "Maths ― No Problem! Fractions and Decimals, Ages 8-9 (Key Stage 2) (Master Maths At Home)"
          ],
          [
           9780241314258,
           "LEGO Star Wars Ideas Book: More than 200 Games, Activities, and Building Ideas"
          ],
          [
           9780241659625,
           "The Science Museum Biology 100 Ideas in 100 Words: A Whistle-Stop Tour of Key Concepts"
          ],
          [
           9780241610770,
           "Is This a Joke? No, It's a Book!: 100 Puns and Dad Jokes from Instagram’s Largest Pun Comic Creator"
          ],
          [
           9780241742921,
           "A Kids Book About Systemic Racism"
          ],
          [
           9780241605868,
           "The Avengers Assembled: The Origin Story of Earth’s Mightiest Heroes"
          ],
          [
           9780241544631,
           "Marvel Year By Year A Visual History New Edition"
          ],
          [
           9781409345725,
           "Star Wars In 100 Scenes"
          ],
          [
           9780241651179,
           "The Met Paul Cézanne (What The Artist Saw)"
          ],
          [
           9780241623459,
           "How To Talk So People Will Listen: And Sound Confident (Even When You’re Not)"
          ],
          [
           9780241544648,
           "LEGO Harry Potter A Spellbinding Guide to Hogwarts Houses: With Exclusive Percy Weasley Minifigure"
          ],
          [
           9780241418703,
           "Star Wars Battles That Changed the Galaxy"
          ],
          [
           9780241527115,
           "Mrs Wordsmith Year 1 English Gargantuan Workbook, Ages 5-6 (Key Stage 1): Phonics, Vocabulary, Handwriting, Grammar, And More!"
          ],
          [
           9780241586563,
           "The Listening Party Volume 2: Artists, Bands and Fans Reflect on Over 90 Favourite Albums"
          ],
          [
           9780241634547,
           "A Kids Book About Disability"
          ],
          [
           9780241531532,
           "Batman The Ultimate Guide New Edition"
          ],
          [
           9780241438343,
           "DC Comics Cover Art: 350 of the Greatest Covers in DC's History"
          ],
          [
           9780241606025,
           "Kahoot! Quiz Time Space: 250 Trivia Questions (with QR Codes Inside for 150 Interactive Bonus Questions) – Educational Kids Quiz Book"
          ],
          [
           9780241500835,
           "The Periodic Table of Marvel"
          ],
          [
           9780241743805,
           "A Kids Book About Dyslexia"
          ],
          [
           9780241743171,
           "A Kids Book About Israel & Palestine"
          ],
          [
           9780241743393,
           "A Kids Book About Autism"
          ],
          [
           9780241743546,
           "A Kids Book About Cancer"
          ],
          [
           9780241720448,
           "Pop-Up Peekaboo! Frozen"
          ],
          [
           9780241467657,
           "LEGO Star Wars Yoda's Galaxy Atlas"
          ],
          [
           9780241634554,
           "A Kids Book About Anxiety"
          ],
          [
           9780241409428,
           "The Peanuts Book: A Visual History of the Iconic Comic Strip"
          ],
          [
           9780241583692,
           "Marvel Arms and Armour: The Mightiest Weapons and Technology in the Universe"
          ],
          [
           9781409327516,
           "LEGO® Play Book: Ideas to Bring Your Bricks to Life"
          ],
          [
           9780241600313,
           "LEGO Pocket Builder Nature: Create Cool Creatures"
          ],
          [
           9780593844229,
           "The Met Collector's Sticker Anthology (DK The Met)"
          ],
          [
           9780241594926,
           "The Science Museum Physics 100 Ideas in 100 Words: A Whistle-Stop Tour of Key Concepts"
          ],
          [
           9780241481394,
           "My Met Sticker Collection: Make Your Own Sticker Museum"
          ],
          [
           9780241539224,
           "Maths ― No Problem! Addition and Subtraction, Ages 7-8 (Key Stage 2) (Master Maths At Home)"
          ],
          [
           9780241634639,
           "A Kids Book About Empathy"
          ],
          [
           9780241381717,
           "LEGO Christmas Ideas: With Exclusive Reindeer Mini Model"
          ],
          [
           9780241634646,
           "A Kids Book About Gender"
          ],
          [
           9780241644645,
           "Rap Battles: The Hip-Hop Rhyming Word Game for Wannabe MCs (DK)"
          ],
          [
           9780241662250,
           "Sesame Street Let's Cook Together: With 40 Fun, Healthy Recipes"
          ],
          [
           9780241627013,
           "Asylum Speakers: Stories of Migration From the Humans Behind the Headlines"
          ],
          [
           9780241656228,
           "A Kids Book About Feminism"
          ],
          [
           9780241460771,
           "Be More Batman: Face Your Fears and Look Good Doing It"
          ],
          [
           9780241544136,
           "The Met Claude Monet: He Saw the World in Brilliant Light (What The Artist Saw)"
          ],
          [
           9780241662816,
           "Draw with Art for Kids Hub Halloween"
          ],
          [
           9780241539156,
           "Maths ― No Problem! Extra Challenges, Ages 5-7 (Key Stage 1) (Master Maths At Home)"
          ],
          [
           9780241500811,
           "Marvel Black Panther Wakanda Forever! (DK Readers Level 2)"
          ],
          [
           9780241580318,
           "DK Super Readers Level 3 Marvel Ant-Man and The Wasp Save the Day!"
          ],
          [
           9780241481363,
           "The Met Hokusai"
          ],
          [
           9780241593431,
           "The DC Book of Pride: A Celebration of DC's LGBTQIA+ Characters"
          ],
          [
           9780241583593,
           "Two-Letter Words: Learn Every Two-letter Word From Aa to Zo and Crush Your Opponents!"
          ],
          [
           9780241753408,
           "Draw with Art for Kids Hub Dinosaurs"
          ],
          [
           9780241567531,
           "Raise Your Voice: Make Yourself Heard in a Noisy World"
          ],
          [
           9780241610589,
           "LEGO Harry Potter Ideas Book: More Than 200 Ideas for Builds, Activities and Games"
          ],
          [
           9780241612262,
           "The Good Luck Book: A Celebration of Global Traditions, Superstitions, and Folklore"
          ],
          [
           9780241305751,
           "Star Wars Made Easy: A Beginner's Guide to a Galaxy Far, Far Away"
          ],
          [
           9780241656242,
           "A Kids Book About Climate Change"
          ],
          [
           9780241718506,
           "Superman The Ultimate Guide The Man of Steel New Edition"
          ],
          [
           9780241743324,
           "A Kids Book About Death"
          ],
          [
           9780241469392,
           "LEGO Harry Potter Hogwarts at Christmas: With LEGO Harry Potter Minifigure in Yule Ball Robes!"
          ],
          [
           9780241699591,
           "Marvel Studios Discover the Multiverse Ultimate Sticker Collection: More Than 1000 Stickers"
          ],
          [
           9780241594919,
           "The Science Museum Maths 100 Ideas in 100 Words: A Whistle-Stop Tour of Key Concepts"
          ],
          [
           9780241718513,
           "The Marvel Book New Edition: Expand Your Knowledge of a Vast Comics Universe"
          ],
          [
           9780241594872,
           "The Met Frida Kahlo: She Painted Her World in Self-Portraits (What The Artist Saw)"
          ],
          [
           9780241527139,
           "Mrs Wordsmith ABC Handwriting Book, Ages 4-7 (Early Years & Key Stage 1): Story Book With Handwriting Practice"
          ],
          [
           9780241539279,
           "Maths ― No Problem! Extra Challenges, Ages 7-8 (Key Stage 2) (Master Maths At Home)"
          ],
          [
           9780241587584,
           "The Met Art Sparks: Make Art Inspired by Real Masterpieces (DK The Met)"
          ],
          [
           9780241743508,
           "A Kids Book About Pride"
          ],
          [
           9780241691830,
           "On Trial For Murder (DK)"
          ],
          [
           9780241527108,
           "Mrs Wordsmith Reception English Colossal Workbook, Ages 4-5 (Early Years): Letters And Sounds, Phonics, Vocabulary, And More!"
          ],
          [
           9780241645994,
           "The Very Young Person's Guide to Christmas Carols"
          ],
          [
           9780241573686,
           "The Disney Book New Edition: A Celebration of the World of Disney: Centenary Edition"
          ],
          [
           9780241717684,
           "DK Super Phonics My First Sound Blends"
          ],
          [
           9780241598733,
           "DK Super Readers Level 1 Jungle Animals"
          ],
          [
           9780241601389,
           "15 Minute Mandarin Chinese: Learn in Just 12 Weeks (DK 15-Minute Language Learning)"
          ],
          [
           9780241599488,
           "DK Super Readers Level 1 All About Bats"
          ],
          [
           9780241726839,
           "DK Super Phonics Sound Blends Card Game"
          ],
          [
           9780241600757,
           "DK Super Readers Level 4 Moon Landings"
          ],
          [
           9780241243534,
           "English for Everyone Practice Book Level 4 Advanced: A Complete Self-Study Programme"
          ],
          [
           9780241712627,
           "DK Super Phonics My Big Book of Phonics"
          ],
          [
           9780241591383,
           "DK Super Readers Level 3 Twisters!"
          ],
          [
           9780241591567,
           "DK Super Readers Level 4 Shark Attack"
          ],
          [
           9780241603444,
           "DK Super Readers Level 2 Which Inventions Changed the World?"
          ],
          [
           9780241717677,
           "DK Super Phonics My First Letter Sounds"
          ],
          [
           9780241601570,
           "Jewel: The Definitive Visual Guide (DK Definitive Visual Encyclopedias)"
          ],
          [
           9780241422588,
           "A Short History of The American Civil War"
          ],
          [
           9780241515518,
           "Shells (DK Handbooks)"
          ],
          [
           9780241446690,
           "Simply Philosophy (DK Simply)"
          ],
          [
           9780241600993,
           "Butterflies and Moths (DK Handbooks)"
          ],
          [
           9780241487419,
           "Leadership (Essential Managers)"
          ],
          [
           9780241435960,
           "Rocks and Minerals (DK Handbooks)"
          ],
          [
           9780241412947,
           "Great Diaries: The world's most remarkable diaries, journals, notebooks, and letters"
          ],
          [
           9780241363188,
           "How Philosophy Works: The concepts visually explained (How Things Work)"
          ],
          [
           9780241257074,
           "The Design Book: Big Ideas Simply Explained (DK Big Ideas)"
          ],
          [
           9780241471210,
           "Knots Step by Step: A Practical Guide to Tying & Using Over 100 Knots"
          ],
          [
           9780241606353,
           "The Football Book: The Teams *The Rules *The Leagues * The Tactics (DK Sports Guides)"
          ],
          [
           9780241638583,
           "The Anthropology Book: Big Ideas Simply Explained (DK Big Ideas)"
          ],
          [
           9780241410271,
           "Entrepreneurs Who Changed History"
          ],
          [
           9780241410240,
           "Drawing for the Artist"
          ],
          [
           9780241317693,
           "How Psychology Works: The Facts Visually Explained (How Things Work)"
          ],
          [
           9780241516072,
           "Simply Climate Change (DK Simply)"
          ],
          [
           9780744092028,
           "History of North America Map by Map (DK History Map by Map)"
          ],
          [
           9780241656815,
           "Composers Who Changed History: DK History Changers"
          ],
          [
           9780241335185,
           "The Story of Painting: How art was made"
          ],
          [
           9780241415252,
           "The Science of the Ocean: The Secrets of the Seas Revealed"
          ],
          [
           9780241487396,
           "Project Management (Essential Managers)"
          ],
          [
           9780241636718,
           "Queen Elizabeth II and the Royal Family: A Glorious Illustrated History"
          ],
          [
           9780241666630,
           "The Food Book: The Stories, Science, and History of What We Eat"
          ],
          [
           9780241634752,
           "Simply Science: Facts Made Fast (DK Simply)"
          ],
          [
           9780241298800,
           "Mountaineers: Great tales of bravery and conquest"
          ],
          [
           9780241515136,
           "The Science of our Changing Planet: From Global Warming to Sustainable Development"
          ],
          [
           9780241470985,
           "The Brain Fitness Book: Activities and Puzzles to Keep Your Mind Active and Healthy"
          ],
          [
           9780241600955,
           "Pocket Nature Wildlife of Britain and Ireland: A unique Photographic Guide to the Animals and Plants of the British Isles"
          ],
          [
           9780241517451,
           "Great Loves"
          ],
          [
           9781405375863,
           "Nature Guide Rocks and Minerals (DK Nature Guide)"
          ],
          [
           9780241501719,
           "The Golf Book: The Players • The Gear • The Strokes • The Courses • The Championships"
          ],
          [
           9780241620977,
           "Astronomy: A Visual Guide (DK Ultimate Guides)"
          ],
          [
           9780241635094,
           "The World War I Book: Big Ideas Simply Explained (DK Big Ideas)"
          ],
          [
           9780241632895,
           "Artists Who Changed History: DK History Changers"
          ],
          [
           9780241634745,
           "Simply Emerging Technology: Facts Made Fast (DK Simply)"
          ],
          [
           9780241301982,
           "The Memory Activity Book: Practical Projects to Help with Memory Loss and Dementia"
          ],
          [
           9780241298817,
           "Great Designs: The World's Best Design Explored and Explained"
          ],
          [
           9780241573303,
           "Where to Go Wild in the British Isles: A Month-by-Month Guide to the Best Nature Experiences"
          ],
          [
           9780241205914,
           "The Sherlock Holmes Book: Big Ideas Simply Explained"
          ],
          [
           9780241571170,
           "The Beginner's Dog Training Guide: How to Train a Superdog, Step by Step (DK Practical Pet Guides)"
          ],
          [
           9780241446300,
           "First Aid Manual 11th Edition"
          ],
          [
           9780241446348,
           "Battles Map by Map"
          ],
          [
           9780241595732,
           "Incredible History Wonders of the World: The Past Brought Back to Life (DK Back to Life History)"
          ],
          [
           9780241681701,
           "Arctic and Antarctic: DK Eyewitness"
          ],
          [
           9780241515297,
           "Mammoth Maths: Everything You Need to Know About Numbers (DK David Macauley How Things Work)"
          ],
          [
           9780241515471,
           "Super Simple Chemistry Revision Cards Key Stages 3 and 4: 125 Comprehensive, Easy-to-Use Revision Cards for GCSE Exam Preparation"
          ],
          [
           9780241515372,
           "Super Simple Biology Revision Cards Key Stages 3 and 4: 125 Comprehensive, Easy-to-Use Revision Cards for GCSE Exam Preparation"
          ],
          [
           9780241531334,
           "Timelines from Indian History"
          ],
          [
           9780241381724,
           "Art Year by Year: A Visual History, from Cave Paintings to Street Art (DK Children's Year by Year)"
          ],
          [
           9780241539828,
           "Weather: DK Eyewitness"
          ],
          [
           9780241586129,
           "The Earth Atlas: A Pictorial Guide to Our Planet"
          ],
          [
           9780241309612,
           "Bible Characters Visual Encyclopedia"
          ],
          [
           9780241647783,
           "Goal!: Everything You Need to Know About Football! (DK 1,000 Amazing Facts)"
          ],
          [
           9780241569818,
           "American Civil War: DK Eyewitness"
          ],
          [
           9780241539804,
           "American Revolution: DK Eyewitness"
          ],
          [
           9780241658901,
           "Chess for Beginners"
          ],
          [
           9780241569191,
           "Habitats of the World: A Breathtaking Visual Journey Through Earth's Incredible Ecosystems (DK Panorama)"
          ],
          [
           9780241227893,
           "100 Events That Made History"
          ],
          [
           9780241631683,
           "Universe: DK Eyewitness"
          ],
          [
           9780241656686,
           "How Technology Works: From Monster Trucks to Mars Rovers"
          ],
          [
           9780241617175,
           "Human Body: DK Eyewitness"
          ],
          [
           9780241573938,
           "Our World in Pictures Rocks & Minerals Flash Cards (DK Our World in Pictures)"
          ],
          [
           9780241569870,
           "Super Simple Psychology: The Ultimate Bitesize Study Guide (DK Super Simple)"
          ],
          [
           9780241412787,
           "The Animal Atlas: A Pictorial Guide to the World's Wildlife"
          ],
          [
           9780241515402,
           "Super Simple Physics Revision Cards Key Stages 3 and 4: 125 Comprehensive, Easy-to-Use Revision Cards for GCSE Exam Preparation"
          ],
          [
           9780241288085,
           "Planets (DK Eyewitness)"
          ],
          [
           9780241412992,
           "Philosophy: A Visual Encyclopedia"
          ],
          [
           9780241471173,
           "Children's Bible Stories: Share the greatest stories ever told"
          ],
          [
           9780241617311,
           "Insect: DK Eyewitness"
          ],
          [
           9780241426395,
           "Life Through Time: The 700-Million-Year Story of Life on Earth"
          ],
          [
           9780241582732,
           "Outdoor Activity Lab: Exciting Stem Projects for Budding Scientists (DK Activity Lab)"
          ],
          [
           9780241412794,
           "The Bird Atlas: A Pictorial Guide to the World's Birdlife"
          ],
          [
           9780241569856,
           "Wonders of the World: DK Eyewitness"
          ],
          [
           9780241725856,
           "Eyewitness Vietnam War (DK Eyewitness)"
          ],
          [
           9780241343494,
           "Science Lab: Fantastic projects for young scientists"
          ],
          [
           9780241656785,
           "Mammoth Maths Workbook: Practise Your Maths Skills with a Little Help from Some Mammoths (DK David Macauley How Things Work)"
          ],
          [
           9780241336243,
           "General Knowledge Genius!: A Quiz Encyclopedia to Boost Your Brain"
          ],
          [
           9780241646342,
           "What's Where on Earth?: Our World As You've Never Seen It Before (DK Where on Earth? Atlases)"
          ],
          [
           9780241206577,
           "All About Chemistry (Big Questions)"
          ],
          [
           9780241601648,
           "Our World in Pictures The History Book (DK Our World in Pictures)"
          ],
          [
           9780241471180,
           "Our World in Numbers: An Encyclopedia of Fantastic Facts (DK Our World in Numbers)"
          ],
          [
           9780241634929,
           "History as it Happened: A Map-by-Map Guide"
          ],
          [
           9780241569795,
           "Our World in Numbers Animals: An Encyclopedia of Fantastic Facts (DK Our World in Numbers)"
          ],
          [
           9780241536322,
           "Our World in Pictures Trees of the World Flash Cards (DK Our World in Pictures)"
          ],
          [
           9780241212264,
           "Science Year by Year: A visual history, from stone tools to space travel"
          ],
          [
           9780241536285,
           "Cat: DK Eyewitness"
          ],
          [
           9780241699270,
           "Brain Booster Volcanoes and Earthquakes: Over 100 Mind-Boggling Activities that Make Learning Easy and Fun"
          ],
          [
           9780241525661,
           "English for Everyone Junior English Dictionary: Learn to Read and Say More than 1,000 Words"
          ],
          [
           9780241638699,
           "Knowledge A Visual Compendium: Making Sense of our World"
          ],
          [
           9780241355374,
           "The Sea Book (Conservation for Kids)"
          ],
          [
           9781405336765,
           "Baby Touch and Feel Baby Animals"
          ],
          [
           9780241459140,
           "Earth's Incredible Oceans (The Magic and Mystery of Nature)"
          ],
          [
           9780241414767,
           "Yoga For Kids: Simple First Steps in Yoga and Mindfulness (Mindfulness for Kids)"
          ],
          [
           9780241427811,
           "My Encyclopedia of Very Important Adventures: For little learners who love exciting journeys and incredible discoveries (My Very Important Encyclopedias)"
          ],
          [
           9780241538333,
           "DK Life Stories: Martin Luther King Jr"
          ],
          [
           9780241726136,
           "My First Busy Home: Let's Look and Learn! (My First Tabbed Board Book)"
          ],
          [
           9780241538357,
           "DK Life Stories Anne Frank"
          ],
          [
           9780241439593,
           "First Emotions: I Feel Proud"
          ],
          [
           9780241439609,
           "First Emotions: I Feel Angry"
          ],
          [
           9780241442272,
           "The Secret Explorers and the Jurassic Rescue"
          ],
          [
           9780241442289,
           "The Secret Explorers and the Smoking Volcano"
          ],
          [
           9780241675199,
           "Mars: Explore the Mysteries of the Red Planet (Space Explorers)"
          ],
          [
           9780241538463,
           "Shy and Mighty: Your Shyness is a Superpower (Take on the World)"
          ],
          [
           9780241356319,
           "DK Life Stories Florence Nightingale"
          ],
          [
           9780241375587,
           "100 First Dinosaur Words"
          ],
          [
           9780241525791,
           "Adventures with Finn and Skip: Forest"
          ],
          [
           9780241467497,
           "DK Life Stories Marie Curie"
          ],
          [
           9780241377918,
           "DK Life Stories Nelson Mandela"
          ],
          [
           9780241512906,
           "Amazing Animal Journeys: The Most Incredible Migrations in the Natural World (DK Amazing Earth)"
          ],
          [
           9780241358566,
           "How To Be a Coder: Learn to Think like a Coder with Fun Activities, then Code in Scratch 3.0 Online! (Careers for Kids)"
          ],
          [
           9781409344827,
           "Maths Made Easy: Beginner, Ages 8-9 (Key Stage 2): Supports the National Curriculum, Maths Exercise Book (Made Easy Workbooks)"
          ],
          [
           9780241583937,
           "Kindness Club Rabbit Says Sorry: Join the Kindness Club as They Find the Courage To Be Kind"
          ],
          [
           9780241538685,
           "Animal Ultimate Handbook: The Need-to-Know Facts and Stats on More Than 200 Animals (DK's Ultimate Handbooks)"
          ],
          [
           9780241581858,
           "The Maths Adventurers Measure Up: Discover Height and Length"
          ],
          [
           9780241284971,
           "DKfindout! Forest"
          ],
          [
           9780241502389,
           "I Feel Scared: Why Do I Feel Scared Today? (First Emotions)"
          ],
          [
           9780241442791,
           "DKfindout! Oceans"
          ],
          [
           9780241559161,
           "The Timekeepers: The Tesla Trap"
          ],
          [
           9780241625880,
           "The Magic of Forests: A Fascinating Guide to Forests Around the World"
          ],
          [
           9780241355435,
           "RHS The Magic and Mystery of Trees (The Magic and Mystery of Nature)"
          ],
          [
           9780241533543,
           "It's a Wonderful World: How to Protect the Planet and Change the Future"
          ],
          [
           9780241442258,
           "The Secret Explorers and the Comet Collision"
          ],
          [
           9780241459454,
           "Amazing Earth: The Most Incredible Places From Around The World (DK Amazing Earth)"
          ],
          [
           9780241282526,
           "Woodland and Forest: Explore Nature with Fun Facts and Activities (Nature Explorers)"
          ],
          [
           9780241630709,
           "Make Art with Nature: Find Inspiration and Materials From Nature"
          ],
          [
           9780241461426,
           "Get To Know: Money: A Fun, Visual Guide to How Money Works and How to Look After It"
          ],
          [
           9780241537510,
           "Little Chunkies: Animals in the Wild: With Adorable Animals to Touch and Discover"
          ],
          [
           9780241397282,
           "100 First Things to Know"
          ],
          [
           9780241669105,
           "Amazing Space: The Most Incredible Features of the Known Universe (DK Amazing Earth)"
          ],
          [
           9780241664933,
           "An Anthology of Intriguing Animals Poster Book: With More Than 30 Reversible Tear-Out Posters (DK Children's Anthologies)"
          ],
          [
           9780241358580,
           "DK Life Stories Katherine Johnson"
          ],
          [
           9780241467466,
           "Eco Baby Where Are You Koala?: A Plastic-free Touch and Feel Book"
          ],
          [
           9780241316702,
           "How to Measure Everything: A Fun First Guide to the Maths of Measuring (My Really Fun Maths and Science Books)"
          ],
          [
           9780241702222,
           "The Mysteries of the Universe Poster Book (DK Children's Anthologies)"
          ],
          [
           9780241656549,
           "My Encyclopedia of Very Important Dinosaurs: For Little Dinosaur Lovers Who Want to Know Everything (My Very Important Encyclopedias)"
          ],
          [
           9780241464168,
           "First Emotions: My Little Box of Emotions: Little guides for all my emotions"
          ],
          [
           9780241685464,
           "How the Earth Works: Discover How Plate Tectonics Shapes Our Planet"
          ],
          [
           9780241301777,
           "Baby's First Words (Baby's First Board Books)"
          ],
          [
           9780241647479,
           "The Children's Book of the Future"
          ],
          [
           9780241676110,
           "Elizabeth I: Queen of England 1558-1603 (History's Great Leaders)"
          ],
          [
           9780241282519,
           "Weather: Explore Nature with Fun Facts and Activities (Nature Explorers)"
          ],
          [
           9780241584989,
           "I Love My Farm: A Pop-Up Book About Animals on the Farm"
          ],
          [
           9780241188750,
           "First Science Encyclopedia: A First Reference Book for Children (DK First Reference)"
          ],
          [
           9780241356074,
           "Jonny Lambert's Animal ABC (Jonny Lambert Illustrated)"
          ],
          [
           9780241481073,
           "DKfindout! Rubbish"
          ],
          [
           9781409344865,
           "Maths Made Easy: Matching & Sorting, Ages 3-5 (Preschool): Supports the National Curriculum, Maths Exercise Book (Made Easy Workbooks)"
          ],
          [
           9780241459478,
           "Pop-Up Peekaboo! Dragon"
          ],
          [
           9780241533413,
           "Dinosaur Club: A Triceratops Charge"
          ],
          [
           9780241533475,
           "Baby Dinosaur on the Farm: Follow Baby Dinosaur and his Search for Farmyard Fun!"
          ],
          [
           9780241461389,
           "The Really Incredible Science Book (My Really Fun Maths and Science Books)"
          ],
          [
           9780241563496,
           "The Best Ever Cake Book: 20 Step-by-Step Cake Recipes from Around the World (DK's Best Ever Cook Books)"
          ],
          [
           9780241668528,
           "The Book of Bedtime Stories: Classic Tales for Children"
          ],
          [
           9780241355657,
           "Jonny Lambert's Animal 123 (Jonny Lambert Illustrated)"
          ],
          [
           9780241467503,
           "I Am, I Can: Affirmations Flash Cards for Kids: with Motivational Mantras and Creative Activities (Mindfulness for Kids)"
          ],
          [
           9780241667736,
           "Peter and the Wolf: Wolves Come in Many Disguises"
          ],
          [
           9781405300872,
           "Tractor (WHEELIE BOOKS)"
          ],
          [
           9780241412206,
           "How to Make a Better World: For Every Kid Who Wants to Make a Difference (Take on the World)"
          ],
          [
           9780241664735,
           "1000 More Words: Build More Vocabulary and Literacy Skills (Vocabulary Builders)"
          ],
          [
           9781409344728,
           "English Made Easy: The Alphabet, Ages 3-5 (Preschool): Supports the National Curriculum, English Exercise Book (Made Easy Workbooks)"
          ],
          [
           9780241379257,
           "How to Tell the Time: A Lift-the-flap Guide to Telling the Time (My Really Fun Maths and Science Books)"
          ],
          [
           9780241319536,
           "1000 Useful Words: Build Vocabulary and Literacy Skills (Vocabulary Builders)"
          ],
          [
           9780241411636,
           "Does a Dinosaur Roar? (Why? Series)"
          ],
          [
           9780241596166,
           "Baby Touch and Feel Bunny"
          ],
          [
           9780241413906,
           "A World Full of Poems: Inspiring poetry for children"
          ],
          [
           9780241414750,
           "Calm - Mindfulness Flash Cards for Kids: 40 Activities to Help you Learn to Live in the Moment (Mindfulness for Kids)"
          ],
          [
           9780241599563,
           "What Do We Know About History?: With 200 Amazing Questions About the Past (Why? Series)"
          ],
          [
           9780241501078,
           "The Best Ever Bread Book: From Farm to Flour Mill, Recipes from Around the World (DK's Best Ever Cook Books)"
          ],
          [
           9780241185476,
           "My First Animals"
          ],
          [
           9780751367805,
           "The Ultimate Ocean Creatures Glow in the Dark Sticker Book (Ultimate Stickers)"
          ],
          [
           9780241519622,
           "Dinosaur Ultimate Handbook: The Need-To-Know Facts and Stats on Over 150 Different Species (DK's Ultimate Handbooks)"
          ],
          [
           9780241439579,
           "First Emotions: I Feel Happy"
          ],
          [
           9780241285060,
           "DKfindout! Coding"
          ],
          [
           9780241467565,
           "Life Skills (Take on the World)"
          ],
          [
           9780241538654,
           "The Timekeepers: First Flight"
          ],
          [
           9780241615379,
           "Ask A Scientist (New Edition): Professor Robert Winston Answers More Than 100 Big Questions From Kids Around the World!"
          ],
          [
           9780241459508,
           "What's The Weather?: Clouds, Climate, and Global Warming (Protect the Planet)"
          ],
          [
           9780241538401,
           "The Fact-Packed Activity Book: Human Body"
          ],
          [
           9780241525920,
           "My Very Important Earth Encyclopedia: For Little Learners Who Want to Know About Our Planet (My Very Important Encyclopedias)"
          ],
          [
           9780241559208,
           "Dinosaur Club: Avoiding the Allosaurus"
          ],
          [
           9780241544280,
           "Casper and Daisy's Big Day at the Park (Adventures with Casper and Daisy)"
          ],
          [
           9780241634400,
           "Jonny Lambert’s Bear and Bird: Find a Footprint: A Woodland Search and Find Adventure (The Bear and the Bird)"
          ],
          [
           9780241657430,
           "Dinosaur Club: March of the Ankylosaurus"
          ],
          [
           9780241655405,
           "Jonny Lambert’s Bear and Bird: Try, Try Again (The Bear and the Bird)"
          ],
          [
           9780241538388,
           "Radzi's Incredible Facts: Mind-Blowing Facts to Make You the Smartest Kid Around!"
          ],
          [
           9780241525913,
           "Animal Teams: How Amazing Animals Work Together in the Wild"
          ],
          [
           9780241609026,
           "My First Colours: Let's Learn Them All! (My First Board Books)"
          ],
          [
           9780241533390,
           "Be Climate Clever (Be Environmentally Clever)"
          ],
          [
           9780241679623,
           "A First Book of Fairy Tales"
          ],
          [
           9780241528068,
           "Galapagos: A Unique World of Natural Wonders"
          ],
          [
           9780241225202,
           "DKfindout! Solar System"
          ],
          [
           9780241282731,
           "DKfindout! Sharks"
          ],
          [
           9780241538708,
           "Dinosaur Club: Tracking the Diplodocus"
          ],
          [
           9780241680810,
           "Pocket Pop-Up Peekaboo! Baby Dinosaur"
          ],
          [
           9781405367295,
           "Baby Touch and Feel Cuddly Animals"
          ],
          [
           9780241484326,
           "Look I'm An Ecologist (Look! I'm Learning)"
          ],
          [
           9781405329125,
           "Baby Touch and Feel Farm"
          ],
          [
           9780241585597,
           "The Egg Book: See How Baby Animals Hatch, Step By Step!"
          ],
          [
           9780241196069,
           "High-Intensity Interval Training for Women: Burn More Fat in Less Time with HIIT Workouts You Can Do Anywhere"
          ],
          [
           9780744094824,
           "Zero Sugar / One Month: Reduce Cravings - Reset Metabolism - Lose Weight - Lower Blood Sugar"
          ],
          [
           9780744070590,
           "The T Guide: Our Trans Experiences and a Celebration of Gender Expression―Man, Woman, Nonbinary, and Beyond"
          ],
          [
           9780744092479,
           "Budgeting for Beginners: 10 (Pocket Guides, 10)"
          ],
          [
           9780744090932,
           "The Tried & True Cookbook: 150 Quick and Easy Recipes for Busy Families"
          ],
          [
           9780744083880,
           "Cooking con Claudia: 100 Authentic, Family-Style Mexican Recipes"
          ],
          [
           9780744094572,
           "Coastal Harvest: Fish - Forage - Feast: A Cookbook"
          ],
          [
           9780241680193,
           "Edinburgh Like a Local: By the People Who Call It Home (Local Travel Guide)"
          ],
          [
           9780241007969,
           "Top 10 Puerto Rico: DK Eyewitness Top 10 Travel Guide 2015 (Pocket Travel Guide)"
          ],
          [
           9780241612897,
           "DK Europe (Travel Guide)"
          ],
          [
           9780241612989,
           "DK Top 10 European Cities (Pocket Travel Guide)"
          ],
          [
           9781409370055,
           "DK Eyewitness Travel Guide Moscow: DK Eyewitness Travel Guide 2015"
          ],
          [
           9780241306567,
           "DK Eyewitness Family Guide Washington, DC (Travel Guide)"
          ],
          [
           9780241568842,
           "DK Cuba (Travel Guide)"
          ],
          [
           9781405333726,
           "DK Eyewitness Top 10 Travel Guide: Berlin: (E/W, 2009)"
          ],
          [
           9781409328476,
           "DK Eyewitness Travel Guide: Austria: Eyewitness Travel Guide 2014"
          ],
          [
           9780241364659,
           "DK Eyewitness Top 10 Corsica (Pocket Travel Guide)"
          ],
          [
           9780241368749,
           "DK London: 2020 (Travel Guide)"
          ],
          [
           9781405360654,
           "DK Eyewitness Travel Guide: Belgium & Luxembourg: Eyewitness Travel Guide 2011"
          ],
          [
           9780241296318,
           "Top 10 Italian Lakes (Pocket Travel Guide)"
          ],
          [
           9780241007938,
           "Top 10 Singapore: DK Eyewitness Top 10 Travel Guide 2015 (DK Eyewitness Travel Guide)"
          ],
          [
           9780241462768,
           "DK Eyewitness Amsterdam: inspire, plan, discover, experience (Travel Guide)"
          ],
          [
           9781405353151,
           "DK Eyewitness Travel Guide: Switzerland: Eyewitness Travel Guide 2010"
          ],
          [
           9781409373520,
           "DK Eyewitness Top 10 Travel Guide: Malta & Gozo"
          ],
          [
           9780241208090,
           "Back Roads Spain: Eyewitness Travel 2016 (Travel Guide)"
          ],
          [
           9780241568507,
           "Florence Like a Local: By the People Who Call It Home (Local Travel Guide)"
          ],
          [
           9780241278710,
           "Top 10 New Orleans (Pocket Travel Guide)"
          ],
          [
           9780241686799,
           "Austin Like a Local: By the People Who Call It Home (Local Travel Guide)"
          ],
          [
           9780241367995,
           "DK Eyewitness Top 10 New Orleans (Pocket Travel Guide)"
          ],
          [
           9781409328469,
           "DK Eyewitness Travel Guide: Venice & the Veneto: Eyewitness Travel Guide 2014"
          ],
          [
           9780241407707,
           "DK Eyewitness Venice and the Veneto (Travel Guide)"
          ],
          [
           9780241306109,
           "DK Eyewitness Travel Guide Austria"
          ],
          [
           9781405369916,
           "DK Eyewitness Top 10 Travel Guide: Dubrovnik & the Dalmatian Coast"
          ],
          [
           9780241367940,
           "DK Eyewitness Top 10 Cancún and the Yucatán (Pocket Travel Guide)"
          ],
          [
           9781409386513,
           "DK Eyewitness Travel Guide: Vietnam and Angkor Wat: Eyewitness Travel Guide 2013"
          ],
          [
           9780241358313,
           "DK Lisbon (Travel Guide)"
          ],
          [
           9780241259658,
           "Top 10 Dubrovnik and the Dalmatian Coast: Eyewitness Travel Guide 2017 (DK Eyewitness Travel Guide)"
          ],
          [
           9780241208281,
           "DK Eyewitness Travel Guide Portugal: Eyewitness Travel Guide 2016"
          ],
          [
           9781405333818,
           "DK Eyewitness Top 10 Travel Guide: Rome"
          ],
          [
           9781409371595,
           "DK Eyewitness Travel Guide Loire Valley: DK Eyewitness Travel Guide 2015"
          ],
          [
           9780241410424,
           "DK Eyewitness Top 10 Stockholm (Pocket Travel Guide)"
          ],
          [
           9781405333405,
           "DK Eyewitness Top 10 Travel Guide: Dubai and Abu Dhabi"
          ],
          [
           9780751368710,
           "DK Eyewitness Travel Guide: Southwest USA & Las Vegas"
          ],
          [
           9780241662526,
           "DK Eyewitness Jerusalem, Israel and the Palestinian Territories (Travel Guide)"
          ],
          [
           9780241209684,
           "DK Eyewitness Travel Guide Jerusalem, Israel, Petra and Sinai: Eyewitness Travel Guide 2016"
          ],
          [
           9780241358320,
           "DK Germany: Eyewitness Travel Guide 2019"
          ],
          [
           9780241253540,
           "DK Eyewitness Travel Guide Mexico: DK Eyewitness Travel Guide 2017"
          ],
          [
           9781409355052,
           "DK Eyewitness Top 10 Travel Guide: Cancun & The Yucatan: DK Eyewitness Top 10 Travel Guide 2015 (DK Eyewitness Travel Guide)"
          ],
          [
           9780241310298,
           "DK Eyewitness Top 10 Stockholm (Pocket Travel Guide)"
          ],
          [
           9780241368770,
           "DK Eyewitness Prague: 2020 (Travel Guide)"
          ],
          [
           9780241358429,
           "DK Eyewitness Cuba (Travel Guide)"
          ],
          [
           9781405327459,
           "Europe (DK Eyewitness Travel Guide)"
          ],
          [
           9780241310700,
           "Top 10 Prague: 2019 (DK Eyewitness Travel Guide)"
          ],
          [
           9781405327879,
           "DK Eyewitness Top 10 Travel Guide: Washington DC"
          ],
          [
           9780241358337,
           "DK Scotland: inspire, plan, discover, experience (Travel Guide)"
          ],
          [
           9780241612163,
           "DK England's South Coast (Travel Guide)"
          ],
          [
           9780241569054,
           "San Francisco Like a Local: By the People Who Call It Home (Local Travel Guide)"
          ],
          [
           9781409369172,
           "DK Eyewitness Travel Guide Japan: DK Eyewitness Travel Guide 2015"
          ],
          [
           9780241264164,
           "Back Roads Germany: Eyewitness Travel 2017 (Travel Guide)"
          ],
          [
           9780241361795,
           "DK Eyewitness Top 10 Dubrovnik and the Dalmatian Coast (Pocket Travel Guide)"
          ],
          [
           9781405368483,
           "DK Eyewitness Top 10 Travel Guide: Phuket: Eyewitness Travel Guide 2012 (E)"
          ],
          [
           9780241461495,
           "DK Eyewitness Canary Islands (Travel Guide)"
          ],
          [
           9780241263297,
           "DK Eyewitness Travel Guide Florence and Tuscany: DK Eyewitness Travel Guide 2017"
          ],
          [
           9781405352000,
           "DK Eyewitness Travel Guide: Canary Islands: Eyewitness Travel Guide 2011"
          ],
          [
           9781405360746,
           "DK Eyewitness Travel Guide: The Netherlands: Eyewitness Travel Guide 2011"
          ],
          [
           9780241263617,
           "DK Eyewitness Travel Guide Tokyo: DK Eyewitness Travel Guide 2017"
          ],
          [
           9780241367810,
           "DK Eyewitness Top 10 Barcelona: 2020 (Travel Guide) (Pocket Travel Guide)"
          ],
          [
           9780241367773,
           "DK Eyewitness Top 10 Paris: 2020 (Travel Guide) (Pocket Travel Guide)"
          ],
          [
           9780241278666,
           "DK Eyewitness Travel Guide Philadelphia and the Pennsylvania Dutch Country: DK Eyewitness Travel Guide 2017"
          ],
          [
           9781405348300,
           "DK Eyewitness Top 10 Travel Guide: Chicago: Eyewitness Travel Guide 2010"
          ],
          [
           9781409329305,
           "DK Eyewitness Travel Guide: Norway: Eyewitness Travel Guide 2014"
          ],
          [
           9780241462980,
           "DK Top 10 Los Angeles (Pocket Travel Guide)"
          ],
          [
           9780241296288,
           "Top 10 Lake District: DK Eyewitness Top 10 Travel Guide 2018 (Pocket Travel Guide)"
          ],
          [
           9781405333740,
           "DK Eyewitness Top 10 Travel Guide: Paris: Eyewitness Travel Guide 2010"
          ],
          [
           9780241209707,
           "DK Eyewitness Travel Guide Russia: Dk Eyewitness Travel Guides 2016"
          ],
          [
           9780241368763,
           "DK Paris: 2020 (Travel Guide)"
          ],
          [
           9780241256886,
           "Top 10 Montreal and Quebec City (DK Eyewitness Travel Guide)"
          ],
          [
           9780241462959,
           "DK Eyewitness Top 10 Algarve (Pocket Travel Guide)"
          ],
          [
           9781409376996,
           "Eyewitness Travel Family Guide Italy"
          ],
          [
           9781409387848,
           "DK Eyewitness Top 10 Travel Guide: Tallinn"
          ],
          [
           9780241196779,
           "DK Eyewitness Travel Guide Malaysia and Singapore: Eyewitness Travel Guide 2016"
          ],
          [
           9780241368176,
           "DK Eyewitness Top 10 Vienna: 2020 (Travel Guide) (Pocket Travel Guide)"
          ],
          [
           9780241368701,
           "DK Amsterdam (Travel Guide)"
          ],
          [
           9780241365366,
           "DK France (Travel Guide)"
          ],
          [
           9781405346092,
           "DK Eyewitness Travel Guide: Prague"
          ],
          [
           9781405370387,
           "DK Eyewitness Top 10 Travel Guide: Cape Town and the Winelands: Eyewitness Travel Guide 2012"
          ],
          [
           9781409387879,
           "DK Eyewitness Top 10 Travel Guide: Dublin: Eyewitness Travel Guide 2013"
          ],
          [
           9780241273418,
           "DK Eyewitness Travel Guide USA: DK Eyewitness Travel Guide 2017"
          ],
          [
           9780241368022,
           "DK Eyewitness Top 10 Delhi (Pocket Travel Guide)"
          ],
          [
           9781405321136,
           "DK Eyewitness Top 10 Travel Guide: Andalucia & Costa Del Sol: Eyewitness Travel Guide 2008"
          ],
          [
           9781405370684,
           "DK Eyewitness Travel Guide: Peru: Eyewitness Travel Guide 2012"
          ],
          [
           9780241271674,
           "Dublin Pocket Map and Guide: DK Eyewitness Travel Pocket Map & Guide 2017 (Pocket Travel Guide)"
          ],
          [
           9781409370093,
           "Top 10 Milan and the Lakes: DK Eyewitness Top 10 Travel Guide 2015 (DK Eyewitness Travel Guide)"
          ],
          [
           9780241277294,
           "DK Eyewitness Travel Guide Italy: 2018"
          ],
          [
           9780241664940,
           "Unforgettable Journeys The Americas"
          ],
          [
           9780241397763,
           "DK Eyewitness Prague Mini Map and Guide (Pocket Travel Guide)"
          ],
          [
           9780241717196,
           "DK Germany (Travel Guide)"
          ],
          [
           9780241364680,
           "DK Eyewitness Top 10 St Petersburg (Pocket Travel Guide)"
          ],
          [
           9781409329848,
           "DK Eyewitness Travel Guide Caribbean: Eyewitness Travel Guide 2014"
          ],
          [
           9780241367957,
           "DK Eyewitness Top 10 Los Angeles (Pocket Travel Guide)"
          ],
          [
           9780241368015,
           "DK Eyewitness Top 10 Phuket (Pocket Travel Guide)"
          ],
          [
           9780241358290,
           "DK Eyewitness Cambodia and Laos: Inspire / Plan / Discover / Experience (Travel Guide)"
          ],
          [
           9780241355961,
           "DK Eyewitness Top 10 Cyprus: Eyewitness Travel Guide 2019 (Pocket Travel Guide)"
          ],
          [
           9780241568156,
           "Barcelona Like a Local: By the People Who Call It Home (Local Travel Guide)"
          ],
          [
           9780241735145,
           "DK Top 10 Istanbul (Pocket Travel Guide)"
          ],
          [
           9781405369251,
           "DK Eyewitness Top 10 Travel Guide: Andalucia & Costa Del Sol: Eyewitness Travel Guide 2012"
          ],
          [
           9781405368742,
           "DK Eyewitness Travel Guide: Venice & the Veneto: Eyewitness Travel Guide 2012 (E)"
          ],
          [
           9781405368957,
           "DK Eyewitness Travel Guide: Madrid: Eyewitness Travel Guide 2012"
          ],
          [
           9780241524220,
           "Austin Like a Local: By the People Who Call It Home (Local Travel Guide)"
          ],
          [
           9780241364802,
           "DK Eyewitness Top 10 Iceland: 2020 (Travel Guide) (Pocket Travel Guide)"
          ],
          [
           9780241209677,
           "DK Eyewitness Travel Guide Thailand: DK Eyewitness Travel Guides 2016"
          ],
          [
           9781405360975,
           "DK Eyewitness Top 10 Travel Guide: San Diego: Eyewitness Travel Guide 2011"
          ],
          [
           9780241275405,
           "DK Eyewitness Travel Guide The Netherlands: Eyewitness Travel Guide 2017"
          ],
          [
           9780241408001,
           "DK Eyewitness Naples and the Amalfi Coast: Inspire / Plan / Discover / Experience (Travel Guide)"
          ],
          [
           9780241368008,
           "DK Eyewitness Top 10 Orlando (Pocket Travel Guide)"
          ],
          [
           9781409369462,
           "DK Eyewitness Top 10 Travel Guide Scotland: DK Eyewitness Top 10 Travel Guide 2015"
          ],
          [
           9780241365380,
           "DK Denmark (Travel Guide)"
          ],
          [
           9780241367780,
           "DK Eyewitness Top 10 Rome: 2020 (Travel Guide) (Pocket Travel Guide)"
          ],
          [
           9781405361002,
           "DK Eyewitness Top 10 Travel Guide: Cairo & The Nile: Eyewitness Travel Guide 2011"
          ],
          [
           9780241364772,
           "DK Eyewitness Top 10 New England (Pocket Travel Guide)"
          ],
          [
           9780241309247,
           "DK Eyewitness Top 10 Scotland (Pocket Travel Guide)"
          ],
          [
           9781409326267,
           "Top 10 Vancouver and Victoria (DK Eyewitness Travel Guide)"
          ],
          [
           9780241408728,
           "DK Eyewitness Top 10 Scotland (Pocket Travel Guide)"
          ],
          [
           9781409326809,
           "Top 10 Bangkok: Eyewitness Travel Guide 2014 (E) (DK Eyewitness Travel Guide)"
          ],
          [
           9780241368824,
           "DK Eyewitness South Africa (Travel Guide)"
          ],
          [
           9780241409336,
           "DK Eyewitness Austria (Travel Guide)"
          ],
          [
           9780241735121,
           "DK Top 10 Corsica (Pocket Travel Guide)"
          ],
          [
           9781405360791,
           "DK Eyewitness Travel Guide: Kenya: Eyewitness Travel Guide 2011"
          ],
          [
           9781409373148,
           "DK Eyewitness Top 10 Travel Guide: New York City: Eyewitness Travel Guide 2013"
          ],
          [
           9780241273654,
           "Istanbul Pocket Map and Guide: DK Eyewitness Pocket Map and Guide 2017 (Pocket Travel Guide)"
          ],
          [
           9781409329893,
           "DK Eyewitness Travel Guide Costa Rica: Eyewitness Travel Guide 2014"
          ],
          [
           9781405370851,
           "DK Eyewitness Travel Guide: Morocco: Eyewitness Travel Guide 2012 (E)"
          ],
          [
           9780241310540,
           "DK Eyewitness Top 10 Las Vegas (Pocket Travel Guide)"
          ],
          [
           9780143065555,
           "Red Fort: Eyewitness Monuments of India (DK Eyewitness Travel Monuments Of India)"
          ],
          [
           9780241368732,
           "DK Italy: 2020 (Travel Guide)"
          ],
          [
           9780241411520,
           "DK Eyewitness Alaska (Travel Guide)"
          ],
          [
           9780241472231,
           "DK Top 10 Athens: Top 10 Lists for Your Perfect Trip (Pocket Travel Guide)"
          ],
          [
           9780241263198,
           "DK Eyewitness Travel Guide Budapest: Eyewitness Travel Guide 2017"
          ],
          [
           9780241568835,
           "Go Here Instead: The Alternative Travel List"
          ],
          [
           9781405368759,
           "DK Eyewitness Travel Guide: Hamburg: Eyewitness Travel Guide 2012"
          ],
          [
           9780241311578,
           "Top 10 Barcelona: 2019 (Pocket Travel Guide)"
          ],
          [
           9780241209509,
           "DK Eyewitness Travel Guide Myanmar (Burma): DK Eyewitness Travel Guides 2016"
          ],
          [
           9780241278727,
           "Top 10 Bangkok: Eyewitness Travel Guide 2017 (Pocket Travel Guide)"
          ],
          [
           9781405360937,
           "DK Eyewitness Top 10 Travel Guide: Madeira: Eyewitness Travel Guide 2011"
          ],
          [
           9781405360920,
           "DK Eyewitness Top 10 Travel Guide: Sicily: Eyewitness Travel Guide 2011"
          ],
          [
           9781409379928,
           "DK Eyewitness Travel Guide: Berlin: Eyewitness Travel Guide 2013"
          ],
          [
           9780241367971,
           "DK Eyewitness Top 10 Beijing (Pocket Travel Guide)"
          ],
          [
           9780241365489,
           "DK Eyewitness Florida (Travel Guide)"
          ],
          [
           9780241306048,
           "DK Eyewitness Travel Guide Spain"
          ],
          [
           9780241253946,
           "Top 10 Brussels, Bruges, Antwerp and Ghent: DK Eyewitness Top 10 Travel Guide (DK Eyewitness Travel Guide)"
          ],
          [
           9780751346879,
           "Japan"
          ],
          [
           9781405353748,
           "Back Roads Germany: Eyewitness Travel Guide 2011 (DK Eyewitness Travel Back Roads)"
          ],
          [
           9781405370646,
           "DK Eyewitness Travel Guide: Southwest USA & Las Vegas: Eyewitness Travel Guide 2010"
          ],
          [
           9781405361118,
           "DK Eyewitness Pocket Map and Guide: Naples & Pompeii: Eyewitness Travel Guide 2011"
          ],
          [
           9781409370499,
           "Top 10 Sydney: DK Eyewitness Top 10 Travel Guide 2015 (Pocket Travel Guide)"
          ],
          [
           9780241365519,
           "DK Southwest USA and National Parks: DK Eyewitness Travel Guides 2019"
          ],
          [
           9780241355930,
           "DK Eyewitness Top 10 Brussels, Bruges, Antwerp and Ghent (Pocket Travel Guide)"
          ],
          [
           9781405345279,
           "DK Eyewitness Pocket Map and Guide: Las Vegas"
          ],
          [
           9781405329415,
           "DK Eyewitness Top 10 Travel Guide: St Petersburg: Eyewitness Travel Guides 2008"
          ],
          [
           9780241544297,
           "DK Eyewitness Florida (Travel Guide)"
          ],
          [
           9781409379966,
           "DK Eyewitness Travel Guide: New York City: Eyewitness Travel Guide 2013"
          ],
          [
           9781409369561,
           "DK Eyewitness Travel Guide Croatia: DK Eyewitness Travel Guide 2015"
          ],
          [
           9780241719800,
           "Florence Like a Local: By the People Who Call It Home (Local Travel Guide)"
          ],
          [
           9780241397794,
           "DK Eyewitness Lisbon Mini Map and Guide (Pocket Travel Guide)"
          ],
          [
           9780241462706,
           "DK Eyewitness Top 10 Israel and the Palestinian Territories (Pocket Travel Guide)"
          ],
          [
           9781409387800,
           "DK Eyewitness Top 10 Travel Guide: Amsterdam: Eyewitness Travel Guide 2013"
          ],
          [
           9780241278697,
           "Top 10 Cape Town and the Winelands (Pocket Travel Guide)"
          ],
          [
           9780241566039,
           "DK Top 10 Seattle (Pocket Travel Guide)"
          ],
          [
           9780241462041,
           "DK Eyewitness England's South Coast (Travel Guide)"
          ],
          [
           9780241462850,
           "DK Eyewitness San Francisco and the Bay Area (Travel Guide)"
          ],
          [
           9780241568569,
           "DK Top 10 Crete (Pocket Travel Guide)"
          ],
          [
           9780241738504,
           "DK Costa Rica (Travel Guide)"
          ],
          [
           9780241680179,
           "Berlin Like a Local: By the People Who Call It Home (Local Travel Guide)"
          ],
          [
           9780241256770,
           "DK Eyewitness Travel Guide Morocco: DK Eyewitness Travel Guide 2017"
          ],
          [
           9781405368902,
           "DK Eyewitness Travel Guide: China: Eyewitness Travel Guide 2012"
          ],
          [
           9780241311868,
           "DK Eyewitness Travel Guide Prague: 2019"
          ],
          [
           9780241367803,
           "DK Eyewitness Top 10 Washington, DC: 2020 (Travel Guide) (Pocket Travel Guide)"
          ],
          [
           9780241278673,
           "DK Eyewitness Travel Guide South Africa: DK Eyewitness Travel Guide 2017"
          ],
          [
           9781405368858,
           "DK Eyewitness Travel Guide: Alaska: Eyewitness Travel Guide 2012 (E)"
          ],
          [
           9780241265550,
           "Top 10 Athens: Eyewitness Travel Guide 2017 (DK Eyewitness Travel Guide)"
          ],
          [
           9780241360309,
           "DK Back Roads California (Travel Guide)"
          ],
          [
           9780241253564,
           "DK Eyewitness Travel Guide Pacific Northwest: Eyewitness Travel Guide 2017"
          ],
          [
           9780241273630,
           "Top 10 Seoul: DK Eyewitness Top 10 Travel Guide 2017 (DK Eyewitness Travel Guide)"
          ],
          [
           9780241523872,
           "Copenhagen Like a Local: By the People Who Call It Home (Local Travel Guide)"
          ],
          [
           9780241282922,
           "DK Eyewitness Travel Guide Greece, Athens and the Mainland: DK Eyewitness Travel Guide 2017"
          ],
          [
           9780241277829,
           "DK Eyewitness Travel Guide Hawaii: Eyewitness Travel Guide 2017"
          ],
          [
           9780241007471,
           "Top 10 Vienna: DK Eyewitness Top 10 Travel Guide 2015 (DK Eyewitness Travel Guide)"
          ],
          [
           9780241707630,
           "DK England's South Coast (Travel Guide)"
          ],
          [
           9780241408612,
           "DK Eyewitness Europe (Travel Guide)"
          ],
          [
           9781405368766,
           "DK Eyewitness Travel Guide: Ireland: Eyewitness Travel Guide 2012"
          ],
          [
           9780241718964,
           "DK New York City Mini Map and Guide (Pocket Travel Guide)"
          ],
          [
           9780241007983,
           "Top 10 Buenos Aires: DK Eyewitness Top 10 Travel Guide 2015 (Pocket Travel Guide)"
          ],
          [
           9781405333535,
           "DK Eyewitness Top 10 Travel Guide: Prague"
          ],
          [
           9780241461556,
           "DK Eyewitness Russia (Travel Guide)"
          ],
          [
           9780241208465,
           "DK Eyewitness Travel Guide China: Eyewitness Travel Guide 2016"
          ],
          [
           9780241273890,
           "DK Eyewitness Travel Guide Switzerland: DK Eyewitness Travel Guide 2017"
          ],
          [
           9780241355947,
           "DK Eyewitness Top 10 Montreal and Quebec City (Pocket Travel Guide)"
          ],
          [
           9780241411322,
           "DK Eyewitness Slovenia (Travel Guide)"
          ],
          [
           9781409369509,
           "Back Roads Northern and Central Italy: Eyewitness Travel Guide 2015 (DK Eyewitness Travel Guide)"
          ],
          [
           9780241309308,
           "DK Eyewitness Travel Guide Poland"
          ],
          [
           9780241198537,
           "Top 10 Rio de Janeiro: Eyewitness Top 10 Travel Guide 2016 (DK Eyewitness Travel Guide)"
          ],
          [
           9780241276303,
           "Top 10 New England (DK Eyewitness Travel Guide)"
          ],
          [
           9780241264188,
           "Top 10 Naples and the Amalfi Coast: Eyewitness Travel Guide 2017 (DK Eyewitness Travel Guide)"
          ],
          [
           9780241198414,
           "DK Eyewitness Travel Guide Bali and Lombok"
          ],
          [
           9780241209547,
           "DK Eyewitness Travel Guide London: DK Eyewitness Travel Guides 2016"
          ],
          [
           9780241306703,
           "DK Eyewitness Venice Pocket Map and Guide (Pocket Travel Guide)"
          ],
          [
           9781405327862,
           "DK Eyewitness Travel Guide: San Francisco & Northern California"
          ],
          [
           9780241368725,
           "DK Ireland: 2020 (Travel Guide)"
          ],
          [
           9780241275382,
           "DK Eyewitness Travel Guide Boston: DK Eyewitness Travel Guide 2017"
          ],
          [
           9780241200148,
           "Rome Pocket Map and Guide: DK Eyewitness 2016 (DK Eyewitness Travel Guide)"
          ],
          [
           9780241509661,
           "DK Eyewitness Berlin (Travel Guide)"
          ],
          [
           9781405361378,
           "DK Eyewitness Top 10 Travel Guide: Turkey's Southwest Coast: Eyewitness Travel Guide 2011"
          ],
          [
           9780241355954,
           "DK Eyewitness Top 10 Normandy: Eyewitness Travel Guide 2019 (Pocket Travel Guide)"
          ],
          [
           9780241253571,
           "DK Eyewitness Travel Guide Sweden: Eyewitness Travel Guide 2017"
          ],
          [
           9780241207697,
           "Paris Pocket Map and Guide: DK Eyewitness 2016 (DK Eyewitness Travel Guide)"
          ],
          [
           9780241271667,
           "DK Eyewitness Travel Guide Lisbon: DK Eyewitness Travel Guide 2015"
          ],
          [
           9780241007389,
           "DK Eyewitness Top 10 Travel Guide: Algarve: DK Eyewitness Top 10 Travel Guide 2015"
          ],
          [
           9780241208298,
           "DK Eyewitness Travel Guide Scotland: Eyewitness Travel Guide 2016"
          ],
          [
           9780241203736,
           "DK Eyewitness Travel Guide Amsterdam"
          ],
          [
           9780241309186,
           "DK Top 10 Sicily (Pocket Travel Guide)"
          ],
          [
           9780241296332,
           "DK Eyewitness Top 10 Milan and the Lakes (Pocket Travel Guide)"
          ],
          [
           9780241209318,
           "New York City Pocket Map and Guide (DK Eyewitness Travel Guide)"
          ],
          [
           9781409387633,
           "Back Roads Ireland (DK Eyewitness Travel Guide)"
          ],
          [
           9781409384069,
           "DK Eyewitness Top 10 Travel Guide: Stockholm"
          ],
          [
           9780241628317,
           "Where to Go When The Americas"
          ],
          [
           9780241209295,
           "DK Eyewitness Travel Guide Dordogne, Bordeaux and the Southwest Coast: DK Eyewitness Guides 2016"
          ],
          [
           9780241278741,
           "Top 10 Dubai and Abu Dhabi: Eyewitness Travel Guide 2017 (Pocket Travel Guide)"
          ],
          [
           9780241568545,
           "DK Budapest (Travel Guide)"
          ],
          [
           9780241305959,
           "DK Eyewitness Travel Guide Brazil"
          ],
          [
           9781409329770,
           "DK Eyewitness Travel Guide Morocco (Eyewitness Travel Guides) 2016"
          ],
          [
           9780241679883,
           "¡Viva Mexico!: A journey through food, fiestas and beyond"
          ],
          [
           9780241196786,
           "DK Eyewitness Travel Guide Cambodia and Laos"
          ],
          [
           9781405357876,
           "DK Eyewitness Travel Guide: Egypt: Eyewitness Travel Guide 2011"
          ],
          [
           9780241358368,
           "DK Greek Islands (Travel Guide)"
          ],
          [
           9781409371427,
           "DK Eyewitness Travel Guide Czech and Slovak Republics: DK Eyewitness Travel Guide 2015"
          ],
          [
           9781409373391,
           "DK Eyewitness Top 10 Travel Guide: Prague"
          ],
          [
           9780241278659,
           "DK Eyewitness Travel Guide Arizona and the Grand Canyon: Eyewitness Travel Guide 2017"
          ],
          [
           9780241204542,
           "DK Eyewitness Travel Guide Austria"
          ],
          [
           9780241253977,
           "Top 10 Lisbon: DK Eyewitness Top 10 Travel Guide 2017 (DK Eyewitness Travel Guide)"
          ],
          [
           9780241615959,
           "DK Japan (Travel Guide)"
          ],
          [
           9781405360814,
           "DK Eyewitness Travel Guide: Vietnam and Angkor Wat: Eyewitness Travel Guide 2011"
          ],
          [
           9780241277836,
           "DK Eyewitness Travel Guide India: Eyewitness Travel Guide 2017"
          ],
          [
           9781409327042,
           "DK Eyewitness Pocket Map and Guide: Prague"
          ],
          [
           9781405369169,
           "DK Eyewitness Pocket Map and Guide: Brussels: DK Eyewitness Pocket Map & Guide (DK Eyewitness Travel Guide)"
          ],
          [
           9781405353113,
           "DK Eyewitness Travel Guide: Denmark: Eyewitness Travel Guide 2010"
          ],
          [
           9780241367414,
           "DK Eyewitness Top 10 London: 2020 (Travel Guide) (Pocket Travel Guide)"
          ],
          [
           9780241273883,
           "DK Eyewitness Travel Guide Naples and the Amalfi Coast: DK Eyewitness Travel Guide 2017"
          ],
          [
           9780241275429,
           "DK Eyewitness Travel Guide Bulgaria: Eyewitness Travel Guide 2017"
          ],
          [
           9780241368787,
           "DK Rome: 2020 (Travel Guide)"
          ],
          [
           9781409373131,
           "DK Eyewitness Top 10 Travel Guide: Miami & the Keys"
          ],
          [
           9780241355015,
           "DK Eyewitness Top 10 Cuba (Pocket Travel Guide)"
          ],
          [
           9780241006658,
           "DK Eyewitness Travel Guide Greece, Athens & the Mainland: DK Eyewitness Travel Guide 2015"
          ],
          [
           9781409370079,
           "Top 10 Copenhagen: DK Eyewitness Top 10 Travel Guide 2015 (DK Eyewitness Travel Guide)"
          ],
          [
           9780241207390,
           "DK Eyewitness Travel Guide Spain: Eyewitness Travel Guide 2016"
          ],
          [
           9780241364888,
           "DK Eyewitness Top 10 Madrid: 2020 (Travel Guide) (Pocket Travel Guide)"
          ],
          [
           9780241619292,
           "DK Paris (Travel Guide)"
          ],
          [
           9780241355022,
           "DK Eyewitness Top 10 Lisbon (Pocket Travel Guide)"
          ],
          [
           9780241310489,
           "DK Eyewitness St Petersburg (Travel Guide)"
          ],
          [
           9780241181331,
           "DK Eyewitness Travel Guide Poland: DK Eyewitness Travel Guide 2015"
          ],
          [
           9780241566053,
           "DK Alaska (Travel Guide)"
          ],
          [
           9781409373360,
           "DK Eyewitness Top 10 Travel Guide: Devon & Cornwall"
          ],
          [
           9780241568286,
           "Portland Like a Local: By the People Who Call It Home (Local Travel Guide)"
          ],
          [
           9780241209530,
           "DK Eyewitness Travel Guide Italy: DK Eyewitness Travel Guides 2016"
          ],
          [
           9781409386094,
           "DK Eyewitness Travel Guide: Florence & Tuscany: Eyewitness Travel Guide 2013"
          ],
          [
           9781409387824,
           "DK Eyewitness Top 10 Travel Guide: Madrid"
          ],
          [
           9781409376408,
           "DK Eyewitness Travel Guide Sri Lanka: Eyewitness Travel Guide 2014 (E)"
          ],
          [
           9780241259108,
           "Top 10 Andalucía and the Costa del Sol: Eyewitness Travel Guide 2017 (DK Eyewitness Travel Guide)"
          ],
          [
           9781405370547,
           "DK Eyewitness Top 10 Travel Guide: Bangkok: Eyewitness Travel Guide 2012"
          ],
          [
           9780241407967,
           "DK Eyewitness Budapest (Travel Guide)"
          ],
          [
           9780241368718,
           "DK Berlin (Travel Guide)"
          ],
          [
           9780241510605,
           "DK Eyewitness New York City (Travel Guide)"
          ],
          [
           9780241516287,
           "Outdoor Europe"
          ],
          [
           9780241474006,
           "DK Top 10 New England (Pocket Travel Guide)"
          ],
          [
           9780241490679,
           "New York City Like a Local: By the People Who Call It Home (Local Travel Guide)"
          ],
          [
           9781648769207,
           "The Montessori Toddler Activity Book: 60 At-Home Games and Activities for Curious Toddlers"
          ],
          [
           9781728286853,
           "Block Shot: A Hoops Novel"
          ],
          [
           9781728258447,
           "King of Battle and Blood: A Dark & Steamy Vampire Romance for Romantasy Lovers: 1 (Adrian X Isolde, 1)"
          ],
          [
           9781641523431,
           "Puppy Training in 7 Easy Steps: Everything You Need to Know to Raise the Perfect Dog"
          ],
          [
           9781647399160,
           "The Beginner's Guide to Runes: Divination and Magic with the Elder Futhark Runes"
          ],
          [
           9781623158064,
           "Stretching to Stay Young: Simple Workouts to Keep You Flexible, Energized, and Pain Free"
          ],
          [
           9798886509267,
           "125 More Learn to Read Activities: Fun Lessons to Teach Your Child to Read"
          ],
          [
           9781492680826,
           "Climate Change for Babies: 1 (Baby University)"
          ],
          [
           9781647392895,
           "Celebrate Your Feelings: The Positive Mindset Puberty Book for Girls"
          ],
          [
           9798886504613,
           "Why We Celebrate Chinese New Year: Everything to Know about Your Favorite Holiday"
          ],
          [
           9781641522557,
           "Essential Succulents: The Beginner's Guide"
          ],
          [
           9781728274331,
           "45 Ways to Live Like an Italian: Italian-Inspired Self-Care Traditions for Everyday Happiness"
          ],
          [
           9781646115952,
           "The Mediterranean Diet Cookbook for Two: 100 Perfectly Portioned Recipes for Healthy Eating"
          ],
          [
           9781728238593,
           "The Department of Rare Books and Special Collections: A Novel"
          ],
          [
           9781728262666,
           "The Long Grief Journey: How Long-Term Unresolved Grief Can Affect Your Mental Health and What to Do about It"
          ],
          [
           9781728248202,
           "They Drown Our Daughters"
          ],
          [
           9781728246901,
           "If You Could Live Anywhere: The Surprising Importance of Place in a Work-from-Anywhere World"
          ],
          [
           9781402284250,
           "Why Smart Kids Worry: And What Parents Can Do to Help"
          ],
          [
           9781728295930,
           "Hello, Bedtime: A Perfect High-Contrast Black-and-White Board Book for a Baby Shower Gift to Newborns and Babies: 7 (High-Contrast Books)"
          ],
          [
           9781464242656,
           "On Spine of Death: A Small Town Cosy Crime Murder Mystery (By the Book Mysteries)"
          ],
          [
           9781464242632,
           "A Murder Between the Pages: A Cosy Crime Murder Mystery Set in a Small Town (Main Street Book Club Mysteries)"
          ],
          [
           9781464242618,
           "Leave No Scone Unturned: A Delicious Culinary Cosy Crime Mystery (Chef-to-Go Mysteries)"
          ],
          [
           9781728205243,
           "I Heart Pluto: 1"
          ],
          [
           9781728277837,
           "The Dawn and Its Light (The Night and Its Moon)"
          ],
          [
           9781728264264,
           "New Adult: 3 (Boy Meets Boy)"
          ],
          [
           9781728276434,
           "My Sticker Dress-Up: Weddings"
          ],
          [
           9781648760587,
           "This is Why We Pray: A Story About Islam, Salah, and Dua"
          ],
          [
           9781728213330,
           "Scientist, Scientist, Who Do You See?: A Scientific Parody: 1"
          ],
          [
           9781728228624,
           "My First 100 Construction Words (My First STEAM Words)"
          ],
          [
           9781728211268,
           "My First 100 Engineering Words (My First STEAM Words)"
          ],
          [
           9781464238437,
           "Collision: An Enemies to Lovers Romance for Fans of My Fault (Better)"
          ],
          [
           9781728275390,
           "The Night and Its Moon"
          ],
          [
           9781728293837,
           "I Came. I Saw. I F*cking Conquered Planner: 17-month Undated Planner"
          ],
          [
           9781728246383,
           "Wolf Takes the Lead: 4 (Billionaire Wolf)"
          ],
          [
           9781950500710,
           "My First Book of Growing Food: Create Nature Lovers with this Earth-Friendly Book for Babies and Toddlers. (Terra Babies at Home)"
          ],
          [
           9781728281384,
           "F*cking Affirmations: Daily Badass Reminders of Your F*cking Greatness"
          ],
          [
           9781464230936,
           "What Remains of Teague House: A Mystery"
          ],
          [
           9781728239231,
           "The Twisted Dead: 3 (Gravekeeper)"
          ],
          [
           9781402298653,
           "The Orphan Sky: A Novel"
          ],
          [
           9781728292823,
           "The Drowning House"
          ],
          [
           9781728275154,
           "A Brief History of the Female Body: An Evolutionary Look at How and Why the Female Form Came to Be"
          ],
          [
           9781728206974,
           "The Storm Crow: 1"
          ],
          [
           9781728279633,
           "Be Dazzled"
          ],
          [
           9781728241166,
           "ABCs of Biochemistry"
          ],
          [
           9781464242496,
           "Watch Your Back (Devil's Backbone)"
          ],
          [
           9781464214264,
           "A Deadly Twist: 11 (Chief Inspector Andreas Kaldis Mysteries, 11)"
          ],
          [
           9781728223407,
           "All I Want for Christmas Is Ewe (Punderland)"
          ],
          [
           9781728278216,
           "The Jolliest Bunch: Unhinged Holiday Stories"
          ],
          [
           9781953424105,
           "Questions for Rebel Girls"
          ],
          [
           9781728225326,
           "Finish Strong: Amazing Stories of Courage and Inspiration (Ignite Reads)"
          ],
          [
           9781728240480,
           "It Will Be OK"
          ],
          [
           9781728247953,
           "A Hundred Other Girls: A Novel"
          ],
          [
           9798886509342,
           "The Green Witch's Herb and Plant Encyclopedia: 150 Ingredients for Everyday Witchcraft"
          ],
          [
           9781728267975,
           "A F*cking 2024 Wall Calendar: Get Your Sh*t Together This Year - Includes Stickers! (Calendars & Gifts to Swear By)"
          ],
          [
           9781492679325,
           "I Love You to the Moon and Back (Precious Moments!)"
          ],
          [
           9781728228617,
           "My First 100 Animal Words (My First STEAM Words)"
          ],
          [
           9781492655381,
           "Flat Broke With Two Goats"
          ],
          [
           9781728263939,
           "How to Catch a Class Pet"
          ],
          [
           9781728260839,
           "Fifty Shades of Grey 10th Anniversary Edition (Fifty Shades Of Grey Series)"
          ],
          [
           9780997895841,
           "I Am A Rebel Girl: A Journal to Start Revolutions (Good Night Stories for Rebel Girls)"
          ],
          [
           9781492665403,
           "Love, Chai, and Other Four-Letter Words: 1 (Chai Masala Club, 1)"
          ],
          [
           9781728242439,
           "Grandma and Me"
          ],
          [
           9781728254548,
           "The 50/50 Solution: The Surprisingly Simple Choice That Makes Moms, Dads, and Kids Happier and Healthier After a Split"
          ],
          [
           9781464211478,
           "The Mykonos Mob (Chief Inspector Andreas Kaldis Series)"
          ],
          [
           9781728270517,
           "How to Catch Graphic Novels: How to Catch an Elf"
          ],
          [
           9781464216824,
           "Squishy Sounds: Laughing Babies"
          ],
          [
           9781728216591,
           "We Were Restless Things"
          ],
          [
           9781728268989,
           "2024 Own Your Magic Boxed Calendar: 365 Days of Spells and Intentions to Manifest Your Best Witch Life"
          ],
          [
           9781646113453,
           "Horse Life: The Ultimate Guide to Caring for and Riding Horses for Kids"
          ],
          [
           9781464221101,
           "Vote With Your Phone: Why Mobile Voting Is Our Final Shot at Saving Democracy"
          ],
          [
           9781728262949,
           "We Did Nothing Wrong"
          ],
          [
           9781728298160,
           "Wanted: Toddler's Personal Assistant: How Nannying for the 1% Taught Me about the Myths of Equality, Motherhood, and Upward Mobility in America"
          ],
          [
           9781728249032,
           "The Next Best Day"
          ],
          [
           9781728217406,
           "Duke Has Done It Again: 6 (The Duke's Estates)"
          ],
          [
           9781492693321,
           "The Shadowglass: Bone Witch #3 (The Bone Witch, 3)"
          ],
          [
           9781464239564,
           "Tart of Darkness: A Delicious Culinary Cosy Crime Mystery (Chef-to-Go Mysteries)"
          ],
          [
           9781728256337,
           "You Shamrock My World (Punderland)"
          ],
          [
           9781728271293,
           "A Travel Planner: The Best Undated Travel Planner and Keepsake Logbook"
          ],
          [
           9781728222929,
           "Beyond Power: 2 (Florida Wildlife Warriors, 2)"
          ],
          [
           9781728294308,
           "The Amazing Power of Girls: Meet the Universe's Most Powerful and invisible Forces"
          ],
          [
           9781728228907,
           "The Wicked Remain: 2 (The Grimrose Girls, 2)"
          ],
          [
           9781492613596,
           "The Empress of Bright Moon (The Empress of Bright Moon Duology)"
          ],
          [
           9781728258300,
           "Secret Lives"
          ],
          [
           9781728283005,
           "A Sweeter Song: Catharsis"
          ],
          [
           9781733176194,
           "Madam C. J. Walker Builds a Business"
          ],
          [
           9781728274270,
           "How to Catch Santa Claus"
          ],
          [
           9781728246987,
           "How to Talk to Kids About Anything: Tips, Scripts, Stories, and Steps to Make Even the Toughest Conversations Easier"
          ],
          [
           9781492651345,
           "Heroes"
          ],
          [
           9781728294766,
           "The Shadow Sister"
          ],
          [
           9781728262918,
           "What Happened on Hicks Road"
          ],
          [
           9781728242576,
           "The Woman They Could Not Silence: The Shocking Story of a Woman Who Dared to Fight Back"
          ],
          [
           9781728271828,
           "Great F*cking Quotes: Inspirational Quotes and Affirmations to Make Your Day Bright as Hell"
          ],
          [
           9781728216744,
           "How to Catch a Yeti"
          ],
          [
           9781728270357,
           "No Child of Mine"
          ],
          [
           9781464220135,
           "A Storybook Wedding"
          ],
          [
           9781464229848,
           "Snap & Snuggle: An Arctic Adventure: My Cuddly Reindeer"
          ],
          [
           9798889641421,
           "Good Night Stories for Rebel Girls (New Edition): 100+ Tales of Extraordinary Women"
          ],
          [
           9781402273049,
           "Accounting for Non-accountants: The Fast and Easy Way to Learn the Basics"
          ],
          [
           9781728269962,
           "Midnight Is the Darkest Hour: A Novel"
          ],
          [
           9781728239156,
           "The Castle School (for Troubled Girls)"
          ],
          [
           9798886502008,
           "Soccer Biographies for Kids: Stories of Soccer's Most Inspiring Players (Sports Biographies for Kids)"
          ],
          [
           9781492697237,
           "Curse of the Forgotten City"
          ],
          [
           9781728276946,
           "Christmas Eve Love Story"
          ],
          [
           9781728249711,
           "A Chance Inheritance"
          ],
          [
           9781728265643,
           "When Stars Come Out"
          ],
          [
           9781641527071,
           "Black Women in Science: A Black History Book for Kids (Biographies for Kids)"
          ],
          [
           9781464219047,
           "The Secret War of Julia Child: A Novel"
          ],
          [
           9781464234910,
           "Stealing for Keeps: A Young Adult Sports Romance Novel (Frost Lake High)"
          ],
          [
           9781464225833,
           "A Chill in the Flame: A New Dark Romantasy from the Beloved Author of The Night and Its Moon (Villains)"
          ],
          [
           9781728249209,
           "The Christmas You Found Me: 1 (Heart of the Wilderness)"
          ],
          [
           9781492637134,
           "Bellewether"
          ],
          [
           9781728253381,
           "Not Bad for a Girl"
          ],
          [
           9781728249865,
           "2023 Carpe F*cking Diem Planner: August 2022-December 2023"
          ],
          [
           9781728289885,
           "The Summer After You and Me"
          ],
          [
           9781728253817,
           "The Cowboy of My Dreams: 3 (The Murphys of Meadow Valley)"
          ],
          [
           9781464221064,
           "The World's End: 3 (A Hundred Names for Magic)"
          ],
          [
           9781728297217,
           "The Sister Pact"
          ],
          [
           9781641521154,
           "Reiki Healing for Beginners: The Practical Guide with Remedies for 100+ Ailments"
          ],
          [
           9781728282008,
           "American King: A Steamy and Taboo BookTok Sensation: 3 (New Camelot, 3)"
          ],
          [
           9781728277660,
           "Nightmare in the Backyard"
          ],
          [
           9781728299075,
           "Ancient Wisdom for Modern Dating: An Indian Matchmaker's Advice on Finding Love That Lasts"
          ],
          [
           9781728284385,
           "You're the Coolest Dad in the Box (Punderland)"
          ],
          [
           9781728292922,
           "She Left: A Novel"
          ],
          [
           9781728293332,
           "A Family of Killers"
          ],
          [
           9781728293035,
           "How to Catch a Groundhog"
          ],
          [
           9781728291451,
           "June First"
          ],
          [
           9781492628996,
           "The Magician's Lie: A Novel"
          ],
          [
           9781728265599,
           "There's Something about Merry: 2 (Mistletoe Romance)"
          ],
          [
           9781728283920,
           "A Stray Dog for Christmas: How Suzy Was Adopted"
          ],
          [
           9781492652373,
           "Tricked"
          ],
          [
           9798886509243,
           "30 Real Signs from the Afterlife: Recognizing and Understanding Messages from Lost Loved Ones"
          ],
          [
           9781728228877,
           "The Grimrose Girls: 1"
          ],
          [
           9781464217685,
           "Squishy Sounds: Spooky Sounds"
          ],
          [
           9781641524865,
           "Beekeeping for Beginners: How To Raise Your First Bee Colonies"
          ],
          [
           9781464224331,
           "Young Rich Widows: A Novel"
          ],
          [
           9781728250700,
           "ABCs of Calm: Discover Mindfulness from A-Z"
          ],
          [
           9781728264561,
           "The Boo Crew Needs YOU!"
          ],
          [
           9781402288791,
           "Paris Letters"
          ],
          [
           9781728296326,
           "A Perfect Story"
          ],
          [
           9781728292670,
           "Pestilence: Laura Thalassa (The Four Horsemen)"
          ],
          [
           9781492679516,
           "The Happiness Hack: Take Charge of Your Brain and Create More Happiness in Your Life"
          ],
          [
           9781728257877,
           "Katharine, the Wright Sister: A Novel"
          ],
          [
           9781728232867,
           "What Does It Mean to Be Green?"
          ],
          [
           9781728252018,
           "The Missing Jewels"
          ],
          [
           9781728277677,
           "The Comeback"
          ],
          [
           9781728244945,
           "My Death Diary: A Guided Journal for Mortals"
          ],
          [
           9781464219412,
           "Thank You God, Good Night"
          ],
          [
           9781728238784,
           "Elevate Your Team: Push Beyond Your Leadership Limits to Unlock Success in Yourself and Others (Ignite Reads)"
          ],
          [
           9781646114351,
           "Japanese Cookbook for Beginners: Classic and Modern Recipes Made Easy"
          ],
          [
           9781728278087,
           "What She's Having: 2 (Big Love from Galway)"
          ],
          [
           9781728276595,
           "Why We Need to Be Wild: One Woman's Quest for Ancient Human Answers to 21st Century Problems"
          ],
          [
           9781492698708,
           "Whiteout: 1 (Survival Instincts, 1)"
          ],
          [
           9781728250274,
           "The Worthy Mind: Transform Your Mindset. Strengthen Self-Worth."
          ],
          [
           9781934082928,
           "If I Could Keep You Little...: 0 (Marianne Richmond)"
          ],
          [
           9781728254074,
           "Always the First to Die: A Novel"
          ],
          [
           9781728289380,
           "A Nobleman's Guide to Seducing a Scoundrel (The Doomsday Books)"
          ],
          [
           9781438001487,
           "Chihuahuas (Complete Pet Owner's Manuals)"
          ],
          [
           9781728239224,
           "The Ravenous Dead: 2 (Gravekeeper, 2)"
          ],
          [
           9781728262468,
           "Extra Witchy: 3 (Fix-It Witches, 3)"
          ],
          [
           9798886507300,
           "La Biblia en 52 semanas: Un estudio bíblico anual para la mujer (Bible in 52 Weeks)"
          ],
          [
           9781728297057,
           "Story of My Life (Deluxe Edition): 1 (Story Lake)"
          ],
          [
           9781728226033,
           "Out of Character: 2 (True Colors, 2)"
          ],
          [
           9781728230580,
           "Great Quotes from Great Women Journal: An Inspirational Journal"
          ],
          [
           9781728239248,
           "The Hollow Dead: 4 (Gravekeeper)"
          ],
          [
           9781728283760,
           "All That We Never Were: 1 (Let It Be)"
          ],
          [
           9781728289816,
           "Stomp, Soar, Dino Roar (Dinos, Rhinos, and More)"
          ],
          [
           9781728268873,
           "30-Minute Meal Prep: 100 Healthy and Delicious Recipes to Eat All Week"
          ],
          [
           9781464220890,
           "I Am Money: And I Don't Grow on Trees"
          ],
          [
           9781953424235,
           "Rebel Girls Awesome Entrepreneurs: 25 Tales of Women Building Businesses"
          ],
          [
           9781728275383,
           "The Dare"
          ],
          [
           9781728239712,
           "To the Gates of Hell: 3 (Jake Paynter, 3)"
          ],
          [
           9781464219603,
           "Girls with Bad Reputations (The Lillys)"
          ],
          [
           9781728214542,
           "Like Cats and Dogs: 1 (Whitman Street Cat Cafe, 1)"
          ],
          [
           9781402293528,
           "Writing Great Books for Young Adults: Everything You Need to Know, from Crafting the Idea to Getting Published"
          ],
          [
           9781889140230,
           "1-2-3 Magic: Effective Discipline for Children 2 12"
          ],
          [
           9781728236414,
           "My Dearest Darkest"
          ],
          [
           9781728234137,
           "Missing Dead Girls"
          ],
          [
           9781728267999,
           "2024 Carpe F*cking Diem Planner: August 2023-December 2024 (Calendars & Gifts to Swear By)"
          ],
          [
           9781728276502,
           "A Murder in Hollywood: The Untold Story of Tinseltown's Most Shocking Crime"
          ],
          [
           9781728213569,
           "Marie Curie and the Power of Persistence (My Super Science Heroes)"
          ],
          [
           9781955834506,
           "Book Buddies: Don't Talk to Me While I'm Reading!: 1"
          ],
          [
           9781728272825,
           "42 Reasons to Hate the Universe: (And One Reason Not To)"
          ],
          [
           9781728268392,
           "The Warning: 1"
          ],
          [
           9781728292175,
           "2025 Amy Knapp's Family Organizer: August 2024 - December 2025 (Amy Knapp's Plan Your Life Calendars)"
          ],
          [
           9781646321155,
           "Social and Emotional Curriculum for Gifted Students: Grade 4, Project-Based Learning Lessons That Build Critical Thinking, Emotional Intelligence, and Social Skills"
          ],
          [
           9781728295657,
           "My First How to Catch the Sandman: A Bedtime Adventure"
          ],
          [
           9781728292892,
           "How This Book Got Red"
          ],
          [
           9781728277387,
           "Can You Hear Me Now?: A Memoir of Hearing Loss, Hope, and Fighting Against the Odds"
          ],
          [
           9781623157302,
           "Anger Management Workbook for Men: Take Control of Your Anger and Master Your Emotions"
          ],
          [
           9780525436201,
           "Fifty Shades Freed (Movie Tie-in Edition): Book Three of the Fifty Shades Trilogy: 3 (Fifty Shades Of Grey Series, 3)"
          ],
          [
           9781728284194,
           "Beg You to Trust Me: 1 (Lindon U, 1)"
          ],
          [
           9781492682950,
           "Just Don't Mention It (Dimily Trilogy)"
          ],
          [
           9781953424129,
           "Good Night Stories for Rebel Girls 3-Book Gift Set"
          ],
          [
           9781402204012,
           "The Macho Paradox: Why Some Men Hurt Women and How All Men Can Help"
          ],
          [
           9781728229119,
           "The Perfect Place to Die"
          ],
          [
           9781728234212,
           "Three Single Wives: A Novel"
          ],
          [
           9781402218446,
           "Healing the Addicted Brain: The Revolutionary, Science-Based Alcoholism and Addiction Recovery Program"
          ],
          [
           9781728294902,
           "The Specimen"
          ],
          [
           9781728236797,
           "My American Baby (My Baby Locale)"
          ],
          [
           9781464233289,
           "The Peculiar Garden of Harriet Hunt: A Cosy Historical Fantasy with a Touch of Magical Realism"
          ],
          [
           9781728247984,
           "How Do I Un-Remember This?: Unfortunately True Stories"
          ],
          [
           9781492668077,
           "Before I Let Go"
          ],
          [
           9781492672937,
           "The Storm Crow: 1 (Storm Crow, 3)"
          ],
          [
           9798886509236,
           "Creative Crafts for Teens: 25 Empowering Projects"
          ],
          [
           9781728293462,
           "The President's Wife: A Novel"
          ],
          [
           9781646111824,
           "Super Fun Family Card Games: 75 Games for All Ages"
          ],
          [
           9781728265773,
           "Long After We Are Gone: A Novel"
          ],
          [
           9781728234441,
           "The Hello, Fears Challenge: A 100-Day Journal for Self-Discovery"
          ],
          [
           9781464224089,
           "I Think I'm in Love with an Alien"
          ],
          [
           9781728273020,
           "Parenting Anxious Kids: Understanding Anxiety in Children by Age and Stage"
          ],
          [
           9781728221755,
           "House of Secrets: A Novel: 2 (House of Shadows, 2)"
          ],
          [
           9781728268644,
           "Burn Down, Rise Up"
          ],
          [
           9781728242736,
           "She/He/They/Me: An Interactive Guide to the Gender Binary"
          ],
          [
           9781728215693,
           "The Arctic Fury: A Novel"
          ],
          [
           9781402237812,
           "Escape to Witch Mountain"
          ],
          [
           9781733329224,
           "Alicia Alonso Takes the Stage"
          ],
          [
           9781953424464,
           "Rebel Girls Level Up: 25 Tales of Gaming and the Metaverse: 25 Tales of Gaming and the Metaverse"
          ],
          [
           9781728293479,
           "The Father She Went to Find: A Novel"
          ],
          [
           9781728250441,
           "Shadows of Berlin: A Novel"
          ],
          [
           9781728297972,
           "I Love You a Ho-Ho Lot! (Punderland)"
          ],
          [
           9781464225819,
           "The Sex You Want: A Shameless Journey to Deep Intimacy, Honest Pleasure, and a Life You Love"
          ],
          [
           9781641525251,
           "The Backyard Bug Book for Kids: Storybook, Insect Facts, and Activities (Let's Learn About Bugs and Animals)"
          ],
          [
           9781728229614,
           "Yes & I Love You: 1 (Say Everything, 1)"
          ],
          [
           9781464231865,
           "Finders Keepers"
          ],
          [
           9781464233241,
           "Remember You Will Die: A Genre-Bending Science Fiction Epistolary Novel"
          ],
          [
           9781728240190,
           "Boss Witch: 2 (Fix-It Witches, 2)"
          ],
          [
           9781492672661,
           "Wicked As You Wish: 1 (A Hundred Names for Magic, 1)"
          ],
          [
           9781464237133,
           "Bossman: A Billionaire Office Romance"
          ],
          [
           9781728233253,
           "Ten on a Twig"
          ],
          [
           9781492636113,
           "Even If We Break"
          ],
          [
           9781402210518,
           "Write Tight: Say Exactly What You Mean with Precision and Power"
          ],
          [
           9781728206363,
           "Great Quotes from Great Leaders 2021 Calendar"
          ],
          [
           9781728297316,
           "The Intentional Witch: A Guided Journal with Prompts, Spells, and Affirmations for a More Magical You"
          ],
          [
           9781464225123,
           "Where Should We Camp Next?: Camping Logbook and Journal"
          ],
          [
           9781728292663,
           "Famine: Laura Thalassa (The Four Horsemen)"
          ],
          [
           9781728279527,
           "José Feeds the World: How a famous chef feeds millions of people in need around the world"
          ],
          [
           9781464215902,
           "The Metropolitan Opera Murders (Library of Congress Crime Classics)"
          ],
          [
           9781728231952,
           "Lightbringer: Claire Legrand: 3 (The Empirium Trilogy, 3)"
          ],
          [
           9781728280103,
           "We Don't Swim Here"
          ],
          [
           9781728296968,
           "Every Day Spirit: A Daybook of Wisdom, Joy and Peace"
          ],
          [
           9781728213798,
           "Kingdom of Exiles: 1 (The Beast Charmer, 1)"
          ],
          [
           9781464242502,
           "You're Next (Devil's Backbone)"
          ],
          [
           9798886500967,
           "Cash Stash Activity Book: The Personal Finance Workbook with 75 Fun Money Saving Challenges"
          ],
          [
           9781464225857,
           "Nearlywed"
          ],
          [
           9781728296265,
           "Snowy Mountain Christmas"
          ],
          [
           9781464215155,
           "Ghost Stories of an Antiquary (Haunted Library Horror Classics)"
          ],
          [
           9781584693406,
           "Noisy Frog Sing-Along"
          ],
          [
           9781728281865,
           "I Love You Soap Much: Wash & Wow Color-Changing Bath Book (Punderland)"
          ],
          [
           9781101946343,
           "Grey: Fifty Shades of Grey as Told by Christian: 4 (Fifty Shades Of Grey Series, 4)"
          ],
          [
           9781492697428,
           "Absurd Words: A kids’ fun and hilarious vocabulary builder for future word nerds"
          ],
          [
           9781728263816,
           "Make Space for Happiness: How to Stop Attracting Clutter and Start Magnetizing the Life You Want"
          ],
          [
           9781728256733,
           "The Broken Truth: A Thriller (Tucker Snow Thrillers)"
          ],
          [
           9781492608684,
           "The Girl from the Well"
          ],
          [
           9781728232447,
           "Curse of the Night Witch"
          ],
          [
           9781728284200,
           "Lose You to Find Me: 3 (Lindon U, 3)"
          ],
          [
           9781728251233,
           "Along Came Holly: 3 (Mistletoe Romance)"
          ],
          [
           9781728299839,
           "Last Twelve Miles: A Novel"
          ],
          [
           9798886509847,
           "Relaxing Brain Games for Adults: The Easy-Going Puzzle Book for Adults with 100+ Logic Puzzles"
          ],
          [
           9781402202698,
           "Instant Self-hypnosis"
          ],
          [
           9781492667049,
           "Trailblazer: 1 (Cowboys & Harvey Girls, 1)"
          ],
          [
           9781728276007,
           "49 Miles Alone"
          ],
          [
           9781728251028,
           "F*ck Cancer Undated Planner: A 52-week Organizer to Fight Cancer Like a F*cking Boss"
          ],
          [
           9781492623168,
           "Labyrinth Lost: 1 (Brooklyn Brujas, 1)"
          ],
          [
           9781775293941,
           "The Mistake: 2 (Off-Campus, 2)"
          ],
          [
           9781492603238,
           "Spam Nation: The Inside Story of Organized Cybercrime―from Global Epidemic to Your Front Door"
          ],
          [
           9781492656807,
           "Moon's First Friends: One Giant Leap for Friendship: 1"
          ],
          [
           9781728256412,
           "Make Wedding Planning a Piece of Cake: An Easy-to-use Guide and 12-month Organizer"
          ],
          [
           9781464245480,
           "King of Battle and Blood: A Dark & Steamy Vampire Romance for Romantasy Lovers (Adrian X Isolde)"
          ],
          [
           9781464203169,
           "Sons of Sparta (Chief Inspector Andreas Kaldis Series)"
          ],
          [
           9781402238185,
           "The Best Ever Ring Bearer: All the Best Things About Being in a Wedding"
          ],
          [
           9781728254203,
           "She's Gone"
          ],
          [
           9781492664987,
           "Fiske Guide to Colleges 2022"
          ],
          [
           9781953424143,
           "Good Night Stories for Rebel Girls 2-Book Gift Set"
          ],
          [
           9781728256559,
           "Right Girl, Wrong Side"
          ],
          [
           9781464219450,
           "A Little Christmas Matchmaking: 2 (The Paradise)"
          ],
          [
           9781728294803,
           "What the Children Told Us: The Untold Story of the Famous Doll Test and the Black Psychologists Who Changed the World"
          ],
          [
           9781492663997,
           "Sold on a Monday: A Novel"
          ],
          [
           9781728236827,
           "That Egg Is Mine!: A Silly Story about Sharing (Duck and Cluck)"
          ],
          [
           9781955834513,
           "Bold, Badass, and Bookish: Women Writers Who Made History: 2 (Book Buddies)"
          ],
          [
           9781464235238,
           "Flunked"
          ],
          [
           9781728297262,
           "The Secrets to Happiness at Work: How to Choose and Create Purpose and Fulfillment in Your Work (Ignite Reads)"
          ],
          [
           9781492679042,
           "That Night"
          ],
          [
           9781728251387,
           "Curse of the Forgotten City"
          ],
          [
           9781648765377,
           "The Story of Kamala Harris: An Inspiring Biography for Young Readers (The Story of Biographies)"
          ],
          [
           9781728284187,
           "Dare You to Hate Me: 2 (Lindon U, 2)"
          ],
          [
           9781464219597,
           "The Girl with Stars in Her Eyes: A story of love, loss, and rock-and-roll (The Lillys)"
          ],
          [
           9798886509618,
           "What I Want Me to Know: A Guided Daily Journal for Teenagers"
          ],
          [
           9781728256030,
           "Remember You Will Die: A Novel"
          ],
          [
           9781728282121,
           "The Favor: A Novel"
          ],
          [
           9781464217999,
           "The St. Patrick's Day Alphabet: 1 (Holiday ABCs)"
          ],
          [
           9781464230202,
           "A Mischief of Mice"
          ],
          [
           9781464231902,
           "If You Were My Daughter: A Memoir of Healing an Unmothered Heart"
          ],
          [
           9781728292014,
           "The One You Can't Forget: 2 (The Ones Who Got Away)"
          ],
          [
           9781728291321,
           "Pop Out at the Zoo: Read, Build, and Play with these Fantastic Animals at the Zoo: 4 (Pop Out Books)"
          ],
          [
           9781728272504,
           "All the Ways to Go"
          ],
          [
           9781492678779,
           "Furyborn: The Empirium Trilogy Book 1 (The Empirium Trilogy, 1)"
          ],
          [
           9781728238357,
           "No Parm No Foul: 2 (Grilled Cheese Mysteries)"
          ],
          [
           9781728209869,
           "Bruja Born: 2 (Brooklyn Brujas, 2)"
          ],
          [
           9781728206684,
           "The Secret Next Door: A Novel"
          ],
          [
           9781464247774,
           "Come Back for Me (The Arrowood Brothers)"
          ],
          [
           9781728214795,
           "A Spot of Trouble: 1 (Turtle Beach, 1)"
          ],
          [
           9781733329200,
           "Junko Tabei Masters the Mountains"
          ],
          [
           9781939775139,
           "Love Is Love"
          ],
          [
           9781728239545,
           "How to Catch Graphic Novels: How to Catch a Dinosaur"
          ],
          [
           9781492655350,
           "The Town With No Mirrors"
          ],
          [
           9781728248264,
           "Through the Midnight Door"
          ],
          [
           9781492680611,
           "Let's Race!: Sprinting into the Science of Light Speed with Special Relativity: 1 (Everyday Science Academy)"
          ],
          [
           9798886509649,
           "Your First 90 Days Managing People: A New Manager's Guide to Impactful Leadership"
          ],
          [
           9781728281360,
           "A Budget Planner: A 52-Week Undated Financial Organizer to Get Your Budget Together (Calendars & Gifts to Swear By)"
          ],
          [
           9781464204326,
           "Devil of Delphi (Chief Inspector Andreas Kaldis Series)"
          ],
          [
           9781728278728,
           "Neferura: A Novel"
          ],
          [
           9781728258027,
           "Baby's First Zodiac"
          ],
          [
           9781728222707,
           "I Kissed a Girl"
          ],
          [
           9781728220987,
           "The Castle School (for Troubled Girls)"
          ],
          [
           9781492669739,
           "How to Catch a Unicorn: 1"
          ],
          [
           9781939775092,
           "What Does It Mean to Be Kind?: 0"
          ],
          [
           9781728295046,
           "What a Wolf Wants: 4 (Red Wolf, 4)"
          ],
          [
           9781728285214,
           "Data Leadership for Everyone: How You Can Harness the True Power of Data at Work"
          ],
          [
           9781581823486,
           "The Dysphagia Cookbook: Great Tasting and Nutritious Recipes for People with Swallowing Difficulties"
          ],
          [
           9781728222295,
           "The Murder Game"
          ],
          [
           9798886504248,
           "The Bible in 52 Weeks for Families: Read the Bible in a Year With This Guided Family Bible Study"
          ],
          [
           9781728232287,
           "The Shattered Crown: 3 (The Beast Charmer, 3)"
          ],
          [
           9781728268972,
           "2024 Make Big Things Happen Large Monthly Planner: A Deluxe 17-Month Organizer for Planning Your Dreams and Reaching Your Goals"
          ],
          [
           9781728264967,
           "A Very Typical Family: A Novel"
          ],
          [
           9781728240053,
           "Woman, Captain, Rebel: The Extraordinary True Story of a Daring Icelandic Sea Captain"
          ],
          [
           9781728221762,
           "Small Horrors: A Collection of Fifty Creepy Stories"
          ],
          [
           9781492680819,
           "ABCs of Oceanography: 1 (Baby University)"
          ],
          [
           9781728259710,
           "A Game of Gods: A Dark and Enthralling Reimagining of the Hades and Persephone Myth: 6 (Hades x Persephone Saga, 6)"
          ],
          [
           9781728270821,
           "The Woman with No Name: A Novel"
          ],
          [
           9781492681045,
           "We Are Lost and Found"
          ],
          [
           9781492648130,
           "21 Ways to a Happier Depression: A Creative Guide to Getting Unstuck from Anxiety, Setbacks, and Stress"
          ],
          [
           9798886509908,
           "The Step-by-Step Astrology Workbook: Decode Your Horoscope with this Book of Astrology for Beginners"
          ],
          [
           9781728292106,
           "The Ones Who Got Away: 1"
          ],
          [
           9781728231969,
           "Even If We Break"
          ],
          [
           9781728217772,
           "Lessons on Success: 17 Principles of Personal Achievement - Through Action & Attitude (Ignite Reads)"
          ],
          [
           9781728257341,
           "The Bone Riddle: 4 (Alexa Glock Forensics Mysteries)"
          ],
          [
           9781648763502,
           "The Witch's Guide to Manifestation: Witchcraft for the Life You Want"
          ],
          [
           9781648760563,
           "Ocean Animals for Kids: A Junior Scientist's Guide to Whales, Sharks, and Other Marine Life"
          ],
          [
           9781728289434,
           "Last to Finish in Math Class: A Story about Learning Differently (The Adventures of Everyday Geniuses)"
          ],
          [
           9781464248078,
           "Burn Bright (Cobalt Empire)"
          ],
          [
           9781728215518,
           "Wayward Witch: 3 (Brooklyn Brujas, 3)"
          ],
          [
           9781728211275,
           "My First 100 Art Words (My First STEAM Words)"
          ],
          [
           9781492698289,
           "A Bird on Water Street"
          ],
          [
           9781728234410,
           "Truly, Madly, Deadly"
          ],
          [
           9781728232119,
           "Unicorn Day"
          ],
          [
           9781402237669,
           "The Stolen Crown: The Secret Marriage that Forever Changed the Fate of England"
          ],
          [
           9781641522373,
           "Overcoming Oppositional Defiant Disorder: A Two-Part Treatment Plan to Help Parents and Kids Work Together"
          ],
          [
           9781728214603,
           "Chasing Your Tail: 3 (Whitman Street Cat Cafe)"
          ],
          [
           9781728230436,
           "Friday Forward: Inspiration & Motivation to End Your Week Stronger Than It Started (Ignite Reads)"
          ],
          [
           9781728242163,
           "Secrets of the Sprakkar: Iceland’s Extraordinary Women and How They Are Changing the World"
          ],
          [
           9781728217710,
           "The Girls in the Stilt House: A Novel"
          ],
          [
           9781492693901,
           "Misfits"
          ],
          [
           9781402237546,
           "The Trouble with Mr. Darcy: Pride and Prejudice continues… (The Darcy Saga)"
          ],
          [
           9781728214887,
           "Winner Takes All: 1 (The Millionaires Club, 1)"
          ],
          [
           9781728240169,
           "Witch Please: 1 (Fix-It Witches, 1)"
          ],
          [
           9781728260112,
           "Shadows of Berlin: A Novel"
          ],
          [
           9781728222172,
           "The Magic Paintbrush and Other Enchanted Tales (Ghostwriter)"
          ],
          [
           9781728286471,
           "Inspiring Quotes from Children's Classics"
          ],
          [
           9781492680604,
           "Let's Make a Rainbow!: Seeing the Science of Light with Optical Physics: 1 (Everyday Science Academy)"
          ],
          [
           9781728248387,
           "The Einstein Effect: How the World's Favorite Genius Got into Our Cars, Our Bathrooms, and Our Minds"
          ],
          [
           9798886509212,
           "Cognitive Behavioral Therapy Workbook for Self-Esteem: Identify, Challenge, and Change Your Thoughts and Actions"
          ],
          [
           9781728289915,
           "August and Everything After"
          ],
          [
           9781728231730,
           "Neon Gods: A Divinely Dark Romance Retelling of Hades and Persephone (Dark Olympus 1)"
          ],
          [
           9781728294049,
           "Desperate Deadly Widows: A Novel: 2"
          ],
          [
           9781728253107,
           "My First Mom and Son Journal: An activity book for boys and moms together"
          ],
          [
           9781492670063,
           "Twinkle Twinkle Little Star, I Know Exactly What You Are"
          ],
          [
           9781641525091,
           "Raised-Bed Gardening for Beginners: Everything You Need to Know to Start and Sustain a Thriving Garden"
          ],
          [
           9781492673057,
           "Tell Me What Really Happened"
          ],
          [
           9781728277844,
           "Where the Dead Sleep: A Novel"
          ],
          [
           9781728275406,
           "Animal Snuggles: Affection in the Animal Kingdom (Animal Celebrations and Milestones)"
          ],
          [
           9781728272719,
           "A Love Letter to My Library"
          ],
          [
           9781728281667,
           "Great Quotes from Great Scientists: Quotes, Lessons, and Universal Truths from the World's Greatest Scientific Minds"
          ],
          [
           9781402205217,
           "How to Kill a Rock Star"
          ],
          [
           9781728235370,
           "Hide and Seek, Nuts to Eat"
          ],
          [
           9781464247194,
           "Sister, Butcher, Sister: A Novel"
          ],
          [
           9781728296807,
           "My Sticker Dress-Up: Magical Creatures"
          ],
          [
           9781646320639,
           "Parenting Bright Kids With Autism: Helping Twice-Exceptional Children With Asperger's and High-Functioning Autism"
          ],
          [
           9781590583777,
           "Concrete Desert: A David Mapstone Mystery: 1 (David Mapstone Mysteries, 1)"
          ],
          [
           9781728245898,
           "When a Child Dies: A Hopeful Healing Guide for Surviving the Loss of a Child"
          ],
          [
           9781584690320,
           "Born With a Bang: The Universe Tells Our Cosmic Story (Sharing Nature With Children Book)"
          ],
          [
           9781728295961,
           "My First Book about Water: 5 (Terra Babies at Home)"
          ],
          [
           9781728247625,
           "Monsters Born and Made"
          ],
          [
           9781728277325,
           "The Girl Who Heard the Music: Mahani Teave, The Pianist with a Dream as Big as an Island"
          ],
          [
           9781728229140,
           "Don't Go to Sleep"
          ],
          [
           9781728206967,
           "Kingsbane: Claire Legrand: 2 (The Empirium Trilogy, 2)"
          ],
          [
           9781728239798,
           "The Light She Feels Inside"
          ],
          [
           9781728295992,
           "Baby Block Books: Wild Animals: 2"
          ],
          [
           9781728273181,
           "The Joy of Cannabis: 75 Ways to Amplify Your Life Through the Science and Magic of Cannabis"
          ],
          [
           9781728296821,
           "My Big Sticker Dress-Up: Cutie Patooties (My Sticker Dress-Up)"
          ],
          [
           9781728259413,
           "Secrets of the Sprakkar: Iceland's Extraordinary Women and How They Are Changing the World"
          ],
          [
           9781641526555,
           "A Daily Dose of Dad Jokes: 365 Truly Terrible Wisecracks (You've Been Warned)"
          ],
          [
           9781728247144,
           "The Holloway Girls"
          ],
          [
           9781728277127,
           "Don't Push the Button: On the Farm"
          ],
          [
           9781492675228,
           "Find Your Zone of Genius: How to Redefine Intelligence, Become an Expert on Yourself, and Make Greatness a Given (Ignite Reads)"
          ],
          [
           9781728232614,
           "My First 100 Bug Words (My First STEAM Words)"
          ],
          [
           9781728249988,
           "2023 I Came. I Saw. I F*cking Conquered. Planner: August 2022-December 2023"
          ],
          [
           9781492614418,
           "Your Voice Is All I Hear"
          ],
          [
           9781492679257,
           "What We Devour"
          ],
          [
           9781492665274,
           "Bellewether"
          ],
          [
           9781728278506,
           "Libby Lost and Found: A Novel"
          ],
          [
           9781728265926,
           "Time for Me: Self Care and Simple Pleasures for Women Who Do Too Much"
          ],
          [
           9781728261676,
           "A Touch of Malice: A Dark and Enthralling Reimagining of the Hades and Persephone Myth (Hades x Persephone Saga, 5)"
          ],
          [
           9781492640189,
           "Coop Knows the Scoop"
          ],
          [
           9781728228723,
           "The Girl in His Shadow: A Novel"
          ],
          [
           9781728290638,
           "The Lady He Lost: 1 (The Lucky Ladies of London)"
          ],
          [
           9781641521710,
           "Practicing Mindfulness: 75 Essential Meditations to Reduce Stress, Improve Mental Health, and Find Peace in the Everyday"
          ],
          [
           9781728235349,
           "Ditch the Diet: The 7 Essential Habits You Need to Get Lean, Stay Healthy, and Generally Kick Ass at Life"
          ],
          [
           9781728254487,
           "Little Blue Bunny (Little Heroes, Big Hearts)"
          ],
          [
           9781728293578,
           "Baby Block Books: Animal Friends: 1"
          ],
          [
           9781728210483,
           "The Tourist Attraction: 1 (Moose Springs, Alaska, 1)"
          ],
          [
           9781728276397,
           "My Sticker Dress-Up: Princesses"
          ],
          [
           9781728245805,
           "Bride for a Day"
          ],
          [
           9781728230894,
           "The Secrets to Happiness at Work: How to Choose and Create Purpose and Fulfillment in Your Work (Ignite Reads)"
          ],
          [
           9781728265803,
           "How to Be Remembered: A Novel"
          ],
          [
           9781728291642,
           "The I Can Say Dada! (My First Learn-to-Talk Books)"
          ],
          [
           9781728211121,
           "Shadows of the Lost: 1 (Guild of Night)"
          ],
          [
           9781492684169,
           "The Pick-Up"
          ],
          [
           9781728260198,
           "Too F-cking Cute: A Collection of Unnecessarily Adorable Animals"
          ],
          [
           9781402213854,
           "The Killer Book of Serial Killers: Incredible Stories, Facts and Trivia from the World of Serial Killers"
          ],
          [
           9781647396312,
           "The Newborn Handbook: Your Guide to Bringing Home Baby"
          ],
          [
           9781464214615,
           "Murder in Mykonos (Chief Inspector Andreas Kaldis Mysteries, 1)"
          ],
          [
           9781728219554,
           "I Feel... Meh"
          ],
          [
           9781492696711,
           "The Summer of Skinny Dipping"
          ],
          [
           9781728245744,
           "Time Villains"
          ],
          [
           9781728292786,
           "I'm Sorry for My Loss: An Urgent Examination of Reproductive Care in America"
          ],
          [
           9781728268842,
           "Monsters Born and Made"
          ],
          [
           9781728290607,
           "The Ones Who Come Back Hungry"
          ],
          [
           9781728283517,
           "Gifts from the Garbage Truck: A True Story About the Things We (Don't) Throw Away"
          ],
          [
           9798886509335,
           "My First Day of Kindergarten Activity Book: 55+ Games and Activities for What to Expect on Your Big Day"
          ],
          [
           9781728257990,
           "Little Yellow Bus (Little Heroes, Big Hearts)"
          ],
          [
           9781955834476,
           "Pop Out Dinosaurs: 3 (Pop Out Books)"
          ],
          [
           9781728251981,
           "The Haunted Studio"
          ],
          [
           9781728298108,
           "The Day He Never Came Home"
          ],
          [
           9781464239588,
           "Can't Judge a Book By Its Murder: A Cosy Crime Murder Mystery to Die For (Main Street Book Club Mysteries)"
          ],
          [
           9781623158842,
           "The Camp Dutch Oven Cookbook: Easy 5-Ingredient Recipes to Eat Well in the Great Outdoors"
          ],
          [
           9781728256795,
           "10 Hours to Go"
          ],
          [
           9781728251523,
           "The Power of Saying No: The New Science of How to Say No That Puts You in Charge of Your Life"
          ],
          [
           9781953424044,
           "Good Night Stories for Rebel Girls: 100 Real-Life Tales of Black Girl Magic: 4 (Good Night Stories for Rebel Girls, 4)"
          ],
          [
           9781492635253,
           "Where the Road Leads Us"
          ],
          [
           9781641521482,
           "The Self-Confidence Workbook: A Guide to Overcoming Self-Doubt and Improving Self-Esteem (Building Self-Confidence)"
          ],
          [
           9781464225376,
           "V As In Victim (Library of Congress Crime Classics)"
          ],
          [
           9781647397937,
           "Witchcraft for Healing: Radical Self-Care for Your Mind, Body, and Spirit"
          ],
          [
           9781728221564,
           "Trinity (Ghostwriter)"
          ],
          [
           9781464225017,
           "To Catch a Spy"
          ],
          [
           9781464249211,
           "Beard Science (Winston Brothers)"
          ],
          [
           9781728271651,
           "Reindeer Remainders: A Math Story with Plenty of Heart"
          ],
          [
           9781728266053,
           "Quantum Bullsh*t: How to Ruin Your Life With Advice from Quantum Physics"
          ],
          [
           9781464223822,
           "Holly Jolly! A High-Contrast Christmas Book: 8 (High-Contrast Books)"
          ],
          [
           9781492658481,
           "Always Red: 2 (Chasing Red, 2)"
          ],
          [
           9781581825923,
           "How to Cook for Crohn's and Colitis: More than 200 healthy, delicious recipes the whole family will love"
          ],
          [
           9781464242601,
           "Winner Cake All: A Delicious Culinary Cosy Crime Mystery (Chef-to-Go Mysteries)"
          ],
          [
           9781728239514,
           "How to Catch Graphic Novels: How to Catch a Unicorn"
          ],
          [
           9781728250892,
           "Looking for Group"
          ],
          [
           9781728257440,
           "When Life Gives You Vampires (Slaying It)"
          ],
          [
           9781728223520,
           "Looky Looky Happy Easter (Looky Looky Little One)"
          ],
          [
           9781728250243,
           "The Worthy Project: Learn Your Value. Own It. Celebrate It."
          ],
          [
           9781728283791,
           "All That We Are Together: 2 (Let It Be)"
          ],
          [
           9781402273148,
           "Shakespeare Saved My Life"
          ],
          [
           9781464216725,
           "Vampires Never Say Die (Slaying It)"
          ],
          [
           9781590587249,
           "Buried Too Deep: An Aurelia Marcella Roman Mystery: 3 (Aurelia Marcella Roman Series, 3)"
          ],
          [
           9781464245442,
           "Drop Dead"
          ],
          [
           9781728251066,
           "They're Watching You"
          ],
          [
           9781728276793,
           "Witches Get Stuff Done: 1 (Starfall Point)"
          ],
          [
           9781728226323,
           "The Red Widow: The Scandal That Shook Paris and the Woman Behind It All"
          ],
          [
           9798886509953,
           "Stomp, Wiggle, Clap, and Tap"
          ],
          [
           9781728296791,
           "My Sticker Dress-Up: Baby Animals"
          ],
          [
           9781728220376,
           "My First 100 Space Words (My First STEAM Words)"
          ],
          [
           9781728253992,
           "In the Blink of a Pie: 3 (Maple Syrup Mysteries)"
          ],
          [
           9781728275031,
           "Coming Home to Paradise: 3 (Sisters in Paradise)"
          ],
          [
           9781728258966,
           "The Lost Van Gogh: A Novel"
          ],
          [
           9781492680574,
           "Let's Fly a Plane!: Launching into the Science of Flight with Aerospace Engineering: 1 (Everyday Science Academy)"
          ],
          [
           9781464218439,
           "Bring Me Your Midnight"
          ],
          [
           9781728232362,
           "Something's Guava Give: 2 (Trouble in Paradise!, 2)"
          ],
          [
           9781728251097,
           "The Summer She Went Missing"
          ],
          [
           9781728293554,
           "Why We Need to Be Wild: One Woman's Quest for Ancient Human Answers to 21st Century Problems"
          ],
          [
           9781464214219,
           "The Day He Left: 2 (Violent Crime Investigations Team Mystery, 2)"
          ],
          [
           9781492620815,
           "Flunked (Fairy Tale Reform School)"
          ],
          [
           9781492645962,
           "The Naked Roommate: And 107 Other Issues You Might Run Into in College"
          ],
          [
           9781728278018,
           "Butter, Flour, Sugar, Joy: Simple, Sweet Desserts for Everyone"
          ],
          [
           9781728247878,
           "Ten in a Hurry"
          ],
          [
           9781402224447,
           "Hailey Twitch Is Not a Snitch: 1 (Hailey Twitch, 1)"
          ],
          [
           9781728247656,
           "Somewhere in the Deep"
          ],
          [
           9781728236209,
           "How to Catch a Snowman"
          ],
          [
           9781728235431,
           "I Feel... Anxious"
          ],
          [
           9781728245584,
           "Tea Time for Dinosaurs"
          ],
          [
           9781728296005,
           "Little Egg: An Eggcellent Book of Emotions: 1 (Little Egg Books)"
          ],
          [
           9781728220345,
           "My First 100 Nature Words (My First STEAM Words)"
          ],
          [
           9781728297699,
           "When Grandmas Cook: In the Kitchen with Grandmas, Nonnas, and Abuelas"
          ],
          [
           9781646115648,
           "Green Witchcraft: A Practical Guide to Discovering the Magic of Plants, Herbs, Crystals, and Beyond (Practicing Green Witchcraft)"
          ],
          [
           9781728264455,
           "The Stand-In"
          ],
          [
           9781641522458,
           "Coding for Kids: Scratch: Learn Coding Skills, Create 10 Fun Games, and Master Scratch"
          ],
          [
           9781728247205,
           "Four Ways to Wear a Dress"
          ],
          [
           9781728292045,
           "The One You Fight For: 3 (The Ones Who Got Away)"
          ],
          [
           9781728248325,
           "Curled Up with an Earl: 2 (The Byronic Book Club)"
          ],
          [
           9781728220956,
           "The ABCs of Love"
          ],
          [
           9781728255835,
           "Reverie"
          ],
          [
           9781728276564,
           "This Book Is Banned"
          ],
          [
           9781728259765,
           "A Touch of Chaos: A Dark and Enthralling Reimagining of the Hades and Persephone Myth: 7 (Hades x Persephone Saga, 7)"
          ],
          [
           9798886509885,
           "Stay Calm, It's Just Your Brain: A 7-Week Journal for Rewiring Your Anxiety"
          ],
          [
           9781728277684,
           "The Takedown"
          ],
          [
           9798889641100,
           "Rebel Girls Dads and Daughters: 25 Tales of Teamwork and Fun (Rebel Girls Minis)"
          ],
          [
           9781492638322,
           "Bedtime for Sweet Creatures: 1"
          ],
          [
           9781646110803,
           "Crystals for Witches: Rituals, Spells, and Practices for Stone Spirit Magic"
          ],
          [
           9781728280332,
           "The Red Widow: The Scandal That Shook Paris and the Woman Behind It All"
          ],
          [
           9781728268859,
           "Wild Is the Witch"
          ],
          [
           9781647393687,
           "Fossils for Kids: A Junior Scientist's Guide to Dinosaur Bones, Ancient Animals, and Prehistoric Life on Earth"
          ],
          [
           9781728268293,
           "Unicorn Christmas"
          ],
          [
           9781492640257,
           "When I Hit the Road"
          ],
          [
           9781402275838,
           "In the Garden of Thoughts"
          ],
          [
           9781492688891,
           "Hello, Fears: Crush Your Comfort Zone and Become Who You’re Meant to Be"
          ],
          [
           9781728272689,
           "I Can Do It Even If I'm Scared: Finding the Brave You"
          ],
          [
           9781728262208,
           "You're So Bright (Punderland)"
          ],
          [
           9781492669128,
           "Switched"
          ],
          [
           9781728209357,
           "How to Catch a Gingerbread Man"
          ],
          [
           9781728277349,
           "Mermaid Day"
          ],
          [
           9781464222894,
           "Today Is a Wacky Wow, Squiggle Giggle, Noodle Caboodle Day!"
          ],
          [
           9781492668084,
           "The Heart Forger: Bone Witch #2 (The Bone Witch, 2)"
          ],
          [
           9781728291529,
           "The World Is Awaiting You"
          ],
          [
           9781728239132,
           "Yesterday Is History"
          ],
          [
           9781728272795,
           "How to Train Your Dog With Love + Science: A Dog Lover's Guide to Animal Behavior and Positive Reinforcement Training"
          ],
          [
           9781728281841,
           "The Last Carolina Girl: A Novel"
          ],
          [
           9781464225772,
           "My Sticker Dress-Up: The Nutcracker"
          ],
          [
           9781402297229,
           "Seven Letters from Paris"
          ],
          [
           9781492680666,
           "Let's Get Glowing!: Revealing the Science of Radioactivity with Nuclear Physics: 1 (Everyday Science Academy)"
          ],
          [
           9781492694007,
           "Baby Medical School: Vaccines: 1 (Baby University)"
          ],
          [
           9781648768033,
           "The 100 Best Brain Teasers for Kids: A Mind-Blowing Challenge of Wordplay, Math, and Logic Puzzles"
          ],
          [
           9781728292656,
           "Death: Laura Thalassa (The Four Horsemen)"
          ],
          [
           9781728225081,
           "The Dead Husband"
          ],
          [
           9781492697206,
           "Curse of the Night Witch"
          ],
          [
           9781728276403,
           "My Sticker Dress-Up: Mermaids"
          ],
          [
           9781728251653,
           "Unicorn Night"
          ],
          [
           9781728259116,
           "A Legacy of Bones"
          ],
          [
           9781728248578,
           "The Radcliffe Ladies' Reading Club: A Novel"
          ],
          [
           9781464211058,
           "The Twice-Hanged Man: 15 (Medieval Mysteries, 15)"
          ],
          [
           9781492687832,
           "A Murder Like No Author: 3 (Main Street Book Club Mysteries, 3)"
          ],
          [
           9781464216596,
           "The Fairbanks Four: Murder, Injustice, and the Birth of a Movement"
          ],
          [
           9781728268866,
           "An Unreliable Magic: 2 (A Hundred Names for Magic)"
          ],
          [
           9781728261614,
           "Pirate Nell's Tale to Tell: A Storybook Adventure"
          ],
          [
           9781492656272,
           "Statistical Physics for Babies: 0 (Baby University)"
          ],
          [
           9781728236674,
           "Begin With You Undated Planner: 52-Week Daily Organizer to Discover for Women Looking for More Joy, Presence, and Self-Discovery!"
          ],
          [
           9781492693581,
           "Love, Mom and Me: A Mother and Daughter Keepsake Journal"
          ],
          [
           9781728293936,
           "2025 This Day in Science Boxed Calendar: 365 Groundbreaking Discoveries, Inspiring People, and Incredible Facts"
          ],
          [
           9781402243950,
           "My Name Is Not Isabella: Just How Big Can a Little Girl Dream?"
          ],
          [
           9781464222924,
           "I Love You a Bunch!: The Perfect Easter Gift: Baby Sensory Book with Touch and Feel Elements (Punderland)"
          ],
          [
           9781728255910,
           "The Sacrifice"
          ],
          [
           9781728258188,
           "The Sisters We Were: A Novel"
          ],
          [
           9781464230219,
           "The Rainbow Parade: A Celebration of LGBTQIA+ Identities and Allies"
          ],
          [
           9798886501650,
           "Self-Care Activities for Women: 101 Practical Ways to Slow Down and Reconnect With Yourself"
          ],
          [
           9781728250618,
           "You're a Mean One, Matthew Prince: 2 (Boy Meets Boy, 4)"
          ],
          [
           9781728262628,
           "Five Little Monsters Jumping on the Bed"
          ],
          [
           9781728296814,
           "My Sticker Dress Up: Babies"
          ],
          [
           9781464245473,
           "Queen of Myth and Monsters: A Dark & Steamy Vampire Romance for Romantasy Lovers (Adrian X Isolde)"
          ],
          [
           9781728221748,
           "The Folcroft Ghosts"
          ],
          [
           9781728258508,
           "We Need No Wings"
          ],
          [
           9781728242460,
           "Me and My Mama"
          ],
          [
           9781728257778,
           "I Love You, My Little Unicorn"
          ],
          [
           9781728257181,
           "The Girls We Sent Away: A Novel"
          ],
          [
           9781728229423,
           "The Nature of Witches"
          ],
          [
           9798886504712,
           "Why We Celebrate Hanukkah: Everything to Know about Your Favorite Holiday"
          ],
          [
           9781584694892,
           "Seashells by the Seashore"
          ],
          [
           9781402226526,
           "The Happy Book: A Journal to Celebrate What Makes You Happy"
          ],
          [
           9781728273143,
           "Slide and Smile: We Bee-long Together!"
          ],
          [
           9781775293934,
           "The Deal: 1 (Off-Campus, 1)"
          ],
          [
           9781728256528,
           "The Holiday Mix-Up"
          ],
          [
           9781728221465,
           "Isabella: Girl in Charge"
          ],
          [
           9781775293958,
           "The Score: 3 (Off-Campus, 3)"
          ],
          [
           9781728219707,
           "I Feel... Different"
          ],
          [
           9781728269931,
           "Clock Struck Murder: 2 (Lost in Paris)"
          ],
          [
           9781728214948,
           "Finders Keepers: 3 (The Millionaires Club)"
          ],
          [
           9781728268422,
           "The Fallout: 2 (The Warning)"
          ],
          [
           9781464236068,
           "Christmas Eve Love Story: A Time Travel Holiday Romance Full of Christmas Magic"
          ],
          [
           9781728294773,
           "A Crown of Ivy and Glass"
          ],
          [
           9781728284576,
           "Hanukkah Pajamakkahs"
          ],
          [
           9781728267814,
           "Katie, Big and Strong: The True Story of the Mighty Woman Who Could Lift Anything"
          ],
          [
           9781728231990,
           "A Crown of Ivy and Glass: 1 (The Middlemist Trilogy)"
          ],
          [
           9781492672722,
           "The World's End: 3 (A Hundred Names for Magic)"
          ],
          [
           9781728291383,
           "Future Lab: Tomorrow's School: 3"
          ],
          [
           9781728217109,
           "Home Is Where Your Bark Is"
          ],
          [
           9780525431886,
           "Fifty Shades Darker (Movie Tie-in Edition): Book Two of the Fifty Shades Trilogy: 2 (Fifty Shades Of Grey Series, 2)"
          ],
          [
           9781464242250,
           "The Rules of Dating: A Fiery Forbidden Single Dad Romance (The Law of Opposites Attract)"
          ],
          [
           9781728278056,
           "Curves for Days: 1 (Big Love from Galway)"
          ],
          [
           9781646321018,
           "Letting Go of Perfect: Empower Children to Overcome Perfectionism"
          ],
          [
           9781728268958,
           "2024 Everyday Calm Planner: A Self-Care Organizer & Anxiety Log to Reset, Refresh, and Live Better"
          ],
          [
           9781728278247,
           "The Jolliest Bunch: Unhinged Holiday Stories"
          ],
          [
           9781464218620,
           "This Girl's a Killer: A Novel"
          ],
          [
           9781728281858,
           "Adrift"
          ],
          [
           9781728242491,
           "Me and the Family Tree"
          ],
          [
           9781728211251,
           "My First 100 Technology Words (My First STEAM Words)"
          ],
          [
           9781464216565,
           "The Alphabutt Book: An ABCs of Baby Butts and Bodies"
          ],
          [
           9781728292281,
           "A Kid's Guide to the Night Sky: Simple Ways to Explore the Universe"
          ],
          [
           9781728291291,
           "Pop Out Horses: Read, Build, and Play with These Fantastic Horses and Ponies: 5 (Pop Out Books)"
          ],
          [
           9781464237904,
           "Axolotl and Axolittle"
          ],
          [
           9781584691273,
           "Going Home: The Mystery of Animal Migration (Sharing Nature with Children Books)"
          ],
          [
           9781492679226,
           "Belle Révolte"
          ],
          [
           9781492672692,
           "An Unreliable Magic: 2 (A Hundred Names for Magic)"
          ],
          [
           9781728268330,
           "There's Snow One Like You (Punderland)"
          ],
          [
           9781728205670,
           "True Wolf: 3 (STAT, 3)"
          ],
          [
           9781728221038,
           "C'est La F-cking Vie 2021 Planner"
          ],
          [
           9781728249896,
           "2023 Choose Happy Planner: August 2022-December 2023 (Inspire Instant Happiness Calendars & Gifts)"
          ],
          [
           9781728265568,
           "You Won't Believe Me"
          ],
          [
           9781728252049,
           "The Secret on Set"
          ],
          [
           9781464230196,
           "'Twas the Night Before Christmas"
          ],
          [
           9781728289595,
           "Little Orange Pumpkin (Little Heroes, Big Hearts)"
          ],
          [
           9781728299709,
           "We Were Warned: The Propulsive Young Adult Thriller for Fans of Chilling Murder Mystery Books"
          ],
          [
           9781728275352,
           "The Chase"
          ],
          [
           9781728248608,
           "Buried in a Good Book: 1 (By the Book Mysteries)"
          ],
          [
           9781492693314,
           "Wished"
          ],
          [
           9781728281827,
           "The Gay Best Friend"
          ],
          [
           9781728256009,
           "When Franny Stands Up"
          ],
          [
           9781464243172,
           "The Last Great Heir: A Coming of Age Fantasy Adventure for Young Readers"
          ],
          [
           9781953424471,
           "Dear Rebel: 145 Women Share Their Best Advice for the Girls of Today"
          ],
          [
           9781728265117,
           "The Woman with a Purple Heart: A Novel"
          ],
          [
           9781733176187,
           "Ada Lovelace Cracks the Code"
          ],
          [
           9781728250588,
           "Never Been Kissed: 1 (Boy Meets Boy, 3)"
          ],
          [
           9781728292557,
           "Where Should We Camp Next?: Budget Camping; A 50-State Guide to Budget-Friendly Campgrounds and Free and Low-Cost Outdoor Activities"
          ],
          [
           9781728260044,
           "So Much Snow"
          ],
          [
           9781728243146,
           "The Next Ship Home: A Novel of Ellis Island"
          ],
          [
           9781728265902,
           "Blue Baboon Finds Her Tune"
          ],
          [
           9781464215759,
           "The Nurse Murders: A Gene Hammons Novel: 2 (Phoenix Noir)"
          ],
          [
           9781728231792,
           "Wicked Beauty: A Divinely Dark Romance Retelling of Achilles, Patroclus and Helen of Troy (Dark Olympus 3)"
          ],
          [
           9781728276823,
           "Big Witch Energy: 2 (Starfall Point)"
          ],
          [
           9781728256276,
           "The Holiday Trap"
          ],
          [
           9781570718427,
           "101 Myths of the Bible: How Ancient Scribes Invented Biblical History"
          ],
          [
           9781728282015,
           "American Prince: A Steamy and Taboo BookTok Sensation: 2 (New Camelot, 2)"
          ],
          [
           9781402253546,
           "The Killer Book of Cold Cases"
          ],
          [
           9781728223063,
           "What Does It Mean to Be Present?"
          ],
          [
           9781492682691,
           "Be Dazzled"
          ],
          [
           9781492650683,
           "Wayward Witch: 3 (Brooklyn Brujas, 3)"
          ],
          [
           9781584690115,
           "Girls Who Looked Under Rocks: The Lives of Six Pioneering Naturalists"
          ],
          [
           9781733329262,
           "Ada Lovelace Cracks the Code"
          ],
          [
           9781492667377,
           "Prelude for Lost Souls"
          ],
          [
           9781728292526,
           "Life Lessons from a Parasite: What Tapeworms, Flukes, Lice, and Roundworms Can Teach Us About Humanity's Most Difficult Problems"
          ],
          [
           9781648762598,
           "Fun to Find!: Search the Page"
          ],
          [
           9781438004891,
           "The Hamster Handbook"
          ],
          [
           9781492688815,
           "Footnotes: The Black Artists Who Rewrote the Rules of the Great White Way"
          ],
          [
           9781492680833,
           "What Does It Mean to Be Safe?: A thoughtful discussion for readers of all ages about drawing healthy boundaries and making safe choices: 0"
          ],
          [
           9781728243269,
           "Wicked As You Wish: 1 (A Hundred Names for Magic, 1)"
          ],
          [
           9781728200293,
           "Conventionally Yours: 1 (True Colors, 1)"
          ],
          [
           9781464201158,
           "Roman Games: 1 (Plinius Secundus Series, 1)"
          ],
          [
           9781464221071,
           "Somewhere in the Deep"
          ],
          [
           9781492673156,
           "At the End of Everything: The World Never Wanted Them. They Refuse to Be Forgotten."
          ],
          [
           9781402277825,
           "If He Had Been with Me"
          ],
          [
           9781492696865,
           "Make Me Burn: 1 (Turn Up the Heat, 1)"
          ],
          [
           9781728260006,
           "The Chaperone"
          ],
          [
           9781492688228,
           "Lost Island"
          ],
          [
           9781728276380,
           "My Sticker Dress-Up: Fairies"
          ],
          [
           9781728257921,
           "Survive the Dome"
          ],
          [
           9781492660897,
           "Mask of Shadows: 1"
          ],
          [
           9781492662587,
           "Crossing Paths: 2 (Beneath the Wild Sky)"
          ],
          [
           9781492698678,
           "Pirate Nell's Tale to Tell: A Storybook Adventure: 1"
          ],
          [
           9781728254265,
           "No Way Home: Her Dream Trip Is a Living Nightmare"
          ],
          [
           9781492628262,
           "In Safe Hands: 4 (Search and Rescue, 4)"
          ],
          [
           9781402237461,
           "The Killer Book of Infamous Murders: Incredible Stories, Facts, and Trivia from the World’s Most Notorious Murders"
          ],
          [
           9781728281513,
           "Drink Water and Mind Your Business: A Black Woman's Guide to Unlearning the Bs and Healing Your Self-esteem"
          ],
          [
           9781728248721,
           "Before You Found Me: A Novel"
          ],
          [
           9781728280455,
           "The Things We Make: The Unknown History of Invention from Cathedrals to Soda Cans"
          ],
          [
           9781728236001,
           "Mia's Life Fan Takeover!"
          ],
          [
           9781728275437,
           "Baby Animals Trying: A Celebration of First Moments (Animal Celebrations and Milestones)"
          ],
          [
           9781728220215,
           "Silence in the Shadows: 4 (Black Winter, 4)"
          ],
          [
           9781728281834,
           "Wings Once Cursed & Bound (Mythwoven)"
          ],
          [
           9781492667759,
           "Fish Out of Water"
          ],
          [
           9781464238451,
           "Most Valuable Playboy: A Friends to Lovers Fake Dating Sports Romance (Ballers and Babes)"
          ],
          [
           9781728228600,
           "My First 100 Ocean Words (My First STEAM Words)"
          ],
          [
           9781492680161,
           "Cursed"
          ],
          [
           9781464244711,
           "Grin and Beard It (Winston Brothers)"
          ],
          [
           9781464225802,
           "The Most Famous Girl in the World"
          ],
          [
           9781728206998,
           "We Are Lost and Found"
          ],
          [
           9781728268071,
           "2024 I Came. I Saw. I F*cking Conquered. Planner: August 2023-December 2024 (Calendars & Gifts to Swear By)"
          ],
          [
           9781728294988,
           "The Wolf of My Eye: 8 (Highland Wolf)"
          ],
          [
           9781728231938,
           "The Crow Rider: 2 (Storm Crow, 2)"
          ],
          [
           9781728262529,
           "50 Ways to More Calm, Less Stress: Scientifically Proven Ways to Relieve Anxiety and Boost Your Mental Health Using Your Five Senses"
          ],
          [
           9781464225345,
           "To Catch a Thief (Library of Congress Crime Classics)"
          ],
          [
           9781728296784,
           "My Sticker Dress-Up: Pets"
          ],
          [
           9781883220679,
           "The Dandelion Seed: A picture book of finding strength through nature’s story"
          ],
          [
           9781618216663,
           "Parenting Kids With OCD: A Guide to Understanding and Supporting Your Child With OCD: 1"
          ],
          [
           9781728217345,
           "A Gentleman Ought to Know: 4 (The Duke's Estates)"
          ],
          [
           9781728229645,
           "When You Give a Rogue a Rebel"
          ],
          [
           9781728228754,
           "The Surgeon's Daughter: A Novel"
          ],
          [
           9781641525213,
           "Super Cool Space Facts: A Fun, Fact-filled Space Book for Kids"
          ],
          [
           9781728268453,
           "Have You Seen My Sister"
          ],
          [
           9781728281810,
           "The Book Proposal"
          ],
          [
           9781492671220,
           "Where Did We Come From?: A simple exploration of the universe, evolution, and physics"
          ],
          [
           9798889641148,
           "Rebel Girls Money Matters: A Guide to Saving, Spending, and Everything in Between"
          ],
          [
           9781641525862,
           "My Sight Words Workbook: 101 High-Frequency Words Plus Games & Activities! (My Workbook)"
          ],
          [
           9781728295091,
           "A Tale of Two Titties: A Writer's Guide to Conquering the Most Sexist Tropes in Literary History"
          ],
          [
           9781728279190,
           "The Pumpkin Seed's Secret: A Life Cycle Poem (Starting Small)"
          ],
          [
           9781728252254,
           "Last Night at the Hollywood Canteen: A Novel"
          ],
          [
           9781728251875,
           "The Scenic Route: 1 (Beneath the Wild Sky)"
          ],
          [
           9781728270913,
           "Swarm"
          ],
          [
           9781728290195,
           "Travels of Terror: Strange and Spooky Spots Across America"
          ],
          [
           9781728294070,
           "The Thirteenth Husband: A Novel"
          ],
          [
           9781728293905,
           "2025 Own Your Magic Boxed Calendar: 365 Days of Spells and Intentions to Manifest Your Best Witch Life"
          ],
          [
           9780241649039,
           "The Complete Instant Pot Cookbook: Innovative Recipes to Slow Cook, Bake, Air Fry and Pressure Cook"
          ],
          [
           9780241315606,
           "RHS Pests & Diseases: New Edition, Plant-by-plant Advice, Keep Your Produce and Plants Healthy"
          ],
          [
           9780241510162,
           "Australian Women's Weekly Baking: Breads, Cakes, Biscuits, And Bakes"
          ],
          [
           9781405359788,
           "Feeding Your Baby and Toddler: 200 Easy, Healthy, and Nutritious Recipes"
          ],
          [
           9780241628157,
           "What Would You Do If You Weren't Afraid?: Creating a Meaningful Life in Uncertain Times"
          ],
          [
           9780241480441,
           "Healthy Vegan The Cookbook: Vegan Cooking Meets Nutrition Science"
          ],
          [
           9780241460191,
           "Grow Compost: Essential Know-how and Expert Advice for Gardening Success"
          ],
          [
           9780241531358,
           "Nature Is A Human Right: Why We're Fighting for Green in a Grey World"
          ],
          [
           9780241688700,
           "Your Financial Planner: Review, Plan, Reflect"
          ],
          [
           9780241548486,
           "Australian Women's Weekly Desserts: Achievable, Satisfying Sweet Treats"
          ],
          [
           9781409324867,
           "Boost Your Brain: Switch on your Brain with over 300 Puzzles, Tips, and Teasers"
          ],
          [
           9780241455852,
           "The Birthday Book: What the day you were born says about you"
          ],
          [
           9780241275337,
           "Homemade Christmas: Create your own gifts, cards, decorations, and bakes"
          ],
          [
           9780241458501,
           "Holistic Hypnobirthing: Mindful Practices for a Positive Pregnancy and Birth"
          ],
          [
           9780241510407,
           "It's Your Loss: Living With Grief Is Hard. We Hope This Book Will Help."
          ],
          [
           9780241459751,
           "RHS The Tree in My Garden: Choose One Tree, Plant It - and Change the World"
          ],
          [
           9780241529577,
           "The Last Bite: A Whole New Approach to Making Desserts Through the Year"
          ],
          [
           9780241329290,
           "Grains As Mains: Modern Recipes using Ancient Grains, From Gluten-Free Breakfasts to Vegetarian Dinners"
          ],
          [
           9780241648759,
           "Grow Lawns: Essential Know-how and Expert Advice for Gardening Success"
          ],
          [
           9780241286463,
           "Power Bowls: All You Need in One Healthy Bowl"
          ],
          [
           9780241726082,
           "The Sewing Book (New Edition)"
          ],
          [
           9780241510414,
           "All Up In My Space: How to Decorate With Feeling"
          ],
          [
           9780241458525,
           "Natural Menopause: Herbal Remedies, Aromatherapy, CBT, Nutrition, Exercise, HRT...for Perimenopause, Menopause, and Beyond"
          ],
          [
           9780241726099,
           "DIY: Repair, Renovate and Decorate"
          ],
          [
           9780241332559,
           "Ginspiration: Infusions, Cocktails"
          ],
          [
           9780241636237,
           "RHS How to Garden When You're New to Gardening: The Basics for Absolute Beginners"
          ],
          [
           9780241544013,
           "To Stand And Stare: How to Garden While Doing Next to Nothing"
          ],
          [
           9780241255636,
           "Cocktails: The Art of Mixing Perfect Drinks"
          ],
          [
           9780241598436,
           "Your Gardening Year 2023: A Monthly Shortcut to Help You Get the Most from Your Garden"
          ],
          [
           9780241302118,
           "The Tool Book: A Tool-Lover's Guide to Over 200 Hand Tools"
          ],
          [
           9780241561553,
           "Hortus Curious: Discover the World's Most Weird and Wonderful Plants and Fungi"
          ],
          [
           9780241484302,
           "Surprise! It's Gluten-free!: Over 100 Sweet And Savoury Recipes That Taste Like The Real Thing"
          ],
          [
           9780241242278,
           "Supercraft: Easy Projects for Every Weekend"
          ],
          [
           9780241722602,
           "RHS Gardens of Great Britain and Ireland: Explore 100 of the Most Beautiful Gardens to Visit"
          ],
          [
           9780241337738,
           "Nadia and Kaye Disaster Chef: Simple Recipes for Cooks Who Can't"
          ],
          [
           9781409344087,
           "Bonsai"
          ],
          [
           9780241460207,
           "Grow Houseplants: Essential Know-how and Expert Advice for Gardening Success"
          ],
          [
           9780241377734,
           "The Campfire Cookbook: 80 Imaginative Recipes for Cooking Outdoors"
          ],
          [
           9780241405635,
           "The CBD Oil Solution: Treat Chronic Pain, Anxiety, Insomnia, and More-without the High"
          ],
          [
           9780241530610,
           "Grow Low Maintenance: Essential Know-how and Expert Advice for Gardening Success"
          ],
          [
           9780241553152,
           "Batch Baking: Get-ahead Recipes for Cookies, Cakes, Breads and More"
          ],
          [
           9780241548479,
           "Australian Women's Weekly Middle Eastern: Vibrant, Flavourful Everyday Recipes"
          ],
          [
           9781409369929,
           "Knitting Cards on the Go!"
          ],
          [
           9788196232825,
           "Grit, Grace & Glory: The Usha Story"
          ],
          [
           9780241561232,
           "Beer A Tasting Course: A Flavour-Focused Approach to the World of Beer"
          ],
          [
           9780241633885,
           "Finch Bakery Disco Bakes and Party Cakes: THE SUNDAY TIMES BESTSELLER"
          ],
          [
           9781409348603,
           "Malt Whisky Companion"
          ],
          [
           9780241500941,
           "The Complete Vegetable Cookbook: A Seasonal, Zero-waste Guide to Cooking with Vegetables"
          ],
          [
           9781409321125,
           "The Pie Book"
          ],
          [
           9780241500934,
           "What's My Cat Thinking?: Understand Your Cat to Give Them a Happy Life"
          ],
          [
           9780751307993,
           "The Kama Sutra"
          ],
          [
           9780241432433,
           "RHS Complete Gardener's Manual: The one-stop guide to plan, sow, plant, and grow your garden"
          ],
          [
           9780241216552,
           "Pregnancy Encyclopedia: All Your Questions Answered"
          ],
          [
           9780241654163,
           "What's My Tween Thinking?: Practical Child Psychology for Modern Parents"
          ],
          [
           9780241389461,
           "What's My Teenager Thinking?: Practical child psychology for modern parents"
          ],
          [
           9780241689325,
           "I'm Rich, You're Poor: How to Give Social Media a Reality Check"
          ],
          [
           9780241363539,
           "Dreams: Unlock Inner Wisdom, Discover Meaning, and Refocus your Life"
          ],
          [
           9780241506844,
           "Rise of the Girl: Seven Empowering Conversations To Have With Your Daughter"
          ],
          [
           9780241286265,
           "How To Raise An Amazing Child the Montessori Way, 2nd Edition: A Parents' Guide to Building Creativity, Confidence, and Independence"
          ],
          [
           9780241295700,
           "Stay Young Naturally (Try It!)"
          ],
          [
           9780241633410,
           "How to Fall in Love with Yoga: Move. Breathe. Connect."
          ],
          [
           9781405359122,
           "Fish Cookbook"
          ],
          [
           9780241662113,
           "RHS Pests and Diseases: Keep Your Produce and Plants Healthy"
          ],
          [
           9781405394741,
           "Whisky Opus: The Definitive 21st-Century Reference to the World's Greatest Distilleries and their Whiskies"
          ],
          [
           9780241617694,
           "Absurdle"
          ],
          [
           9780241282861,
           "Mary Berry Cooks The Perfect"
          ],
          [
           9780241384558,
           "Breathwork: Use The Power Of Breath To Energise Your Body And Focus Your Mind (A Little Book of Self Care)"
          ],
          [
           9780241530535,
           "Grow Pests & Diseases: Essential Know-how and Expert Advice for Gardening Success"
          ],
          [
           9780241376522,
           "Veg in One Bed: How to Grow an Abundance of Food in One Raised Bed, Month by Month"
          ],
          [
           9781409365181,
           "A Little Course in Knitting: Simply Everything You Need to Succeed"
          ],
          [
           9780241593264,
           "Grow Fruit: Essential Know-how and Expert Advice for Gardening Success"
          ],
          [
           9780241275290,
           "Cake Decorating (Try It!)"
          ],
          [
           9780241531389,
           "Garden for the Senses: How Your Garden Can Soothe Your Mind and Awaken Your Soul"
          ],
          [
           9780241593363,
           "Gin A Tasting Course: A Flavour-focused Approach to the World of Gin"
          ],
          [
           9780241459744,
           "RHS How to Garden When You Rent: Make It Your Own * Keep Your Landlord Happy"
          ],
          [
           9781405306997,
           "Your Baby & Toddler from Birth to 3 Years: A step-by-step guide to your child's development"
          ],
          [
           9780241674451,
           "Midlife Matters: Feel Empowered and Confident Every Step of the Way"
          ],
          [
           9780241472972,
           "RHS How to Garden the Low-carbon Way: The Steps You Can Take to Help Combat Climate Change"
          ],
          [
           9780241318270,
           "Down to Earth: Gardening Wisdom"
          ],
          [
           9780241411995,
           "Grow Food for Free: The easy, sustainable, zero-cost way to a plentiful harvest"
          ],
          [
           9780241590454,
           "More More More: Making Maximalism Work in Your Home and Life"
          ],
          [
           9780241657263,
           "Good Vibes Baking: Bakes To Make Your Soul Shine and Your Taste Buds Sing"
          ],
          [
           9780241472330,
           "What Would You Do If You Weren't Afraid?: Discover A Life Filled With Purpose And Joy Through The Secrets Of Jewish Wisdom"
          ],
          [
           9781405345613,
           "Ultimate Erotic Massage"
          ],
          [
           9780241371008,
           "Good Food, Sorted: Save Time, Cook Smart, Eat Well"
          ],
          [
           9780241362846,
           "There's a Vegan in the House: Fresh, Flexible Food to Keep Everyone Happy"
          ],
          [
           9781409354680,
           "Coffee Obsession"
          ],
          [
           9780751304220,
           "DK 101 Essential Wine Tips"
          ],
          [
           9780241313619,
           "Kama Sutra Workout: Work Hard, Play Harder with 300 Sensual Sexercises"
          ],
          [
           9780241580639,
           "Potato Kitchen: From Soil to Table – Over 70 Inspiring Recipes"
          ],
          [
           9781405352673,
           "The Wine Opus: A 21st-Century Reference to more than 4,000 of the World's Greatest Wineries and their Wines"
          ],
          [
           9781405312127,
           "French Wine: Grapes, Regions, Tasting, Best Buys, Vintages (Eyewitness Companions)"
          ],
          [
           9781405344418,
           "Practical Self Sufficiency: The Complete Guide to Sustainable Living"
          ],
          [
           9780241342022,
           "Herbal Remedies Handbook: More Than 140 Plant Profiles; Remedies for Over 50 Common Conditions"
          ],
          [
           9781409365198,
           "A Little Course in Sewing: Simply Everything You Need to Succeed"
          ],
          [
           9780241597538,
           "It's Not That Radical: Climate Action to Transform Our World"
          ],
          [
           9780241415634,
           "Yoga for Women: Wellness and Vitality at Every Stage of Life"
          ],
          [
           9780241615294,
           "Breasts: An Owner's Guide"
          ],
          [
           9780241737149,
           "Roti: 90 Simple Recipes for the Indian Bread and Its Accompaniments"
          ],
          [
           9780241332313,
           "RHS How to Create your Garden: Ideas and Advice for Transforming your Outdoor Space"
          ],
          [
           9780241343807,
           "What's My Child Thinking?: Practical Child Psychology for Modern Parents"
          ],
          [
           9780241443668,
           "Aromatherapy: Harness the Power of Essential Oils to Relax, Restore, and Revitalise (A Little Book of Self Care)"
          ],
          [
           9781405394437,
           "RHS Step-by-Step Veg Patch: Foolproof Growing for Gardeners with Little Space"
          ],
          [
           9781405326582,
           "15-Minute Everyday Pilates: Get Real Results Anytime, Anywhere Four 15-minute workouts, also on DVD (15 Minute Fitness)"
          ],
          [
           9780241653593,
           "Artist's Watercolour Techniques: Discover How to Paint Landscapes, People and Still Lifes, and Develop Your Own Style"
          ],
          [
           9780241412428,
           "Woodwork: The Complete Step-by-step Manual"
          ],
          [
           9780241273098,
           "Neal's Yard Remedies Essential Oils: Restore * Rebalance * Revitalize * Feel the Benefits * Enhance Natural Beauty * Create Blends"
          ],
          [
           9780241593271,
           "Grow Small Gardens: Essential Know-how and Expert Advice for Gardening Success"
          ],
          [
           9780241740224,
           "RHS Waterwise Garden: How to Sustain Your Garden Through Flood and Drought"
          ],
          [
           9780241624876,
           "The Home Herbal: Restorative Herbal Remedies for the Mind, Body, and Soul"
          ],
          [
           9781405333184,
           "Great British Food: The Complete Recipes from Great British Menu"
          ],
          [
           9780241399774,
           "The Artisan Kitchen: The science, practice and possibilities"
          ],
          [
           9780241185674,
           "The Gluten-free Cookbook"
          ],
          [
           9780241598221,
           "Australian Women's Weekly Vegan: Nutritious, Delicious Planet-friendly Meals"
          ],
          [
           9781409346777,
           "Fertility and Conception: The Complete Guide to Getting Pregnant"
          ],
          [
           9780241341230,
           "Science of Yoga: Understand the Anatomy and Physiology to Perfect your Practice"
          ],
          [
           9780241506455,
           "Kama Sutra A Position A Day New Edition"
          ],
          [
           9780241206546,
           "Practical Mindfulness: A step-by-step guide"
          ],
          [
           9780241455920,
           "Intuition: Access Your Inner Wisdom. Trust Your Instincts. Find Your Path."
          ],
          [
           9780241727508,
           "How to Raise an Amazing Child the Montessori Way: A Parent's Guide to Building Creativity, Confidence, and Independence"
          ],
          [
           9780241254707,
           "Neal's Yard Remedies Eat Beautiful: Cleansing detox programme * Beauty superfoods* 100 Beauty-enhancing recipes* Tips for every age"
          ],
          [
           9780241506448,
           "Crystals: Complete Healing Energy for Spiritual Seekers"
          ],
          [
           9780241240724,
           "Autoimmune Cookbook (Try It!)"
          ],
          [
           9780241644515,
           "Edge of Reality: Journeys Through the Rabbit Hole of Reality Television"
          ],
          [
           9780241548240,
           "Parkers' Astrology: For Cosmic Insight and Self-Care (the Deluxe Box Set)"
          ],
          [
           9780241483862,
           "Apple Kitchen: From Tree to Table – Over 70 Inspiring Recipes"
          ],
          [
           9781409338710,
           "Pregnancy The Beginner's Guide"
          ],
          [
           9780241593349,
           "Get Guerrilla Gardening: A Handbook for Planting in Public Places"
          ],
          [
           9780241295755,
           "Stay Fit For Life: Move It or Lose It: More than 60 Smart Exercises to Future-Proof your Body"
          ],
          [
           9780241483398,
           "Be Period Positive: Reframe Your Thinking And Reshape The Future Of Menstruation"
          ],
          [
           9780241679692,
           "Whisky Opus: The Definitive Guide to the World's Greatest Whisky Distilleries"
          ],
          [
           9780241696347,
           "How to Stay Sane in a House Share"
          ],
          [
           9780241492239,
           "The Green Grocer: One Man's Manifesto for Corporate Activism"
          ],
          [
           9780241677933,
           "Wildflowers: Discover the Science and Secrets Behind the World of Wildflowers"
          ],
          [
           9780241282885,
           "15 Minute Fitness: 100 quick and easy exercises * Strengthen and tone, improve core fitness* Fat burning aerobic workouts (Try It!)"
          ],
          [
           9780241410370,
           "Sleep: Harness the Power of Sleep for Optimal Health and Wellbeing (A Little Book of Self Care)"
          ],
          [
           9780241481561,
           "Montessori For Every Family: A Practical Parenting Guide To Living, Loving And Learning"
          ],
          [
           9780241458600,
           "Grow Pruning & Training: Essential Know-how and Expert Advice for Gardening Success"
          ],
          [
           9780241552438,
           "East Winds: Recipes, History and Tales from the Hidden Caribbean"
          ],
          [
           9780241648766,
           "Grow Orchids: Essential Know-how and Expert Advice for Gardening Success"
          ],
          [
           9780241583647,
           "Dear Cisgender People: A Guide to Trans Allyship and Empathy"
          ],
          [
           9780241296677,
           "Supercraft Christmas: Craft your way through more than 40 festive projects"
          ],
          [
           9780241352496,
           "Let's Get Fizzical: Over 50 Bubbly Cocktail Recipes with Prosecco, Champagne, and other Sparkling Wines"
          ],
          [
           9780241458617,
           "Grow Eco-gardening: Essential Know-how and Expert Advice for Gardening Success"
          ],
          [
           9780241531440,
           "Fatherhood by Papa B: A Game-changing Guide for Parents, Father Figures and Fathers-to-be"
          ],
          [
           9780241270035,
           "RHS Fruit and Veg Box: Planting and Harvesting to Cooking and Preserving"
          ],
          [
           9780241503157,
           "Weekly Provisions: How to Eat Seasonally and Love What's Left Over"
          ],
          [
           9780241598238,
           "Australian Women's Weekly Money-saving Meals: Easy, Delicious Low-cost Family Food"
          ],
          [
           9780241674642,
           "Toddlers Made Easy: Become the Parent Every Child Needs"
          ],
          [
           9780241282908,
           "RHS Pruning and Training: Revised New Edition; Over 800 Plants; What, When, and How to Prune"
          ],
          [
           9780241560211,
           "The Pepperpot Diaries: Stories From My Caribbean Table"
          ],
          [
           9780241343265,
           "RHS Encyclopedia Of Plants and Flowers"
          ],
          [
           9780241427989,
           "365 Things to Do with LEGO® Bricks"
          ],
          [
           9780241716397,
           "LEGO How to Build Everything! (How to Build LEGO)"
          ],
          [
           9780241656211,
           "A Kids Book About Equality"
          ],
          [
           9780241725924,
           "A Kids Book About OCD"
          ],
          [
           9780241658574,
           "A Kids Book About Money"
          ],
          [
           9780241725917,
           "A Kids Book About ADHD"
          ],
          [
           9780241630716,
           "Make Good Trouble: Discover Movements That Sparked Change"
          ],
          [
           9780241539248,
           "Maths ― No Problem! Fractions, Ages 7-8 (Key Stage 2) (Master Maths At Home)"
          ],
          [
           9780241567388,
           "Mrs Wordsmith Get Reading With Phonics, Ages 4-5 (Early Years & Key Stage 1)"
          ],
          [
           9780241656280,
           "A Kids Book About Being Inclusive"
          ],
          [
           9780241539491,
           "Maths ― No Problem! Numbers to 10 Million, Ages 10-11 (Key Stage 2) (Master Maths At Home)"
          ],
          [
           9780241539323,
           "Maths ― No Problem! Addition and Subtraction, Ages 8-9 (Key Stage 2) (Master Maths At Home)"
          ],
          [
           9780241743096,
           "A Kids Book About Healthy Habits"
          ],
          [
           9780241578100,
           "The Investor's Mindset: Analyze Markets. Invest Strategically. Minimize Risk. Maximize Returns."
          ],
          [
           9780241610619,
           "The Periodic Table of DC"
          ],
          [
           9780241634622,
           "A Kids Book About Immigration"
          ],
          [
           9780241720493,
           "DK Super Readers Level 1 Star Wars Princess Leia's Adventures"
          ],
          [
           9780241540442,
           "Star Wars Jedi Pocket Expert: All the Facts You Need to Know"
          ],
          [
           9780241742907,
           "A Little Book About Love"
          ],
          [
           9780241742891,
           "A Little Book About Home"
          ],
          [
           9780241539088,
           "Maths ― No Problem! Measuring, Ages 4-6 (Key Stage 1) (Master Maths At Home)"
          ],
          [
           9780241539057,
           "Maths ― No Problem! Multiplication, Division and Fractions, Ages 4-6 (Key Stage 1) (Master Maths At Home)"
          ],
          [
           9780241539262,
           "Maths ― No Problem! Measuring, Ages 7-8 (Key Stage 2) (Master Maths At Home)"
          ],
          [
           9780241743331,
           "A Kids Book About Consent"
          ],
          [
           9780241458211,
           "LEGO 100 Ways to Rebuild the World: Get inspired to make the world an awesome place!"
          ],
          [
           9780241600306,
           "LEGO Pocket Builder Vehicles: Make Things Move"
          ],
          [
           9780241580219,
           "Star Wars 100 Objects: Illuminating Items From a Galaxy Far, Far Away…."
          ],
          [
           9780241557518,
           "The World's Wildest Places: And the People Protecting Them"
          ],
          [
           9780241531730,
           "We Go High: How 30 Women of Colour Achieved Greatness against all Odds"
          ],
          [
           9780241742969,
           "A Kids Book About Optimism"
          ],
          [
           9780241539385,
           "Maths ― No Problem! Extra Challenges, Ages 8-9 (Key Stage 2) (Master Maths At Home)"
          ],
          [
           9780241602942,
           "LEGO Ideas on the Go: With an Exclusive LEGO Campsite Mini Model"
          ],
          [
           9780241722466,
           "Sesame Street Ultimate Sticker Collection"
          ],
          [
           9780241572542,
           "ABC Pride"
          ],
          [
           9780241232279,
           "The Star Trek Book: Strange New Worlds Boldly Explained"
          ],
          [
           9780241694459,
           "A Kids Book About Beauty"
          ],
          [
           9780241514894,
           "The Listening Party: Artists, Bands And Fans Reflect On 100 Favourite Albums"
          ],
          [
           9780241357644,
           "Star Wars Be More Lando: How to Get What You Want (and Look Good Doing It)"
          ],
          [
           9780241678497,
           "Barbie Pocket Fashion Expert (Pocket Expert)"
          ],
          [
           9780241742884,
           "A Little Book About Trust"
          ],
          [
           9780241401224,
           "Disney Villains The Essential Guide New Edition"
          ],
          [
           9780241518007,
           "Marvel Avengers The Ultimate Character Guide New Edition"
          ],
          [
           9780241727416,
           "LEGO Ideas Activity Book Animals: Packed with LEGO Building and Sticker Activities and Fun Facts. With 500+ Stickers!"
          ],
          [
           9780241527122,
           "Mrs Wordsmith Epic Words Vocabulary Book, Ages 4-8 (Key Stages 1-2): 1,000 Words To Improve Your Reading And Comprehension"
          ],
          [
           9780241630662,
           "The Science Museum Stephen Hawking Genius at Work: Explore His Life, Mind and Science Through the Objects in His Study"
          ],
          [
           9780241605882,
           "DK Super Readers Level 3 DC Supergirl Girl of Steel: Meet Kara Zor-El"
          ],
          [
           9780241741528,
           "Marvel How to Draw Awesome Characters"
          ],
          [
           9780241182987,
           "LEGO® Awesome Ideas"
          ],
          [
           9780241543689,
           "Peanuts Be More Charlie Brown: Find Your Own Worldly Wisdom"
          ],
          [
           9780241612316,
           "The World's Wildest Waters: Protecting Life in Seas, Rivers, and Lakes"
          ],
          [
           9780241566626,
           "The Met Mystery at the Museum: Explore the Museum and Solve the Puzzles to Save the Exhibition! (DK The Met)"
          ],
          [
           9780241720509,
           "Star Wars Young Jedi Adventures Ultimate Sticker Collection"
          ],
          [
           9780241743119,
           "A Kids Book About Democracy"
          ],
          [
           9780241539460,
           "Maths ― No Problem! Extra Challenges, Ages 9-10 (Key Stage 2) (Master Maths At Home)"
          ],
          [
           9780241549698,
           "How to Do Hard Things: Actual Real Life Advice on Friends, Love, Career, Wellbeing, Mindset, and More."
          ],
          [
           9780241683811,
           "The Astronaut Diaries"
          ],
          [
           9780241743126,
           "A Kids Book About Banned Books"
          ],
          [
           9780241658505,
           "A Kids Book About Change"
          ],
          [
           9780241743065,
           "A Kids Book About Blended Families"
          ],
          [
           9780241725931,
           "A Kids Book About Neurodiversity"
          ],
          [
           9780241681503,
           "Marvel Incredible Records: Amazing Powers and Astonishing Stats"
          ],
          [
           9780241742990,
           "A Kids Book About Adoption"
          ],
          [
           9780241743515,
           "A Kids Book About Self-Love"
          ],
          [
           9780241671658,
           "Lady Gaga A to Z: A Celebration of a Pop Culture Icon"
          ],
          [
           9780241544082,
           "Marvel Studios Be More Captain Marvel: Embrace Your Power and Inspire Others"
          ],
          [
           9780241538883,
           "LEGO Star Wars Awesome Vehicles: With Poe Dameron Minifigure and Accessory"
          ],
          [
           9780241743102,
           "A Kids Book About Yoga"
          ],
          [
           9780241500804,
           "Star Wars I Love You. I Know."
          ],
          [
           9780241516270,
           "Marvel Studios Be More Captain America: BE MORE CAPTAIN AMERICA, Lessons in Leadership"
          ],
          [
           9780241743416,
           "A Little Book About Racism"
          ],
          [
           9781409347514,
           "Marvel Comics 75 Years Of Cover Art: Includes 2 Amazing Prints"
          ],
          [
           9780241567081,
           "Life Lessons from Hip-Hop: 50 Reflections on Creativity, Motivation and Wellbeing"
          ],
          [
           9780241632505,
           "LEGO Idea A Day: Packed with Hundreds of Ideas to Inspire You!"
          ],
          [
           9780241535189,
           "The Bees, Birds & Butterflies Sticker Anthology: With More Than 1,000 Vintage Stickers"
          ],
          [
           9780241201169,
           "Star Wars The Force Awakens Incredible Cross-Sections"
          ],
          [
           9780241558867,
           "Camping Challenges: 50 Ideas for Outdoor Family Fun (DK)"
          ],
          [
           9780241409435,
           "Behind the Horror: True stories that inspired horror movies (True Crime Uncovered)"
          ],
          [
           9781409355724,
           "LEGO® Architecture The Visual Guide: Iconic buildings re-imagined in Lego bricks"
          ],
          [
           9780241539095,
           "Maths ― No Problem! Extra Challenges, Ages 4-6 (Key Stage 1) (Master Maths At Home)"
          ],
          [
           9780241743041,
           "A Kids Book About Identity"
          ],
          [
           9780241531648,
           "LEGO Amazing But True – Fun Facts About the LEGO World and Our Own!"
          ],
          [
           9780241656150,
           "Christmas Games: 50 Games for Festive Family Fun"
          ],
          [
           9780241699522,
           "Marvel Encyclopedia Collector's Edition"
          ],
          [
           9780241539415,
           "Maths ― No Problem! Addition and Subtraction, Ages 9-10 (Key Stage 2) (Master Maths At Home)"
          ],
          [
           9781405341677,
           "Star Wars Year by Year a Visual Chronicle"
          ],
          [
           9780241634615,
           "A Kids Book About Body Image"
          ],
          [
           9780241408971,
           "Marvel Black Panther Rules!: Discover what it takes to be a Super Hero"
          ],
          [
           9780744092714,
           "States of Adventure: Stories About Finding Yourself by Getting Lost (DK)"
          ],
          [
           9780241361320,
           "Unsolved Murders: True Crime Cases Uncovered"
          ],
          [
           9780241481318,
           "The Met Georgia O'Keeffe"
          ],
          [
           9780241548493,
           "Star Wars I Am Your Father: Lessons for Parents, Protectors, and Mentors"
          ],
          [
           9780241565865,
           "Marvel Who Is Captain Marvel?: Travel to Space with Earth’s Defender (DK Readers Level 2)"
          ],
          [
           9780241544068,
           "Star Wars Be More Obi-Wan: Navigate Your World with Wit and Wisdom"
          ],
          [
           9780241634608,
           "A Kids Book About Life Online"
          ],
          [
           9780241670101,
           "Kahoot! Quiz Time Earth: 250 Trivia Questions (with QR Codes Inside for 150 Interactive Bonus Questions) – Educational Kids Quiz Book"
          ],
          [
           9780241658086,
           "The Met Black and White: A High Contrast Book of Art (DK The Met)"
          ],
          [
           9780241539422,
           "Maths ― No Problem! Multiplication and Division, Ages 9-10 (Key Stage 2) (Master Maths At Home)"
          ],
          [
           9780241414286,
           "LEGO Halloween Ideas: With Exclusive Spooky Scene Model"
          ],
          [
           9780241363782,
           "Board Games in 100 Moves"
          ],
          [
           9780241506431,
           "The DC Book: A Vast and Vibrant Multiverse Simply Explained"
          ],
          [
           9780241281093,
           "Star Wars The Last Jedi™ The Visual Dictionary"
          ],
          [
           9780241469361,
           "Star Wars Join the Rebellion!: Discover what it takes to be a rebel"
          ],
          [
           9780241357699,
           "Star Wars The Rise of Skywalker The Visual Dictionary: With Exclusive Cross-Sections"
          ],
          [
           9780241658536,
           "A Kids Book About Mindfulness"
          ],
          [
           9780241625477,
           "Manifesting Happiness: How to Attract All Good Things"
          ],
          [
           9780241586532,
           "DK Super Readers Level 3 Marvel Meet Ms. Marvel"
          ],
          [
           9780241536858,
           "The Seashore Sticker Anthology: With More Than 1,000 Vintage Stickers"
          ],
          [
           9780241631287,
           "The Met ABC: An Alphabet Book of Art (DK The Met)"
          ],
          [
           9780241651100,
           "DK Super Readers Level 3 Marvel Captain America Meet Sam Wilson!"
          ],
          [
           9781405314251,
           "Meet the X-Men (DK Readers Level 2)"
          ],
          [
           9780241742945,
           "A Kids Book About Depression"
          ],
          [
           9780241201152,
           "Star Wars The Force Awakens New Adventures (DK Reads Beginning To Read)"
          ],
          [
           9780241539521,
           "Maths ― No Problem! Geometry and Shape, Ages 10-11 (Key Stage 2) (Master Maths At Home)"
          ],
          [
           9780241573310,
           "Be More Harry Styles: Authentic Advice on Subverting Expectations and Embracing Kindness (DK)"
          ],
          [
           9780241656297,
           "A Kids Book About Being Transgender"
          ],
          [
           9780241743782,
           "A Kids Book About Surrogacy"
          ],
          [
           9780241361351,
           "WWE 35 Years of Wrestlemania"
          ],
          [
           9780241531655,
           "Marvel Black Panther Wakanda Atlas"
          ],
          [
           9780241331408,
           "LEGO Women of NASA Space Heroes (DK Readers Level 1)"
          ],
          [
           9780241460528,
           "What to Watch When: 1,000 TV Shows for Every Mood and Moment"
          ],
          [
           9780241661161,
           "How to Build LEGO Robots"
          ],
          [
           9780241278574,
           "The Mysterious World of Doctor Strange"
          ],
          [
           9780241715536,
           "The Met Knights Discover, Press Out & Play (DK The Met)"
          ],
          [
           9780241536735,
           "LEGO Party Ideas: With Exclusive LEGO Cake Mini Model (LEGO Ideas)"
          ],
          [
           9780241525739,
           "Maths ― No Problem! Collection of 6 Workbooks, Ages 8-9 (Key Stage 2) (Master Maths At Home)"
          ],
          [
           9780241469415,
           "LEGO Minifigure Mission: With LEGO Minifigure and Accessories"
          ],
          [
           9780241568125,
           "Marvel Studios Be More Spider-Man: Follow in the Footsteps of Your Friendly Neighbourhood Hero"
          ],
          [
           9780241656235,
           "A Kids Book About Adventure"
          ],
          [
           9780241574041,
           "DC Greatest Events: Stories That Shook a Multiverse"
          ],
          [
           9780241469408,
           "Star Wars Year by Year: A Visual History, New Edition"
          ],
          [
           9780241619070,
           "A to Zendaya: A Celebration of a Pop Culture Icon (DK)"
          ],
          [
           9781405339001,
           "Wolverine Awesome Powers (DK Readers Level 3)"
          ],
          [
           9780241364956,
           "DC Comics Year By Year New Edition: A Visual Chronicle"
          ],
          [
           9780241189429,
           "LEGO® Star Wars in 100 Scenes: Six Movies... A Lot of LEGO® Bricks"
          ],
          [
           9780241314241,
           "DC Comics Absolutely Everything You Need To Know"
          ],
          [
           9780241409206,
           "Star Wars Extraordinary Droids"
          ],
          [
           9780241534762,
           "The Met 5000 Years of Awesome Objects: A History of Art for Children (DK The Met)"
          ],
          [
           9780241693339,
           "Mission to Mars: Can You Survive in Space?"
          ],
          [
           9780241719336,
           "LEGO Minecraft Games Book: 50 Fun Ideas to Play with Your LEGO Collection!"
          ],
          [
           9780241541821,
           "Star Wars Be More Boba Fett: Always Get the Job Done"
          ],
          [
           9780241544655,
           "How to Build LEGO Dinosaurs: Go on a Journey to Become a Better Builder"
          ],
          [
           9780241007631,
           "Marvel Avengers Battle Against Ultron (DK Reads Reading Alone)"
          ],
          [
           9780241643020,
           "DK Super Readers Level 3 Star Wars The Mandalorian The Adventures of Din Djarin"
          ],
          [
           9780241357583,
           "Marvel Ultimate Fact Book: Become a Marvel Expert!"
          ],
          [
           9780241467756,
           "The Star Wars Book of Monsters, Ooze and Slime"
          ],
          [
           9780241514214,
           "Captain America Ultimate Guide New Edition"
          ],
          [
           9780241555972,
           "The Reading Adventure: 100 Books to Check Out Before You're 12"
          ],
          [
           9780241653609,
           "The Met Colours: A Colourful Book of Art (DK The Met)"
          ],
          [
           9780241525746,
           "Maths ― No Problem! Collection of 6 Workbooks, Ages 9-10 (Key Stage 2)"
          ],
          [
           9780241743072,
           "A Kids Book About Hope"
          ],
          [
           9780241742952,
           "A Kids Book About Emotions"
          ],
          [
           9780241662830,
           "Draw with Art for Kids Hub Christmas"
          ],
          [
           9780241539507,
           "Maths ― No Problem! Graphs, Averages and Measuring, Ages 10-11 (Key Stage 2) (Master Maths At Home)"
          ],
          [
           9780241656273,
           "A Kids Book About Being Non-Binary"
          ],
          [
           9780241670279,
           "Disney Christmas Ultimate Sticker Collection"
          ],
          [
           9780241658550,
           "A Kids Book About Diversity"
          ],
          [
           9780241408902,
           "WWE Ronda Rousey (DK Readers Level 2)"
          ],
          [
           9780241237274,
           "Star Wars: Rogue One Secret Mission (DK Readers Level 4)"
          ],
          [
           9780241428016,
           "Marvel Black Widow: Secrets of a Super-spy"
          ],
          [
           9780241742976,
           "A Kids Book About Divorce"
          ],
          [
           9780241743133,
           "A Kids Book About Being A Scientist"
          ],
          [
           9780241531518,
           "Star Wars The Mandalorian Handbook: Explore the Galaxy with Grogu"
          ],
          [
           9780241664728,
           "The Met Where Did Van Gogh Go? (DK The Met)"
          ],
          [
           9780241467596,
           "Marvel The Way of the Warrior: Marvel's Mightiest Martial Artists"
          ],
          [
           9780241314210,
           "Disney Ideas Book: More than 100 Disney Crafts, Activities, and Games"
          ],
          [
           9780241469330,
           "LEGO Disney Princess Meet Belle"
          ],
          [
           9780241634561,
           "A Kids Book About Imagination"
          ],
          [
           9780241740620,
           "Marvel Crafts: Art, Games, and Activities Inspired by Marvel Comics"
          ],
          [
           9780241544105,
           "The Met Louise Bourgeois: She Saw the World as a Textured Tapestry (What The Artist Saw)"
          ],
          [
           9780241316566,
           "DK Braille LEGO DUPLO Farm"
          ],
          [
           9780241574034,
           "The Met Amazing Treasures Colouring Book: Reveal Wonders Inspired by Masterpieces from The Met Collection (DK The Met)"
          ],
          [
           9780241743386,
           "A Kids Book About Leadership"
          ],
          [
           9780241531631,
           "LEGO Star Wars Galaxy Mission: With More Than 20 Building Ideas, a LEGO Rebel Trooper Minifigure, and Minifigure Accessories! (DK Bilingual Visual Dictionary)"
          ],
          [
           9780241568446,
           "Let's Talk About Anxiety: A Guide to Help Adults Talk With Kids About Worries"
          ],
          [
           9780241743058,
           "A Kids Book About Perseverance"
          ],
          [
           9780241656259,
           "A Kids Book About Confidence"
          ],
          [
           9780241594902,
           "The Science Museum A Brief History of Stuff: The Extraordinary Stories of Ordinary Objects"
          ],
          [
           9780241619254,
           "Being an Ally: World Book Day 2023"
          ],
          [
           9780241351055,
           "Star Wars Be More Vader: Assertive Thinking from the Dark Side"
          ],
          [
           9780241743409,
           "A Little Book About Equity"
          ],
          [
           9780241677148,
           "DK Super Readers Level 2 Avatar Sullys Stick Together"
          ],
          [
           9780241637883,
           "Star Wars Dawn of Rebellion The Visual Guide"
          ],
          [
           9780241469385,
           "Marvel Monsters: Creatures Of The Marvel Universe Explored"
          ],
          [
           9780241743034,
           "A Kids Book About Creativity"
          ],
          [
           9780241397350,
           "LEGO Harry Potter The Magical Guide to the Wizarding World"
          ],
          [
           9780241743898,
           "A Kids Book About Masculinity"
          ],
          [
           9780241690529,
           "Loving Kindness"
          ],
          [
           9780241716564,
           "Barbie Dream Camper (WHEELIE BOOKS)"
          ],
          [
           9780241409459,
           "LEGO® Harry Potter Magical Treasury: A Visual Guide to the Wizarding World (with exclusive Tom Riddle minifigure)"
          ],
          [
           9780241634578,
           "A Kids Book About Belonging"
          ],
          [
           9780241675748,
           "Barbie Dream Car: A Push-Along Board Book Adventure (WHEELIE BOOKS)"
          ],
          [
           9780241401248,
           "Cults Uncovered: True Stories of Mind Control and Murder (True Crime Uncovered)"
          ],
          [
           9780241658543,
           "A Kids Book About Public Speaking"
          ],
          [
           9780241573914,
           "The Met Dress Up Paper Dolls: 170 years of Unforgettable Fashion from The Metropolitan Museum of Art’s Costume Institute (DK The Met)"
          ],
          [
           9780241594896,
           "The Met Edgar Degas: He Saw the World in Moving Moments (What The Artist Saw)"
          ],
          [
           9780241467664,
           "Marvel Can The Hulk Lift a House?: And 50 more Super Questions for Super Heroes"
          ],
          [
           9780241654941,
           "Life Hacks, Tips and Tricks: And More Things I Didn’t Know Until I Was In My 30s (DK)"
          ],
          [
           9780241424568,
           "Unsolved Murders (True Crime Uncovered)"
          ],
          [
           9780241691915,
           "Marvel Studios 100 Objects: Iconic Artifacts from the MCU"
          ],
          [
           9780241544143,
           "Disney Pixar Character Encyclopedia Updated and Expanded"
          ],
          [
           9780241742983,
           "A Little Book About Activism"
          ],
          [
           9780241634592,
           "A Kids Book About Gratitude"
          ],
          [
           9780241539484,
           "Maths ― No Problem! Graphs and Measuring, Ages 9-10 (Key Stage 2) (Master Maths At Home)"
          ],
          [
           9780241645581,
           "Killers Caught: True Stories of Extraordinary Murder Hunts (DK)"
          ],
          [
           9780241658567,
           "A Kids Book About Bullying"
          ],
          [
           9781405321358,
           "Star Wars Ultimate Sticker Collection"
          ],
          [
           9780241347447,
           "Marvel Studios Visual Dictionary"
          ],
          [
           9780241539453,
           "Maths ― No Problem! Geometry and Shape, Ages 9-10 (Key Stage 2) (Master Maths At Home)"
          ],
          [
           9780241314234,
           "Star Wars Maker Lab: 20 Galactic Science Projects"
          ],
          [
           9780241594841,
           "Star Wars The Dark Side Pocket Expert"
          ],
          [
           9780241531501,
           "Marvel Black Panther Shuri Defender of Wakanda (DK Readers Level 2)"
          ],
          [
           9780241200407,
           "Star Wars™ The Force Awakens Ultimate Stickerscapes"
          ],
          [
           9780241357538,
           "Marvel Studios Character Encyclopedia"
          ],
          [
           9780241409978,
           "The Star Wars Book: Expand your knowledge of a galaxy far, far away"
          ],
          [
           9781405309936,
           "Heroes of the DC Universe Ultimate Sticker Book"
          ],
          [
           9780241232620,
           "Marvel Absolutely Everything You Need To Know"
          ],
          [
           9781405316019,
           "Star Wars the Complete Visual Dictionary"
          ],
          [
           9780241728161,
           "Be More Stitch: Be More Positive, Happy, and Confident Every Day"
          ],
          [
           9780241651094,
           "LEGO Pocket Builder Pets: Build Cute Companions"
          ],
          [
           9780241467626,
           "Conspiracies Uncovered: Cover-ups, Hoaxes and Secret Societies (True Crime Uncovered)"
          ],
          [
           9780241357491,
           "Marvel Fearless and Fantastic! Female Super Heroes Save the World"
          ],
          [
           9780241606001,
           "Kahoot! Quiz Time Human Body: 250 Trivia Questions (with QR Codes Inside for 150 Interactive Bonus Questions) – Educational Kids Quiz Book"
          ],
          [
           9780241531549,
           "Marvel Spider-Man Pocket Expert: All the Facts You Need to Know"
          ],
          [
           9780241681282,
           "Peaceful Mind"
          ],
          [
           9780241481370,
           "The Met Lost in the Museum: A Seek-and-find Adventure in The Met"
          ],
          [
           9780241288122,
           "Ultimate Marvel: Includes two exclusive prints"
          ],
          [
           9781409367826,
           "LEGO® Amazing Minifigure Ultimate Sticker Collection (Ultimate Stickers)"
          ],
          [
           9780241301708,
           "Marvel Avengers Ultimate Guide New Edition"
          ],
          [
           9780241467602,
           "WWE Rule the Ring! (Discover What It Takes)"
          ],
          [
           9780241718162,
           "DK Super Readers Level 3 Marvel Fantastic Four Cosmic Adventures"
          ],
          [
           9780241408919,
           "Marvel We Are Super Heroes!: All Special, All Different, All Powerful!"
          ],
          [
           9780241440629,
           "I Am C-3PO - The Inside Story"
          ],
          [
           9780241631331,
           "The Met 123: A Counting Book of Art (DK The Met)"
          ],
          [
           9780241484654,
           "Create a Castle and Other Great LEGO Ideas"
          ],
          [
           9780241706008,
           "LEGO Easter Ideas: With an Exclusive LEGO Springtime Model (LEGO Ideas)"
          ],
          [
           9780241727423,
           "LEGO Ideas Activity Book Space: Packed with LEGO Building and Sticker Activities and Fun Facts. With 500+ Stickers!"
          ],
          [
           9780241357637,
           "Star Wars Be More Leia: Find Your Rebel Voice And Fight The System"
          ],
          [
           9780241505953,
           "Allies: Real Talk About Showing Up, Screwing Up, And Trying Again"
          ],
          [
           9780241628812,
           "Halloween Party Games: 50 Frighteningly Fun Family Activities to Play (DK)"
          ],
          [
           9780241645925,
           "You Are An Artist"
          ],
          [
           9780241567548,
           "Broadcasting Britain: 100 Years of the BBC"
          ],
          [
           9780241409466,
           "The LEGO Games Book: 50 fun brainteasers, games, challenges, and puzzles!"
          ],
          [
           9780241469422,
           "The LEGO Ideas Book New Edition: You Can Build Anything!"
          ],
          [
           9780241657942,
           "The LEGO Halloween Games Book: Ideas for 50 Games, Challenges, Puzzles, and Activities"
          ],
          [
           9780241608821,
           "The LEGO Christmas Games Book: 55 Ideas for Festive Games, Challenges, and Puzzles"
          ],
          [
           9780241659700,
           "Minecraft Festive Ideas: More Than 50 Wonderful Winter Builds"
          ],
          [
           9780241711712,
           "DK Super Where Words Come From: Guide to Morphology with Prefixes, Suffixes and Root Words"
          ],
          [
           9780241302439,
           "English for Everyone Course Book Level 2 Beginner: French language edition (DK English for Everyone)"
          ],
          [
           9780241599723,
           "DK Super Readers Level 1 Frozen Worlds"
          ],
          [
           9780241598894,
           "DK Super Readers Level 2 North Pole, South Pole"
          ],
          [
           9780241602614,
           "DK Super Readers Level 1 Mega Machines"
          ],
          [
           9780241590942,
           "DK Super Readers Level 1 Animal Feeding Time"
          ],
          [
           9780241592939,
           "DK Super Readers Level 4 Plants Bite Back"
          ],
          [
           9781409342083,
           "Complete Mandarin Chinese Pack (Complete Language Pack): Learn in Just 15 Minutes a Day (Complete Language Packs)"
          ],
          [
           9780241589687,
           "DK Super Readers Level 3 Dinosaurs Discovered"
          ],
          [
           9780241599136,
           "DK Super Readers Pre-Level What Starts in an Egg?"
          ],
          [
           9780241721469,
           "DK Super Readers Level 1 A day in the Life of a Teacher"
          ],
          [
           9780241598641,
           "DK Super Readers Level 4 Secrets of the Mummies"
          ],
          [
           9780241611920,
           "DK IB collection: Middle Years Programme (MYP 1-3): Supporting transdisciplinary understanding, inquiry and international mindedness"
          ],
          [
           9780241591215,
           "DK Super Readers Level 2 Submarines and Submersibles"
          ],
          [
           9780241602331,
           "DK Super Readers Level 1 Bugs Hide and Seek"
          ],
          [
           9780241358665,
           "English for Everyone Course Book Level 3 Intermediate: A Complete Self-Study Programme"
          ],
          [
           9780241327388,
           "15 Minute Italian: Learn in Just 12 Weeks (Eyewitness Travel 15-Minute)"
          ],
          [
           9780241602256,
           "DK Super Readers Pre-Level Amusement Park"
          ],
          [
           9781405391603,
           "German In 3 Months: Your Essential Guide to Understanding and Speaking German (Hugo in 3 Months)"
          ],
          [
           9780241358627,
           "English for Everyone Course Book Level 1 Beginner: A Complete Self-Study Programme"
          ],
          [
           9780241603321,
           "DK Super Readers Level 1 Night-time Animals"
          ],
          [
           9780241598603,
           "DK Super Readers Level 3 Spiders' Secrets"
          ],
          [
           9780241721612,
           "DK Super Planet Essential Ecosystems"
          ],
          [
           9780241737828,
           "DK Super Readers Level 1 Big Trucks (Arabic translation)"
          ],
          [
           9780241599969,
           "DK Super Readers Level 1 Sea Otters"
          ],
          [
           9780751310757,
           "Italian Phrase Book"
          ],
          [
           9780241722688,
           "DK Super Planet Farming and Food Security"
          ],
          [
           9780241601211,
           "DK Super Readers Level 3 Cool Caves"
          ],
          [
           9780241600795,
           "DK Super Readers Level 1 Monkeys"
          ],
          [
           9780241599921,
           "DK Super Readers Pre-Level Save the Trees"
          ],
          [
           9780241600719,
           "DK Super Readers Level 3 Claws"
          ],
          [
           9780241737804,
           "DK Super Readers Pre-level Meet the Dinosaurs (Arabic translation)"
          ],
          [
           9780241737842,
           "DK Super Readers Level 3 Ant Antics (Arabic translation)"
          ],
          [
           9780241379844,
           "Complete Language Pack French: Learn in just 15 minutes a day (Complete Language Packs)"
          ],
          [
           9780241599181,
           "DK Super Readers Level 1 Big Trucks"
          ],
          [
           9780241592380,
           "DK Super Readers Pre-Level Into the Rainforest"
          ],
          [
           9780241589564,
           "DK Super Readers Pre-Level Meet the Dinosaurs"
          ],
          [
           9780241602010,
           "DK Super Readers Pre-Level Big Buildings"
          ],
          [
           9780241602416,
           "DK Super Readers Level 3 Built to Survive Natural Disasters"
          ],
          [
           9780241598825,
           "DK Super Readers Level 3 Magnets"
          ],
          [
           9780241598528,
           "DK Super Readers Level 1 On the Move"
          ],
          [
           9780241602959,
           "DK Super Readers Level 1 Becoming a Butterfly"
          ],
          [
           9780241600832,
           "DK Super Readers Level 2 Sloths"
          ],
          [
           9780241590713,
           "DK Super Readers Pre-Level Garden Friends"
          ],
          [
           9780241592656,
           "DK Super Readers Level 1 Explore the Coral Reef"
          ],
          [
           9780241601082,
           "DK Super Readers Pre-Level Little Sharks Big Sharks"
          ],
          [
           9781405331685,
           "French Visual Phrase Book & CD: See it • Hear it • Say it (Eyewitness Travel Visual Phrase Book & CD)"
          ],
          [
           9780241598450,
           "DK Super Readers Pre-Level Sun and Moon"
          ],
          [
           9780241737835,
           "DK Super Readers Level 2 Wild Baby Animals (Arabic translation)"
          ],
          [
           9780241603567,
           "DK Super Readers Level 1 States of Matter"
          ],
          [
           9780241718568,
           "You've Got This! Maya Pyramid Mystery: Pick Your Own Adventure"
          ],
          [
           9780241603826,
           "DK Super Readers Level 3 Bioluminescent Animals"
          ],
          [
           9780241603062,
           "DK Super Readers Level 2 Earth Smart"
          ],
          [
           9780241699898,
           "Phonics Teacher Guide Reception: The Foundations of Phonics, Engaging Activity Ideas, Lesson Plans, Progress Tracking and Assessment (Phonic Books Beginner Decodable Readers)"
          ],
          [
           9780241589649,
           "DK Super Readers Level 2 Dinosaur Dinners"
          ],
          [
           9780241358672,
           "English for Everyone Course Book Level 4 Advanced: A Complete Self-Study Programme"
          ],
          [
           9780241592618,
           "DK Super Readers Level 1 Weather"
          ],
          [
           9780241591321,
           "DK Super Readers Level 2 The Great Panda Tale"
          ],
          [
           9780241589724,
           "DK Super Readers Level 4: Dinosaur Detectives"
          ],
          [
           9780241598689,
           "DK Super Readers Level 4 Rocks and Minerals"
          ],
          [
           9780241289358,
           "Mandarin Chinese Phrase Book: Essential Reference for Every Traveller (Eyewitness Travel Guides Phrase Books)"
          ],
          [
           9780241721490,
           "DK Super Readers Level 1 A day in the Life of a Marine Biologist"
          ],
          [
           9780241592564,
           "DK Super Readers Level 1 Ponies and Horses"
          ],
          [
           9780241253724,
           "English for Everyone Business English Practice Book Level 1: A Complete Self-Study Programme (DK English for Everyone)"
          ],
          [
           9780241593110,
           "DK Super Readers Pre-Level Colourful Days"
          ],
          [
           9780241603390,
           "DK Super Readers Level 2 Spaceships and Rockets"
          ],
          [
           9780241600153,
           "DK Super Readers Pre-Level Save the Sea Turtles"
          ],
          [
           9780241600047,
           "DK Super Readers Level 3 Poisonous and Venomous Animals"
          ],
          [
           9780241599396,
           "DK Super Readers Level 1 Desert Plants and Animals"
          ],
          [
           9780751310856,
           "Eyewitness Travel Phrase Book: Czech"
          ],
          [
           9780241600672,
           "DK Super Readers Pre-Level Ocean Animals"
          ],
          [
           9780241603260,
           "DK Super Readers Pre-Level Five Senses"
          ],
          [
           9780241302422,
           "English for Everyone Course Book Level 1 Beginner: French language edition (DK English for Everyone)"
          ],
          [
           9780241603147,
           "DK Super Readers Level 3 Fossils"
          ],
          [
           9780241602164,
           "DK Super Readers Level 3 Deep-Sea Creatures"
          ],
          [
           9780241721629,
           "DK Super Planet Place and Time: Mapping Our World"
          ],
          [
           9780241601259,
           "DK Super Readers Level 4 Shark: Apex Predator"
          ],
          [
           9780241591079,
           "DK Super Readers Level 2 Snakes Slither and Hiss"
          ],
          [
           9780241599303,
           "DK Super Readers Level 3 Homes Around the World"
          ],
          [
           9780241601204,
           "DK Super Readers Level 3 Save the Climate"
          ],
          [
           9780751369953,
           "Hugo German in 3 months"
          ],
          [
           9780751321449,
           "European Phrase Book (DK Eyewitness Phrase Books)"
          ],
          [
           9780241302446,
           "English for Everyone Practice Book Level 1 Beginner: French language edition (DK English for Everyone)"
          ],
          [
           9780241591604,
           "DK Super Readers Level 4 Knights and Castles"
          ],
          [
           9780241718582,
           "DK Super Readers Level 1 A Day in the Life of a Firefighter"
          ],
          [
           9780241601167,
           "DK Super Readers Level 2 Tale of a Tadpole"
          ],
          [
           9780241598566,
           "DK Super Readers Level 2 Cats and Kittens"
          ],
          [
           9780241694947,
           "DK Super Readers Level 2 Dog Dude"
          ],
          [
           9780241589601,
           "DK Super Readers Level 1 Dinosaur's Day"
          ],
          [
           9780241599662,
           "DK Super Readers Pre-Level All About Light"
          ],
          [
           9780241592892,
           "DK Super Readers Level 3 Ant Antics"
          ],
          [
           9780241603642,
           "DK Super Readers Pre-Level Seasons"
          ],
          [
           9780241602577,
           "DK Super Readers Pre-Level Shapes and Patterns in Nature"
          ],
          [
           9780241352601,
           "English for Everyone English Grammar Guide: French language edition (DK English for Everyone)"
          ],
          [
           9780241603109,
           "DK Super Readers Pre-Level Sparkly Gems"
          ],
          [
           9780241602843,
           "DK Super Readers Level 2 Save the Tigers"
          ],
          [
           9780241599884,
           "DK Super Readers Level 4 Greek Myths"
          ],
          [
           9780241603727,
           "DK Super Readers Level 4 Robots and AI"
          ],
          [
           9780241602874,
           "DK Super Readers Pre-Level Pets"
          ],
          [
           9780241694503,
           "Phonic Books Dandelion Launchers Extras Stages 16-20: Simple two-syllable words and suffixes"
          ],
          [
           9780241591642,
           "DK Super Readers Level 4 Beastly Tales"
          ],
          [
           9780241602706,
           "DK Super Readers Level 3 Animal Defences"
          ],
          [
           9780241737859,
           "DK Super Readers Level 4 Shark Apex Predator (Arabic translation)"
          ],
          [
           9780241601129,
           "DK Super Readers Level 1 Diving Dolphin"
          ],
          [
           9780241599419,
           "DK Super Readers Pre-Level What Makes Things Go?"
          ],
          [
           9780241240465,
           "5 Language Visual Dictionary: English, French, German, Spanish, Italian"
          ],
          [
           9780241721322,
           "DK Super Readers Level 1 A day in the Life of a Builder"
          ],
          [
           9780241599655,
           "DK Super Readers Pre-Level Save the Bees"
          ],
          [
           9780241599846,
           "DK Super Readers Level 3 Astronauts in Space"
          ],
          [
           9780241694930,
           "DK Super Readers Level 2 Snarky Shark"
          ],
          [
           9780241591482,
           "DK Super Readers Level 3 Eruption!"
          ],
          [
           9780241599341,
           "DK Super Readers Level 4 Starry Sky"
          ],
          [
           9780241592144,
           "DK Super Readers Pre-Level A Day at the Petting Zoo"
          ],
          [
           9780241600191,
           "DK Super Readers Level 4 The Shocking Story of Electricity"
          ],
          [
           9780241721605,
           "DK Super Planet Look at these Landforms!"
          ],
          [
           9780241602966,
           "DK Super Readers Level 1 Save the Pandas"
          ],
          [
           9780241603604,
           "DK Super Readers Pre-Level Fast Animals"
          ],
          [
           9780241659007,
           "Growing Up: A Guide to Puberty and Adolescence for Teenagers and Parents (DK Help Your Kids With)"
          ],
          [
           9780241353929,
           "Women Our History"
          ],
          [
           9780241226384,
           "First Aid Manual (Irish edition): The Step-by-Step Guide For Everyone"
          ],
          [
           9780241635087,
           "Photography: A Visual Companion (DK Ultimate Guides)"
          ],
          [
           9780241558560,
           "Stars and Planets (DK Handbooks)"
          ],
          [
           9780241656747,
           "Essential World Atlas: The Comprehensive Companion to our Planet (DK Reference Atlases)"
          ],
          [
           9780241412930,
           "The Sports Book: The Sports*The Rules*The Tactics*The Techniques"
          ],
          [
           9780241437520,
           "Digital Photography Month by Month: Capture Inspirational Images in Every Season"
          ],
          [
           9780241487426,
           "Negotiating (Essential Managers)"
          ],
          [
           9780241656945,
           "The Sports Book (DK Sports Guides)"
          ],
          [
           9780241426449,
           "The Little Book of Economics (Big Ideas)"
          ],
          [
           9780241601587,
           "The Classic Car Book: The Definitive Visual History (DK Definitive Transport Guides)"
          ],
          [
           9780241538005,
           "Presenting (DK Essential Managers)"
          ],
          [
           9781405360333,
           "How to Play Guitar Step by Step (Book & DVD -ROM)"
          ],
          [
           9780241289396,
           "How Food Works: The Facts Visually Explained (How Things Work)"
          ],
          [
           9780241225905,
           "Big History: Our Incredible Journey, from Big Bang to Now"
          ],
          [
           9781405317535,
           "Effective Communications (WorkLife)"
          ],
          [
           9780241471197,
           "How Dogs Work: A Head-to-Tail Guide to Your Canine"
          ],
          [
           9780241515891,
           "Simply The Brain (DK Simply)"
          ],
          [
           9780241226032,
           "Jewel: A Celebration of Earth's Treasures"
          ],
          [
           9780241601549,
           "Compact World Atlas: The Must-Have Companion to Our Planet (DK Reference Atlases)"
          ],
          [
           9780241412756,
           "Micro Life: Miracles of the Miniature World Revealed"
          ],
          [
           9780751334333,
           "KISS Guide To Gambling"
          ],
          [
           9781405373678,
           "Kings & Queens of England and Scotland"
          ],
          [
           9780241350379,
           "The Feminism Book: Big Ideas Simply Explained"
          ],
          [
           9780241719114,
           "How to Photograph Absolutely Everything (DK Tom Ang Photography Guides)"
          ],
          [
           9781405330909,
           "Family Guide to Complementary and Conventional Medicine"
          ],
          [
           9780241538012,
           "Selling (DK Essential Managers)"
          ],
          [
           9781405358002,
           "Furniture: World Styles From Classical to Contemporary (DK Definitive Cultural Histories)"
          ],
          [
           9780241537992,
           "Effective Communication (DK Essential Managers)"
          ],
          [
           9780241536421,
           "Lost Masterpieces (DK Secret Histories)"
          ],
          [
           9780241341162,
           "The Little Book of Shakespeare (Big Ideas)"
          ],
          [
           9780241515761,
           "How Politics Works: The Concepts Visually Explained (DK How Stuff Works)"
          ],
          [
           9781405347495,
           "The Complete Human Body"
          ],
          [
           9780241719169,
           "RSPB What's that Bird?: The Simplest ID Guide (DK What's That?)"
          ],
          [
           9781409376521,
           "World War I"
          ],
          [
           9780241428351,
           "How We're F***ing Up Our Planet: And What We Can Do About It"
          ],
          [
           9780241487433,
           "Queen Elizabeth II and the Royal Family: A Glorious Illustrated History"
          ],
          [
           9780241508923,
           "Cultural Treasures of the World: From the Relics of Ancient Empires to Modern-Day Icons (DK Wonders of the World)"
          ],
          [
           9781405329859,
           "Great World Atlas: digital mapping for the 21st century"
          ],
          [
           9780241317723,
           "Student World Atlas"
          ],
          [
           9780241566220,
           "The Secret Language of Flowers (DK Secret Histories)"
          ],
          [
           9780241428320,
           "The Football Book: The Teams *The Rules *The Leagues *The Tactics"
          ],
          [
           9780241341285,
           "The Little Book of Psychology (Big Ideas)"
          ],
          [
           9780241426463,
           "A Short History of World War II"
          ],
          [
           9780241254783,
           "The Story of Food: An Illustrated History of Everything We Eat (DK A History of)"
          ],
          [
           9780751312812,
           "Quentin Willson's Cool Cars"
          ],
          [
           9780241600924,
           "Trees (DK Handbooks)"
          ],
          [
           9780241446713,
           "Simply Astronomy (DK Simply)"
          ],
          [
           9780241454985,
           "What's that Rock or Mineral?"
          ],
          [
           9780241363171,
           "Leaders Who Changed History"
          ],
          [
           9780241632918,
           "Writers Who Changed History: DK History Changers"
          ],
          [
           9780241446584,
           "Shakespeare His Life and Works"
          ],
          [
           9780241569924,
           "The Crystal and Gems: From Mythical Properties to Magical Stories (DK Secret Histories)"
          ],
          [
           9780241466759,
           "Breaking Boundaries: The Science of Our Planet"
          ],
          [
           9780241720158,
           "The Science Book: Big Ideas Simply Explained (DK Big Ideas)"
          ],
          [
           9780241537985,
           "Achieving High Performance (DK Essential Managers)"
          ],
          [
           9780241719107,
           "Core Strength Training: Build a Stronger, More Flexible, More Resilient Body"
          ],
          [
           9781409383468,
           "Help Your Kids with Science: A Unique Step-by-Step Visual Guide, Revision and Reference"
          ],
          [
           9781409347934,
           "Utterly Amazing Science"
          ],
          [
           9780241429822,
           "Herbs (DK Handbooks)"
          ],
          [
           9780241666784,
           "The Brain Book: A Visual Guide to Structure and Function (DK Human Body Guides)"
          ],
          [
           9780241379691,
           "A Short History of Seafaring"
          ],
          [
           9781405349956,
           "Butterflies and Moths: A Photographic Guide to British and European Butterflies and Moths (Pocket Nature)"
          ],
          [
           9780241628850,
           "Remote Working (DK Essential Managers)"
          ],
          [
           9781409316138,
           "Science Year by Year: The Ultimate Visual Guide to the Discoveries That Changed the World"
          ],
          [
           9780241471265,
           "Ultimate Harley Davidson"
          ],
          [
           9780241287279,
           "How Science Works: The Facts Visually Explained (How Things Work)"
          ],
          [
           9780241188743,
           "First Space Encyclopedia: A First Reference Book for Children (DK First Reference)"
          ],
          [
           9781405363099,
           "How to Train a Superpup: Unleash your puppy's potential (DK Practical Pet Guides)"
          ],
          [
           9780241206768,
           "First Children's Encyclopedia: A First Reference Book for Children (DK First Reference)"
          ],
          [
           9780241515846,
           "Great Novels: The World's Most Remarkable Fiction Explored and Explained (DK History Changers)"
          ],
          [
           9780241317648,
           "Compact World Atlas"
          ],
          [
           9780241558546,
           "Dogs (DK Handbooks)"
          ],
          [
           9780241257081,
           "Digital Photography an Introduction"
          ],
          [
           9780241600979,
           "Timelines of Science (DK Timelines)"
          ],
          [
           9780241341179,
           "The Little Book of Philosophy (Big Ideas)"
          ],
          [
           9780241289334,
           "Books That Changed History: From the Art of War to Anne Frank's Diary (DK History Changers)"
          ],
          [
           9780241341209,
           "The Little Book of History (Big Ideas)"
          ],
          [
           9780241569597,
           "Wildlife of Britain and Ireland: Over 1,400 Species in Incredible Photographic Detail"
          ],
          [
           9781405306287,
           "Sixties Style: Judith Miller (Pocket Collectors)"
          ],
          [
           9780241388310,
           "Fashion: The Definitive Visual History (DK Definitive Cultural Histories)"
          ],
          [
           9780751338492,
           "KISS Guide To Raising a Puppy (Keep It Simple Guides)"
          ],
          [
           9780241471159,
           "Great Cities: The Stories Behind the World’s most Fascinating Places"
          ],
          [
           9780241403372,
           "How the Brain Works: The Facts Visually Explained (How Things Work)"
          ],
          [
           9780241722756,
           "Simply Physics: Facts Made Fast (DK Simply)"
          ],
          [
           9780241608067,
           "Treasures of India: From Antiquity to Modernity"
          ],
          [
           9780241432327,
           "Maths Lab: Exciting Projects for Budding Mathematicians"
          ],
          [
           9780241681657,
           "Flight: DK Eyewitness"
          ],
          [
           9780241536377,
           "Behind the Scenes at the Space Station: Experience Life in Space (DK Behind the Scenes)"
          ],
          [
           9780241699249,
           "Brain Booster Human Body: Over 100 Mind-Boggling Activities that Make Learning Easy and Fun"
          ],
          [
           9780241479100,
           "All About Numbers (Big Questions)"
          ],
          [
           9780241620090,
           "Our World in Pictures Dinosaurs and Other Prehistoric Creatures Flash Cards (DK Our World in Pictures)"
          ],
          [
           9780241526583,
           "Code Breakers: Riveting Reads for Curious Kids (Mega Bites)"
          ],
          [
           9780241490372,
           "What's Where on Earth?: Our World As You've Never Seen It Before"
          ],
          [
           9780241485897,
           "Ancient Greece (Eyewitness Workbook)"
          ],
          [
           9780241515259,
           "How to be a Genius: Your Brilliant Brain and How to Train It"
          ],
          [
           9780241446645,
           "It Can't Be True! Human Body!: 1,000 Amazing Facts About You"
          ],
          [
           9780241657904,
           "What's Where on Earth? Dinosaur Atlas: The Prehistoric World as You've Never Seen it Before (DK Where on Earth? Atlases)"
          ],
          [
           9780241740101,
           "Knowledge Encyclopedia Dinosaur (DK Knowledge Encyclopedias)"
          ],
          [
           9780241379783,
           "Stephen Biesty's Incredible Cross-Sections"
          ],
          [
           9781409324843,
           "Pocket Eyewitness Mammals"
          ],
          [
           9780241381472,
           "Incredible History: Lost Worlds Brought Back to Life (DK Back to Life History)"
          ],
          [
           9780241515198,
           "Active Learning Volcanoes and Earthquakes: Over 100 Brain-Boosting Activities that Make Learning Easy and Fun (DK Active Learning)"
          ],
          [
           9780241296912,
           "Children's Illustrated World Atlas (DK Children's Illustrated Reference)"
          ],
          [
           9780241536223,
           "English for Everyone Junior English Alphabet Flash Cards (DK English for Everyone Junior)"
          ],
          [
           9781405318747,
           "Water: H2O, Neutral, Liquid"
          ],
          [
           9780241412855,
           "Politics Is..."
          ],
          [
           9781405301558,
           "Encyclopedia (First Reference)"
          ],
          [
           9781405319126,
           "See How It's Made"
          ],
          [
           9780241679357,
           "Quiz Yourself Clever! Animals of the World (DK Quiz Yourself Clever)"
          ],
          [
           9780241440582,
           "I Can't Believe It!: The Most Amazing Facts About Our Incredible World"
          ],
          [
           9780241363393,
           "Ice: Chilling Stories from a Disappearing World"
          ],
          [
           9780241332849,
           "Science: A Children's Encyclopedia"
          ],
          [
           9780241634738,
           "What's the Point of Art? (DK What's the Point of?)"
          ],
          [
           9780241515174,
           "Brain Booster Maths: Over 100 Mind-Boggling Activities that Make Learning Easy and Fun"
          ],
          [
           9781405368049,
           "Look Inside Volcano"
          ],
          [
           9780241601617,
           "Illustrated Sports Encyclopedia: The Ultimate Guide to Sports from Around the World"
          ],
          [
           9780593964316,
           "Pocket Genius American Sign Language: 200 Essential Words and Phrases (Pocket Eyewitness)"
          ],
          [
           9780241699089,
           "Brain Booster Stars and Planets: Over 100 Mind-Boggling Activities that Make Learning Easy and Fun"
          ],
          [
           9780241656419,
           "The Bible Atlas: A Pictorial Guide to the Holy Lands (DK Pictorial Atlases)"
          ],
          [
           9780241381434,
           "Super Simple Physics: The Ultimate Bitesize Study Guide"
          ],
          [
           9780241601662,
           "Explanatorium of the Earth: The Wonderful Workings of the Earth Explained (DK Explanatorium)"
          ],
          [
           9781405352543,
           "The New Children's Encyclopedia & Illustrated Dictionary"
          ],
          [
           9780241446638,
           "Horses & Ponies: Everything You Need to Know, From Bridles and Breeds to Jodhpurs and Jumping!"
          ],
          [
           9781405315524,
           "e.encyclopedia: 2nd Edition"
          ],
          [
           9781405306645,
           "Dinosaurs (DK Guide)"
          ],
          [
           9781405329514,
           "Egyptorium"
          ],
          [
           9780241412770,
           "The Body Atlas: A Pictorial Guide to the Human Body"
          ],
          [
           9780241515303,
           "Our World in Pictures: An Encyclopedia of Everything (DK Our World in Pictures)"
          ],
          [
           9780241582749,
           "Goal!: Everything You Need to Know About Football! (DK 1,000 Amazing Facts)"
          ],
          [
           9780241667712,
           "1,000 Curious Questions: And 1,000 Amazing Answers"
          ],
          [
           9780241699072,
           "Brain Booster Dinosaurs and Other Prehistoric Creatures: Over 100 Mind-Boggling Activities that Make Learning Easy and Fun"
          ],
          [
           9780241403457,
           "Stephen Biesty's Incredible Body Cross-Sections"
          ],
          [
           9780751347456,
           "Religion (Eyewitness)"
          ],
          [
           9780241680582,
           "Quiz Yourself Clever! Trees of the World (DK Quiz Yourself Clever)"
          ],
          [
           9780241457832,
           "The Renegades Arctic Meltdown: Defenders of the Planet"
          ],
          [
           9780241657003,
           "Home Activity Lab: Exciting Experiments for Budding Scientists (DK Activity Lab)"
          ],
          [
           9780241601679,
           "The Most Exciting Book of Science, Inventions, and Space Ever by the Brainwaves (DK Brainwaves)"
          ],
          [
           9780241515204,
           "Active Learning Stars and Planets: Over 100 Brain-Boosting Activities that Make Learning Easy and Fun (DK Active Learning)"
          ],
          [
           9780241339893,
           "Survival for Beginners: A step-by-step guide to camping and outdoor skills"
          ],
          [
           9780241189412,
           "Children's Book of Mythical Beasts and Magical Monsters"
          ],
          [
           9780241515273,
           "The Children's Pocket Bible (DK Bibles and Bible Guides)"
          ],
          [
           9780241595725,
           "Dinosaur Knowledge Genius!: A Quiz Encyclopedia to Boost Your Brain (DK Knowledge Genius)"
          ],
          [
           9780241657027,
           "Science Activity Lab: Fantastic Projects for Young Scientists (DK Activity Lab)"
          ],
          [
           9780241243572,
           "Mathmagicians: How Maths Applies to Everything (Big Questions)"
          ],
          [
           9780241515280,
           "The Life of Jesus (DK Bibles and Bible Guides)"
          ],
          [
           9780241296967,
           "Record Breakers!: More than 500 Fantastic Feats"
          ],
          [
           9780241364352,
           "WOW!: The visual encyclopedia of everything"
          ],
          [
           9780241228418,
           "Knowledge Encyclopedia Animal!: The Animal Kingdom as you've Never Seen it Before"
          ],
          [
           9780241343470,
           "Super Science: How Science Shapes Our World"
          ],
          [
           9780241657010,
           "Our World in Numbers Dinosaurs and Other Prehistoric Life: An Encyclopedia of Fantastic Facts (DK Our World in Numbers)"
          ],
          [
           9780241185407,
           "Nature Ranger (Eyewitness Activities)"
          ],
          [
           9780241470954,
           "Super Simple Maths: The Ultimate Bitesize Study Guide"
          ],
          [
           9780241526576,
           "Sharks: Riveting Reads for Curious Kids (Mega Bites)"
          ],
          [
           9781405337762,
           "Battle (Eyewitness)"
          ],
          [
           9780751347548,
           "Music (Eyewitness)"
          ],
          [
           9781409348191,
           "RSPB 365 Outdoor Activities You Have to Try"
          ],
          [
           9780241653586,
           "Explanatorium of Science: Where the Wonders of the World are Revealed (DK Explanatorium)"
          ],
          [
           9780241228432,
           "Space Visual Encyclopedia"
          ],
          [
           9780241296936,
           "Heads Up Sociology (DK Heads UP)"
          ],
          [
           9780241682531,
           "Knight: DK Eyewitness"
          ],
          [
           9780241656969,
           "1,000 Amazing World Facts (DK 1,000 Amazing Facts)"
          ],
          [
           9780241317686,
           "Football (DK Eyewitness)"
          ],
          [
           9780241343562,
           "Mammals: Facts at Your Fingertips (Pocket Eyewitness)"
          ],
          [
           9780241617939,
           "Brain Booster Bugs: Over 100 Mind-Boggling Activities that Make Learning Easy and Fun"
          ],
          [
           9780241383926,
           "Animal: DK Eyewitness"
          ],
          [
           9780241566190,
           "The Oceans Atlas: A Pictorial Guide to the World's Waters (DK Pictorial Atlases)"
          ],
          [
           9780241317822,
           "Inventions A Children's Encyclopedia"
          ],
          [
           9781405318594,
           "DK Eyewitness Books: Modern China"
          ],
          [
           9780241359488,
           "Explanatorium of Science"
          ],
          [
           9781405362863,
           "Science Experiments: Loads of Explosively Fun Activities to do!"
          ],
          [
           9780241601624,
           "Timelines of Nature: Discover the Secret Stories of Our Ever-Changing Natural World (DK Children's Timelines)"
          ],
          [
           9780241652770,
           "Fossil: DK Eyewitness"
          ],
          [
           9780241471203,
           "On this Day: A History of the World in 366 Days"
          ],
          [
           9780241471425,
           "How to be Good at Science, Technology and Engineering Workbook 1, Ages 7-11 (Key Stage 2): The Simplest-Ever Visual Workbook"
          ],
          [
           9780241471333,
           "The American Civil War Visual Encyclopedia"
          ],
          [
           9780241381762,
           "Behind the Scenes at the Museum: Your Access-All-Areas Guide to the World's Most Amazing Museums"
          ],
          [
           9780241569948,
           "Great Science Projects: Tried and Tested Experiments for All Budding Scientists (DK Activity Lab)"
          ],
          [
           9780241412862,
           "Super Dinosaur: The Biggest, Fastest, Coolest Prehistoric Creatures"
          ],
          [
           9780241296929,
           "Myths, Legends, and Sacred Stories: A Children's Encyclopedia"
          ],
          [
           9780241725870,
           "Children's Visual Dictionary: 9,000-Word Vocabulary Builder"
          ],
          [
           9780241536360,
           "Born to be Wild: How Baby Animals Survive and Thrive"
          ],
          [
           9780241535356,
           "The Renegades Project Neptune: Defenders of the Planet"
          ],
          [
           9780241446430,
           "Climate Emergency Atlas: What's Happening - What We Can Do"
          ],
          [
           9780241490358,
           "Climate Change (DK Eyewitness)"
          ],
          [
           9780241532164,
           "Tornadoes: Riveting Reads for Curious Kids (Mega Bites)"
          ],
          [
           9780241515266,
           "History: A Children's Encyclopedia (DK Children's Visual Encyclopedia)"
          ],
          [
           9780241716861,
           "Eyewitness Encyclopedia Poster Book: More Than 30 Reversible Tear-Out Posters (DK Eyewitness)"
          ],
          [
           9780241515310,
           "The New Children's Encyclopedia: Packed with Thousands of Facts, Stats, and Illustrations (DK Children's Visual Encyclopedia)"
          ],
          [
           9780241595770,
           "Life Underground: Tunnel into a World of Wildlife (DK Panorama)"
          ],
          [
           9780241432303,
           "The Science of Goo!: From Saliva and Slime to Frogspawn and Fungus"
          ],
          [
           9780241509173,
           "The Great Wall Through Time: A 2,700-Year Journey Along the World's Greatest Wall"
          ],
          [
           9780241658956,
           "Make Your Own T. Rex: Easy to Build - No Glue, No Mess! (DK Make Your Own)"
          ],
          [
           9780241656952,
           "1,000 Amazing Record Breakers (DK 1,000 Amazing Facts)"
          ],
          [
           9780241688083,
           "Explanatorium of Nature: Where the Wonders of the World are Revealed (DK Explanatorium)"
          ],
          [
           9780241713020,
           "Human Body A Children's Encyclopedia"
          ],
          [
           9780241656730,
           "Ancient Worlds: Travel Back in Time and Discover the First Great Civilizations (DK Panorama)"
          ],
          [
           9780241617670,
           "Periodic Table: DK Eyewitness"
          ],
          [
           9780241287323,
           "Dinosaurs A Children's Encyclopedia"
          ],
          [
           9780241536308,
           "Earth Knowledge Genius!: A Quiz Encyclopedia to Boost Your Brain (DK Knowledge Genius)"
          ],
          [
           9781409380504,
           "Astronomy (Eyewitness)"
          ],
          [
           9781405313490,
           "Spanish Language Learner Plus CD, Activity Book, Picture Wordbook and Parent's Guide"
          ],
          [
           9780241622636,
           "Space Activity Lab: Exciting Space Projects for Budding Astronomers (DK Activity Lab)"
          ],
          [
           9780241536261,
           "Dinosaur Activity Lab: Exciting Projects for Budding Palaeontologists (DK Activity Lab)"
          ],
          [
           9780241617182,
           "Football: DK Eyewitness"
          ],
          [
           9780241446539,
           "Animal Knowledge Genius!: A Quiz Encyclopedia to Boost Your Brain"
          ],
          [
           9781405306638,
           "Mammals (DK Guide)"
          ],
          [
           9780241364420,
           "People and Places A Children's Encyclopedia"
          ],
          [
           9780241490662,
           "The Renegades Flames of Amazonia: Defenders of the Planet"
          ],
          [
           9780241680391,
           "Quiz Yourself Clever! Rocks and Minerals (DK Quiz Yourself Clever)"
          ],
          [
           9780241688090,
           "Timelines of Extraordinary Lives (DK Children's Timelines)"
          ],
          [
           9780241187579,
           "Shakespeare (DK Eyewitness)"
          ],
          [
           9780241286845,
           "Explanatorium of Nature"
          ],
          [
           9781409379249,
           "What's Where in the World"
          ],
          [
           9780241426388,
           "How Super Cool Tech Works"
          ],
          [
           9780241652817,
           "Bird: DK Eyewitness"
          ],
          [
           9780241381045,
           "Mammoth Science: The Big Ideas That Explain Our World"
          ],
          [
           9780241390467,
           "Super Simple Biology: The Ultimate Bitesize Study Guide"
          ],
          [
           9780241471326,
           "How to be a Global Citizen: Be Informed. Get Involved."
          ],
          [
           9780241355466,
           "RHS How Does a Butterfly Grow? (Life Cycle Board Books)"
          ],
          [
           9780241670033,
           "The Pop-up, Pull-out Space Book"
          ],
          [
           9780241598139,
           "Adventures with The Secret Explorers: Collection Two: 4-Book Box Set of Educational Chapter Books"
          ],
          [
           9780241585085,
           "Pets and Their People: The Ultimate Guide to Caring For Animals - Whether You Have One or Not!"
          ],
          [
           9780241461372,
           "Animals Lost and Found: Stories of Extinction, Conservation and Survival"
          ],
          [
           9780241588413,
           "My Animal Family: Meet The Different Families of the Animal Kingdom"
          ],
          [
           9780241683248,
           "Hello Baby: With a Mirror Surprise! (My World)"
          ],
          [
           9780241426265,
           "I Love You, Daddy"
          ],
          [
           9780241427644,
           "Castles: Conquer the world's most impressive castles"
          ],
          [
           9780241439388,
           "I Love My Dinosaur"
          ],
          [
           9780241585207,
           "My First Baby Animals: Let's Find Our Favourites! (My First Board Books)"
          ],
          [
           9780241183861,
           "10 Minutes A Day Problem Solving, Ages 7-9 (Key Stage 2): Supports the National Curriculum, Helps Develop Strong Maths Skills (DK 10 Minutes a Day)"
          ],
          [
           9780241275818,
           "100 First Words"
          ],
          [
           9780241458969,
           "1000 Words: STEM (Vocabulary Builders)"
          ],
          [
           9780241461402,
           "Up in the Air: Butterflies, birds, and everything up above (Underground and All Around)"
          ],
          [
           9780241444146,
           "The Magic of Sleep: . . . and the Science of Dreams"
          ],
          [
           9780241645970,
           "Little Chunkies: Baby Animals: With Adorable Animals to Touch and Discover!"
          ],
          [
           9780241645963,
           "Little Chunkies: Animals in a Winter Wonderland"
          ],
          [
           9780241491775,
           "Once Upon A Time... there was a Thirsty Frog: A Tale About Sharing"
          ],
          [
           9780241510629,
           "We Are Friends: In The Sky"
          ],
          [
           9780241683149,
           "Happy Baby: With a Mirror Surprise! (My World)"
          ],
          [
           9780241533352,
           "The Secret Explorers and the Moon Mission"
          ],
          [
           9780241625897,
           "Adventures with Finn and Skip: Bee"
          ],
          [
           9780241442265,
           "The Secret Explorers and the Tomb Robbers"
          ],
          [
           9780241563137,
           "Guinea Pigs Go Bug Hunting: Learn Your ABCs (The Guinea Pigs)"
          ],
          [
           9780241413845,
           "DK Life Stories Jesse Owens: Amazing people who have shaped our world"
          ],
          [
           9781409346678,
           "Baby Touch and Feel Roar! Roar!"
          ],
          [
           9780241538579,
           "Spin and Spot: Things That Go: What Can You Spin And Spot Today?"
          ],
          [
           9781405318433,
           "Baby Talking"
          ],
          [
           9780241586426,
           "The Very Hungry Caterpillar's Very First Encyclopedia: An Introduction to Everything, for VERY Hungry Young Minds (The Very Hungry Caterpillar Encyclopedias)"
          ],
          [
           9780241386224,
           "DK Life Stories Ada Lovelace"
          ],
          [
           9780241503485,
           "Verity Fairy: Cinderella"
          ],
          [
           9780241503461,
           "Verity Fairy: Sleeping Beauty"
          ],
          [
           9780241491584,
           "Baby Touch and Feel Llama"
          ],
          [
           9780751329124,
           "DK Readers Level 3: Story of Anne Frank"
          ],
          [
           9780241534496,
           "Rory the Garden Bird (Roly and Friends)"
          ],
          [
           9780241581841,
           "The Maths Adventurers A Day at the Zoo: Learn About Time"
          ],
          [
           9781405329118,
           "Baby Touch and Feel Trucks"
          ],
          [
           9780241305843,
           "Pirate Attack!: Come Aboard a Pirate Ship! (DK Readers Level 2)"
          ],
          [
           9780241548394,
           "Lift the Flap and Learn: French 1,2,3"
          ],
          [
           9780241459539,
           "The No-Cook Cookbook"
          ],
          [
           9780241695807,
           "Satellites: Learn All About Satellites and Their Special Missions to Connect, Inform, and Protect All of US on Planet Earth (Adventures in Tech)"
          ],
          [
           9780241481530,
           "Once Upon A Time...there was a Little Bird"
          ],
          [
           9780241533574,
           "Little Chunkies: Animals in the Ocean: With Adorable Animals to Touch and Discover!"
          ],
          [
           9780241502372,
           "I Feel Kind: Why do I feel kind today? (First Emotions)"
          ],
          [
           9780241460405,
           "Humongous Fungus (Underground and All Around)"
          ],
          [
           9780241375570,
           "My Very Important World: For Little Learners who want to Know about the World (My Very Important Encyclopedias)"
          ],
          [
           9780241704905,
           "Dinosaur Club Collection Two: Contains 4 Action-Packed Adventures"
          ],
          [
           9780241439470,
           "Adventures with Finn and Skip: Fish: A tale about ridding the ocean of plastic pollution"
          ],
          [
           9780241516300,
           "A Dinosaur's Day: Triceratops Follows Its Herd"
          ],
          [
           9780241225196,
           "DKfindout! Science"
          ],
          [
           9780241442296,
           "The Secret Explorers and the Missing Scientist"
          ],
          [
           9781409347408,
           "Sophie la girafe First Words"
          ],
          [
           9780241593882,
           "Queen Elizabeth: A Platinum Jubilee Celebration (History's Great Leaders)"
          ],
          [
           9780241458891,
           "Cheep! Cheep! Chick (Super Noisy Books)"
          ],
          [
           9780241525944,
           "I Love My Kitten: A Pop-Up Book About the Lives of Cute Kittens"
          ],
          [
           9780241467473,
           "See How They Grow Farm"
          ],
          [
           9780241611869,
           "Every One Is Special: Dogs"
          ],
          [
           9780241316696,
           "Video Ideas: Full of Awesome Ideas to try out your Video-making Skills"
          ],
          [
           9780241529065,
           "The Moon: Discover the Mysteries of Earth's Closest Neighbour (Space Explorers)"
          ],
          [
           9780241469767,
           "Look Out, Leonard! (Look! It's Leonard!)"
          ],
          [
           9780241611890,
           "Every One is Special: Dads"
          ],
          [
           9780241610763,
           "The Secret Explorers and the Cave Crisis"
          ],
          [
           9780241312209,
           "Weather and the Seasons (Projects to Make and Do)"
          ],
          [
           9780241618226,
           "The DNA Book (Ukrainian Edition): Discover what makes you you (The Science Book Series)"
          ],
          [
           9780241504550,
           "Nature Spotter"
          ],
          [
           9780241313046,
           "Peek and Seek"
          ],
          [
           9780241675557,
           "The Superhero’s First Aid Manual: Step-By-Step Skills For Young People"
          ],
          [
           9780241439418,
           "Baby's First Hanukkah (Baby's First Holidays)"
          ],
          [
           9780241360323,
           "100 First Things That Go"
          ],
          [
           9780751332308,
           "ELT Graded Readers: Knights & Castles (Audio Tape) (ELT Readers)"
          ],
          [
           9780241397299,
           "First Words with a Ladybird (Learn with a Ladybird)"
          ],
          [
           9780241546024,
           "Slide and Seek Shapes"
          ],
          [
           9780241629581,
           "Owl and Otter: Earn and Learn: Join the Animals Selling, Earning, and Learning Maths (Phonic Books Catch-up Decodable Readers)"
          ],
          [
           9780241662311,
           "I Flew Around the World: The True Story of a Young Female Pilot's Record-Breaking Flight"
          ],
          [
           9780241655382,
           "Jonny Lambert's Bear and Bird: Lend a Helping Hand (The Bear and the Bird)"
          ],
          [
           9781409373704,
           "Touch and Feel Wild Animals"
          ],
          [
           9780241461419,
           "Why Is Blood Red? (Why? Series)"
          ],
          [
           9780241413876,
           "Robert Winston Science Squad Explains: Key science concepts made simple and fun"
          ],
          [
           9780241538746,
           "The Secret Explorers and the Haunted Castle"
          ],
          [
           9781405362870,
           "Pop-Up Peekaboo! Playtime"
          ],
          [
           9780241536889,
           "DKfindout! KS2 Science Pack"
          ],
          [
           9780241225141,
           "Coding with Scratch Made Easy, Ages 5-9 (Key Stage 1): Beginner Level Scratch Computer Coding Exercises (Made Easy Workbooks)"
          ],
          [
           9780241533512,
           "Pop-Up Peekaboo! Butterfly"
          ],
          [
           9780241471944,
           "Birds and Beasts"
          ],
          [
           9780241316610,
           "First Spanish Dictionary: A First Reference Book for Children (DK First Reference)"
          ],
          [
           9780241347553,
           "Flip, Flap, Find! Counting 1, 2, 3: Lift the Flaps and Count to 10"
          ],
          [
           9780241440643,
           "The Secret Explorers and the Lost Whales"
          ],
          [
           9780241636695,
           "A Dinosaur's Day: Stegosaurus Makes Its Way Home"
          ],
          [
           9780241440261,
           "Eco Baby Where Are You Polar Bear?: A Plastic-free Touch and Feel Book"
          ],
          [
           9780241552070,
           "Black History Month UK Primary School Pack"
          ],
          [
           9780241602461,
           "Femi and The Mindfulness Machine (Woke Babies Books)"
          ],
          [
           9781405308458,
           "Kitten (Watch Me Grow)"
          ],
          [
           9780241603895,
           "The Simple Science Activity Book: 20 Things to Make and Do at Home to Learn About Science"
          ],
          [
           9780241187791,
           "Noisy Animal Peekaboo! (Noisy Peekaboo!)"
          ],
          [
           9780241569412,
           "Jonny Lambert’s Bear and Bird: Try, Try Again (The Bear and the Bird)"
          ],
          [
           9780241446225,
           "World In Danger: Tomorrow could be a very different day"
          ],
          [
           9780241533345,
           "Flip Flap Find! Farm: Lift the flaps! Who's Hiding on the Farm?"
          ],
          [
           9781405394277,
           "Kitten (DK Touch and Feel)"
          ],
          [
           9780241686690,
           "Why? Weather: Brilliant Answers to Baffling Questions (Why? Series)"
          ],
          [
           9780241228265,
           "Eyewonder Weather"
          ],
          [
           9780241686645,
           "Children's Illustrated Atlas Collection (Children's Illustrated Atlases)"
          ],
          [
           9780241569894,
           "DK Life Stories Barack Obama: Amazing People Who Have Shaped Our World"
          ],
          [
           9780241710500,
           "The Mystery of the Golden Feather: A Mindful Journey Through Birdsong"
          ],
          [
           9780241538494,
           "A Dinosaur's Day: Diplodocus Finds Its Family"
          ],
          [
           9780241598290,
           "Spin and Spot: At the Park: What Can You Spin and Spot Today?"
          ],
          [
           9780241518359,
           "Hidden Animals"
          ],
          [
           9780241287798,
           "Baby Touch and Feel Halloween"
          ],
          [
           9780241474136,
           "My Terrific Dinosaur Book"
          ],
          [
           9780241686171,
           "Jonny Lambert's Bear and Bird Winter Wonderland Adventure: A Snowy Search and Find Story (The Bear and the Bird)"
          ],
          [
           9780241625927,
           "The Station Cat: A Story of Kindness and Hope"
          ],
          [
           9780241538456,
           "How Not to Get Eaten: More than 75 Incredible Animal Defenses (Wonders of Wildlife)"
          ],
          [
           9781405315609,
           "Encyclopedia of Animals"
          ],
          [
           9780241586235,
           "The Grumpy Reindeer: A Winter Story About Friendship and Kindness (First Seasonal Stories)"
          ],
          [
           9780241533338,
           "In You I See: A Story that Celebrates the Beauty Within"
          ],
          [
           9780241538678,
           "The Timekeepers: The Ancient Olympics"
          ],
          [
           9780241643150,
           "Prehistoric Worlds: Stomp Into the Epic Lands Ruled by Dinosaurs (The Magic and Mystery of the Natural World)"
          ],
          [
           9780241276419,
           "I Can Count (Skills for Starting School)"
          ],
          [
           9780241525807,
           "Adventures with Finn and Skip: Bird"
          ],
          [
           9780241620311,
           "Animal Talk: All the Incredible Ways that Animals Communicate (Wonders of Wildlife)"
          ],
          [
           9780241230978,
           "Food Like Mine: Includes Amazing Recipes from Around the World (DK Children Just Like Me)"
          ],
          [
           9780241538425,
           "My Perfect Cabin"
          ],
          [
           9780241319932,
           "Travel Activity Pack: Fun-filled Backpack Bursting with Games and Activities (Dk)"
          ],
          [
           9780241679579,
           "A First Book of Myths: Uncover Tales of Gods and Monsters"
          ],
          [
           9780241411568,
           "DK Life Stories Leonardo da Vinci"
          ],
          [
           9781405300759,
           "Mini Robot Kit: Gobblebot"
          ],
          [
           9780241483848,
           "I Love My Monster"
          ],
          [
           9780241420263,
           "Animal Antics"
          ],
          [
           9780241284735,
           "DKfindout! Bugs"
          ],
          [
           9780241643051,
           "Find My Favourite Things Dinosaurs: Search and Find! Follow the Characters on Their Dinosaur Adventure! (DK Find My Favorite)"
          ],
          [
           9780241533567,
           "Rocks and Minerals Flash Cards (My First Board Books)"
          ],
          [
           9780241471623,
           "M is for Monkey (The Animal Alphabet Library)"
          ],
          [
           9780241636428,
           "Queen Elizabeth II and her Family: The Incredible Life of the Princess Who Became a Beloved Queen"
          ],
          [
           9781405341103,
           "Pocahontas (DK Reader Level 2)"
          ],
          [
           9780241459072,
           "On the Farm with a Ladybird: With fun trails to follow and first words (Learn with a Ladybird)"
          ],
          [
           9780241413814,
           "Wild Scientists: How animals and plants use science to survive"
          ],
          [
           9780241322932,
           "DK Life Stories Helen Keller"
          ],
          [
           9780241491805,
           "Jonny Lambert's Bear and Bird: Make Friends: Even Bears Get Nervous Before Starting School (The Bear and the Bird)"
          ],
          [
           9780241579510,
           "Radzi's Move Like a Cub: Full of Fun Baby Animal Moves"
          ],
          [
           9780241503478,
           "Verity Fairy: Rapunzel"
          ],
          [
           9780241704837,
           "Touch and Feel Baby Animals: With Tactiles for Toddlers to Explore"
          ],
          [
           9781405361842,
           "My First Words Animals"
          ],
          [
           9780241581834,
           "The Maths Adventurers Build a Friendship: Discover Shapes"
          ],
          [
           9780241310496,
           "A Treasury of Fairy Tales and Myths"
          ],
          [
           9780241341278,
           "Yoga For Kids: Simple First Steps in Yoga and Mindfulness (Mindfulness for Kids)"
          ],
          [
           9780241358344,
           "Flowers: Explore Nature with Fun Facts and Activities (Nature Explorers)"
          ],
          [
           9780241274392,
           "Shapes and Sizes (Skills for Starting School)"
          ],
          [
           9781405319904,
           "Butterflies Ultimate Sticker Book"
          ],
          [
           9780241519615,
           "Get To Know: Philosophy: A Fun, Visual Guide to the Key Questions and Big Ideas"
          ],
          [
           9780241546031,
           "Slide and Seek Colours"
          ],
          [
           9780241409589,
           "Mars: Explore the mysteries of the Red Planet"
          ],
          [
           9780241533468,
           "We Are Friends: Under the Sea: Friends Can Be Found Everywhere We Look"
          ],
          [
           9781405375573,
           "Farm Animals (DK Readers Pre-Level 1)"
          ],
          [
           9780241674581,
           "The Fact-Packed Activity Book: Sharks and Other Sea Creatures"
          ],
          [
           9780241563168,
           "Guinea Pigs Go to the Beach: Learn Your 123s (The Guinea Pigs)"
          ],
          [
           9780241301852,
           "Science Squad"
          ],
          [
           9780241458914,
           "I Love My Puppy"
          ],
          [
           9780241607329,
           "The Timekeepers: Exploring Ancient Egypt"
          ],
          [
           9780241334386,
           "Butterflies and Moths: Explore Nature with Fun Facts and Activities (Nature Explorers)"
          ],
          [
           9780241491843,
           "The Fact-Packed Activity Book: Space: With More Than 50 Activities, Puzzles, and More!"
          ],
          [
           9780241648346,
           "My Very Important Dinosaur Advent Calendar"
          ],
          [
           9780241584873,
           "1000 Animal Words: Build Animal Vocabulary and Literacy Skills (Vocabulary Builders)"
          ],
          [
           9781405370486,
           "Touch and Feel Farm"
          ],
          [
           9780241546017,
           "Slide and Seek Numbers"
          ],
          [
           9780241316597,
           "Unlock Your Imagination: 250 Boredom Busters – Fun Ideas for Games, Crafts, and Challenges"
          ],
          [
           9780241301821,
           "Play With Art: It's time to get creative!"
          ],
          [
           9780241595145,
           "The Spooky Halloween Activity Book: 40 Things to Make and Do for a Hair-Raising Halloween!"
          ],
          [
           9780241533482,
           "The Magic of Seasons: A Fascinating Guide to Seasons Around the World"
          ],
          [
           9780241467312,
           "The Secrets of Astrology"
          ],
          [
           9781405394642,
           "Baby Tractor! (Chunky Baby)"
          ],
          [
           9780241643334,
           "Kindness Club Fox Says Thank You (The Kindness Club)"
          ],
          [
           9780241484296,
           "Eco Baby Where Are You Elephant?: A Plastic-free Touch and Feel Book"
          ],
          [
           9781409328001,
           "Baby Loves Peekaboo!"
          ],
          [
           9780241261927,
           "Squeaky Baby Bath Book At The Beach"
          ],
          [
           9780241635278,
           "Dinosaur Club Collection One: Contains 4 Action-Packed Adventures"
          ],
          [
           9780241533383,
           "1000 Words: Nature: Build Nature Vocabulary and Literacy Skills (Vocabulary Builders)"
          ],
          [
           9780241607336,
           "The Timekeepers: Samurai Saga"
          ],
          [
           9780241604854,
           "The Pond in the Park: Where Frogs and Friendships Grow (Woke Babies Books)"
          ],
          [
           9780241276372,
           "The Incredible Fold-Out Book of Animals"
          ],
          [
           9780241609866,
           "Baby Dinosaur Under the Sea: Follow Baby Stegosaurus on Her First Swimming Adventure!"
          ],
          [
           9780241341605,
           "Around The World in 80 Ways: The Fabulous Inventions that get us From Here to There"
          ],
          [
           9780241546000,
           "Slide and Seek First Words"
          ],
          [
           9780241261910,
           "Squeaky Baby Bath Book Things That Go"
          ],
          [
           9780241669891,
           "Bedtime Books: A Lovable Introduction to Animals and Dinosaurs (The Bedtime Books)"
          ],
          [
           9780241301814,
           "RHS I Can Grow A Sunflower (Life Cycle Board Books)"
          ],
          [
           9781405331982,
           "Baby Touch and Feel Playtime"
          ],
          [
           9780241563120,
           "Guinea Pigs Go Painting: Learn About Colours (The Guinea Pigs)"
          ],
          [
           9780241674970,
           "Odd Animals Out: More than 75 Animals that Break the Rules (Wonders of Wildlife)"
          ],
          [
           9780241643327,
           "Kindness Club Squirrel Learns to Forgive: Join the Kindness Club as They Find the Courage to Be Kind"
          ],
          [
           9780241316191,
           "Let's Make Great Projects: Experiments to Try, Crafts to Create, and Lots to Learn!"
          ],
          [
           9780241405642,
           "How to be a Maths Whizz (Careers for Kids)"
          ],
          [
           9780241635391,
           "Stitch-by-Stitch: A Beginner's Guide to Needlecraft"
          ],
          [
           9780241654231,
           "Adventures with Finn and Skip: Arctic"
          ],
          [
           9780241674574,
           "The Fact-Packed Activity Book: Insects: And Other Tiny Creatures"
          ],
          [
           9780241355442,
           "Through the Animal Kingdom: Discover Amazing Animals and Their Remarkable Homes (Journey Through)"
          ],
          [
           9780241355459,
           "Through the Night Sky: A collection of amazing adventures under the stars (Journey Through)"
          ],
          [
           9780241459515,
           "My Book of Dinosaurs and Prehistoric Life: Animals and plants to amaze, surprise, and astonish!"
          ],
          [
           9780241550892,
           "The Very Hungry Caterpillar's Very First Ocean Encyclopedia: An Introduction to the Ocean, for Very Hungry Young Minds (The Very Hungry Caterpillar Encyclopedias)"
          ],
          [
           9780241636701,
           "A Dinosaur's Day: Spinosaurus Makes a Splash"
          ],
          [
           9781405323826,
           "Rocks & Minerals (Eye Wonder)"
          ],
          [
           9780241502365,
           "I Feel Lonely (First Emotions)"
          ],
          [
           9780241630679,
           "Baby's First Passover (Baby's First Board Books)"
          ],
          [
           9780241559154,
           "The Timekeepers: Eiffel Tower Emergency"
          ],
          [
           9780241225288,
           "Sophie's Big Beep Beep Book! (Sophie la Girafe)"
          ],
          [
           9780241678541,
           "The Very Hungry Caterpillar's Very First Animal Encyclopedia: An Introduction to Animals, For VERY Hungry Young Minds (The Very Hungry Caterpillar Encyclopedias)"
          ],
          [
           9780241255308,
           "Utterly Amazing Dinosaur: Packed with Pop-ups, Flaps, and Prehistoric Facts!"
          ],
          [
           9780241491782,
           "Once Upon A Time... there was an Old Woman: A Tale About Hope"
          ],
          [
           9780241413838,
           "DK Life Stories Queen Elizabeth II: Amazing people who have shaped our world"
          ],
          [
           9780241642917,
           "My Book of the Elements: A Fact-Filled Guide to the Periodic Table"
          ],
          [
           9781409376002,
           "Baby Touch and Feel Beep! Beep!"
          ],
          [
           9780241655023,
           "Baby's First Day of the Dead (Baby's First Board Books)"
          ],
          [
           9780241439524,
           "Jonny Lambert's Ten Little Reindeer (Jonny Lambert Illustrated)"
          ],
          [
           9781405341226,
           "Baby Touch and Feel Wild Animals"
          ],
          [
           9780241526552,
           "The Body Book (The Science Book)"
          ],
          [
           9780241618233,
           "The Brain Book (Ukrainian Edition) (The Science Book Series)"
          ],
          [
           9780241411551,
           "DK Life Stories Amelia Earhart"
          ],
          [
           9780241638408,
           "Jonny Lambert’s Bear and Bird Explore the Seashore: A Beach Search and Find Adventure (The Bear and the Bird)"
          ],
          [
           9780241453292,
           "Times Tables Made Easy (Made Easy Workbooks)"
          ],
          [
           9780241533420,
           "See How They Grow Forest"
          ],
          [
           9780241550908,
           "The Very Hungry Caterpillar's Very First Earth Encyclopedia: An Introduction to Earth, for VERY Hungry Young Minds (The Very Hungry Caterpillar Encyclopedias)"
          ],
          [
           9780241491799,
           "Spin and Spot: Weather: What Can You Spin And Spot Today?"
          ],
          [
           9780241491638,
           "Spin and Spot: Moon and Stars"
          ],
          [
           9780241534489,
           "Roly the Hedgehog (Roly and Friends)"
          ],
          [
           9780241643303,
           "Kindness Club Mouse Tells the Truth: Join the Kindness Club as They Learn To Be Kind"
          ],
          [
           9780241250266,
           "DKfindout! Dinosaurs"
          ],
          [
           9780241458921,
           "Flip Flap Find! Into The Woods"
          ],
          [
           9780241705124,
           "Xtraordinary People"
          ],
          [
           9780241536117,
           "Agnes and the Hen (Agnes and Friends)"
          ],
          [
           9780241491614,
           "Eco Baby Where Are You Penguin?: A Plastic-free Touch and Feel Book"
          ],
          [
           9780241225295,
           "Roar! Roar! Baby Dinosaur: The Best Noisy Dinosaur Book Ever!"
          ],
          [
           9780241274477,
           "Pick Me Up! Dinosaur"
          ],
          [
           9780241537527,
           "Little Chunkies: Animals in the Forest: With Adorable Animals to Touch and Discover"
          ],
          [
           9780241583944,
           "Kindness Club Squirrel Learns to Forgive: Join the Kindness Club as They Find the Courage to Be Kind"
          ],
          [
           9781856131032,
           "Mummy and Me Cookbook"
          ],
          [
           9780241721285,
           "The Extraordinary History of Witches"
          ],
          [
           9780241228272,
           "First Children's Dictionary: A First Reference Book for Children (DK First Reference)"
          ],
          [
           9780241651919,
           "I Love You, Leonard! (Look! It's Leonard!)"
          ],
          [
           9780241604861,
           "Smart Senses: Seeing Big, Seeing Small (Woke Babies Books)"
          ],
          [
           9780241327395,
           "Animals Up Close: Animals as you've Never Seen them Before (DK Look Closer)"
          ],
          [
           9780241409619,
           "I Love My Home: A pop-up book about animal families and their homes"
          ],
          [
           9780241569016,
           "Everybody Feels Fear"
          ],
          [
           9780241563144,
           "Guinea Pigs Go Baking: Learn About Shapes (The Guinea Pigs)"
          ],
          [
           9780751339369,
           "Ultimate Farm Sticker Book (Ultimate Stickers)"
          ],
          [
           9780241283738,
           "Ancient Rome Ultimate Sticker Book"
          ],
          [
           9780241538340,
           "DK Life Stories Harriet Tubman"
          ],
          [
           9781405315012,
           "Animal Hide and Seek (DK Readers Level 1)"
          ],
          [
           9780241395820,
           "Baby Robot Explains... Rocket Science: Big ideas for little learners"
          ],
          [
           9780241614884,
           "Everything You Need to Know About Dinosaurs: And Other Prehistoric Creatures"
          ],
          [
           9780241689394,
           "Owl and Otter: The Big Talent Show: The Best Things In Life Are Free!"
          ],
          [
           9780241319895,
           "Noah's Ark"
          ],
          [
           9780241488089,
           "The Night The Moon Went Missing"
          ],
          [
           9780241435922,
           "A is for Ant (The Animal Alphabet Library)"
          ],
          [
           9780241471692,
           "T is for Toad (The Animal Alphabet Library)"
          ],
          [
           9780241704813,
           "My Book of Bugs: A Fact-Filled Guide to the Insect World"
          ],
          [
           9781409354741,
           "Shark Reef (DK Reads Starting To Read Alone)"
          ],
          [
           9780241510612,
           "Guinea Pigs Go Stargazing (The Guinea Pigs)"
          ],
          [
           9780241453100,
           "Guinea Pigs Go Gardening (The Guinea Pigs)"
          ],
          [
           9780241534519,
           "Rosy the Bumblebee (Roly and Friends)"
          ],
          [
           9780241447079,
           "Be Plastic Clever (Be Environmentally Clever)"
          ],
          [
           9781409344711,
           "English Made Easy: Rhyming, Ages 3-5 (Preschool): Supports the National Curriculum, English Exercise Book (Made Easy Workbooks)"
          ],
          [
           9780241655399,
           "Jonny Lambert's Bear and Bird: Make Friends (The Bear and the Bird)"
          ],
          [
           9780241358269,
           "Science is Magic: Amaze your Friends with Spectacular Science Experiments"
          ],
          [
           9781409357186,
           "Animal Counting (Lift the Flap)"
          ],
          [
           9780241550878,
           "The Very Hungry Caterpillar's Very First Animal Encyclopedia: An Introduction to Animals, For VERY Hungry Young Minds (The Very Hungry Caterpillar Encyclopedias)"
          ],
          [
           9780241250259,
           "DKfindout! Animals"
          ],
          [
           9780241228357,
           "DK Braille Shapes"
          ],
          [
           9780241661819,
           "The Children's Book of Wildlife Watching: Tips for Spotting Nature Outdoors"
          ],
          [
           9780241644676,
           "DK Life Stories Queen Elizabeth II"
          ],
          [
           9780241188798,
           "First How Things Work Encyclopedia: A First Reference Book for Children (DK First Reference)"
          ],
          [
           9780241295823,
           "DKfindout! Bugs Poster"
          ],
          [
           9780241700150,
           "Ocean: Dive in and Discover the World Beneath the Waves (Earth's Incredible Habitats)"
          ],
          [
           9780241409596,
           "The Mayflower: The perilous voyage that changed the world"
          ],
          [
           9780241633472,
           "A Dinosaur’s Day: T. rex Meets His Match"
          ],
          [
           9780241618219,
           "The Body Book (Ukrainian Edition) (The Science Book Series)"
          ],
          [
           9781409376019,
           "Baby Touch and Feel Fluffy Animals"
          ],
          [
           9780241503515,
           "Gross and Ghastly: Human Body: The Big Book of Disgusting Human Body Facts (Gross and Ghastly, 2)"
          ],
          [
           9781409344889,
           "Maths Made Easy: Shapes & Patterns, Ages 3-5 (Preschool): Supports the National Curriculum, Maths Exercise Book (Made Easy Workbooks)"
          ],
          [
           9780241536100,
           "Agnes and the Sheep: A heart-warming tale of appreciation and gratitude (Agnes and Friends)"
          ],
          [
           9780241336618,
           "The Slime Book: All You Need to Know to Make the Perfect Slime"
          ],
          [
           9780241429839,
           "Mischief & Magic: Enchanting Tales of India"
          ],
          [
           9780241538418,
           "The Fact-Packed Activity Book: Dinosaurs"
          ],
          [
           9780241538562,
           "A Dinosaur's Day: Deinonychus Goes Hunting"
          ],
          [
           9780241709320,
           "About Time: A Children's Guide to the History and Science of Time"
          ],
          [
           9780241563151,
           "Guinea Pigs Go Dancing: Learn About Opposites (The Guinea Pigs)"
          ],
          [
           9781405356862,
           "Tractor (WHEELIE BOOKS)"
          ],
          [
           9780241675656,
           "My Encyclopedia of Very Important Science: For Little Learners Who Want to Know How Everything Works (My Very Important Encyclopedias)"
          ],
          [
           9780241655375,
           "Jonny Lambert's Bear and Bird: Learn to Share (The Bear and the Bird)"
          ],
          [
           9780241299807,
           "100 First Animals"
          ],
          [
           9780241295786,
           "DKfindout! Animals Poster"
          ],
          [
           9780241484371,
           "The Not So Scary Story"
          ],
          [
           9780241581872,
           "The Maths Adventurers Go Bowling: A Story About Fractions"
          ],
          [
           9780241610756,
           "The Secret Explorers and the Sunken Treasure"
          ],
          [
           9780241645949,
           "Little Chunkies: Little Dinosaurs"
          ],
          [
           9780241518342,
           "Evolved: An Illustrated Guide to Evolution"
          ],
          [
           9780241604878,
           "Smart Senses: Big Noise, Little Noise (Woke Babies Books)"
          ],
          [
           9780241686683,
           "The Universe: Discover What Lies Beyond Our Skies (Space Explorers)"
          ],
          [
           9780241533581,
           "Little Chunkies: Animals on the Farm: With Adorable Animals to Touch and Discover!"
          ],
          [
           9781409386797,
           "Monkeys (DK Readers Pre-Level 1)"
          ],
          [
           9780241283820,
           "Do You Know About Space?: Amazing Answers to more than 200 Awesome Questions! (Why? Series)"
          ],
          [
           9780241538449,
           "The Secret Explorers and the Ice Age Adventure"
          ],
          [
           9780241502358,
           "I Feel Brave (First Emotions)"
          ],
          [
           9780241655887,
           "The Magic and Mystery of Nature Collection (The Magic and Mystery of the Natural World)"
          ],
          [
           9780241453087,
           "Move Like A Lion"
          ],
          [
           9781409383031,
           "Life-Size Baby Animals"
          ],
          [
           9781405363648,
           "English Made Easy Ages 9-10 Key Stage 2 (Carol Vorderman's English Made Easy)"
          ],
          [
           9780241459546,
           "E is for Elephant (The Animal Alphabet Library)"
          ],
          [
           9780241465691,
           "Making Memories: Practice Mindfulness, Learn to Journal and Scrapbook, Find Calm Every Day"
          ],
          [
           9780241301791,
           "Baby's First Baby Animals (Baby's First Board Books)"
          ],
          [
           9780241645956,
           "Little Chunkies: Animals in the Pond"
          ],
          [
           9780241630648,
           "Rocks and Minerals Ultimate Handbook: The Need-to-Know Facts and Stats on More Than 200 Rocks and Minerals (DK's Ultimate Handbooks)"
          ],
          [
           9780241692233,
           "Touch and Feel Farm: With Tactiles for Toddlers to Explore"
          ],
          [
           9780241686270,
           "The Hidden Heroes of Science: Shining a Light on the Unknown Trailblazers of the Scientific World"
          ],
          [
           9780241634110,
           "Life in the Wild: Observing the Mysterious Lives of 10 Real Animals"
          ],
          [
           9780241278536,
           "Sophie Peekaboo! Colours: Fun Flaps, plus Touch and Feel! (Sophie la Girafe)"
          ],
          [
           9780241379240,
           "Ask A Scientist: Professor Robert Winston Answers 100 Big Questions from Kids Around the World!"
          ],
          [
           9780241400876,
           "The Big Book of Dinosaurs: Discover the Biggest, Fastest, and Fiercest Dinosaurs (DK Big Books)"
          ],
          [
           9780241668498,
           "The Book of Nursery Rhymes: 50 Classic Poems for Children"
          ],
          [
           9780241283080,
           "How to Be a Scientist (Careers for Kids)"
          ],
          [
           9780241533444,
           "Speak Out, Leonard! (Look! It's Leonard!)"
          ],
          [
           9780241316184,
           "Stuff to Know When You Start School"
          ],
          [
           9780241704851,
           "An Anthology of Butterflies and Moths: A Collection of Butterflies and Moths from Around the World (DK Little Anthologies)"
          ],
          [
           9780241574058,
           "The Mystery of the Golden Feather: A Mindful Journey Through Birdsong"
          ],
          [
           9780241420607,
           "Jonny Lambert's Farm (Jonny Lambert Illustrated)"
          ],
          [
           9780241661888,
           "Sparks of Imagination"
          ],
          [
           9780241322918,
           "DK Life Stories Albert Einstein"
          ],
          [
           9781405344258,
           "Cook It Together!"
          ],
          [
           9780241503454,
           "Verity Fairy: Snow White"
          ],
          [
           9780241553572,
           "The Secret Explorers and the Desert Disappearance"
          ],
          [
           9780241445419,
           "The Secret Explorers and the Plant Poachers"
          ],
          [
           9780241526569,
           "How Deep is the Ocean?: With 200 Amazing Questions About The Ocean (Why? Series)"
          ],
          [
           9780241686713,
           "My Very Important Lift-the-Flap Book: Dinosaurs and Other Prehistoric Life: With More Than 80 Flaps to Lift"
          ],
          [
           9780241457580,
           "How To Draw"
          ],
          [
           9780241581865,
           "The Maths Adventurers Share a Camping Trip: Discover Division"
          ],
          [
           9780241395790,
           "Flip Flap Find! Night-time Animals"
          ],
          [
           9781409344650,
           "English Made Easy, Ages 6-7 (Key Stage 1): Supports the National Curriculum, Preschool and Primary Exercise Book (Made Easy Workbooks)"
          ],
          [
           9780241470091,
           "See How They Grow Pets"
          ],
          [
           9780241316238,
           "Baby's First Christmas (Baby's First Board Books)"
          ],
          [
           9780241563533,
           "Santa's Busy Day: Take a Trip To The North Pole and Explore Santa’s Busy Workshop!"
          ],
          [
           9780241538722,
           "Boo's Haunted House: Filled With Spooky Creatures, Ghosts, and Monsters!"
          ],
          [
           9780241568231,
           "Time for Us"
          ],
          [
           9780241559062,
           "DK Children's Encyclopedia: The Book That Explains Everything (DK Children's Visual Encyclopedia)"
          ],
          [
           9780241674567,
           "The Fact-Packed Activity Book: Animals"
          ],
          [
           9780241661765,
           "The Nervous Dragon: A Story About Overcoming Back-to-School Worries (First Seasonal Stories)"
          ],
          [
           9780241538548,
           "Robert Winston: The Story of Science: How Science and Technology Changed the World"
          ],
          [
           9780241702567,
           "Countdown to Christmas: A Lift-the-Flap Book"
          ],
          [
           9780241322956,
           "First Maths Glossary: An Illustrated Reference Guide (DK First Reference)"
          ],
          [
           9780241332276,
           "Baby Touch and Feel Merry Christmas"
          ],
          [
           9780241675175,
           "Baby's First Christmas (Baby's First Board Books)"
          ],
          [
           9780241586570,
           "Pop-Up Peekaboo! Pumpkin: Pop-Up Surprise Under Every Flap!"
          ],
          [
           9780241649763,
           "Explore: A Collection of Maps and Diagrams That Explain the World"
          ],
          [
           9780744092509,
           "Healthy Gut Diet Guide + Cookbook: More Than 175 Healing Recipes to Improve Your Digestive Health"
          ],
          [
           9781615649815,
           "Enneagram Empowerment: Discover Your Personality Type and Unlock Your Potential"
          ],
          [
           9780744099270,
           "Everyday Indulgence: 80+ Cleverly Balanced Recipes to Nourish Your Body and Delight Your Soul: A Cookbook"
          ],
          [
           9780744092523,
           "Marijuana Edibles: 40 Easy & Delicious Cannabis Confections"
          ],
          [
           9781615649983,
           "Joshua Weissman: An Unapologetic Cookbook. #1 NEW YORK TIMES BESTSELLER"
          ],
          [
           9780744077001,
           "Clean & Delicious: Eat Clean and Get Healthy with 100 Whole-Ingredient Recipes"
          ],
          [
           9780744089653,
           "Simply Delishaas: Favorite Recipes From My Midwestern Kitchen: A Cookbook"
          ],
          [
           9780744093032,
           "Garden Grown: Garden-to-Table Recipes to Make the Most of Your Bounty: A Cookbook"
          ],
          [
           9780744092493,
           "Bodyweight Workouts for Beginners"
          ],
          [
           9780744090949,
           "How to Sound Smart at Parties: An Evening of Fun Facts & Curious Conversations"
          ],
          [
           9780744076288,
           "Cannabis: Everything You Need to Grow Marijuana Indoors and Outdoors (Green Thumb Guides)"
          ],
          [
           9780744093018,
           "Let's Make Some Lunch: Recipes Made with Love for Everyone: A Cookbook"
          ],
          [
           9780593846353,
           "Honey, What Do We Got?: A Week-by-Week Pregnancy Cookbook"
          ],
          [
           9780744092486,
           "Money for Millennials"
          ],
          [
           9780744059243,
           "Flex Your Age: Defy Stereotypes and Reclaim Empowerment"
          ],
          [
           9780744094855,
           "Food Family Repeat: Recipes for Making Every Day a Celebration: A Cookbook"
          ],
          [
           9780744094886,
           "Thruhikers: A Guide to Life on the Trail"
          ],
          [
           9780744081589,
           "Good News, Planet Earth: What’s Being Done to Save Our World, and What You Can Do Too!"
          ],
          [
           9780744077438,
           "A Home for Every Season: A Month-by-Month Guide to Decorating Your Space"
          ],
          [
           9780744092516,
           "The U.S. Constitution Simplified: A plainspoken guide to the founding principles of the United States"
          ],
          [
           9780744045697,
           "The Montessori Home: Create a Space for Your Child to Thrive"
          ],
          [
           9780744056921,
           "Celebrate with Babs: Holiday Recipes & Family Traditions"
          ],
          [
           9781465470201,
           "Plant-Based Nutrition, 2E (Idiot's Guides)"
          ],
          [
           9780744092530,
           "Music Theory Note by Note: Your Guide to How Music Works―From Notes and Rhythms to Complete Compositions"
          ],
          [
           9780744087949,
           "Spend with Pennies Everyday Comfort: Family Dinner Recipes from Fresh to Cozy: A Cookbook"
          ],
          [
           9780241718995,
           "DK Amsterdam Mini Map and Guide (Pocket Travel Guide)"
          ],
          [
           9781464226601,
           "Charming Devil: A Dark & Spicy Romance With a Fantasy Take on Dorian Gray (Gilded Monsters)"
          ],
          [
           9781464233890,
           "Kingmakers Graduation: A Spicy Dark College Mafia Romance (Kingmakers Book 5)"
          ],
          [
           9780241206881,
           "Mary Berry Cookery Course: A Step-by-Step Masterclass in Home Cooking"
          ],
          [
           9780241506363,
           "Make a TikTok Every Day: 365 Prompts for Attention-Grabbing TikToks"
          ],
          [
           9780241592816,
           "DK Super Readers Level 3 Emperor Penguins"
          ],
          [
           9780241503546,
           "Migrations: A History of Where We All Come From"
          ],
          [
           9780241446676,
           "Knowledge Encyclopedia Space!: The Universe as You've Never Seen it Before"
          ],
          [
           9781728272429,
           "The Grift: The Downward Spiral of Black Republicans from the Party of Lincoln to the Cult of Trump"
          ]
         ],
         "hovertemplate": "Stock Risk=Low<br>x=%{x}<br>y=%{y}<br>ISBN=%{customdata[0]}<br>Product title=%{customdata[1]}<extra></extra>",
         "legendgroup": "Low",
         "marker": {
          "color": "#EF553B",
          "symbol": "circle"
         },
         "mode": "markers",
         "name": "Low",
         "showlegend": true,
         "type": "scattergl",
         "x": {
          "bdata": "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",
          "dtype": "i4"
         },
         "xaxis": "x",
         "y": {
          "bdata": "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",
          "dtype": "f8"
         },
         "yaxis": "y"
        }
       ],
       "layout": {
        "legend": {
         "title": {
          "text": "Stock Risk"
         },
         "tracegroupgap": 0
        },
        "template": {
         "data": {
          "bar": [
           {
            "error_x": {
             "color": "#2a3f5f"
            },
            "error_y": {
             "color": "#2a3f5f"
            },
            "marker": {
             "line": {
              "color": "#E5ECF6",
              "width": 0.5
             },
             "pattern": {
              "fillmode": "overlay",
              "size": 10,
              "solidity": 0.2
             }
            },
            "type": "bar"
           }
          ],
          "barpolar": [
           {
            "marker": {
             "line": {
              "color": "#E5ECF6",
              "width": 0.5
             },
             "pattern": {
              "fillmode": "overlay",
              "size": 10,
              "solidity": 0.2
             }
            },
            "type": "barpolar"
           }
          ],
          "carpet": [
           {
            "aaxis": {
             "endlinecolor": "#2a3f5f",
             "gridcolor": "white",
             "linecolor": "white",
             "minorgridcolor": "white",
             "startlinecolor": "#2a3f5f"
            },
            "baxis": {
             "endlinecolor": "#2a3f5f",
             "gridcolor": "white",
             "linecolor": "white",
             "minorgridcolor": "white",
             "startlinecolor": "#2a3f5f"
            },
            "type": "carpet"
           }
          ],
          "choropleth": [
           {
            "colorbar": {
             "outlinewidth": 0,
             "ticks": ""
            },
            "type": "choropleth"
           }
          ],
          "contour": [
           {
            "colorbar": {
             "outlinewidth": 0,
             "ticks": ""
            },
            "colorscale": [
             [
              0,
              "#0d0887"
             ],
             [
              0.1111111111111111,
              "#46039f"
             ],
             [
              0.2222222222222222,
              "#7201a8"
             ],
             [
              0.3333333333333333,
              "#9c179e"
             ],
             [
              0.4444444444444444,
              "#bd3786"
             ],
             [
              0.5555555555555556,
              "#d8576b"
             ],
             [
              0.6666666666666666,
              "#ed7953"
             ],
             [
              0.7777777777777778,
              "#fb9f3a"
             ],
             [
              0.8888888888888888,
              "#fdca26"
             ],
             [
              1,
              "#f0f921"
             ]
            ],
            "type": "contour"
           }
          ],
          "contourcarpet": [
           {
            "colorbar": {
             "outlinewidth": 0,
             "ticks": ""
            },
            "type": "contourcarpet"
           }
          ],
          "heatmap": [
           {
            "colorbar": {
             "outlinewidth": 0,
             "ticks": ""
            },
            "colorscale": [
             [
              0,
              "#0d0887"
             ],
             [
              0.1111111111111111,
              "#46039f"
             ],
             [
              0.2222222222222222,
              "#7201a8"
             ],
             [
              0.3333333333333333,
              "#9c179e"
             ],
             [
              0.4444444444444444,
              "#bd3786"
             ],
             [
              0.5555555555555556,
              "#d8576b"
             ],
             [
              0.6666666666666666,
              "#ed7953"
             ],
             [
              0.7777777777777778,
              "#fb9f3a"
             ],
             [
              0.8888888888888888,
              "#fdca26"
             ],
             [
              1,
              "#f0f921"
             ]
            ],
            "type": "heatmap"
           }
          ],
          "histogram": [
           {
            "marker": {
             "pattern": {
              "fillmode": "overlay",
              "size": 10,
              "solidity": 0.2
             }
            },
            "type": "histogram"
           }
          ],
          "histogram2d": [
           {
            "colorbar": {
             "outlinewidth": 0,
             "ticks": ""
            },
            "colorscale": [
             [
              0,
              "#0d0887"
             ],
             [
              0.1111111111111111,
              "#46039f"
             ],
             [
              0.2222222222222222,
              "#7201a8"
             ],
             [
              0.3333333333333333,
              "#9c179e"
             ],
             [
              0.4444444444444444,
              "#bd3786"
             ],
             [
              0.5555555555555556,
              "#d8576b"
             ],
             [
              0.6666666666666666,
              "#ed7953"
             ],
             [
              0.7777777777777778,
              "#fb9f3a"
             ],
             [
              0.8888888888888888,
              "#fdca26"
             ],
             [
              1,
              "#f0f921"
             ]
            ],
            "type": "histogram2d"
           }
          ],
          "histogram2dcontour": [
           {
            "colorbar": {
             "outlinewidth": 0,
             "ticks": ""
            },
            "colorscale": [
             [
              0,
              "#0d0887"
             ],
             [
              0.1111111111111111,
              "#46039f"
             ],
             [
              0.2222222222222222,
              "#7201a8"
             ],
             [
              0.3333333333333333,
              "#9c179e"
             ],
             [
              0.4444444444444444,
              "#bd3786"
             ],
             [
              0.5555555555555556,
              "#d8576b"
             ],
             [
              0.6666666666666666,
              "#ed7953"
             ],
             [
              0.7777777777777778,
              "#fb9f3a"
             ],
             [
              0.8888888888888888,
              "#fdca26"
             ],
             [
              1,
              "#f0f921"
             ]
            ],
            "type": "histogram2dcontour"
           }
          ],
          "mesh3d": [
           {
            "colorbar": {
             "outlinewidth": 0,
             "ticks": ""
            },
            "type": "mesh3d"
           }
          ],
          "parcoords": [
           {
            "line": {
             "colorbar": {
              "outlinewidth": 0,
              "ticks": ""
             }
            },
            "type": "parcoords"
           }
          ],
          "pie": [
           {
            "automargin": true,
            "type": "pie"
           }
          ],
          "scatter": [
           {
            "fillpattern": {
             "fillmode": "overlay",
             "size": 10,
             "solidity": 0.2
            },
            "type": "scatter"
           }
          ],
          "scatter3d": [
           {
            "line": {
             "colorbar": {
              "outlinewidth": 0,
              "ticks": ""
             }
            },
            "marker": {
             "colorbar": {
              "outlinewidth": 0,
              "ticks": ""
             }
            },
            "type": "scatter3d"
           }
          ],
          "scattercarpet": [
           {
            "marker": {
             "colorbar": {
              "outlinewidth": 0,
              "ticks": ""
             }
            },
            "type": "scattercarpet"
           }
          ],
          "scattergeo": [
           {
            "marker": {
             "colorbar": {
              "outlinewidth": 0,
              "ticks": ""
             }
            },
            "type": "scattergeo"
           }
          ],
          "scattergl": [
           {
            "marker": {
             "colorbar": {
              "outlinewidth": 0,
              "ticks": ""
             }
            },
            "type": "scattergl"
           }
          ],
          "scattermap": [
           {
            "marker": {
             "colorbar": {
              "outlinewidth": 0,
              "ticks": ""
             }
            },
            "type": "scattermap"
           }
          ],
          "scattermapbox": [
           {
            "marker": {
             "colorbar": {
              "outlinewidth": 0,
              "ticks": ""
             }
            },
            "type": "scattermapbox"
           }
          ],
          "scatterpolar": [
           {
            "marker": {
             "colorbar": {
              "outlinewidth": 0,
              "ticks": ""
             }
            },
            "type": "scatterpolar"
           }
          ],
          "scatterpolargl": [
           {
            "marker": {
             "colorbar": {
              "outlinewidth": 0,
              "ticks": ""
             }
            },
            "type": "scatterpolargl"
           }
          ],
          "scatterternary": [
           {
            "marker": {
             "colorbar": {
              "outlinewidth": 0,
              "ticks": ""
             }
            },
            "type": "scatterternary"
           }
          ],
          "surface": [
           {
            "colorbar": {
             "outlinewidth": 0,
             "ticks": ""
            },
            "colorscale": [
             [
              0,
              "#0d0887"
             ],
             [
              0.1111111111111111,
              "#46039f"
             ],
             [
              0.2222222222222222,
              "#7201a8"
             ],
             [
              0.3333333333333333,
              "#9c179e"
             ],
             [
              0.4444444444444444,
              "#bd3786"
             ],
             [
              0.5555555555555556,
              "#d8576b"
             ],
             [
              0.6666666666666666,
              "#ed7953"
             ],
             [
              0.7777777777777778,
              "#fb9f3a"
             ],
             [
              0.8888888888888888,
              "#fdca26"
             ],
             [
              1,
              "#f0f921"
             ]
            ],
            "type": "surface"
           }
          ],
          "table": [
           {
            "cells": {
             "fill": {
              "color": "#EBF0F8"
             },
             "line": {
              "color": "white"
             }
            },
            "header": {
             "fill": {
              "color": "#C8D4E3"
             },
             "line": {
              "color": "white"
             }
            },
            "type": "table"
           }
          ]
         },
         "layout": {
          "annotationdefaults": {
           "arrowcolor": "#2a3f5f",
           "arrowhead": 0,
           "arrowwidth": 1
          },
          "autotypenumbers": "strict",
          "coloraxis": {
           "colorbar": {
            "outlinewidth": 0,
            "ticks": ""
           }
          },
          "colorscale": {
           "diverging": [
            [
             0,
             "#8e0152"
            ],
            [
             0.1,
             "#c51b7d"
            ],
            [
             0.2,
             "#de77ae"
            ],
            [
             0.3,
             "#f1b6da"
            ],
            [
             0.4,
             "#fde0ef"
            ],
            [
             0.5,
             "#f7f7f7"
            ],
            [
             0.6,
             "#e6f5d0"
            ],
            [
             0.7,
             "#b8e186"
            ],
            [
             0.8,
             "#7fbc41"
            ],
            [
             0.9,
             "#4d9221"
            ],
            [
             1,
             "#276419"
            ]
           ],
           "sequential": [
            [
             0,
             "#0d0887"
            ],
            [
             0.1111111111111111,
             "#46039f"
            ],
            [
             0.2222222222222222,
             "#7201a8"
            ],
            [
             0.3333333333333333,
             "#9c179e"
            ],
            [
             0.4444444444444444,
             "#bd3786"
            ],
            [
             0.5555555555555556,
             "#d8576b"
            ],
            [
             0.6666666666666666,
             "#ed7953"
            ],
            [
             0.7777777777777778,
             "#fb9f3a"
            ],
            [
             0.8888888888888888,
             "#fdca26"
            ],
            [
             1,
             "#f0f921"
            ]
           ],
           "sequentialminus": [
            [
             0,
             "#0d0887"
            ],
            [
             0.1111111111111111,
             "#46039f"
            ],
            [
             0.2222222222222222,
             "#7201a8"
            ],
            [
             0.3333333333333333,
             "#9c179e"
            ],
            [
             0.4444444444444444,
             "#bd3786"
            ],
            [
             0.5555555555555556,
             "#d8576b"
            ],
            [
             0.6666666666666666,
             "#ed7953"
            ],
            [
             0.7777777777777778,
             "#fb9f3a"
            ],
            [
             0.8888888888888888,
             "#fdca26"
            ],
            [
             1,
             "#f0f921"
            ]
           ]
          },
          "colorway": [
           "#636efa",
           "#EF553B",
           "#00cc96",
           "#ab63fa",
           "#FFA15A",
           "#19d3f3",
           "#FF6692",
           "#B6E880",
           "#FF97FF",
           "#FECB52"
          ],
          "font": {
           "color": "#2a3f5f"
          },
          "geo": {
           "bgcolor": "white",
           "lakecolor": "white",
           "landcolor": "#E5ECF6",
           "showlakes": true,
           "showland": true,
           "subunitcolor": "white"
          },
          "hoverlabel": {
           "align": "left"
          },
          "hovermode": "closest",
          "mapbox": {
           "style": "light"
          },
          "paper_bgcolor": "white",
          "plot_bgcolor": "#E5ECF6",
          "polar": {
           "angularaxis": {
            "gridcolor": "white",
            "linecolor": "white",
            "ticks": ""
           },
           "bgcolor": "#E5ECF6",
           "radialaxis": {
            "gridcolor": "white",
            "linecolor": "white",
            "ticks": ""
           }
          },
          "scene": {
           "xaxis": {
            "backgroundcolor": "#E5ECF6",
            "gridcolor": "white",
            "gridwidth": 2,
            "linecolor": "white",
            "showbackground": true,
            "ticks": "",
            "zerolinecolor": "white"
           },
           "yaxis": {
            "backgroundcolor": "#E5ECF6",
            "gridcolor": "white",
            "gridwidth": 2,
            "linecolor": "white",
            "showbackground": true,
            "ticks": "",
            "zerolinecolor": "white"
           },
           "zaxis": {
            "backgroundcolor": "#E5ECF6",
            "gridcolor": "white",
            "gridwidth": 2,
            "linecolor": "white",
            "showbackground": true,
            "ticks": "",
            "zerolinecolor": "white"
           }
          },
          "shapedefaults": {
           "line": {
            "color": "#2a3f5f"
           }
          },
          "ternary": {
           "aaxis": {
            "gridcolor": "white",
            "linecolor": "white",
            "ticks": ""
           },
           "baxis": {
            "gridcolor": "white",
            "linecolor": "white",
            "ticks": ""
           },
           "bgcolor": "#E5ECF6",
           "caxis": {
            "gridcolor": "white",
            "linecolor": "white",
            "ticks": ""
           }
          },
          "title": {
           "x": 0.05
          },
          "xaxis": {
           "automargin": true,
           "gridcolor": "white",
           "linecolor": "white",
           "ticks": "",
           "title": {
            "standoff": 15
           },
           "zerolinecolor": "white",
           "zerolinewidth": 2
          },
          "yaxis": {
           "automargin": true,
           "gridcolor": "white",
           "linecolor": "white",
           "ticks": "",
           "title": {
            "standoff": 15
           },
           "zerolinecolor": "white",
           "zerolinewidth": 2
          }
         }
        },
        "title": {
         "text": "Stock vs Forecast Sales"
        },
        "xaxis": {
         "anchor": "y",
         "domain": [
          0,
          1
         ],
         "title": {
          "text": "Total Stock Available"
         }
        },
        "yaxis": {
         "anchor": "x",
         "domain": [
          0,
          1
         ],
         "title": {
          "text": "Forecast Sales (Next 4 Weeks)"
         }
        }
       }
      }
     },
     "metadata": {},
     "output_type": "display_data"
    }
   ],
   "source": [
    "import plotly.express as px\n",
    "\n",
    "# Create a new column for hover information\n",
    "df[\"Hover Info\"] = df[\"ISBN\"].astype(str) + \"<br>\" + df[\"Product title\"]\n",
    "\n",
    "# Create interactive scatter plot\n",
    "fig = px.scatter(df, \n",
    "                 x=df[\"Retailer number of units in stock\"] + df[\"Current number of units in DK warehouse\"],\n",
    "                 y=df[\"Forecast sales for next 4 weeks\"], \n",
    "                 color=df[\"Stock Risk\"], \n",
    "                 hover_data=[\"ISBN\", \"Product title\"], \n",
    "                 title=\"Stock vs Forecast Sales\")\n",
    "\n",
    "fig.update_layout(xaxis_title=\"Total Stock Available\",\n",
    "                  yaxis_title=\"Forecast Sales (Next 4 Weeks)\")\n",
    "\n",
    "# Show the interactive plot\n",
    "fig.show()"
   ]
  },
  {
   "cell_type": "code",
   "execution_count": 44,
   "metadata": {},
   "outputs": [
    {
     "data": {
      "text/html": [
       "<div>\n",
       "<style scoped>\n",
       "    .dataframe tbody tr th:only-of-type {\n",
       "        vertical-align: middle;\n",
       "    }\n",
       "\n",
       "    .dataframe tbody tr th {\n",
       "        vertical-align: top;\n",
       "    }\n",
       "\n",
       "    .dataframe thead th {\n",
       "        text-align: right;\n",
       "    }\n",
       "</style>\n",
       "<table border=\"1\" class=\"dataframe\">\n",
       "  <thead>\n",
       "    <tr style=\"text-align: right;\">\n",
       "      <th></th>\n",
       "      <th>ISBN</th>\n",
       "      <th>Product title</th>\n",
       "      <th>Retailer number of units in stock</th>\n",
       "      <th>Current number of units in DK warehouse</th>\n",
       "      <th>Forecast sales for next 4 weeks</th>\n",
       "      <th>Stock Risk</th>\n",
       "    </tr>\n",
       "  </thead>\n",
       "  <tbody>\n",
       "    <tr>\n",
       "      <th>0</th>\n",
       "      <td>9780241734612</td>\n",
       "      <td>The Magic Balloon: World Book Day 2025</td>\n",
       "      <td>1066</td>\n",
       "      <td>950</td>\n",
       "      <td>3185.0</td>\n",
       "      <td>High</td>\n",
       "    </tr>\n",
       "    <tr>\n",
       "      <th>1</th>\n",
       "      <td>9781464221361</td>\n",
       "      <td>Never Lie: From the Sunday Times Bestselling A...</td>\n",
       "      <td>2518</td>\n",
       "      <td>10365</td>\n",
       "      <td>3517.0</td>\n",
       "      <td>Low</td>\n",
       "    </tr>\n",
       "    <tr>\n",
       "      <th>2</th>\n",
       "      <td>9781464228636</td>\n",
       "      <td>The Crash: The #1 Sunday Times Bestseller! A P...</td>\n",
       "      <td>3850</td>\n",
       "      <td>20468</td>\n",
       "      <td>5667.0</td>\n",
       "      <td>Low</td>\n",
       "    </tr>\n",
       "    <tr>\n",
       "      <th>3</th>\n",
       "      <td>9781464228599</td>\n",
       "      <td>The Perfect Son: From the Sunday Times Bestsel...</td>\n",
       "      <td>1706</td>\n",
       "      <td>5098</td>\n",
       "      <td>2757.0</td>\n",
       "      <td>Low</td>\n",
       "    </tr>\n",
       "    <tr>\n",
       "      <th>4</th>\n",
       "      <td>9780241740859</td>\n",
       "      <td>LEGO Our Amazing Universe: World Book Day 2025...</td>\n",
       "      <td>1214</td>\n",
       "      <td>3991</td>\n",
       "      <td>2140.0</td>\n",
       "      <td>Low</td>\n",
       "    </tr>\n",
       "  </tbody>\n",
       "</table>\n",
       "</div>"
      ],
      "text/plain": [
       "            ISBN                                      Product title  \\\n",
       "0  9780241734612             The Magic Balloon: World Book Day 2025   \n",
       "1  9781464221361  Never Lie: From the Sunday Times Bestselling A...   \n",
       "2  9781464228636  The Crash: The #1 Sunday Times Bestseller! A P...   \n",
       "3  9781464228599  The Perfect Son: From the Sunday Times Bestsel...   \n",
       "4  9780241740859  LEGO Our Amazing Universe: World Book Day 2025...   \n",
       "\n",
       "   Retailer number of units in stock  Current number of units in DK warehouse  \\\n",
       "0                               1066                                      950   \n",
       "1                               2518                                    10365   \n",
       "2                               3850                                    20468   \n",
       "3                               1706                                     5098   \n",
       "4                               1214                                     3991   \n",
       "\n",
       "   Forecast sales for next 4 weeks Stock Risk  \n",
       "0                           3185.0       High  \n",
       "1                           3517.0        Low  \n",
       "2                           5667.0        Low  \n",
       "3                           2757.0        Low  \n",
       "4                           2140.0        Low  "
      ]
     },
     "execution_count": 44,
     "metadata": {},
     "output_type": "execute_result"
    }
   ],
   "source": [
    "# Display sample data and risk assessment\n",
    "df[[\"ISBN\", \n",
    "    \"Product title\", \n",
    "    \"Retailer number of units in stock\", \n",
    "    \"Current number of units in DK warehouse\", \n",
    "    \"Forecast sales for next 4 weeks\", \"Stock Risk\"]].head()\n"
   ]
  },
  {
   "cell_type": "code",
   "execution_count": 45,
   "metadata": {},
   "outputs": [],
   "source": [
    "df.drop(columns=[\"Hover Info\"]).to_csv(\"inventory_data_with_risk.csv\", index=False)"
   ]
  },
  {
   "cell_type": "markdown",
   "metadata": {},
   "source": [
    "What are the top 5 selling books this week and what is the retailer stock inventory for each of them?"
   ]
  },
  {
   "cell_type": "code",
   "execution_count": 49,
   "metadata": {},
   "outputs": [
    {
     "data": {
      "text/html": [
       "<div>\n",
       "<style scoped>\n",
       "    .dataframe tbody tr th:only-of-type {\n",
       "        vertical-align: middle;\n",
       "    }\n",
       "\n",
       "    .dataframe tbody tr th {\n",
       "        vertical-align: top;\n",
       "    }\n",
       "\n",
       "    .dataframe thead th {\n",
       "        text-align: right;\n",
       "    }\n",
       "</style>\n",
       "<table border=\"1\" class=\"dataframe\">\n",
       "  <thead>\n",
       "    <tr style=\"text-align: right;\">\n",
       "      <th></th>\n",
       "      <th>Product title</th>\n",
       "      <th>Retailer number of units in stock</th>\n",
       "    </tr>\n",
       "  </thead>\n",
       "  <tbody>\n",
       "    <tr>\n",
       "      <th>7</th>\n",
       "      <td>How to Design a Garden: Create and Maintain Yo...</td>\n",
       "      <td>2397</td>\n",
       "    </tr>\n",
       "    <tr>\n",
       "      <th>2</th>\n",
       "      <td>The Crash: The #1 Sunday Times Bestseller! A P...</td>\n",
       "      <td>3850</td>\n",
       "    </tr>\n",
       "    <tr>\n",
       "      <th>1</th>\n",
       "      <td>Never Lie: From the Sunday Times Bestselling A...</td>\n",
       "      <td>2518</td>\n",
       "    </tr>\n",
       "    <tr>\n",
       "      <th>0</th>\n",
       "      <td>The Magic Balloon: World Book Day 2025</td>\n",
       "      <td>1066</td>\n",
       "    </tr>\n",
       "    <tr>\n",
       "      <th>6</th>\n",
       "      <td>The Housemaid Is Watching: An Instant Sunday T...</td>\n",
       "      <td>7265</td>\n",
       "    </tr>\n",
       "  </tbody>\n",
       "</table>\n",
       "</div>"
      ],
      "text/plain": [
       "                                       Product title  \\\n",
       "7  How to Design a Garden: Create and Maintain Yo...   \n",
       "2  The Crash: The #1 Sunday Times Bestseller! A P...   \n",
       "1  Never Lie: From the Sunday Times Bestselling A...   \n",
       "0             The Magic Balloon: World Book Day 2025   \n",
       "6  The Housemaid Is Watching: An Instant Sunday T...   \n",
       "\n",
       "   Retailer number of units in stock  \n",
       "7                               2397  \n",
       "2                               3850  \n",
       "1                               2518  \n",
       "0                               1066  \n",
       "6                               7265  "
      ]
     },
     "execution_count": 49,
     "metadata": {},
     "output_type": "execute_result"
    }
   ],
   "source": [
    "df.sort_values(by=\"Forecast sales for this week\", ascending=False)[[\"Product title\", \"Retailer number of units in stock\"]].head(5)\n"
   ]
  }
 ],
 "metadata": {
  "kernelspec": {
   "display_name": "dk_env",
   "language": "python",
   "name": "python3"
  },
  "language_info": {
   "codemirror_mode": {
    "name": "ipython",
    "version": 3
   },
   "file_extension": ".py",
   "mimetype": "text/x-python",
   "name": "python",
   "nbconvert_exporter": "python",
   "pygments_lexer": "ipython3",
   "version": "3.12.8"
  }
 },
 "nbformat": 4,
 "nbformat_minor": 2
}
